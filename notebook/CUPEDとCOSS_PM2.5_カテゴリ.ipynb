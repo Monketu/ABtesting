{
 "cells": [
  {
   "cell_type": "markdown",
   "metadata": {},
   "source": [
    "-------------\n",
    "# １．ライブラリのインポート"
   ]
  },
  {
   "cell_type": "code",
   "execution_count": 1,
   "metadata": {},
   "outputs": [],
   "source": [
    "# 基本的なライブラリ\n",
    "import numpy as np\n",
    "import pandas as pd\n",
    "from numpy.typing import NDArray\n",
    "from scipy import stats\n",
    "\n",
    "# Scikit-learn関連\n",
    "from sklearn.base import BaseEstimator, TransformerMixin\n",
    "from sklearn.preprocessing import StandardScaler\n",
    "from sklearn.utils.validation import check_X_y\n",
    "\n",
    "# タイピングのサポート\n",
    "from typing import Optional\n",
    "\n",
    "\n",
    "# 可視化の設定\n",
    "import matplotlib.pyplot as plt\n",
    "import japanize_matplotlib\n",
    "import itertools\n",
    "\n",
    "plt.style.use(\"ggplot\")"
   ]
  },
  {
   "cell_type": "markdown",
   "metadata": {},
   "source": [
    "--------\n",
    "# ２．実験設定"
   ]
  },
  {
   "cell_type": "code",
   "execution_count": 2,
   "metadata": {},
   "outputs": [],
   "source": [
    "### 実験データの設定 ###\n",
    "TARGET = \"PM_US Post\"\n",
    "DATA = \"all\"  # \"all\" or \"part\"\n",
    "THRESHOLD = 2  # 外れ値除外の閾値\n",
    "\n",
    "### 実験設定 ###\n",
    "N_TRIALS = 10000  # 試行回数（標本平均を求める回数）\n",
    "SAMPLE_SIZE = 10000  # 標本サイズ\n",
    "RANDOM_STATE = 0  # 乱数シード\n",
    "SEED = 0"
   ]
  },
  {
   "cell_type": "markdown",
   "metadata": {},
   "source": [
    "-----------\n",
    "# ３．データの前処理"
   ]
  },
  {
   "cell_type": "markdown",
   "metadata": {},
   "source": [
    "## 3.1 データ読み込み"
   ]
  },
  {
   "cell_type": "code",
   "execution_count": 3,
   "metadata": {},
   "outputs": [],
   "source": [
    "df_Beijing = pd.read_csv(\n",
    "    R\"C:\\Users\\HaruMomozu\\Documents\\中国気象データ\\BeijingPM20100101_20151231.csv\"\n",
    ")\n",
    "df_Chengdu = pd.read_csv(\n",
    "    R\"C:\\Users\\HaruMomozu\\Documents\\中国気象データ\\ChengduPM20100101_20151231.csv\"\n",
    ")\n",
    "df_Guangzhou = pd.read_csv(\n",
    "    R\"C:\\Users\\HaruMomozu\\Documents\\中国気象データ\\GuangzhouPM20100101_20151231.csv\"\n",
    ")\n",
    "df_Shanghai = pd.read_csv(\n",
    "    R\"C:\\Users\\HaruMomozu\\Documents\\中国気象データ\\ShanghaiPM20100101_20151231.csv\"\n",
    ")\n",
    "df_Shenyang = pd.read_csv(\n",
    "    R\"C:\\Users\\HaruMomozu\\Documents\\中国気象データ\\ShenyangPM20100101_20151231.csv\"\n",
    ")\n",
    "\n",
    "if DATA == \"all\":\n",
    "    df_all = pd.concat(\n",
    "        [df_Beijing, df_Chengdu, df_Guangzhou, df_Shanghai, df_Shenyang],\n",
    "        axis=0,\n",
    "        ignore_index=True,\n",
    "    )\n",
    "if DATA == \"part\":\n",
    "    df_all = df_Beijing\n",
    "\n",
    "features_list = [\n",
    "    \"DEWP\",\n",
    "    \"TEMP\",\n",
    "    \"HUMI\",\n",
    "    \"PRES\",\n",
    "    \"Iws\",\n",
    "    \"precipitation\",\n",
    "    \"Iprec\",\n",
    "]\n",
    "\n",
    "variables_list = [\n",
    "    \"PM_US Post\",\n",
    "    \"DEWP\",\n",
    "    \"TEMP\",\n",
    "    \"HUMI\",\n",
    "    \"PRES\",\n",
    "    \"Iws\",\n",
    "    \"precipitation\",\n",
    "    \"Iprec\",\n",
    "]\n",
    "\n",
    "df_2014 = df_all[df_all[\"year\"] == 2014][variables_list]\n",
    "df_2015 = df_all[df_all[\"year\"] == 2015][variables_list]\n",
    "\n",
    "ALL_FEATURES_INDEX = [i for i in range(len(features_list))]"
   ]
  },
  {
   "cell_type": "markdown",
   "metadata": {},
   "source": [
    "## 3.2 欠損値除去"
   ]
  },
  {
   "cell_type": "code",
   "execution_count": 4,
   "metadata": {},
   "outputs": [],
   "source": [
    "def remove_nan(data: pd.DataFrame) -> tuple[pd.DataFrame, pd.DataFrame]:\n",
    "    # 各列に対して、pd.to_numericを使用して数値に変換（エラーがあればNaNにする）\n",
    "    df_numeric = data.apply(lambda col: pd.to_numeric(col, errors=\"coerce\"))\n",
    "\n",
    "    # 数値に変換できなかった行を抽出（NaNを含む行）\n",
    "    df_excluded = data[df_numeric.isna().any(axis=1)]\n",
    "\n",
    "    # NaNを含む行を削除\n",
    "    df_clean = df_numeric.dropna()\n",
    "\n",
    "    return df_excluded, df_clean"
   ]
  },
  {
   "cell_type": "code",
   "execution_count": 5,
   "metadata": {},
   "outputs": [
    {
     "name": "stdout",
     "output_type": "stream",
     "text": [
      "全データ数（訓練）： 43800\n",
      "全データ数（テスト）： 43800\n",
      "欠損値除去後のデータ数（訓練）： 40334\n",
      "欠損値除去後のデータ数（テスト）： 39098\n"
     ]
    }
   ],
   "source": [
    "_, df_2014_clean = remove_nan(df_2014)\n",
    "_, df_2015_clean = remove_nan(df_2015)\n",
    "\n",
    "print(\"全データ数（訓練）：\", len(df_2014))\n",
    "print(\"全データ数（テスト）：\", len(df_2015))\n",
    "print(\"欠損値除去後のデータ数（訓練）：\", len(df_2014_clean))\n",
    "print(\"欠損値除去後のデータ数（テスト）：\", len(df_2015_clean))"
   ]
  },
  {
   "cell_type": "markdown",
   "metadata": {},
   "source": [
    "## 3.3 外れ値除去"
   ]
  },
  {
   "cell_type": "code",
   "execution_count": 6,
   "metadata": {},
   "outputs": [],
   "source": [
    "def remove_outliers_zscore(\n",
    "    data: pd.DataFrame, metric: str, threshold: float\n",
    ") -> pd.DataFrame:\n",
    "    z_scores = np.abs(stats.zscore(data[metric]))\n",
    "    data = data[(z_scores < threshold)]\n",
    "    return data"
   ]
  },
  {
   "cell_type": "code",
   "execution_count": 7,
   "metadata": {},
   "outputs": [
    {
     "name": "stdout",
     "output_type": "stream",
     "text": [
      "欠損値と外れ値除外後のデータ数（訓練）: 38559\n",
      "欠損値と外れ値除外後のデータ数（テスト）: 37237\n"
     ]
    }
   ],
   "source": [
    "df_train = remove_outliers_zscore(\n",
    "    data=df_2014_clean, metric=TARGET, threshold=THRESHOLD\n",
    ")\n",
    "df_train = df_train.reset_index(drop=True)  # 行を詰める\n",
    "df_test = remove_outliers_zscore(data=df_2015_clean, metric=TARGET, threshold=THRESHOLD)\n",
    "df_test = df_test.reset_index(drop=True)  # 行を詰める\n",
    "\n",
    "print(\"欠損値と外れ値除外後のデータ数（訓練）:\", len(df_train))\n",
    "print(\"欠損値と外れ値除外後のデータ数（テスト）:\", len(df_test))"
   ]
  },
  {
   "cell_type": "markdown",
   "metadata": {},
   "source": [
    "## 3.4 X, y に分割"
   ]
  },
  {
   "cell_type": "code",
   "execution_count": 8,
   "metadata": {},
   "outputs": [],
   "source": [
    "X_train = df_train[features_list].to_numpy()\n",
    "y_train = df_train[TARGET].to_numpy()\n",
    "\n",
    "X_test = df_test[features_list].to_numpy()\n",
    "y_test = df_test[TARGET].to_numpy()"
   ]
  },
  {
   "cell_type": "markdown",
   "metadata": {},
   "source": [
    "-----------------------------\n",
    "# 4. 共変量の選択（訓練データ)"
   ]
  },
  {
   "cell_type": "code",
   "execution_count": 9,
   "metadata": {},
   "outputs": [
    {
     "name": "stdout",
     "output_type": "stream",
     "text": [
      "PM_US Postと最も相関の高い変数のインデックス: 1, 相関係数: -0.226\n"
     ]
    }
   ],
   "source": [
    "X_train_df = pd.DataFrame(X_train)\n",
    "y_train_series = pd.Series(y_train)\n",
    "\n",
    "correlations = X_train_df.corrwith(y_train_series)\n",
    "\n",
    "# 最も相関が高い変数の選択\n",
    "most_correlated_var_index = correlations.abs().idxmax()  # 絶対値が最大の変数を取得\n",
    "max_correlation = correlations[most_correlated_var_index]\n",
    "\n",
    "print(\n",
    "    f\"{TARGET}と最も相関の高い変数のインデックス: {most_correlated_var_index}, 相関係数: {round(max_correlation, 3)}\"\n",
    ")"
   ]
  },
  {
   "cell_type": "markdown",
   "metadata": {},
   "source": [
    "-----------------\n",
    "# 5．CUPED"
   ]
  },
  {
   "cell_type": "markdown",
   "metadata": {},
   "source": [
    "## 5.1 αの計算（訓練データ）"
   ]
  },
  {
   "cell_type": "code",
   "execution_count": 10,
   "metadata": {},
   "outputs": [
    {
     "name": "stdout",
     "output_type": "stream",
     "text": [
      "alpha :  -9.673673177441103\n"
     ]
    }
   ],
   "source": [
    "scaler = StandardScaler()\n",
    "scaled_cov = scaler.fit_transform(X_train[:, [most_correlated_var_index]])\n",
    "alpha = np.cov(y_train, scaled_cov[:, 0])[0, 1] / np.var(scaled_cov[:, 0])\n",
    "\n",
    "print(\"alpha : \", alpha)"
   ]
  },
  {
   "cell_type": "markdown",
   "metadata": {},
   "source": [
    "## 5.2 CUPEDの実施（テストデータ）"
   ]
  },
  {
   "cell_type": "code",
   "execution_count": 11,
   "metadata": {},
   "outputs": [],
   "source": [
    "def cauculate_var_cuped(\n",
    "    X: NDArray,\n",
    "    y: NDArray,\n",
    "    seed: int,\n",
    "    alpha: float,\n",
    "    most_correlated_var_index: int,\n",
    "    sample_size: int,\n",
    "    n_trials: int,\n",
    ") -> float:\n",
    "    np.random.seed(seed)\n",
    "\n",
    "    scaler = StandardScaler()\n",
    "    scaled_cov = scaler.fit_transform(X[:, [most_correlated_var_index]])\n",
    "    y_cuped = y - alpha * scaled_cov[:, 0]\n",
    "\n",
    "    sample_means = np.zeros(n_trials)\n",
    "    for i in range(n_trials):\n",
    "        # y_cupedからランダムにサンプリング\n",
    "        sample = np.random.choice(y_cuped, sample_size, replace=False)\n",
    "        sample_means[i] = sample.mean()\n",
    "\n",
    "    # 標本分散を計算\n",
    "    variance = np.var(sample_means)\n",
    "\n",
    "    return variance"
   ]
  },
  {
   "cell_type": "markdown",
   "metadata": {},
   "source": [
    "-------------------\n",
    "# 6. COSS"
   ]
  },
  {
   "cell_type": "code",
   "execution_count": 12,
   "metadata": {},
   "outputs": [],
   "source": [
    "def cauculate_var_coss(\n",
    "    X: NDArray,\n",
    "    y: NDArray,\n",
    "    seed: int,\n",
    "    most_correlated_var_index: int,\n",
    "    sample_size: int,\n",
    "    n_trials: int,\n",
    ") -> float:\n",
    "    np.random.seed(seed)\n",
    "\n",
    "    X = pd.DataFrame(X)\n",
    "    y = pd.Series(y)\n",
    "\n",
    "    sample_means_t = np.zeros(n_trials)\n",
    "    sample_means_c = np.zeros(n_trials)\n",
    "    for i in range(n_trials):\n",
    "        rows = np.random.choice(X.index, sample_size * 2, replace=False)\n",
    "\n",
    "        sample_X = X.iloc[rows, most_correlated_var_index]\n",
    "        sample_X_sorted = sample_X.sort_values(ascending=False)\n",
    "        # print(\"rows:\", rows)\n",
    "        # print(\"sample_X_sorted:\", sample_X_sorted.values)\n",
    "\n",
    "        rows_t = sample_X_sorted.index[::2]\n",
    "        rows_c = sample_X_sorted.index[1::2]\n",
    "        # print(\"rows_t:\", rows_t)\n",
    "        # print(\"rows_c:\", rows_c)\n",
    "\n",
    "        sample_t = y.loc[rows_t].to_numpy()\n",
    "        sample_c = y.loc[rows_c].to_numpy()\n",
    "\n",
    "        sample_means_t[i] = sample_t.mean()\n",
    "        sample_means_c[i] = sample_c.mean()\n",
    "\n",
    "    variance_t = np.var(sample_means_t)\n",
    "    variance_c = np.var(sample_means_c)\n",
    "\n",
    "    return variance_t, variance_c"
   ]
  },
  {
   "cell_type": "markdown",
   "metadata": {},
   "source": [
    "----------------\n",
    "# 7. 評価"
   ]
  },
  {
   "cell_type": "code",
   "execution_count": 13,
   "metadata": {},
   "outputs": [],
   "source": [
    "def cauculate_var_random(y: NDArray, seed: int, n_trials: int, sample_size) -> float:\n",
    "    np.random.seed(seed)\n",
    "    y_hats = []\n",
    "    for i in range(n_trials):\n",
    "        sample = np.random.choice(y, sample_size, replace=False)\n",
    "        y_hat_random = sample.mean()\n",
    "        y_hats.append(y_hat_random)\n",
    "    var_random = np.array(y_hats).var()\n",
    "\n",
    "    return var_random"
   ]
  },
  {
   "cell_type": "code",
   "execution_count": 14,
   "metadata": {},
   "outputs": [],
   "source": [
    "VAR_RANDOM_TRAIN = cauculate_var_random(\n",
    "    y=y_train, seed=SEED, n_trials=N_TRIALS, sample_size=SAMPLE_SIZE\n",
    ")\n",
    "VAR_RANDOM_TEST = cauculate_var_random(\n",
    "    y=y_test, seed=SEED, n_trials=N_TRIALS, sample_size=SAMPLE_SIZE\n",
    ")\n",
    "\n",
    "var_cuped_train = cauculate_var_cuped(\n",
    "    X=X_train,\n",
    "    y=y_train,\n",
    "    seed=SEED,\n",
    "    alpha=alpha,\n",
    "    most_correlated_var_index=most_correlated_var_index,\n",
    "    sample_size=SAMPLE_SIZE,\n",
    "    n_trials=N_TRIALS,\n",
    ")\n",
    "\n",
    "var_cuped_test = cauculate_var_cuped(\n",
    "    X=X_test,\n",
    "    y=y_test,\n",
    "    seed=SEED,\n",
    "    alpha=alpha,\n",
    "    most_correlated_var_index=most_correlated_var_index,\n",
    "    sample_size=SAMPLE_SIZE,\n",
    "    n_trials=N_TRIALS,\n",
    ")\n",
    "\n",
    "var_coss_train_t, var_coss_train_c = cauculate_var_coss(\n",
    "    X=X_train,\n",
    "    y=y_train,\n",
    "    seed=SEED,\n",
    "    most_correlated_var_index=most_correlated_var_index,\n",
    "    sample_size=SAMPLE_SIZE,\n",
    "    n_trials=N_TRIALS,\n",
    ")\n",
    "\n",
    "var_coss_test_t, var_coss_test_c = cauculate_var_coss(\n",
    "    X=X_test,\n",
    "    y=y_test,\n",
    "    seed=SEED,\n",
    "    most_correlated_var_index=most_correlated_var_index,\n",
    "    sample_size=SAMPLE_SIZE,\n",
    "    n_trials=N_TRIALS,\n",
    ")"
   ]
  },
  {
   "cell_type": "markdown",
   "metadata": {},
   "source": [
    "### 確認用"
   ]
  },
  {
   "cell_type": "code",
   "execution_count": 15,
   "metadata": {},
   "outputs": [
    {
     "name": "stdout",
     "output_type": "stream",
     "text": [
      "全データ数（訓練）： 43800\n",
      "全データ数（テスト）： 43800\n",
      "欠損値除去後のデータ数（訓練）： 40334\n",
      "欠損値除去後のデータ数（テスト）： 39098\n",
      "欠損値と外れ値除外後のデータ数（訓練）: 38559\n",
      "欠損値と外れ値除外後のデータ数（テスト）: 37237\n"
     ]
    }
   ],
   "source": [
    "print(\"全データ数（訓練）：\", len(df_2014))\n",
    "print(\"全データ数（テスト）：\", len(df_2015))\n",
    "print(\"欠損値除去後のデータ数（訓練）：\", len(df_2014_clean))\n",
    "print(\"欠損値除去後のデータ数（テスト）：\", len(df_2015_clean))\n",
    "print(\"欠損値と外れ値除外後のデータ数（訓練）:\", len(df_train))\n",
    "print(\"欠損値と外れ値除外後のデータ数（テスト）:\", len(df_test))"
   ]
  },
  {
   "cell_type": "code",
   "execution_count": 16,
   "metadata": {},
   "outputs": [
    {
     "name": "stdout",
     "output_type": "stream",
     "text": [
      "var_random_train = 0.13669576793727964\n",
      "var_random_test = 0.10967935865886788\n"
     ]
    }
   ],
   "source": [
    "print(\"var_random_train =\", VAR_RANDOM_TRAIN)\n",
    "print(\"var_random_test =\", VAR_RANDOM_TEST)"
   ]
  },
  {
   "cell_type": "code",
   "execution_count": 17,
   "metadata": {},
   "outputs": [
    {
     "name": "stdout",
     "output_type": "stream",
     "text": [
      "CUPEDの分散削減率 :  6.955600172971533\n",
      "COSSの分散削減率(test) :  7.454781376456198\n",
      "COSSの分散削減率(control) :  7.91254729542048\n"
     ]
    }
   ],
   "source": [
    "# CUPED の分散削減率\n",
    "reduction_rate_cuped = (1 - var_cuped_test / VAR_RANDOM_TEST) * 100\n",
    "print(\"CUPEDの分散削減率 : \", reduction_rate_cuped)\n",
    "\n",
    "reduction_rate_coss_t = (1 - var_coss_test_t / VAR_RANDOM_TEST) * 100\n",
    "reduction_rate_coss_c = (1 - var_coss_test_c / VAR_RANDOM_TEST) * 100\n",
    "print(\"COSSの分散削減率(test) : \", reduction_rate_coss_t)\n",
    "print(\"COSSの分散削減率(control) : \", reduction_rate_coss_c)"
   ]
  },
  {
   "cell_type": "code",
   "execution_count": 18,
   "metadata": {},
   "outputs": [
    {
     "name": "stdout",
     "output_type": "stream",
     "text": [
      "var_cuped_train = 0.1299281831547518\n",
      "var_cuped_test = 0.1020505009982776\n"
     ]
    }
   ],
   "source": [
    "print(\"var_cuped_train =\", var_cuped_train)\n",
    "print(\"var_cuped_test =\", var_cuped_test)"
   ]
  },
  {
   "cell_type": "code",
   "execution_count": 19,
   "metadata": {},
   "outputs": [
    {
     "name": "stdout",
     "output_type": "stream",
     "text": [
      "var_coss_train = 0.13040194188211104\n",
      "var_coss_test = 0.10150300225575\n"
     ]
    }
   ],
   "source": [
    "print(\"var_coss_train =\", var_coss_train_t)\n",
    "print(\"var_coss_test =\", var_coss_test_t)"
   ]
  }
 ],
 "metadata": {
  "kernelspec": {
   "display_name": ".venv",
   "language": "python",
   "name": "python3"
  },
  "language_info": {
   "codemirror_mode": {
    "name": "ipython",
    "version": 3
   },
   "file_extension": ".py",
   "mimetype": "text/x-python",
   "name": "python",
   "nbconvert_exporter": "python",
   "pygments_lexer": "ipython3",
   "version": "3.12.4"
  }
 },
 "nbformat": 4,
 "nbformat_minor": 2
}
