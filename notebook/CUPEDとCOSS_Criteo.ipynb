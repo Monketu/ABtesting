{
 "cells": [
  {
   "cell_type": "markdown",
   "metadata": {},
   "source": [
    "-------------\n",
    "# １．ライブラリのインポート"
   ]
  },
  {
   "cell_type": "code",
   "execution_count": 1,
   "metadata": {},
   "outputs": [],
   "source": [
    "# 基本的なライブラリ\n",
    "import numpy as np\n",
    "import pandas as pd\n",
    "from numpy.typing import NDArray\n",
    "from scipy import stats\n",
    "\n",
    "# Scikit-learn関連\n",
    "from sklearn.base import BaseEstimator, TransformerMixin\n",
    "from sklearn.preprocessing import StandardScaler\n",
    "from sklearn.utils.validation import check_X_y\n",
    "\n",
    "# タイピングのサポート\n",
    "from typing import Optional\n",
    "\n",
    "\n",
    "# 可視化の設定\n",
    "import matplotlib.pyplot as plt\n",
    "import japanize_matplotlib\n",
    "import itertools\n",
    "\n",
    "plt.style.use(\"ggplot\")"
   ]
  },
  {
   "cell_type": "markdown",
   "metadata": {},
   "source": [
    "--------\n",
    "# ２．実験設定"
   ]
  },
  {
   "cell_type": "code",
   "execution_count": 2,
   "metadata": {},
   "outputs": [],
   "source": [
    "### 実験データの設定 ###\n",
    "TARGET = \"visit\"  #'conversion', 'visit'\n",
    "TRAIN_SIZE = 100000\n",
    "TEST_SIZE = 100000\n",
    "\n",
    "### 実験設定 ###\n",
    "N_TRIALS = 10000  # 試行回数（標本平均を求める回数）\n",
    "SAMPLE_SIZE = 100  # 標本サイズ\n",
    "RANDOM_STATE = 0  # 乱数シード\n",
    "SEED = 0"
   ]
  },
  {
   "cell_type": "markdown",
   "metadata": {},
   "source": [
    "-----------\n",
    "# ３．データの前処理"
   ]
  },
  {
   "cell_type": "markdown",
   "metadata": {},
   "source": [
    "## 3.1 データ読み込み"
   ]
  },
  {
   "cell_type": "code",
   "execution_count": 3,
   "metadata": {},
   "outputs": [
    {
     "name": "stderr",
     "output_type": "stream",
     "text": [
      "C:\\Users\\HaruMomozu\\AppData\\Local\\Temp\\ipykernel_8968\\1097840519.py:1: DtypeWarning: Columns (0,1,2,3,4,5,6,7,8,9,10,11,12,13,14,15) have mixed types. Specify dtype option on import or set low_memory=False.\n",
      "  df_all = pd.read_csv(\n"
     ]
    },
    {
     "name": "stdout",
     "output_type": "stream",
     "text": [
      "列名: ['f0', 'f1', 'f2', 'f3', 'f4', 'f5', 'f6', 'f7', 'f8', 'f9', 'f10', 'f11', 'treatment', 'conversion', 'visit', 'exposure']\n"
     ]
    }
   ],
   "source": [
    "df_all = pd.read_csv(\n",
    "    R\"C:\\Users\\HaruMomozu\\Documents\\criteo-uplift-v2.1.csv.gz\", sep=\",\", header=None\n",
    ")\n",
    "\n",
    "df_all.columns = df_all.iloc[0]  # 0行目を列名にする\n",
    "df_all = df_all[1:].reset_index(drop=True)\n",
    "\n",
    "column_names = df_all.columns.tolist()\n",
    "print(\"列名:\", column_names)\n",
    "\n",
    "df_treatment = df_all[df_all[\"treatment\"] == 1]\n",
    "df_treatment_0 = df_treatment[df_treatment[TARGET] == 0]\n",
    "df_treatment_1 = df_treatment[df_treatment[TARGET] == 1]\n",
    "\n",
    "features_list = [\n",
    "    \"f0\",\n",
    "    \"f1\",\n",
    "    \"f2\",\n",
    "    \"f3\",\n",
    "    \"f4\",\n",
    "    \"f5\",\n",
    "    \"f6\",\n",
    "    \"f7\",\n",
    "    \"f8\",\n",
    "    \"f9\",\n",
    "    \"f10\",\n",
    "    \"f11\",\n",
    "]\n",
    "ALL_FEATURES_INDEX = [i for i in range(len(features_list))]\n",
    "\n",
    "df_train_0 = df_treatment_0.iloc[: int(TRAIN_SIZE / 2)]\n",
    "df_train_1 = df_treatment_1.iloc[: int(TRAIN_SIZE / 2)]\n",
    "df_test_0 = df_treatment_0.iloc[\n",
    "    int(TRAIN_SIZE / 2) : int(TRAIN_SIZE / 2 + TEST_SIZE / 2)\n",
    "]\n",
    "df_test_1 = df_treatment_1.iloc[\n",
    "    int(TRAIN_SIZE / 2) : int(TRAIN_SIZE / 2 + TEST_SIZE / 2)\n",
    "]\n",
    "\n",
    "df_train = pd.concat([df_train_0, df_train_1])\n",
    "df_test = pd.concat([df_test_0, df_test_1])"
   ]
  },
  {
   "cell_type": "code",
   "execution_count": 4,
   "metadata": {},
   "outputs": [],
   "source": [
    "df_train = df_train.apply(lambda col: pd.to_numeric(col, errors=\"coerce\"))\n",
    "df_test = df_test.apply(lambda col: pd.to_numeric(col, errors=\"coerce\"))\n"
   ]
  },
  {
   "cell_type": "markdown",
   "metadata": {},
   "source": [
    "## 3.3 X, y に分割"
   ]
  },
  {
   "cell_type": "code",
   "execution_count": 5,
   "metadata": {},
   "outputs": [],
   "source": [
    "X_train = df_train[features_list].to_numpy()\n",
    "y_train = df_train[TARGET].to_numpy()\n",
    "\n",
    "X_test = df_test[features_list].to_numpy()\n",
    "y_test = df_test[TARGET].to_numpy()"
   ]
  },
  {
   "cell_type": "markdown",
   "metadata": {},
   "source": [
    "-----------------------------\n",
    "# 4. 共変量の選択（訓練データ)"
   ]
  },
  {
   "cell_type": "code",
   "execution_count": 6,
   "metadata": {},
   "outputs": [
    {
     "name": "stdout",
     "output_type": "stream",
     "text": [
      "visitと最も相関の高い変数のインデックス: 8, 相関係数: -0.76\n"
     ]
    }
   ],
   "source": [
    "X_train_df = pd.DataFrame(X_train)\n",
    "y_train_series = pd.Series(y_train)\n",
    "\n",
    "correlations = X_train_df.corrwith(y_train_series)\n",
    "\n",
    "# 最も相関が高い変数の選択\n",
    "most_correlated_var_index = correlations.abs().idxmax()  # 絶対値が最大の変数を取得\n",
    "max_correlation = correlations[most_correlated_var_index]\n",
    "\n",
    "print(\n",
    "    f\"{TARGET}と最も相関の高い変数のインデックス: {most_correlated_var_index}, 相関係数: {round(max_correlation, 3)}\"\n",
    ")"
   ]
  },
  {
   "cell_type": "markdown",
   "metadata": {},
   "source": [
    "-----------------\n",
    "# 5．CUPED"
   ]
  },
  {
   "cell_type": "markdown",
   "metadata": {},
   "source": [
    "## 5.1 αの計算（訓練データ）"
   ]
  },
  {
   "cell_type": "code",
   "execution_count": 7,
   "metadata": {},
   "outputs": [
    {
     "name": "stdout",
     "output_type": "stream",
     "text": [
      "alpha :  -0.37995222740328327\n"
     ]
    }
   ],
   "source": [
    "scaler = StandardScaler()\n",
    "scaled_cov = scaler.fit_transform(X_train[:, [most_correlated_var_index]])\n",
    "alpha = np.cov(y_train, scaled_cov[:, 0])[0, 1] / np.var(scaled_cov[:, 0])\n",
    "\n",
    "print(\"alpha : \", alpha)"
   ]
  },
  {
   "cell_type": "markdown",
   "metadata": {},
   "source": [
    "## 5.2 CUPEDの実施（テストデータ）"
   ]
  },
  {
   "cell_type": "code",
   "execution_count": 8,
   "metadata": {},
   "outputs": [],
   "source": [
    "def cauculate_var_cuped(\n",
    "    X: NDArray,\n",
    "    y: NDArray,\n",
    "    seed: int,\n",
    "    alpha: float,\n",
    "    most_correlated_var_index: int,\n",
    "    sample_size: int,\n",
    "    n_trials: int,\n",
    ") -> float:\n",
    "    np.random.seed(seed)\n",
    "\n",
    "    scaler = StandardScaler()\n",
    "    scaled_cov = scaler.fit_transform(X[:, [most_correlated_var_index]])\n",
    "    y_cuped = y - alpha * scaled_cov[:, 0]\n",
    "\n",
    "    sample_means = np.zeros(n_trials)\n",
    "    for i in range(n_trials):\n",
    "        # y_cupedからランダムにサンプリング\n",
    "        sample = np.random.choice(y_cuped, sample_size, replace=False)\n",
    "        sample_means[i] = sample.mean()\n",
    "\n",
    "    # 標本分散を計算\n",
    "    variance = np.var(sample_means)\n",
    "\n",
    "    return variance, sample_means"
   ]
  },
  {
   "cell_type": "markdown",
   "metadata": {},
   "source": [
    "-------------------\n",
    "# 6. COSS"
   ]
  },
  {
   "cell_type": "code",
   "execution_count": 9,
   "metadata": {},
   "outputs": [],
   "source": [
    "def cauculate_var_coss(\n",
    "    X: NDArray,\n",
    "    y: NDArray,\n",
    "    seed: int,\n",
    "    most_correlated_var_index: int,\n",
    "    sample_size: int,\n",
    "    n_trials: int,\n",
    ") -> float:\n",
    "    np.random.seed(seed)\n",
    "\n",
    "    X = pd.DataFrame(X)\n",
    "    y = pd.Series(y)\n",
    "\n",
    "    sample_means_t = np.zeros(n_trials)\n",
    "    sample_means_c = np.zeros(n_trials)\n",
    "    for i in range(n_trials):\n",
    "        rows = np.random.choice(X.index, sample_size * 2, replace=False)\n",
    "\n",
    "        sample_X = X.iloc[rows, most_correlated_var_index]\n",
    "        sample_X_sorted = sample_X.sort_values(ascending=False)\n",
    "\n",
    "        rows_t = sample_X_sorted.index[::2]\n",
    "        rows_c = sample_X_sorted.index[1::2]\n",
    "\n",
    "        sample_t = y.loc[rows_t].to_numpy()\n",
    "        sample_c = y.loc[rows_c].to_numpy()\n",
    "\n",
    "        sample_means_t[i] = sample_t.mean()\n",
    "        sample_means_c[i] = sample_c.mean()\n",
    "\n",
    "    variance_t = np.var(sample_means_t)\n",
    "    variance_c = np.var(sample_means_c)\n",
    "\n",
    "    return variance_t, variance_c, sample_means_t"
   ]
  },
  {
   "cell_type": "code",
   "execution_count": null,
   "metadata": {},
   "outputs": [],
   "source": []
  },
  {
   "cell_type": "markdown",
   "metadata": {},
   "source": [
    "----------------\n",
    "# 7. 評価"
   ]
  },
  {
   "cell_type": "code",
   "execution_count": 10,
   "metadata": {},
   "outputs": [],
   "source": [
    "def cauculate_var_random(y: NDArray, seed: int, n_trials: int, sample_size) -> float:\n",
    "    np.random.seed(seed)\n",
    "    y_hats = []\n",
    "    for i in range(n_trials):\n",
    "        sample = np.random.choice(y, sample_size, replace=False)\n",
    "        y_hat_random = sample.mean()\n",
    "        y_hats.append(y_hat_random)\n",
    "    var_random = np.array(y_hats).var()\n",
    "\n",
    "    return var_random"
   ]
  },
  {
   "cell_type": "code",
   "execution_count": 11,
   "metadata": {},
   "outputs": [],
   "source": [
    "VAR_RANDOM_TRAIN = cauculate_var_random(\n",
    "    y=y_train, seed=SEED, n_trials=N_TRIALS, sample_size=SAMPLE_SIZE\n",
    ")\n",
    "VAR_RANDOM_TEST = cauculate_var_random(\n",
    "    y=y_test, seed=SEED, n_trials=N_TRIALS, sample_size=SAMPLE_SIZE\n",
    ")\n",
    "\n",
    "var_cuped_train, _ = cauculate_var_cuped(\n",
    "    X=X_train,\n",
    "    y=y_train,\n",
    "    seed=SEED,\n",
    "    alpha=alpha,\n",
    "    most_correlated_var_index=most_correlated_var_index,\n",
    "    sample_size=SAMPLE_SIZE,\n",
    "    n_trials=N_TRIALS,\n",
    ")\n",
    "\n",
    "var_cuped_test, Y_HATS_CUPED = cauculate_var_cuped(\n",
    "    X=X_test,\n",
    "    y=y_test,\n",
    "    seed=SEED,\n",
    "    alpha=alpha,\n",
    "    most_correlated_var_index=most_correlated_var_index,\n",
    "    sample_size=SAMPLE_SIZE,\n",
    "    n_trials=N_TRIALS,\n",
    ")\n",
    "\n",
    "var_coss_train_t, var_coss_train_c, _ = cauculate_var_coss(\n",
    "    X=X_train,\n",
    "    y=y_train,\n",
    "    seed=SEED,\n",
    "    most_correlated_var_index=most_correlated_var_index,\n",
    "    sample_size=SAMPLE_SIZE,\n",
    "    n_trials=N_TRIALS,\n",
    ")\n",
    "\n",
    "var_coss_test_t, var_coss_test_c, Y_HATS_COSS = cauculate_var_coss(\n",
    "    X=X_test,\n",
    "    y=y_test,\n",
    "    seed=SEED,\n",
    "    most_correlated_var_index=most_correlated_var_index,\n",
    "    sample_size=SAMPLE_SIZE,\n",
    "    n_trials=N_TRIALS,\n",
    ")"
   ]
  },
  {
   "cell_type": "markdown",
   "metadata": {},
   "source": [
    "### 確認用"
   ]
  },
  {
   "cell_type": "code",
   "execution_count": 12,
   "metadata": {},
   "outputs": [
    {
     "name": "stdout",
     "output_type": "stream",
     "text": [
      "var_random_train = 0.0025041684160000003\n",
      "var_random_test = 0.0025041684160000003\n"
     ]
    }
   ],
   "source": [
    "print(\"var_random_train =\", VAR_RANDOM_TRAIN)\n",
    "print(\"var_random_test =\", VAR_RANDOM_TEST)"
   ]
  },
  {
   "cell_type": "code",
   "execution_count": 13,
   "metadata": {},
   "outputs": [
    {
     "name": "stdout",
     "output_type": "stream",
     "text": [
      "[0.44 0.46 0.47 ... 0.5  0.56 0.49]\n",
      "[0.53450614 0.52055636 0.42766548 ... 0.45180267 0.53289266 0.5278181 ]\n"
     ]
    }
   ],
   "source": [
    "print(Y_HATS_COSS)\n",
    "print(Y_HATS_CUPED)\n"
   ]
  },
  {
   "cell_type": "code",
   "execution_count": 19,
   "metadata": {},
   "outputs": [
    {
     "name": "stderr",
     "output_type": "stream",
     "text": [
      "C:\\Users\\HaruMomozu\\AppData\\Local\\Temp\\ipykernel_8968\\2390335445.py:6: MatplotlibDeprecationWarning: The 'labels' parameter of boxplot() has been renamed 'tick_labels' since Matplotlib 3.9; support for the old name will be dropped in 3.11.\n",
      "  plt.boxplot(data, labels=[\"CUPED\"])\n"
     ]
    },
    {
     "data": {
      "image/png": "[encoded data removed]",
      "text/plain": [
       "<Figure size 400x600 with 1 Axes>"
      ]
     },
     "metadata": {},
     "output_type": "display_data"
    }
   ],
   "source": [
    "# データをリストに変換\n",
    "data = Y_HATS_CUPED\n",
    "\n",
    "# 箱ひげ図を作成\n",
    "plt.figure(figsize=(4, 6))\n",
    "plt.boxplot(data, labels=[\"CUPED\"])\n",
    "\n",
    "# 図のタイトルとラベル\n",
    "plt.title(\"CUPED\", fontsize=60)\n",
    "plt.ylabel(\"標本平均\", fontsize=25)\n",
    "plt.tick_params(axis=\"both\", labelsize=25)\n",
    "plt.ylim(0.3, 0.7)\n",
    "\n",
    "# グラフを表示\n",
    "plt.show()\n"
   ]
  },
  {
   "cell_type": "code",
   "execution_count": 20,
   "metadata": {},
   "outputs": [
    {
     "name": "stderr",
     "output_type": "stream",
     "text": [
      "C:\\Users\\HaruMomozu\\AppData\\Local\\Temp\\ipykernel_8968\\3118572389.py:6: MatplotlibDeprecationWarning: The 'labels' parameter of boxplot() has been renamed 'tick_labels' since Matplotlib 3.9; support for the old name will be dropped in 3.11.\n",
      "  plt.boxplot(data, labels=[\"COSS\"])\n"
     ]
    },
    {
     "data": {
      "image/png": "[encoded data removed]",
      "text/plain": [
       "<Figure size 400x600 with 1 Axes>"
      ]
     },
     "metadata": {},
     "output_type": "display_data"
    }
   ],
   "source": [
    "# データをリストに変換\n",
    "data = Y_HATS_COSS\n",
    "\n",
    "# 箱ひげ図を作成\n",
    "plt.figure(figsize=(4, 6))\n",
    "plt.boxplot(data, labels=[\"COSS\"])\n",
    "\n",
    "# 図のタイトルとラベル\n",
    "plt.title(\"COSS\", fontsize=60)\n",
    "plt.ylabel(\"標本平均\", fontsize=25)\n",
    "plt.tick_params(axis=\"both\", labelsize=25)\n",
    "plt.ylim(0.3, 0.7)\n",
    "\n",
    "# グラフを表示\n",
    "plt.show()\n"
   ]
  },
  {
   "cell_type": "code",
   "execution_count": 16,
   "metadata": {},
   "outputs": [
    {
     "name": "stdout",
     "output_type": "stream",
     "text": [
      "CUPEDの分散削減率 :  57.90780053289455\n",
      "COSSの分散削減率(test) :  33.65036930487345\n",
      "COSSの分散削減率(control) :  33.57478017964108\n"
     ]
    }
   ],
   "source": [
    "# CUPED の分散削減率\n",
    "reduction_rate_cuped = (1 - var_cuped_test / VAR_RANDOM_TEST) * 100\n",
    "print(\"CUPEDの分散削減率 : \", reduction_rate_cuped)\n",
    "\n",
    "reduction_rate_coss_t = (1 - var_coss_test_t / VAR_RANDOM_TEST) * 100\n",
    "reduction_rate_coss_c = (1 - var_coss_test_c / VAR_RANDOM_TEST) * 100\n",
    "print(\"COSSの分散削減率(test) : \", reduction_rate_coss_t)\n",
    "print(\"COSSの分散削減率(control) : \", reduction_rate_coss_c)"
   ]
  },
  {
   "cell_type": "code",
   "execution_count": 17,
   "metadata": {},
   "outputs": [
    {
     "name": "stdout",
     "output_type": "stream",
     "text": [
      "var_cuped_train = 0.0010519846099158504\n",
      "var_cuped_test = 0.001054059564654975\n"
     ]
    }
   ],
   "source": [
    "print(\"var_cuped_train =\", var_cuped_train)\n",
    "print(\"var_cuped_test =\", var_cuped_test)"
   ]
  },
  {
   "cell_type": "code",
   "execution_count": 18,
   "metadata": {},
   "outputs": [
    {
     "name": "stdout",
     "output_type": "stream",
     "text": [
      "var_coss_train = 0.0017025072160000005\n",
      "var_coss_test = 0.0016615064960000005\n"
     ]
    }
   ],
   "source": [
    "print(\"var_coss_train =\", var_coss_train_t)\n",
    "print(\"var_coss_test =\", var_coss_test_t)"
   ]
  },
  {
   "cell_type": "code",
   "execution_count": null,
   "metadata": {},
   "outputs": [],
   "source": []
  }
 ],
 "metadata": {
  "kernelspec": {
   "display_name": ".venv",
   "language": "python",
   "name": "python3"
  },
  "language_info": {
   "codemirror_mode": {
    "name": "ipython",
    "version": 3
   },
   "file_extension": ".py",
   "mimetype": "text/x-python",
   "name": "python",
   "nbconvert_exporter": "python",
   "pygments_lexer": "ipython3",
   "version": "3.12.4"
  }
 },
 "nbformat": 4,
 "nbformat_minor": 2
}
