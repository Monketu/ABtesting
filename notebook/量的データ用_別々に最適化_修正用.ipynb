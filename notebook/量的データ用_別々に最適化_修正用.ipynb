{
 "cells": [
  {
   "cell_type": "markdown",
   "metadata": {},
   "source": [
    "# 量的データ用（For quantitaive data）\n",
    "[Methods]  \n",
    "- Clustering methods : Kmeans, GMM, FSSEM, FSS-Kmeans    \n",
    "- Allocation methods : random, proportional allocation, post stratification, optimal allocation"
   ]
  },
  {
   "cell_type": "markdown",
   "metadata": {},
   "source": [
    "-------------\n",
    "### ライブラリのインポート＆その他の設定（Importing Libraries & Other Settings）"
   ]
  },
  {
   "cell_type": "code",
   "execution_count": 28,
   "metadata": {},
   "outputs": [],
   "source": [
    "# 基本的なライブラリ\n",
    "import numpy as np\n",
    "import pandas as pd\n",
    "from numpy.typing import NDArray\n",
    "from scipy import stats\n",
    "\n",
    "# Scikit-learn関連\n",
    "from sklearn.base import BaseEstimator, TransformerMixin\n",
    "from sklearn.mixture import GaussianMixture\n",
    "from sklearn.preprocessing import StandardScaler\n",
    "from sklearn.cluster import KMeans\n",
    "from sklearn.utils.validation import check_X_y\n",
    "from sklearn.metrics import silhouette_score\n",
    "from sklearn.linear_model import Lasso\n",
    "from sklearn.model_selection import train_test_split\n",
    "\n",
    "# 抽象基底クラス (ABC)\n",
    "from abc import ABCMeta, abstractmethod\n",
    "\n",
    "# タイピングのサポート\n",
    "from typing import Optional\n",
    "\n",
    "# シード設定\n",
    "# from lightning.pytorch import seed_everything\n",
    "# seed_everything(8)\n",
    "\n",
    "# 可視化の設定\n",
    "import matplotlib.pyplot as plt\n",
    "import japanize_matplotlib\n",
    "import itertools\n",
    "\n",
    "plt.style.use(\"ggplot\")\n",
    "\n",
    "import time"
   ]
  },
  {
   "cell_type": "markdown",
   "metadata": {},
   "source": [
    "--------\n",
    "### 実験設定"
   ]
  },
  {
   "cell_type": "code",
   "execution_count": 29,
   "metadata": {},
   "outputs": [
    {
     "name": "stdout",
     "output_type": "stream",
     "text": [
      "METHODS_NAME_DICT {('none', 'kmeans'): 'Kmeans', ('lasso', 'kmeans'): 'Lasso-Kmeans'}\n"
     ]
    }
   ],
   "source": [
    "TARGET = \"BCR\"  # \"GMV\"か\"BCR\"\n",
    "DATA = \"part\"  # \"all\" or \"part\"\n",
    "DATA_SIZE = 2000  # データサイズ(訓練データとテストデータあわせて）\n",
    "TEST_SIZE = 0.5  # テストデータの比率\n",
    "THRESHOLD = 2  # 外れ値除外のための閾値\n",
    "\n",
    "EVALUATE = \"EVRR\"  # \"EVRR\" or \"VRR\"\n",
    "SAMPLE_SIZE = 100  # 標本サイズ\n",
    "N_TRIALS = 10  # 試行回数（標本平均を求める回数）\n",
    "N_EXPERIMENT = 2  # 誤差分散を求める回数\n",
    "m_VALUE = 2  # 各クラスタの最小標本数(最適標本配分)\n",
    "RANDOM_STATE = 0  # 乱数シード\n",
    "\n",
    "ALLOCATION_LIST = [\n",
    "    \"Proportional\",\n",
    "    \"Post\",\n",
    "    # \"Optimal\",\n",
    "]  # [\"Proportional\", \"Post\", \"Optimal\"]\n",
    "\n",
    "CRITERION_LIST = [\n",
    "    \"none\",\n",
    "    \"lasso\",\n",
    "    # \"ml(obj)\",\n",
    "    # \"ml\"\n",
    "]  # [\"none\", \"lasso\", \"ml\", \"ml(obj)\", \"checking\"] #\"sil\", \"ml-std\" は使わない\n",
    "\n",
    "CLUSTERING_METHOD_LIST = [\"kmeans\"]  # [\"gmm\", \"kmeans\", \"xmeans\"]\n",
    "\n",
    "SELECT_MAXIMUM_FEATURES = (\n",
    "    \"yes\"  # 特徴量をmaxになるまで選ぶ⇒\"yes\" or 基準値が最大になるまで⇒\"no\"\n",
    ")\n",
    "MAXIMUM_FEATURES_TO_SELECT = 5  # 選択される最大の特徴量(特徴量選択ありの場合)\n",
    "\n",
    "# クラスタ数を固定する場合（Kmeans, GMM)\n",
    "N_CLUSTERS = 10  # クラスタ数\n",
    "# クラスタ数を固定しない場合(xmeans)\n",
    "K_MIN = 2  # 最小クラスタ数\n",
    "K_MAX = 10  # 最大クラスタ数\n",
    "\n",
    "\n",
    "FEATURES_LIST_CHECKING = [0]  # 特徴量を指定するとき（\"checking\")\n",
    "\n",
    "stratification_methods = list(itertools.product(CRITERION_LIST, CLUSTERING_METHOD_LIST))\n",
    "METHODS_NAME_DICT = {}\n",
    "for method in stratification_methods:\n",
    "    if method == (\"none\", \"kmeans\"):\n",
    "        METHODS_NAME_DICT[method] = \"Kmeans\"\n",
    "    if method == (\"none\", \"xmeans\"):\n",
    "        METHODS_NAME_DICT[method] = \"Xmeans\"\n",
    "    if method == (\"none\", \"gmm\"):\n",
    "        METHODS_NAME_DICT[method] = \"GMM\"\n",
    "\n",
    "    if method == (\"ml\", \"kmeans\"):\n",
    "        METHODS_NAME_DICT[method] = \"SFS-Kmeans-TSS\"\n",
    "    if method == (\"ml\", \"xmeans\"):\n",
    "        METHODS_NAME_DICT[method] = \"SFS-Xmeans-TSS\"\n",
    "    if method == (\"ml\", \"gmm\"):\n",
    "        METHODS_NAME_DICT[method] = \"SFS-GMM-LL\"\n",
    "\n",
    "    if method == (\"sil\", \"kmeans\"):\n",
    "        METHODS_NAME_DICT[method] = \"SFS-Kmeans-silhouette\"\n",
    "    if method == (\"sil\", \"xmeans\"):\n",
    "        METHODS_NAME_DICT[method] = \"SFS-Xmeans-silouette\"\n",
    "    if method == (\"sil\", \"gmm\"):\n",
    "        METHODS_NAME_DICT[method] = \"SFS-GMM-silouette\"\n",
    "\n",
    "    if method == (\"checking\", \"kmeans\"):\n",
    "        METHODS_NAME_DICT[method] = f\"Kmeans ({FEATURES_LIST_CHECKING})\"\n",
    "    if method == (\"checking\", \"xmeans\"):\n",
    "        METHODS_NAME_DICT[method] = f\"Xmeans ({FEATURES_LIST_CHECKING})\"\n",
    "    if method == (\"checking\", \"gmm\"):\n",
    "        METHODS_NAME_DICT[method] = f\"GMM ({FEATURES_LIST_CHECKING})\"\n",
    "\n",
    "    if method == (\"lasso\", \"kmeans\"):\n",
    "        METHODS_NAME_DICT[method] = \"Lasso-Kmeans\"\n",
    "    if method == (\"lasso\", \"xmeans\"):\n",
    "        METHODS_NAME_DICT[method] = \"Lasso-Kmeans\"\n",
    "    if method == (\"lasso\", \"gmm\"):\n",
    "        METHODS_NAME_DICT[method] = \"Lasso-Kmeans\"\n",
    "\n",
    "    if method == (\"ml(obj)\", \"kmeans\"):\n",
    "        METHODS_NAME_DICT[method] = \"SFS-Kmeans-TSST\"\n",
    "    if method == (\"ml(obj)\", \"xmeans\"):\n",
    "        METHODS_NAME_DICT[method] = \"SFS-Xmeans-TSST\"\n",
    "    # if method == (\"ml(obj)\", \"gmm\"):\n",
    "    #     METHODS_NAME_DICT[method] = \"SFS-GMM-ml(obj)\"\n",
    "\n",
    "    if method == (\"ml-std\", \"kmeans\"):\n",
    "        METHODS_NAME_DICT[method] = \"SFS-Kmeans-TSS-std\"\n",
    "    if method == (\"ml-std\", \"xmeans\"):\n",
    "        METHODS_NAME_DICT[method] = \"SFS-Xmeans-TSS-std\"\n",
    "    # if method == (\"ml-std\", \"gmm\"):\n",
    "    #     METHODS_NAME_DICT[method] = \"SFS-GMM-ml-std\"\n",
    "\n",
    "print(\"METHODS_NAME_DICT\", METHODS_NAME_DICT)\n",
    "\n",
    "TIME_DICT = {}\n",
    "SELECTED_FEATURES_DICT = {}\n"
   ]
  },
  {
   "cell_type": "markdown",
   "metadata": {},
   "source": [
    "-----------\n",
    "### データの前処理（Data Preprocessing）"
   ]
  },
  {
   "cell_type": "markdown",
   "metadata": {},
   "source": [
    "##### 外れ値を除去する関数"
   ]
  },
  {
   "cell_type": "code",
   "execution_count": 30,
   "metadata": {},
   "outputs": [],
   "source": [
    "# 外れ値の除去\n",
    "def remove_outliers_zscore(\n",
    "    data: pd.DataFrame, metric: str, threshold: float = 2\n",
    ") -> pd.DataFrame:\n",
    "    z_scores = np.abs(stats.zscore(data[metric]))\n",
    "    data = data[(z_scores < threshold)]\n",
    "    return data"
   ]
  },
  {
   "cell_type": "markdown",
   "metadata": {},
   "source": [
    "##### メルカリデータ（df1：全部, df2：一部）"
   ]
  },
  {
   "cell_type": "code",
   "execution_count": 31,
   "metadata": {},
   "outputs": [],
   "source": [
    "# df1(all the data)\n",
    "df1 = pd.read_csv(\n",
    "    R\"C:\\Users\\HaruMomozu\\Documents\\aug_first_cpn_data_for_ab_test_sensibility_tsukuba.csv\"\n",
    ")\n",
    "\n",
    "features_list = [\n",
    "    \"hist_4_day_buy_num\",\n",
    "    \"hist_4_day_gmv\",\n",
    "    \"his_4_day_is_buy\",\n",
    "    \"hist_30_day_buy_days\",\n",
    "    \"hist_30_day_buy_num\",\n",
    "    \"hist_30_day_gmv\",\n",
    "    \"hist_30_day_buy_recency\",\n",
    "    \"hist_30_day_pay_days\",\n",
    "    \"hist_30_day_atpu\",\n",
    "    \"hist_30_day_gpv\",\n",
    "    \"hist_30_day_pay_recency\",\n",
    "    \"hist_30_day_list_days\",\n",
    "    \"hist_30_day_list_num\",\n",
    "    \"hist_30_day_list_recency\",\n",
    "    \"hist_30_day_like_count\",\n",
    "    \"hist_30_day_like_count_not_deleted\",\n",
    "    \"hist_30_day_like_recency\",\n",
    "]\n",
    "\n",
    "# df2(subset of the data)\n",
    "df2 = df1.iloc[:DATA_SIZE]"
   ]
  },
  {
   "cell_type": "markdown",
   "metadata": {},
   "source": [
    "##### 外れ値除去"
   ]
  },
  {
   "cell_type": "code",
   "execution_count": 32,
   "metadata": {},
   "outputs": [
    {
     "name": "stdout",
     "output_type": "stream",
     "text": [
      "外れ値除外前のデータ数（訓練+テスト）: 2000\n",
      "外れ値除外後のデータ数（訓練+テスト）: 2000\n"
     ]
    },
    {
     "name": "stderr",
     "output_type": "stream",
     "text": [
      "C:\\Users\\HaruMomozu\\AppData\\Local\\Temp\\ipykernel_8768\\1333479718.py:6: SettingWithCopyWarning: \n",
      "A value is trying to be set on a copy of a slice from a DataFrame.\n",
      "Try using .loc[row_indexer,col_indexer] = value instead\n",
      "\n",
      "See the caveats in the documentation: https://pandas.pydata.org/pandas-docs/stable/user_guide/indexing.html#returning-a-view-versus-a-copy\n",
      "  df[\"BCR\"] = np.where(df[\"GMV\"] > 0, 1, 0)\n"
     ]
    }
   ],
   "source": [
    "if DATA == \"all\":\n",
    "    df = df1\n",
    "if DATA == \"part\":\n",
    "    df = df2\n",
    "\n",
    "df[\"BCR\"] = np.where(df[\"GMV\"] > 0, 1, 0)\n",
    "\n",
    "# 外れ値除去\n",
    "df = remove_outliers_zscore(data=df, metric=TARGET, threshold=THRESHOLD)\n",
    "\n",
    "X_all = df[features_list]\n",
    "y_all = df[TARGET]\n",
    "\n",
    "# 行を詰める\n",
    "df = df.reset_index(drop=True)\n",
    "\n",
    "print(\"外れ値除外前のデータ数（訓練+テスト）:\", DATA_SIZE)\n",
    "print(\"外れ値除外後のデータ数（訓練+テスト）:\", len(df))\n"
   ]
  },
  {
   "cell_type": "markdown",
   "metadata": {},
   "source": [
    "### 訓練データとテストデータに分割し標準化"
   ]
  },
  {
   "cell_type": "code",
   "execution_count": 33,
   "metadata": {},
   "outputs": [
    {
     "name": "stdout",
     "output_type": "stream",
     "text": [
      "訓練データのデータ数: 1000\n",
      "テストデータのデータ数: 1000\n"
     ]
    }
   ],
   "source": [
    "X_train, X_test, y_train, y_test = train_test_split(\n",
    "    X_all, y_all, test_size=TEST_SIZE, random_state=0\n",
    ")\n",
    "\n",
    "print(\"訓練データのデータ数:\", len(X_train))\n",
    "print(\"テストデータのデータ数:\", len(X_test))\n",
    "\n",
    "sc = StandardScaler()\n",
    "sc.fit(X_train)\n",
    "X_train_std = sc.transform(X_train)\n",
    "X_test_std = sc.transform(X_test)\n"
   ]
  },
  {
   "cell_type": "markdown",
   "metadata": {},
   "source": [
    "---------------\n",
    "### Lasso で特徴量選択"
   ]
  },
  {
   "cell_type": "code",
   "execution_count": 34,
   "metadata": {},
   "outputs": [
    {
     "name": "stdout",
     "output_type": "stream",
     "text": [
      "選択された特徴量のインデックス(Lasso): [ 3  6 11 14]\n",
      "time for feature selection 0.011004447937011719 s\n"
     ]
    }
   ],
   "source": [
    "if \"lasso\" in CRITERION_LIST:\n",
    "    start_time_lasso = time.time()\n",
    "    # Lasso モデルの作成と訓練\n",
    "    lasso = Lasso(alpha=0.03)  # alpha は正則化の強さを表すハイパーパラメータ\n",
    "    lasso.fit(X_train_std, y_train)\n",
    "    end_time_lasso = time.time()\n",
    "\n",
    "    # Lasso によって選択された特徴量の確認\n",
    "    features_list = np.where(lasso.coef_ != 0)[0]\n",
    "    SELECTED_FEATURES_DICT[\"lasso\"] = features_list\n",
    "    TIME_DICT[\"lasso\"] = end_time_lasso - start_time_lasso\n",
    "    print(\"選択された特徴量のインデックス(Lasso):\", features_list)\n",
    "    print(\"time for feature selection\", end_time_lasso - start_time_lasso, \"s\")\n"
   ]
  },
  {
   "cell_type": "markdown",
   "metadata": {},
   "source": [
    "-------------\n",
    "### Wrapper法でクラスタリング"
   ]
  },
  {
   "cell_type": "markdown",
   "metadata": {},
   "source": [
    "##### Wrapper Class"
   ]
  },
  {
   "cell_type": "code",
   "execution_count": 35,
   "metadata": {},
   "outputs": [],
   "source": [
    "class Wrapper(BaseEstimator, TransformerMixin):\n",
    "    def __init__(\n",
    "        self,\n",
    "        maximum_features_to_select: int,\n",
    "        n_clusters: int,\n",
    "        criterion: str = \"ml\",\n",
    "        clustering_method: str = \"gmm\",\n",
    "        random_state: int = 0,\n",
    "        select_maximum_features: str = \"yes\",\n",
    "        k_min: int = 2,\n",
    "        k_max: int = 10,\n",
    "    ):\n",
    "        self.maximum_features_to_select = maximum_features_to_select  # 特徴量数\n",
    "        self.n_clusters = n_clusters  # クラスタ数\n",
    "        self.criterion = criterion  # 特徴量選択基準\n",
    "        self.clustering_method = clustering_method  # クラスタリング手法\n",
    "        self.random_state = random_state\n",
    "        self.select_maximum_features = select_maximum_features\n",
    "        self.k_min = k_min\n",
    "        self.k_max = k_max\n",
    "\n",
    "    def fss(self, X: pd.DataFrame, y: pd.DataFrame) -> \"Wrapper\":\n",
    "        X, y = check_X_y(X, y)\n",
    "        n_all_features = X_train_std.shape[1]  # 総特徴量数\n",
    "\n",
    "        ##### 初期化 #####\n",
    "        features_score_dict = {}  # スコアの推移の確認用（キー：特徴量の数, 値：スコア）\n",
    "        current_features = []  # 選択された特徴量\n",
    "\n",
    "        if self.criterion == \"ml-std\":\n",
    "            iter = 0\n",
    "            features_to_compare = [0]  # 比較する特徴量\n",
    "            remaining_features = [\n",
    "                i + 1 for i in range(n_all_features - 1)\n",
    "            ]  # 選択されていない特徴量\n",
    "        else:\n",
    "            remaining_features = list(range(n_all_features))  # 選択されていない特徴量\n",
    "\n",
    "        if self.select_maximum_features == \"no\":\n",
    "            best_score = -np.inf  # スコア（特徴量を最大数選ぶとは限らないとき）\n",
    "\n",
    "        ##### 特徴量選択とクラスタリング #####\n",
    "        while len(current_features) < self.maximum_features_to_select:\n",
    "            best_feature = None\n",
    "            # スコア初期化（特徴量を最大数選ぶとき）\n",
    "            if self.select_maximum_features == \"yes\":\n",
    "                best_score = -np.inf\n",
    "\n",
    "            # 追加するとスコアが一番高くなる特徴量を選ぶ\n",
    "            for feature in remaining_features:\n",
    "                temp_features = current_features + [\n",
    "                    feature\n",
    "                ]  # スコアを調べたい特徴量サブセット\n",
    "\n",
    "                if self.criterion == \"ml-std\":\n",
    "                    iter += 1\n",
    "                    score_current, labels_current, n_clusters_current = (\n",
    "                        self.crit_std_current(\n",
    "                            X[:, features_to_compare], X[:, temp_features], y\n",
    "                        )\n",
    "                    )\n",
    "                    score_temp, labels_temp, n_clusters_temp = self.crit_std_temp(\n",
    "                        X[:, features_to_compare], X[:, temp_features], y\n",
    "                    )\n",
    "                    if (score_temp > score_current) or (\n",
    "                        self.select_maximum_features == \"yes\" and best_feature is None\n",
    "                    ):\n",
    "                        best_feature = feature\n",
    "                        features_to_compare = temp_features\n",
    "                        best_score = score_temp\n",
    "                        best_labels = labels_temp\n",
    "                        best_n_clusters = n_clusters_temp\n",
    "                    elif iter == 1:\n",
    "                        best_feature = 0\n",
    "                        features_to_compare = [0]\n",
    "                        best_score = score_current\n",
    "                        best_labels = labels_current\n",
    "                        best_n_clusters = n_clusters_current\n",
    "                else:\n",
    "                    score, labels, n_clusters = self.crit(X[:, temp_features], y)\n",
    "                    if score > best_score:\n",
    "                        best_score = score\n",
    "                        best_feature = feature\n",
    "                        best_labels = labels\n",
    "                        best_n_clusters = n_clusters\n",
    "\n",
    "            # 選択された特徴量をcurrent_featuresに追加し、remaining_features から除外\n",
    "            if best_feature is not None:\n",
    "                current_features.append(best_feature)\n",
    "                if best_feature in remaining_features:\n",
    "                    remaining_features.remove(best_feature)\n",
    "\n",
    "                num_of_features = len(current_features)\n",
    "                print(\n",
    "                    \"num_of_features:\",\n",
    "                    num_of_features,\n",
    "                    \"current_features:\",\n",
    "                    current_features,\n",
    "                    \", score:\",\n",
    "                    best_score,\n",
    "                    \"best_n_clusters:\",\n",
    "                    best_n_clusters,\n",
    "                )\n",
    "                features_score_dict[str(num_of_features)] = best_score  # 確認用\n",
    "\n",
    "            else:\n",
    "                break\n",
    "\n",
    "        ##### 最終的な特徴量とクラスタリング結果 #####\n",
    "        self.final_selected_features = current_features\n",
    "        self.final_cluster_assignments = best_labels\n",
    "        self.final_n_clusters = best_n_clusters\n",
    "        self.features_score_dict = features_score_dict\n",
    "\n",
    "        return self\n",
    "\n",
    "    def crit(self, X: pd.DataFrame, y: pd.DataFrame) -> float:\n",
    "        # クラスタリング手法がGMMの場合\n",
    "        if self.clustering_method == \"gmm\":\n",
    "            gmm = GaussianMixture(\n",
    "                n_components=self.n_clusters,\n",
    "                random_state=self.random_state,\n",
    "                init_params=\"kmeans\",\n",
    "            )\n",
    "            gmm.fit(X)\n",
    "            labels = gmm.predict(X)\n",
    "            n_clusters = len(np.unique(labels))\n",
    "\n",
    "            if self.criterion == \"ml\":\n",
    "                score = gmm.score(X)\n",
    "\n",
    "            elif self.criterion == \"sil\":\n",
    "                score = silhouette_score(X, labels)\n",
    "\n",
    "            # elif self.criterion == \"tr\":\n",
    "            #     means = gmm.means_  # 平均ベクトル\n",
    "            #     covariances = (\n",
    "            #         gmm.covariances_ + 1e-7\n",
    "            #     )  # 共分散行列(各要素に微小な数が加算される)\n",
    "            #     weights = gmm.weights_  # 混合比率\n",
    "            #     overall_mean = np.sum(\n",
    "            #         weights[:, np.newaxis] * means, axis=0\n",
    "            #     )  # 標本平均 #np.newaxisを使って1次元配列から2次元配列にする\n",
    "            #     S_W = np.sum(weights[:, np.newaxis, np.newaxis] * covariances, axis=0)\n",
    "            #     S_B = np.sum(\n",
    "            #         weights[:, np.newaxis, np.newaxis]\n",
    "            #         * np.einsum(\n",
    "            #             \"...i,...j->...ij\", means - overall_mean, means - overall_mean\n",
    "            #         ),\n",
    "            #         axis=0,\n",
    "            #     )\n",
    "            #     score = np.trace(np.linalg.solve(S_W, S_B))\n",
    "\n",
    "        # クラスタリング手法が kmeans または xmeans の場合\n",
    "        if self.clustering_method == \"kmeans\" or self.clustering_method == \"xmeans\":\n",
    "            if self.clustering_method == \"kmeans\":\n",
    "                model = KMeans(\n",
    "                    n_clusters=self.n_clusters,\n",
    "                    random_state=self.random_state,\n",
    "                )\n",
    "            if self.clustering_method == \"xmeans\":\n",
    "                model = self.xmeans(X)\n",
    "\n",
    "            model.fit(X)\n",
    "            labels = model.predict(X)\n",
    "            n_clusters = len(np.unique(labels))\n",
    "\n",
    "            if self.criterion == \"ml\":\n",
    "                score = model.score(X)\n",
    "\n",
    "            elif self.criterion == \"ml(obj)\":\n",
    "                tss = 0\n",
    "                for k in np.unique(labels):\n",
    "                    y_k = y[labels == k]\n",
    "                    mean_y_k = np.mean(y_k)\n",
    "                    tss += np.sum((y_k - mean_y_k) ** 2)\n",
    "                score = -tss\n",
    "\n",
    "            elif self.criterion == \"sil\":\n",
    "                score = silhouette_score(X, labels)\n",
    "\n",
    "            # elif self.criterion == \"tr\":\n",
    "            #     cluster_centers = model.cluster_centers_\n",
    "            #     sw_i_list = []\n",
    "            #     for i in range(n_clusters):\n",
    "            #         cluster_points = X[labels == i]\n",
    "            #         if cluster_points.shape[0] <= 2:\n",
    "            #             # データポイントが1つの場合はゼロ行列を使用\n",
    "            #             sw_i = np.zeros((X.shape[1], X.shape[1])) + 1e-7\n",
    "            #         else:\n",
    "            #             sw_i = (np.cov(cluster_points, rowvar=False) + 1e-7) * np.sum(\n",
    "            #                 labels\n",
    "            #                 == i  # データ数を重みに使う代わりにデータの割合を使う\n",
    "            #             )\n",
    "            #             if np.isscalar(sw_i):  # スカラー値のとき\n",
    "            #                 sw_i = np.array([[sw_i]])\n",
    "            #         sw_i_list.append(sw_i)\n",
    "            #     # 全クラスターの S_W を合計\n",
    "            #     S_W = np.sum(sw_i_list, axis=0)\n",
    "            #     # クラスター間散布行列 S_B を計算\n",
    "            #     overall_mean = np.mean(X, axis=0)\n",
    "            #     S_B = sum(\n",
    "            #         (np.sum(labels == i) / X.shape[0])  # 割合にする\n",
    "            #         * np.outer(\n",
    "            #             cluster_centers[i] - overall_mean,\n",
    "            #             cluster_centers[i] - overall_mean,\n",
    "            #         )\n",
    "            #         # *(cluster_centers[i] - overall_mean) @ (cluster_centers[i] - overall_mean).T\n",
    "            #         for i in range(n_clusters)\n",
    "            #     )\n",
    "            #     # 散乱分離性を計算\n",
    "            #     score = np.trace(np.linalg.solve(S_W, S_B))\n",
    "\n",
    "        return score, labels, n_clusters\n",
    "\n",
    "    def crit_std_current(self, current_X, temp_X, y):\n",
    "        score_current, labels, n_clusters = self.crit_std(current_X, current_X)\n",
    "        score_temp, _, _ = self.crit_std(temp_X, current_X)\n",
    "        score = -score_current * score_temp\n",
    "        return score, labels, n_clusters\n",
    "\n",
    "    def crit_std_temp(self, current_X, temp_X, y):\n",
    "        score_current, _, _ = self.crit_std(current_X, temp_X)\n",
    "        score_temp, labels, n_clusters = self.crit_std(temp_X, temp_X)\n",
    "        score = -score_current * score_temp\n",
    "        return score, labels, n_clusters\n",
    "\n",
    "    def crit_std(self, X1, X2):  # X2空間上でしたクラスタリングの結果をX1空間上で評価\n",
    "        if self.clustering_method == \"kmeans\" or self.clustering_method == \"xmeans\":\n",
    "            if self.clustering_method == \"kmeans\":\n",
    "                model = KMeans(\n",
    "                    n_clusters=self.n_clusters,\n",
    "                    random_state=self.random_state,\n",
    "                )\n",
    "            if self.clustering_method == \"xmeans\":\n",
    "                model = self.xmeans(X2)\n",
    "\n",
    "            model.fit(X2)\n",
    "            labels = model.predict(X2)\n",
    "            n_clusters = len(np.unique(labels))\n",
    "\n",
    "            # クラスタラベルを使ってX1空間上でのSSEを計算\n",
    "            centroids_X1 = np.zeros((n_clusters, X1.shape[1]))  # クラスタ数 × X1の次元\n",
    "            for i in range(n_clusters):\n",
    "                # 各クラスタのデータ点の平均を計算（X1空間上）\n",
    "                cluster_points = X1[labels == i]\n",
    "                centroids_X1[i, :] = np.mean(cluster_points, axis=0)\n",
    "\n",
    "            # 総平方和(SSE)を計算\n",
    "            sse = 0.0\n",
    "            for i, label in enumerate(labels):\n",
    "                centroid = centroids_X1[label]  # データポイントに対応するクラスタの重心\n",
    "                sse += np.sum(\n",
    "                    (X1[i] - centroid) ** 2\n",
    "                )  # データ点と重心の距離の二乗を加算\n",
    "            score = sse\n",
    "\n",
    "            return score, labels, n_clusters\n",
    "\n",
    "    def compute_bic(self, X, kmeans):\n",
    "        # クラスタリング結果の取得\n",
    "        labels = kmeans.labels_\n",
    "        clusters = kmeans.cluster_centers_\n",
    "        n_clusters = len(clusters)\n",
    "        n = len(X)\n",
    "        m = X.shape[1]\n",
    "        # クラスター内の分散の合計\n",
    "        variance = np.sum(\n",
    "            [\n",
    "                np.linalg.norm(X[labels == i] - clusters[i], axis=1).sum()\n",
    "                for i in range(n_clusters)\n",
    "            ]\n",
    "        )\n",
    "        # BIC の計算\n",
    "        bic = np.log(n) * n_clusters * m + n * np.log(variance / n)\n",
    "        return bic\n",
    "\n",
    "    def xmeans(self, X):\n",
    "        kmeans = KMeans(\n",
    "            n_clusters=self.k_min, random_state=self.random_state\n",
    "        )  # 初期クラスター数で KMeans を実行\n",
    "        kmeans.fit(X)\n",
    "        best_bic = self.compute_bic(X, kmeans)\n",
    "        best_kmeans = kmeans\n",
    "        for k in range(self.k_min + 1, self.k_max + 1):\n",
    "            kmeans = KMeans(n_clusters=k, random_state=self.random_state)\n",
    "            kmeans.fit(X)\n",
    "            # BIC を計算\n",
    "            current_bic = self.compute_bic(X, kmeans)\n",
    "            # BIC が改善される場合、クラスタ数を更新\n",
    "            if current_bic < best_bic:\n",
    "                best_bic = current_bic\n",
    "                best_kmeans = kmeans\n",
    "        # 最適なクラスタリング結果を返す\n",
    "        return best_kmeans\n",
    "\n",
    "    def get_feature_index_out(self) -> NDArray:\n",
    "        return np.array(\n",
    "            self.final_selected_features\n",
    "        )  # 最終的に選択された特徴量のインデックス\n",
    "\n",
    "    def get_final_cluster_assignments(self) -> NDArray:\n",
    "        return self.final_cluster_assignments  # 最終的なクラスタリング結果\n",
    "\n",
    "    def get_final_n_clusters(self) -> int:\n",
    "        return self.final_n_clusters  # 最終的なクラスタ数\n",
    "\n",
    "    def get_features_score_dict(self) -> dict:\n",
    "        return self.features_score_dict  # スコアの推移（確認用）"
   ]
  },
  {
   "cell_type": "markdown",
   "metadata": {},
   "source": [
    "##### Wrapper classでクラスタリングしたとき"
   ]
  },
  {
   "cell_type": "code",
   "execution_count": 36,
   "metadata": {},
   "outputs": [],
   "source": [
    "# Wrapper法を実装するための関数\n",
    "def process_wrapper(instance: \"Wrapper\"):\n",
    "    instance.fss(X_train_std, y_train)\n",
    "    selected_features_index = instance.get_feature_index_out()\n",
    "    cluster_label = instance.get_final_cluster_assignments()\n",
    "    cluster_size = np.unique(cluster_label, return_counts=True)[1]\n",
    "    features_score_dict = instance.get_features_score_dict()\n",
    "    n_clusters = instance.get_final_n_clusters()\n",
    "\n",
    "    return (\n",
    "        selected_features_index,\n",
    "        cluster_label,\n",
    "        cluster_size,\n",
    "        features_score_dict,\n",
    "        n_clusters,\n",
    "    )\n",
    "\n",
    "\n",
    "# Wrapperインスタンスのリスト\n",
    "instances = []\n",
    "for method, name in METHODS_NAME_DICT.items():\n",
    "    if method[0] != \"none\" and method[0] != \"checking\" and method[0] != \"lasso\":\n",
    "        instances.append(\n",
    "            (\n",
    "                name,\n",
    "                Wrapper(\n",
    "                    maximum_features_to_select=MAXIMUM_FEATURES_TO_SELECT,\n",
    "                    n_clusters=N_CLUSTERS,\n",
    "                    criterion=method[0],\n",
    "                    clustering_method=method[1],\n",
    "                    random_state=RANDOM_STATE,\n",
    "                    select_maximum_features=SELECT_MAXIMUM_FEATURES,\n",
    "                    k_min=K_MIN,\n",
    "                    k_max=K_MAX,\n",
    "                ),\n",
    "            )\n",
    "        )\n",
    "\n",
    "\n",
    "# 辞書の初期化\n",
    "# selected_features_index_dict = {}\n",
    "cluster_label_dict_train = {}\n",
    "cluster_size_dict_train = {}\n",
    "N_CLUSTER_DICT_train = {}\n",
    "features_score_dict_list = []\n",
    "\n",
    "# 各インスタンスに対して処理を実行\n",
    "for name, instance in instances:\n",
    "    print(\"[\", name, \"]\")\n",
    "    start_time = time.time()\n",
    "\n",
    "    (\n",
    "        selected_features_index,\n",
    "        cluster_label,\n",
    "        cluster_size,\n",
    "        features_score_dict,\n",
    "        n_clusters,\n",
    "    ) = process_wrapper(instance)\n",
    "\n",
    "    end_time = time.time()\n",
    "    TIME_DICT[name] = end_time - start_time\n",
    "\n",
    "    # selected_features_index_dict[name] = selected_features_index\n",
    "    cluster_label_dict_train[name] = cluster_label\n",
    "    cluster_size_dict_train[name] = cluster_size\n",
    "    N_CLUSTER_DICT_train[name] = n_clusters\n",
    "    features_score_dict_list.append(features_score_dict)\n",
    "\n",
    "    SELECTED_FEATURES_DICT[name] = selected_features_index\n",
    "\n",
    "    print(\"選ばれた特徴量：\", selected_features_index)\n",
    "    print(\"最終的な各層のクラスタサイズ : \", cluster_size)"
   ]
  },
  {
   "cell_type": "markdown",
   "metadata": {},
   "source": [
    "##### Wrapper法のスコア推移"
   ]
  },
  {
   "cell_type": "code",
   "execution_count": 37,
   "metadata": {},
   "outputs": [],
   "source": [
    "i = -1\n",
    "for name, instance in instances:\n",
    "    i += 1\n",
    "    # 棒グラフを作成\n",
    "    plt.figure(figsize=(5, 3))\n",
    "    plt.bar(features_score_dict_list[i].keys(), features_score_dict_list[i].values())\n",
    "    # for key, value in features_score_dict_list[i].items():\n",
    "    #     rounded_value = round(value, 2)\n",
    "    #     plt.text(key, value + 0.3, str(rounded_value), ha=\"center\", fontsize=18)\n",
    "    plt.title(f\"{name}\", fontsize=20)\n",
    "    plt.xlabel(\"Number of features\", fontsize=15)\n",
    "    plt.ylabel(\"Evaluation value\", fontsize=15)\n",
    "    plt.ylim(-23000, -18000)\n",
    "    plt.tick_params(axis=\"both\", labelsize=10)\n",
    "    plt.show()"
   ]
  },
  {
   "cell_type": "markdown",
   "metadata": {},
   "source": [
    "---------------\n",
    "### 訓練データセットでの特徴量選択で選ばれた特徴量と計算時間"
   ]
  },
  {
   "cell_type": "code",
   "execution_count": 38,
   "metadata": {},
   "outputs": [
    {
     "name": "stdout",
     "output_type": "stream",
     "text": [
      "{'lasso': array([ 3,  6, 11, 14], dtype=int64)}\n",
      "{'lasso': 0.011004447937011719}\n"
     ]
    }
   ],
   "source": [
    "print(SELECTED_FEATURES_DICT)\n",
    "print(TIME_DICT)\n"
   ]
  },
  {
   "cell_type": "markdown",
   "metadata": {},
   "source": [
    "-------------\n",
    "----------\n",
    "### テストデータで評価"
   ]
  },
  {
   "cell_type": "markdown",
   "metadata": {},
   "source": [
    "----------------\n",
    "### クラスタリング"
   ]
  },
  {
   "cell_type": "markdown",
   "metadata": {},
   "source": [
    "##### 準備（Xmeans）"
   ]
  },
  {
   "cell_type": "code",
   "execution_count": 39,
   "metadata": {},
   "outputs": [],
   "source": [
    "def compute_bic(X, kmeans):\n",
    "    labels = kmeans.labels_\n",
    "    clusters = kmeans.cluster_centers_\n",
    "    n_clusters = len(clusters)\n",
    "    n = len(X)\n",
    "    m = X.shape[1]\n",
    "    variance = np.sum(\n",
    "        [\n",
    "            np.linalg.norm(X[labels == i] - clusters[i], axis=1).sum()\n",
    "            for i in range(n_clusters)\n",
    "        ]\n",
    "    )\n",
    "    bic = np.log(n) * n_clusters * m + n * np.log(variance / n)\n",
    "    return bic\n",
    "\n",
    "\n",
    "def xmeans(X, k_min=2, k_max=10):\n",
    "    kmeans = KMeans(n_clusters=k_min, random_state=RANDOM_STATE)\n",
    "    kmeans.fit(X)\n",
    "    best_bic = compute_bic(X, kmeans)\n",
    "    best_kmeans = kmeans\n",
    "    for k in range(k_min + 1, k_max + 1):\n",
    "        kmeans = KMeans(n_clusters=k, random_state=RANDOM_STATE)\n",
    "        kmeans.fit(X)\n",
    "        current_bic = compute_bic(X, kmeans)\n",
    "        if current_bic < best_bic:\n",
    "            best_bic = current_bic\n",
    "            best_kmeans = kmeans\n",
    "    return best_kmeans"
   ]
  },
  {
   "cell_type": "markdown",
   "metadata": {},
   "source": [
    "##### クラスタリング結果"
   ]
  },
  {
   "cell_type": "code",
   "execution_count": 40,
   "metadata": {},
   "outputs": [
    {
     "name": "stdout",
     "output_type": "stream",
     "text": [
      "[ Kmeans ]\n",
      "各層のクラスタサイズ :  [213  62  29  53 147  19  92   4  74 307]\n",
      "クラスタ数： 10\n",
      "\n",
      "[ Lasso-Kmeans ]\n",
      "各層のクラスタサイズ :  [117 142 172  92  53  26 215  95  23  65]\n",
      "クラスタ数： 10\n",
      "\n"
     ]
    }
   ],
   "source": [
    "cluster_label_dict_test = {}\n",
    "cluster_size_dict_test = {}\n",
    "N_CLUSTER_DICT_test = {}\n",
    "\n",
    "clustering_methods = []\n",
    "for method, name in METHODS_NAME_DICT.items():\n",
    "    clustering_methods.append(name)\n",
    "    if method[1] == \"kmeans\":\n",
    "        model = KMeans(n_clusters=N_CLUSTERS, random_state=RANDOM_STATE)\n",
    "    if method[1] == \"gmm\":\n",
    "        model = GaussianMixture(\n",
    "            n_components=N_CLUSTERS, random_state=RANDOM_STATE, init_params=\"kmeans\"\n",
    "        )\n",
    "    if method[1] == \"xmeans\":\n",
    "        model = xmeans(X_test_std, k_min=K_MIN, k_max=K_MAX)\n",
    "\n",
    "    if method[0] == \"none\":\n",
    "        labels = model.fit_predict(X_test_std)\n",
    "    if method[0] == \"checking\":\n",
    "        labels = model.fit_predict(X_test_std[:, FEATURES_LIST_CHECKING])\n",
    "    if method[0] == \"lasso\":\n",
    "        labels = model.fit_predict(X_test_std[:, SELECTED_FEATURES_DICT[\"lasso\"]])\n",
    "    elif method[0] != \"none\" and method[0] != \"checking\":\n",
    "        labels = model.fit_predict(X_test_std[:, SELECTED_FEATURES_DICT[name]])\n",
    "\n",
    "    cluster_size = np.bincount(labels)\n",
    "    n_clusters = len(np.unique(labels))\n",
    "\n",
    "    cluster_label_dict_test[name] = labels\n",
    "    cluster_size_dict_test[name] = cluster_size\n",
    "    N_CLUSTER_DICT_test[name] = n_clusters\n",
    "\n",
    "    print(\"[\", name, \"]\")\n",
    "    print(\"各層のクラスタサイズ : \", cluster_size_dict_test[name])\n",
    "    print(\"クラスタ数：\", N_CLUSTER_DICT_test[name])\n",
    "    print()\n"
   ]
  },
  {
   "cell_type": "markdown",
   "metadata": {},
   "source": [
    "-----------------------------\n",
    "### 標本配分（Allocation)"
   ]
  },
  {
   "cell_type": "markdown",
   "metadata": {},
   "source": [
    "##### 基底クラス（層化抽出）"
   ]
  },
  {
   "cell_type": "code",
   "execution_count": 41,
   "metadata": {},
   "outputs": [],
   "source": [
    "class BaseAllocation(metaclass=ABCMeta):  # 抽象基底クラス（ABC）\n",
    "    # 初期化クラス（n_samples(標本サイズ), H(クラスタ数)）\n",
    "    def __init__(\n",
    "        self,\n",
    "        sample_size: int,\n",
    "        H: int,\n",
    "        random_state: int,\n",
    "        criterion: str,\n",
    "        clustering_method: str,\n",
    "        methods_name_dict: dict,\n",
    "    ):\n",
    "        self.sample_size = sample_size\n",
    "        self.H = H\n",
    "        self.random_state = random_state\n",
    "        self.criterion = criterion\n",
    "        self.clustering_method = clustering_method\n",
    "        self.methods_name_dict = methods_name_dict\n",
    "\n",
    "    @abstractmethod\n",
    "    def solve(self, X: NDArray, y: NDArray) -> NDArray:\n",
    "        \"\"\"標本配分を解く\n",
    "\n",
    "        Args:\n",
    "            X (NDArray): データ (N x M)\n",
    "            y (NDArray): 目的変数 (N)\n",
    "\n",
    "        Raises:\n",
    "            NotImplementedError: _description_\n",
    "\n",
    "        Returns:\n",
    "            NDArray: 各クラスタの標本数 (H, )\n",
    "\n",
    "        Note:\n",
    "            M: 特徴量数\n",
    "            H: クラスタ数\n",
    "        \"\"\"\n",
    "        # 具象クラスがsolveメゾッドを実装しない場合はNotImpleamentedErrorが発生\n",
    "        raise NotImplementedError\n",
    "\n",
    "    def clustering(self, X: NDArray) -> tuple[NDArray, NDArray]:\n",
    "        for method, name in self.methods_name_dict.items():\n",
    "            if method[0] == self.criterion and method[1] == self.clustering_method:\n",
    "                cluster_label = cluster_label_dict_test[name]\n",
    "                cluster_size = cluster_size_dict_test[name]\n",
    "\n",
    "        # インスタンス変数として設定\n",
    "        self.cluster_label = cluster_label\n",
    "        self.N = cluster_size\n",
    "\n",
    "        return cluster_label, cluster_size"
   ]
  },
  {
   "cell_type": "markdown",
   "metadata": {},
   "source": [
    "##### 比例配分のクラス"
   ]
  },
  {
   "cell_type": "code",
   "execution_count": 42,
   "metadata": {},
   "outputs": [],
   "source": [
    "class Proportional(BaseAllocation):\n",
    "    def solve(self, X: NDArray, y: NDArray) -> NDArray:\n",
    "        \"\"\"各クラスタ数に比例した標本数で分割する\"\"\"\n",
    "        n: NDArray = np.round(self.N / self.N.sum() * self.sample_size).astype(int)\n",
    "\n",
    "        if n.sum() > self.sample_size:\n",
    "            # nの合計がn_samplesより大きい場合は一番標本数が多いクラスタから削る\n",
    "            n[np.argmax(n)] -= n.sum() - self.sample_size\n",
    "\n",
    "        if n.sum() < self.sample_size:\n",
    "            # nの合計がn_samplesより小さい場合は一番標本数が多いクラスタにたす\n",
    "            n[np.argmax(n)] += -n.sum() + self.sample_size\n",
    "\n",
    "        return n"
   ]
  },
  {
   "cell_type": "markdown",
   "metadata": {},
   "source": [
    "##### 事後層化のクラス"
   ]
  },
  {
   "cell_type": "code",
   "execution_count": 43,
   "metadata": {},
   "outputs": [],
   "source": [
    "class Post(BaseAllocation):\n",
    "    def solve(self, X: NDArray, y: NDArray) -> NDArray:\n",
    "        \"\"\"ランダムにn_samplesの標本を選択する\"\"\"\n",
    "        n = np.array([self.sample_size])\n",
    "\n",
    "        return n  # （例）n=[標本サイズ]"
   ]
  },
  {
   "cell_type": "markdown",
   "metadata": {},
   "source": [
    "##### 最適標本配分のクラス"
   ]
  },
  {
   "cell_type": "code",
   "execution_count": 44,
   "metadata": {},
   "outputs": [],
   "source": [
    "class Optimal(BaseAllocation):\n",
    "    def __init__(\n",
    "        self,\n",
    "        sample_size: int,\n",
    "        H: int,\n",
    "        m: NDArray,  # 標本サイズ下限\n",
    "        M: Optional[NDArray] = None,  # 標本サイズ上限 #Optional(Noneである可能性がある)\n",
    "        random_state: int = 0,\n",
    "        criterion: str = \"tr\",\n",
    "        clustering_method: str = \"kmeans\",\n",
    "        methods_name_dict: dict = {},\n",
    "    ):\n",
    "        super().__init__(\n",
    "            sample_size,\n",
    "            H,\n",
    "            random_state,\n",
    "            criterion,\n",
    "            clustering_method,\n",
    "            methods_name_dict,\n",
    "        )  # 基底クラスBaseAllocation（スーパークラス）の初期化メゾッドを呼び出す\n",
    "        self.m = m  # 各クラスタの最小標本サイズ (H, )\n",
    "        self.M = M  # 各クラスタの最大標本サイズ (H, ), (指定しない場合はクラスタサイズ)\n",
    "\n",
    "    def solve(self, X: NDArray, y: NDArray) -> NDArray:\n",
    "        # S:クラスタ毎の目的変数のvarianceを要素とする配列 (H, )\n",
    "        S = np.array([np.var(y[self.cluster_label == h]) for h in range(self.H)])\n",
    "        d = (self.N**2) * S  # (H, )\n",
    "        n = self._simple_greedy(n=self.m.copy(), d=d)\n",
    "\n",
    "        # 制約チェック\n",
    "        self._check_constraints(n)\n",
    "\n",
    "        return n\n",
    "\n",
    "    def _simple_greedy(self, n: NDArray, d: NDArray) -> NDArray:\n",
    "        M = self.M.copy() if self.M is not None else self.N.copy()\n",
    "        I = np.arange(self.H)  # noqa #クラスタのインデックス\n",
    "        while (n.sum() != self.sample_size) and len(I) != 0:\n",
    "            delta = np.zeros(self.H)\n",
    "            delta[I] = (d / (n + 1) - d / n)[I]\n",
    "            h_star = np.argmin(delta[I])\n",
    "            h_star = I[h_star]\n",
    "\n",
    "            if n[h_star] + 1 <= M[h_star]:\n",
    "                n[h_star] = n[h_star] + 1\n",
    "            else:\n",
    "                # Iの要素h_starを削除\n",
    "                I_ = I.tolist()\n",
    "                I_ = [i for i in I_ if i != h_star]\n",
    "                I = np.array(I_)  # noqa\n",
    "\n",
    "        return n\n",
    "\n",
    "    def _check_constraints(self, n: NDArray):\n",
    "        assert (\n",
    "            n.sum() <= self.sample_size\n",
    "        ), f\"Total sample size is over than {self.sample_size}\"\n",
    "        assert np.all(n >= self.m), \"Minimum sample size constraint is not satisfied\"\n",
    "        if self.M is not None:\n",
    "            assert np.all(\n",
    "                n <= self.M\n",
    "            ), \"Maximum sample size constraint is not satisfied\""
   ]
  },
  {
   "cell_type": "markdown",
   "metadata": {},
   "source": [
    "##### 各ポリシーを生成"
   ]
  },
  {
   "cell_type": "code",
   "execution_count": 45,
   "metadata": {},
   "outputs": [
    {
     "name": "stdout",
     "output_type": "stream",
     "text": [
      "policies_dict {'Kmeans': [<__main__.Proportional object at 0x00000248A9A40740>, <__main__.Post object at 0x00000248A9BDF740>], 'Lasso-Kmeans': [<__main__.Proportional object at 0x00000248AC27D370>, <__main__.Post object at 0x000002490812ACC0>]}\n"
     ]
    }
   ],
   "source": [
    "# 各ポリシーの生成を行う関数\n",
    "def create_policies(\n",
    "    methods_name_dict: dict,\n",
    "    allocation_list: list,\n",
    "    sample_size: int,\n",
    "    H_dict: dict,\n",
    "    random_state: int,\n",
    "    m_value: int,\n",
    "):  # -> dict[list[str] : list[BaseAllocation]]:\n",
    "    policies_dict = {}\n",
    "    for method, name in methods_name_dict.items():\n",
    "        policies: list[BaseAllocation] = []\n",
    "        if \"Proportional\" in allocation_list:\n",
    "            policies.append(\n",
    "                Proportional(\n",
    "                    sample_size=sample_size,\n",
    "                    H=H_dict[name],\n",
    "                    random_state=random_state,\n",
    "                    criterion=method[0],\n",
    "                    clustering_method=method[1],\n",
    "                    methods_name_dict=methods_name_dict,\n",
    "                )\n",
    "            )\n",
    "        if \"Post\" in allocation_list:\n",
    "            policies.append(\n",
    "                Post(\n",
    "                    sample_size=sample_size,\n",
    "                    H=H_dict[name],\n",
    "                    random_state=random_state,\n",
    "                    criterion=method[0],\n",
    "                    clustering_method=method[1],\n",
    "                    methods_name_dict=methods_name_dict,\n",
    "                )\n",
    "            )\n",
    "        if \"Optimal\" in allocation_list:\n",
    "            policies.append(\n",
    "                Optimal(\n",
    "                    sample_size=sample_size,\n",
    "                    H=H_dict[name],\n",
    "                    random_state=random_state,\n",
    "                    m=np.full(H_dict[name], m_value),\n",
    "                    M=None,\n",
    "                    criterion=method[0],\n",
    "                    clustering_method=method[1],\n",
    "                    methods_name_dict=methods_name_dict,\n",
    "                )\n",
    "            )\n",
    "        policies_dict[name] = policies\n",
    "    return policies_dict\n",
    "\n",
    "\n",
    "policies_dict = create_policies(\n",
    "    methods_name_dict=METHODS_NAME_DICT,\n",
    "    allocation_list=ALLOCATION_LIST,\n",
    "    sample_size=SAMPLE_SIZE,\n",
    "    H_dict=N_CLUSTER_DICT_test,\n",
    "    random_state=RANDOM_STATE,\n",
    "    m_value=m_VALUE,\n",
    ")\n",
    "\n",
    "print(\"policies_dict\", policies_dict)"
   ]
  },
  {
   "cell_type": "markdown",
   "metadata": {},
   "source": [
    "##### 標本配分の計算"
   ]
  },
  {
   "cell_type": "code",
   "execution_count": 46,
   "metadata": {},
   "outputs": [],
   "source": [
    "allocations_dict = {}\n",
    "for name, policies in policies_dict.items():\n",
    "    # それぞれの戦略で各クラスタの標本数を求解\n",
    "    allocations: list[dict] = []  # 各戦略の実行結果が辞書形式で追加される\n",
    "    for policy in policies:\n",
    "        # policyを用いてXをクラスタリング\n",
    "        cluster_label, _ = policy.clustering(X_test_std)\n",
    "        n = policy.solve(X_test_std, y_test)\n",
    "        allocations.append(\n",
    "            {\n",
    "                \"policy\": policy.__class__.__name__,\n",
    "                \"n\": n,\n",
    "                \"cluster_label\": cluster_label,\n",
    "            }\n",
    "        )\n",
    "    allocations_dict[name] = allocations"
   ]
  },
  {
   "cell_type": "markdown",
   "metadata": {},
   "source": [
    "------------\n",
    "### 標本抽出と誤差分散削減率の計算"
   ]
  },
  {
   "cell_type": "markdown",
   "metadata": {},
   "source": [
    "##### 母平均を推定する関数"
   ]
  },
  {
   "cell_type": "code",
   "execution_count": 47,
   "metadata": {},
   "outputs": [],
   "source": [
    "def estimate_y_mean(n: NDArray, cluster_label: NDArray, y: NDArray) -> NDArray:\n",
    "    \"\"\"実際にサンプリングを行って目的変数の平均を推定\n",
    "\n",
    "    Args:\n",
    "        n (NDArray): 各クラスタの標本数 (H, )\n",
    "        cluster_label (NDArray): クラスタラベル (N, )\n",
    "        y (NDArray): 目的変数 (N, )\n",
    "\n",
    "    Returns:\n",
    "        NDArray: 推定された目的変数の平均\n",
    "\n",
    "    Note:\n",
    "        N: データ数\n",
    "        H: クラスタ数\n",
    "    \"\"\"\n",
    "    # cluster_labelからユニークなクラスタラベルを取得し、母集団の各クラスタのサイズNを取得\n",
    "    N = np.unique(cluster_label, return_counts=True)[1]  # クラスタサイズ (H, )\n",
    "    weights = N / N.sum()\n",
    "    y_hat = 0\n",
    "    for h in range(n.shape[0]):  # n.shape[0]:層の数\n",
    "        if n[h] != 0:\n",
    "            y_cluster = y[cluster_label == h]\n",
    "            if n[h] <= len(y_cluster):\n",
    "                sample: NDArray = np.random.choice(y_cluster, n[h], replace=False)\n",
    "                y_sample_mean = sample.mean()  # サンプリングした標本の平均\n",
    "                y_hat += y_sample_mean * weights[h]\n",
    "\n",
    "    return y_hat\n",
    "\n",
    "\n",
    "def estimate_y_mean_post(n: NDArray, cluster_label: NDArray, y: NDArray) -> NDArray:\n",
    "    N = np.unique(cluster_label, return_counts=True)[1]\n",
    "    weights = N / N.sum()\n",
    "    y_hat = 0\n",
    "    indices = np.arange(N.sum())\n",
    "    y_array = np.array(y.tolist())\n",
    "    n_indices = np.random.choice(indices, n[0], replace=False)\n",
    "    n_label = np.array([cluster_label[i] for i in n_indices])\n",
    "    n_new_labels = np.unique(n_label)\n",
    "    for h in n_new_labels:\n",
    "        index = np.where(n_label == h)[0]\n",
    "        sample = y_array[n_indices[index]]\n",
    "        y_sample_mean = sample.mean()  # サンプリングした標本の平均\n",
    "        y_hat += y_sample_mean * weights[h]\n",
    "    return y_hat"
   ]
  },
  {
   "cell_type": "markdown",
   "metadata": {},
   "source": [
    "##### 誤差分散削減率の計算する関数"
   ]
  },
  {
   "cell_type": "code",
   "execution_count": 48,
   "metadata": {},
   "outputs": [],
   "source": [
    "def cauculate_reduction_rate(\n",
    "    X: pd.DataFrame,\n",
    "    y: pd.DataFrame,\n",
    "    policies_dict: dict,\n",
    "    random_std: float,\n",
    ") -> dict:\n",
    "    reduction_rate_dict = {}\n",
    "    variance_dict = {}\n",
    "\n",
    "    # 各戦略の標本数に基づいて目的変数の平均を推定\n",
    "    y_hats_dict = {}\n",
    "    for name, allocations in allocations_dict.items():\n",
    "        y_hats = []\n",
    "        for i in range(N_TRIALS):\n",
    "            for allocation in allocations:\n",
    "                if allocation[\"policy\"] == \"Post\":\n",
    "                    y_hat = estimate_y_mean_post(\n",
    "                        allocation[\"n\"], allocation[\"cluster_label\"], y\n",
    "                    )\n",
    "                else:\n",
    "                    y_hat = estimate_y_mean(\n",
    "                        allocation[\"n\"], allocation[\"cluster_label\"], y\n",
    "                    )\n",
    "                y_hats.append(\n",
    "                    {\n",
    "                        \"policy\": allocation[\"policy\"],\n",
    "                        \"y_hat\": y_hat,\n",
    "                        \"random_state\": i,\n",
    "                    }\n",
    "                )\n",
    "        y_hats_dict[name] = y_hats\n",
    "\n",
    "    for name, y_hats in y_hats_dict.items():\n",
    "        y_hat_df = pd.DataFrame(y_hats)\n",
    "        if EVALUATE == \"EVRR\":\n",
    "            y_hat_df[\"error\"] = (\n",
    "                y_hat_df[\"y_hat\"] - y.mean()\n",
    "            )  # 真の平均からの誤差をerrorカラムに追加\n",
    "            # random_allocation以外の誤差分散\n",
    "            non_random_allocation_std = y_hat_df.groupby(\"policy\")[\"error\"].var()\n",
    "            # 削減率\n",
    "            reduction_rate = (1 - non_random_allocation_std / random_std) * 100\n",
    "        if EVALUATE == \"VRR\":\n",
    "            non_random_allocation_std = y_hat_df.groupby(\"policy\")[\"y_hat\"].var()\n",
    "            reduction_rate = (1 - non_random_allocation_std / random_std) * 100\n",
    "\n",
    "        reduction_rate = reduction_rate.reindex(\n",
    "            [policy.__class__.__name__ for policy in policies]\n",
    "        )\n",
    "\n",
    "        variance = pd.concat(\n",
    "            [\n",
    "                pd.Series(random_std, index=[\"Random\"]),\n",
    "                non_random_allocation_std,\n",
    "            ]\n",
    "        )\n",
    "\n",
    "        reduction_rate_dict[name] = reduction_rate\n",
    "        variance_dict[name] = variance\n",
    "    return reduction_rate_dict, variance_dict"
   ]
  },
  {
   "cell_type": "markdown",
   "metadata": {},
   "source": [
    "##### 実験回数分の誤差分散削減率を計算（単純無作為抽出）"
   ]
  },
  {
   "cell_type": "code",
   "execution_count": 49,
   "metadata": {},
   "outputs": [
    {
     "name": "stdout",
     "output_type": "stream",
     "text": [
      "[0.002256, 0.0033490000000000004]\n"
     ]
    }
   ],
   "source": [
    "RANDOM_STD_LIST = []\n",
    "for exp in range(N_EXPERIMENT):\n",
    "    np.random.seed(exp)\n",
    "    y_hats = []\n",
    "    for random_state in range(N_TRIALS):\n",
    "        sample = np.random.choice(y_test, SAMPLE_SIZE, replace=False)\n",
    "        y_hat_random = sample.mean()\n",
    "        y_hats.append(y_hat_random)\n",
    "    if EVALUATE == \"EVRR\":\n",
    "        errors = np.array(y_hats) - y_test.mean()\n",
    "        random_std = errors.var()\n",
    "    if EVALUATE == \"VRR\":\n",
    "        random_std = np.array(y_hats).var()\n",
    "    RANDOM_STD_LIST.append(random_std)\n",
    "print(RANDOM_STD_LIST)\n"
   ]
  },
  {
   "cell_type": "markdown",
   "metadata": {},
   "source": [
    "##### 実験回数分の誤差分散削減率を計算（層化抽出）"
   ]
  },
  {
   "cell_type": "code",
   "execution_count": 50,
   "metadata": {},
   "outputs": [
    {
     "name": "stdout",
     "output_type": "stream",
     "text": [
      "[{'Kmeans': policy\n",
      "Proportional   -21.559641\n",
      "Post           -59.100451\n",
      "Name: error, dtype: float64, 'Lasso-Kmeans': policy\n",
      "Proportional    38.905566\n",
      "Post             4.946798\n",
      "Name: error, dtype: float64}, {'Kmeans': policy\n",
      "Proportional    27.439064\n",
      "Post            21.102438\n",
      "Name: error, dtype: float64, 'Lasso-Kmeans': policy\n",
      "Proportional    25.150902\n",
      "Post            36.012775\n",
      "Name: error, dtype: float64}]\n",
      "[{'Kmeans': Random          0.002256\n",
      "Post            0.003589\n",
      "Proportional    0.002742\n",
      "dtype: float64, 'Lasso-Kmeans': Random          0.002256\n",
      "Post            0.002144\n",
      "Proportional    0.001378\n",
      "dtype: float64}, {'Kmeans': Random          0.003349\n",
      "Post            0.002642\n",
      "Proportional    0.002430\n",
      "dtype: float64, 'Lasso-Kmeans': Random          0.003349\n",
      "Post            0.002143\n",
      "Proportional    0.002507\n",
      "dtype: float64}]\n"
     ]
    }
   ],
   "source": [
    "all_reduction_rate = []\n",
    "all_variance = []\n",
    "for exp in range(N_EXPERIMENT):\n",
    "    np.random.seed(exp)\n",
    "    reduction_rate_dict, variance_dict = cauculate_reduction_rate(\n",
    "        X_test_std, y_test, policies_dict, RANDOM_STD_LIST[exp]\n",
    "    )\n",
    "    all_reduction_rate.append(reduction_rate_dict)\n",
    "    all_variance.append(variance_dict)"
   ]
  },
  {
   "cell_type": "code",
   "execution_count": 53,
   "metadata": {},
   "outputs": [
    {
     "name": "stdout",
     "output_type": "stream",
     "text": [
      "[{'Kmeans': {'Proportional': -21.559640651104097, 'Post': -59.10045097151004}, 'Lasso-Kmeans': {'Proportional': 38.90556613871359, 'Post': 4.946798068841208}}, {'Kmeans': {'Proportional': 27.43906437373559, 'Post': 21.10243834949177}, 'Lasso-Kmeans': {'Proportional': 25.150901537290625, 'Post': 36.012774599382546}}]\n"
     ]
    }
   ],
   "source": [
    "results_reduction_rate_list = []\n",
    "results_variance_list = []\n",
    "\n",
    "for exp in range(N_EXPERIMENT):\n",
    "    results_reduction_rate = {}\n",
    "    results_variance = {}\n",
    "\n",
    "    for name, policy in all_reduction_rate[exp].items():\n",
    "        results_reduction_rate[name] = {}\n",
    "        for allocation_method in ALLOCATION_LIST:\n",
    "            results_reduction_rate[name][allocation_method] = policy[allocation_method]\n",
    "\n",
    "    results_variance[\"Random\"] = RANDOM_STD_LIST[exp]\n",
    "    for name, policy in all_variance[exp].items():\n",
    "        results_variance[name] = {}\n",
    "        for allocation_method in ALLOCATION_LIST:\n",
    "            results_variance[name][allocation_method] = policy[allocation_method]\n",
    "\n",
    "    results_reduction_rate_list.append(results_reduction_rate)\n",
    "    results_variance_list.append(results_variance)\n"
   ]
  },
  {
   "cell_type": "markdown",
   "metadata": {},
   "source": [
    "------------------\n",
    "### 可視化"
   ]
  },
  {
   "cell_type": "code",
   "execution_count": 65,
   "metadata": {},
   "outputs": [],
   "source": [
    "def plot_bars(dicts, titles, figsize=(8, 2.5)):\n",
    "    fig, axs = plt.subplots(1, 2, figsize=figsize)\n",
    "    if EVALUATE == \"EVRR\":\n",
    "        ylabels = [\"EV reduction rate\", \"EV\"]\n",
    "    if EVALUATE == \"VRR\":\n",
    "        ylabels = [\"Var reduction rate\", \"Var\"]\n",
    "    if TARGET == \"GMV\":\n",
    "        ylims = [(0, 40), (0, 500000)]\n",
    "    if TARGET == \"BCR\":\n",
    "        ylims = [(0, 40), (0, 0.003)]\n",
    "\n",
    "    for i, ax in enumerate(axs):\n",
    "        data = list(dicts[i].values())\n",
    "        labels = list(dicts[i].keys())\n",
    "        bars = ax.bar(labels, data)\n",
    "        for key, value in dicts[i].items():\n",
    "            rounded_value = round(value, 2)\n",
    "            ax.text(key, value, str(rounded_value), ha=\"center\", fontsize=10)\n",
    "        if i == 1 and \"Random\" not in labels:\n",
    "            random_bar = ax.bar(\"ran\", random_std, color=\"blue\")\n",
    "            ax.text(\n",
    "                \"ran\", random_std, str(round(random_std, 2)), ha=\"center\", fontsize=10\n",
    "            )\n",
    "        ax.set_title(titles[i], fontsize=20)\n",
    "        ax.set_xlabel(\"Number of features\", fontsize=15)\n",
    "        ax.set_ylabel(ylabels[i], fontsize=15)\n",
    "        ax.tick_params(axis=\"both\", which=\"major\", labelsize=10)\n",
    "        ax.set_ylim(ylims[i])\n",
    "    plt.tight_layout()\n",
    "    plt.show()\n",
    "\n",
    "\n",
    "def plot_boxplots(dicts, titles, figsize=(8, 2.5)):\n",
    "    fig, axs = plt.subplots(1, 2, figsize=figsize)\n",
    "    if EVALUATE == \"EVRR\":\n",
    "        ylabels = [\"EV reduction rate\", \"EV\"]\n",
    "    if EVALUATE == \"VRR\":\n",
    "        ylabels = [\"Var reduction rate\", \"Var\"]\n",
    "    if TARGET == \"GMV\":\n",
    "        ylims = [(0, 40), (0, 500000)]\n",
    "    if TARGET == \"BCR\":\n",
    "        ylims = [(0, 40), (0, 0.003)]\n",
    "    for i, ax in enumerate(axs):\n",
    "        data = list(dicts[i].values())\n",
    "        labels = list(dicts[i].keys())\n",
    "        ax.boxplot(data, labels=labels)\n",
    "        ax.set_title(titles[i], fontsize=20)\n",
    "        ax.set_ylabel(ylabels[i], fontsize=15)\n",
    "        ax.tick_params(axis=\"both\", which=\"major\", labelsize=10)\n",
    "        ax.set_ylim(*ylims[i])\n",
    "    plt.tight_layout()  # レイアウトを調整\n",
    "    plt.show()\n"
   ]
  },
  {
   "cell_type": "markdown",
   "metadata": {},
   "source": [
    "##### 分布を確認  "
   ]
  },
  {
   "cell_type": "code",
   "execution_count": 66,
   "metadata": {},
   "outputs": [
    {
     "name": "stdout",
     "output_type": "stream",
     "text": [
      "{'Kmeans': {'Proportional': [0.0027423854930889086, 0.0024300657341235956], 'Post': [0.003589306173917267, 0.0026422793396755208]}, 'Lasso-Kmeans': {'Proportional': [0.0013782904279106215, 0.0025066963075161372], 'Post': [0.0021444002355669426, 0.002142932178666679]}}\n"
     ]
    },
    {
     "name": "stderr",
     "output_type": "stream",
     "text": [
      "C:\\Users\\HaruMomozu\\AppData\\Local\\Temp\\ipykernel_8768\\3683988301.py:46: MatplotlibDeprecationWarning: The 'labels' parameter of boxplot() has been renamed 'tick_labels' since Matplotlib 3.9; support for the old name will be dropped in 3.11.\n",
      "  ax.boxplot(data, labels=labels)\n",
      "C:\\Users\\HaruMomozu\\AppData\\Local\\Temp\\ipykernel_8768\\3683988301.py:46: MatplotlibDeprecationWarning: The 'labels' parameter of boxplot() has been renamed 'tick_labels' since Matplotlib 3.9; support for the old name will be dropped in 3.11.\n",
      "  ax.boxplot(data, labels=labels)\n"
     ]
    },
    {
     "data": {
      "image/png": "[encoded data removed]",
      "text/plain": [
       "<Figure size 800x250 with 2 Axes>"
      ]
     },
     "metadata": {},
     "output_type": "display_data"
    },
    {
     "name": "stderr",
     "output_type": "stream",
     "text": [
      "C:\\Users\\HaruMomozu\\AppData\\Local\\Temp\\ipykernel_8768\\3683988301.py:46: MatplotlibDeprecationWarning: The 'labels' parameter of boxplot() has been renamed 'tick_labels' since Matplotlib 3.9; support for the old name will be dropped in 3.11.\n",
      "  ax.boxplot(data, labels=labels)\n",
      "C:\\Users\\HaruMomozu\\AppData\\Local\\Temp\\ipykernel_8768\\3683988301.py:46: MatplotlibDeprecationWarning: The 'labels' parameter of boxplot() has been renamed 'tick_labels' since Matplotlib 3.9; support for the old name will be dropped in 3.11.\n",
      "  ax.boxplot(data, labels=labels)\n"
     ]
    },
    {
     "data": {
      "image/png": "[encoded data removed]",
      "text/plain": [
       "<Figure size 800x250 with 2 Axes>"
      ]
     },
     "metadata": {},
     "output_type": "display_data"
    }
   ],
   "source": [
    "boxplot_reduction_rate = {}\n",
    "boxplot_variance = {}\n",
    "\n",
    "for method in list(results_reduction_rate_list[0].keys()):\n",
    "    boxplot_reduction_rate[method] = {}\n",
    "    boxplot_variance[method] = {}\n",
    "    for allocation_method in ALLOCATION_LIST:\n",
    "        boxplot_reduction_rate[method][allocation_method] = []\n",
    "        boxplot_variance[method][allocation_method] = []\n",
    "\n",
    "        for exp in range(N_EXPERIMENT):\n",
    "            boxplot_reduction_rate[method][allocation_method].append(\n",
    "                results_reduction_rate_list[exp][method][allocation_method]\n",
    "            )\n",
    "            boxplot_variance[method][allocation_method].append(\n",
    "                results_variance_list[exp][method][allocation_method]\n",
    "            )\n",
    "print(boxplot_variance)\n",
    "\n",
    "for method in list(results_reduction_rate_list[0].keys()):\n",
    "    plot_boxplots(\n",
    "        dicts=[boxplot_reduction_rate[method], boxplot_variance[method]],\n",
    "        titles=[\n",
    "            f\"{method}\",\n",
    "            f\"{method}\",\n",
    "        ],\n",
    "    )\n"
   ]
  },
  {
   "cell_type": "code",
   "execution_count": 67,
   "metadata": {},
   "outputs": [
    {
     "name": "stdout",
     "output_type": "stream",
     "text": [
      "exp_num :  0\n"
     ]
    },
    {
     "name": "stderr",
     "output_type": "stream",
     "text": [
      "C:\\Users\\HaruMomozu\\AppData\\Local\\Temp\\ipykernel_8768\\3683988301.py:29: UserWarning: Tight layout not applied. The bottom and top margins cannot be made large enough to accommodate all Axes decorations.\n",
      "  plt.tight_layout()\n"
     ]
    },
    {
     "data": {
      "image/png": "[encoded data removed]",
      "text/plain": [
       "<Figure size 800x250 with 2 Axes>"
      ]
     },
     "metadata": {},
     "output_type": "display_data"
    },
    {
     "data": {
      "image/png": "[encoded data removed]",
      "text/plain": [
       "<Figure size 800x250 with 2 Axes>"
      ]
     },
     "metadata": {},
     "output_type": "display_data"
    },
    {
     "name": "stdout",
     "output_type": "stream",
     "text": [
      "exp_num :  1\n"
     ]
    },
    {
     "data": {
      "image/png": "[encoded data removed]",
      "text/plain": [
       "<Figure size 800x250 with 2 Axes>"
      ]
     },
     "metadata": {},
     "output_type": "display_data"
    },
    {
     "data": {
      "image/png": "[encoded data removed]",
      "text/plain": [
       "<Figure size 800x250 with 2 Axes>"
      ]
     },
     "metadata": {},
     "output_type": "display_data"
    }
   ],
   "source": [
    "for exp in range(N_EXPERIMENT):\n",
    "    print(\"exp_num : \", exp)\n",
    "    for method in list(results_reduction_rate_list[0].keys()):\n",
    "        plot_bars(\n",
    "            dicts=[\n",
    "                results_reduction_rate_list[exp][method],\n",
    "                results_variance_list[exp][method],\n",
    "            ],\n",
    "            titles=[f\"{method}\", f\"{method}\"],\n",
    "        )\n"
   ]
  },
  {
   "cell_type": "code",
   "execution_count": null,
   "metadata": {},
   "outputs": [],
   "source": []
  }
 ],
 "metadata": {
  "kernelspec": {
   "display_name": ".venv",
   "language": "python",
   "name": "python3"
  },
  "language_info": {
   "codemirror_mode": {
    "name": "ipython",
    "version": 3
   },
   "file_extension": ".py",
   "mimetype": "text/x-python",
   "name": "python",
   "nbconvert_exporter": "python",
   "pygments_lexer": "ipython3",
   "version": "3.12.4"
  }
 },
 "nbformat": 4,
 "nbformat_minor": 2
}
