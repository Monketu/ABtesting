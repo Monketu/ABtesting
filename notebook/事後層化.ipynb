{
 "cells": [
  {
   "cell_type": "code",
   "execution_count": 1,
   "metadata": {},
   "outputs": [
    {
     "name": "stderr",
     "output_type": "stream",
     "text": [
      "Seed set to 8\n"
     ]
    },
    {
     "data": {
      "text/plain": [
       "8"
      ]
     },
     "execution_count": 1,
     "metadata": {},
     "output_type": "execute_result"
    }
   ],
   "source": [
    "import japanize_matplotlib  # noqa\n",
    "import matplotlib.pyplot as plt\n",
    "import numpy as np\n",
    "from sklearn.datasets import make_blobs\n",
    "from lightning.pytorch import seed_everything\n",
    "\n",
    "plt.style.use(\"ggplot\")\n",
    "seed_everything(8)"
   ]
  },
  {
   "cell_type": "code",
   "execution_count": 2,
   "metadata": {},
   "outputs": [],
   "source": [
    "N_DATA = 10000  # データ数\n",
    "N_CLUSTERS = 8  # クラスタ数\n",
    "N_FEATURES = 10  # 特徴量数\n",
    "RANDOM_STATE = 0  # 乱数シード\n",
    "Y_SCALE = 1  # 目的変数の標準偏差\n",
    "CLUSTER_STD = 1  # クラスタの標準偏差\n",
    "\n",
    "# 人工データを生成\n",
    "X, cluster_label = make_blobs(\n",
    "    n_samples=N_DATA,\n",
    "    centers=N_CLUSTERS,\n",
    "    n_features=N_FEATURES,\n",
    "    random_state=RANDOM_STATE,\n",
    "    cluster_std=CLUSTER_STD,\n",
    ")\n",
    "\n",
    "# データの目的変数を N(cluster_label, Y_SCALE) に従うように生成\n",
    "y = np.random.normal(cluster_label, Y_SCALE)"
   ]
  },
  {
   "cell_type": "code",
   "execution_count": null,
   "metadata": {},
   "outputs": [],
   "source": []
  },
  {
   "cell_type": "code",
   "execution_count": null,
   "metadata": {},
   "outputs": [],
   "source": [
    "import numpy as np\n",
    "import pandas as pd\n",
    "\n",
    "# 1. データの生成（母集団データ）\n",
    "np.random.seed(42)\n",
    "data = {\n",
    "    \"層\": np.random.choice([\"A\", \"B\", \"C\"], size=1000),  # 層 A, B, C の3層\n",
    "    \"目的変数\": np.random.normal(loc=50, scale=10, size=1000),  # 目的変数（例：スコア）\n",
    "}\n",
    "df = pd.DataFrame(data)\n",
    "\n",
    "# 2. 母集団からランダムに標本を抽出する（例：100個の標本）\n",
    "sample = df.sample(n=100, random_state=42)\n",
    "\n",
    "# 3. 標本を母集団の層に基づいて層に分割する\n",
    "sample_grouped = sample.groupby(\"層\")\n",
    "\n",
    "# 4. 各層ごとに目的変数の平均を計算する\n",
    "layer_means = sample_grouped[\"目的変数\"].mean()\n",
    "\n",
    "# 5. 各層の平均を用いて母平均を推定する\n",
    "# 層ごとの母集団の割合を計算\n",
    "layer_proportions = df[\"層\"].value_counts(normalize=True)\n",
    "\n",
    "# 層ごとの母平均を推定\n",
    "estimated_population_mean = (layer_means * layer_proportions).sum()\n",
    "\n",
    "print(f\"推定される母平均: {estimated_population_mean}\")\n"
   ]
  }
 ],
 "metadata": {
  "kernelspec": {
   "display_name": ".venv",
   "language": "python",
   "name": "python3"
  },
  "language_info": {
   "codemirror_mode": {
    "name": "ipython",
    "version": 3
   },
   "file_extension": ".py",
   "mimetype": "text/x-python",
   "name": "python",
   "nbconvert_exporter": "python",
   "pygments_lexer": "ipython3",
   "version": "3.10.13"
  }
 },
 "nbformat": 4,
 "nbformat_minor": 2
}
