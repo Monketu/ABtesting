{
 "cells": [
  {
   "cell_type": "code",
   "execution_count": 1,
   "metadata": {},
   "outputs": [
    {
     "name": "stderr",
     "output_type": "stream",
     "text": [
      "Seed set to 8\n"
     ]
    },
    {
     "data": {
      "text/plain": [
       "8"
      ]
     },
     "execution_count": 1,
     "metadata": {},
     "output_type": "execute_result"
    }
   ],
   "source": [
    "import numpy as np\n",
    "from sklearn.base import BaseEstimator, TransformerMixin\n",
    "from sklearn.mixture import GaussianMixture\n",
    "from sklearn.preprocessing import StandardScaler\n",
    "from sklearn.utils.validation import check_array, check_X_y\n",
    "\n",
    "import japanize_matplotlib  # noqa\n",
    "import matplotlib.pyplot as plt\n",
    "\n",
    "import seaborn as sns  # データ可視化ライブラリ\n",
    "from lightning.pytorch import seed_everything\n",
    "\n",
    "from sklearn.decomposition import PCA\n",
    "from scipy import stats\n",
    "import pandas as pd\n",
    "from sklearn.cluster import KMeans\n",
    "from abc import ABCMeta, abstractmethod\n",
    "\n",
    "from numpy.typing import NDArray\n",
    "\n",
    "from typing import Optional\n",
    "\n",
    "from kmodes.kprototypes import KPrototypes\n",
    "import gower\n",
    "\n",
    "plt.style.use(\"ggplot\")\n",
    "seed_everything(8)"
   ]
  },
  {
   "cell_type": "code",
   "execution_count": 5,
   "metadata": {},
   "outputs": [
    {
     "name": "stdout",
     "output_type": "stream",
     "text": [
      "ワンホットエンコーディング後のデータ:\n",
      "   Value1  Value2  Category_A  Category_B  Category_C\n",
      "0      10     1.5         1.0         0.0         0.0\n",
      "1      20     2.3         0.0         1.0         0.0\n",
      "2      15     1.8         1.0         0.0         0.0\n",
      "3      30     3.6         0.0         0.0         1.0\n",
      "4      25     2.8         0.0         1.0         0.0\n",
      "5      35     3.9         0.0         0.0         1.0\n",
      "\n",
      "クラスタリング結果:\n",
      "  Category  Value1  Value2  Cluster\n",
      "0        A      10     1.5        0\n",
      "1        B      20     2.3        0\n",
      "2        A      15     1.8        0\n",
      "3        C      30     3.6        1\n",
      "4        B      25     2.8        0\n",
      "5        C      35     3.9        1\n",
      "\n",
      "シルエットスコア: 0.45\n"
     ]
    },
    {
     "name": "stderr",
     "output_type": "stream",
     "text": [
      "c:\\Users\\tsuki\\Desktop\\ABtesting\\.venv\\Lib\\site-packages\\threadpoolctl.py:1214: RuntimeWarning: \n",
      "Found Intel OpenMP ('libiomp') and LLVM OpenMP ('libomp') loaded at\n",
      "the same time. Both libraries are known to be incompatible and this\n",
      "can cause random crashes or deadlocks on Linux when loaded in the\n",
      "same Python program.\n",
      "Using threadpoolctl may cause crashes or deadlocks. For more\n",
      "information and possible workarounds, please see\n",
      "    https://github.com/joblib/threadpoolctl/blob/master/multiple_openmp.md\n",
      "\n",
      "  warnings.warn(msg, RuntimeWarning)\n"
     ]
    }
   ],
   "source": [
    "import pandas as pd\n",
    "from sklearn.cluster import KMeans\n",
    "from sklearn.preprocessing import OneHotEncoder\n",
    "from sklearn.metrics import silhouette_score\n",
    "\n",
    "# 例のデータセット\n",
    "data = pd.DataFrame(\n",
    "    {\n",
    "        \"Category\": [\"A\", \"B\", \"A\", \"C\", \"B\", \"C\"],\n",
    "        \"Value1\": [10, 20, 15, 30, 25, 35],\n",
    "        \"Value2\": [1.5, 2.3, 1.8, 3.6, 2.8, 3.9],\n",
    "    }\n",
    ")\n",
    "\n",
    "# 1. カテゴリ変数をワンホットエンコーディング\n",
    "encoder = OneHotEncoder(sparse_output=False)\n",
    "encoded_features = encoder.fit_transform(data[[\"Category\"]])\n",
    "\n",
    "# ワンホットエンコーディングの結果をDataFrameに変換\n",
    "encoded_df = pd.DataFrame(\n",
    "    encoded_features, columns=encoder.get_feature_names_out([\"Category\"])\n",
    ")\n",
    "\n",
    "# オリジナルの数値データと結合\n",
    "processed_data = pd.concat([data.drop(columns=[\"Category\"]), encoded_df], axis=1)\n",
    "\n",
    "print(\"ワンホットエンコーディング後のデータ:\")\n",
    "print(processed_data)\n",
    "\n",
    "# 2. KMeansクラスタリング\n",
    "kmeans = KMeans(n_clusters=2, random_state=42)\n",
    "clusters = kmeans.fit_predict(processed_data)\n",
    "\n",
    "# 結果をデータフレームに追加\n",
    "data[\"Cluster\"] = clusters\n",
    "\n",
    "# クラスタリング結果を表示\n",
    "print(\"\\nクラスタリング結果:\")\n",
    "print(data)\n",
    "\n",
    "# 3. シルエットスコアの計算（クラスタリングの評価）\n",
    "score = silhouette_score(processed_data, clusters)\n",
    "print(f\"\\nシルエットスコア: {score:.2f}\")\n"
   ]
  },
  {
   "cell_type": "markdown",
   "metadata": {},
   "source": [
    "<!-- # データの前処理 -->"
   ]
  },
  {
   "cell_type": "code",
   "execution_count": 22,
   "metadata": {},
   "outputs": [],
   "source": [
    "# 外れ値の除去\n",
    "def remove_outliers_zscore(data, metric, threshold=2):\n",
    "    z_scores = np.abs(stats.zscore(data[metric]))\n",
    "    data = data[(z_scores < threshold)]\n",
    "    return data"
   ]
  },
  {
   "cell_type": "code",
   "execution_count": 29,
   "metadata": {},
   "outputs": [
    {
     "name": "stdout",
     "output_type": "stream",
     "text": [
      "外れ値除外前 (2278, 8)\n",
      "外れ値除外後 (2170, 8)\n",
      "量的データ標準化後 (2170, 8)\n"
     ]
    }
   ],
   "source": [
    "df1 = pd.read_csv(\n",
    "    R\"C:\\Users\\HaruMomozu\\Documents\\オンラインデータ\\NHANES_age_prediction.csv\"\n",
    ")\n",
    "df1 = df1.drop(columns=[\"SEQN\", \"age_group\"])\n",
    "print(\"外れ値除外前\", df1.shape)\n",
    "\n",
    "obj1 = \"BMXBMI\"\n",
    "df1 = remove_outliers_zscore(df1, obj1)\n",
    "df1 = df1.reset_index(drop=True)\n",
    "print(\"外れ値除外後\", df1.shape)\n",
    "\n",
    "features_list1 = [\n",
    "    \"RIDAGEYR\",  # 年齢（連続変数）\n",
    "    \"RIAGENDR\",  # 性別（1:Male, 2:Female)\n",
    "    \"PAQ605\",  # 運動有無(1:日常的に運動する, 2:運動しない)\n",
    "    \"LBXGLU\",  # 断食後の血糖値（連続変数）\n",
    "    \"DIQ010\",  # 糖尿病の有無(0:なし、1:あり)\n",
    "    \"LBXGLT\",  # 口内の健康状態（連続変数）\n",
    "    \"LBXIN\",  # 血中インスリン濃度（連続変数）\n",
    "]\n",
    "\n",
    "numerical_features = [\"RIDAGEYR\", \"LBXGLU\", \"LBXGLT\", \"LBXIN\"]\n",
    "catagorical_features = [\"RIAGENDR\", \"PAQ605\", \"DIQ010\"]\n",
    "X_numerical = df1[numerical_features]\n",
    "X_catagorical = df1[catagorical_features]\n",
    "\n",
    "scaler = StandardScaler()\n",
    "features_scaled = scaler.fit_transform(X_numerical)\n",
    "X_numerical_scaled = pd.DataFrame(features_scaled, columns=numerical_features)\n",
    "\n",
    "X = pd.concat([X_numerical_scaled, X_catagorical], axis=1)\n",
    "y = df1[obj1]\n",
    "\n",
    "df1 = pd.concat([X, y], axis=1)\n",
    "print(\"量的データ標準化後\", df1.shape)\n",
    "\n",
    "X_scaled = df1[features_list1]\n",
    "y = df1[obj1]"
   ]
  },
  {
   "cell_type": "code",
   "execution_count": 5,
   "metadata": {},
   "outputs": [
    {
     "name": "stdout",
     "output_type": "stream",
     "text": [
      "[1, 2, 4]\n"
     ]
    }
   ],
   "source": [
    "catColumnsPos = [X_scaled.columns.get_loc(col) for col in catagorical_features]\n",
    "print(catColumnsPos)"
   ]
  },
  {
   "cell_type": "markdown",
   "metadata": {},
   "source": [
    "KPrototypes実装"
   ]
  },
  {
   "cell_type": "code",
   "execution_count": 6,
   "metadata": {},
   "outputs": [],
   "source": [
    "clusters = 2  # クラスタ数\n",
    "cluster_labels = [a for a in range(clusters)]"
   ]
  },
  {
   "cell_type": "code",
   "execution_count": 7,
   "metadata": {},
   "outputs": [
    {
     "name": "stderr",
     "output_type": "stream",
     "text": [
      "c:\\Users\\HaruMomozu\\Desktop\\momozu\\ABtesting\\.venv\\Lib\\site-packages\\threadpoolctl.py:1214: RuntimeWarning: \n",
      "Found Intel OpenMP ('libiomp') and LLVM OpenMP ('libomp') loaded at\n",
      "the same time. Both libraries are known to be incompatible and this\n",
      "can cause random crashes or deadlocks on Linux when loaded in the\n",
      "same Python program.\n",
      "Using threadpoolctl may cause crashes or deadlocks. For more\n",
      "information and possible workarounds, please see\n",
      "    https://github.com/joblib/threadpoolctl/blob/master/multiple_openmp.md\n",
      "\n",
      "  warnings.warn(msg, RuntimeWarning)\n"
     ]
    }
   ],
   "source": [
    "# k-meansクラスタリングの適用\n",
    "kmeans = KMeans(n_clusters=clusters, random_state=0)\n",
    "kmeans_cluster = kmeans.fit_predict(X_scaled)\n",
    "\n",
    "em = GaussianMixture(n_components=clusters, random_state=0)\n",
    "em_cluster = em.fit_predict(X_scaled)\n",
    "\n",
    "kprototype = KPrototypes(n_jobs=-1, n_clusters=clusters, init=\"Huang\", random_state=0)\n",
    "kprototype_cluster = kprototype.fit_predict(X_scaled, categorical=catColumnsPos)\n",
    "\n",
    "# 結果を元のデータフレームに追加\n",
    "X_with_clusterlabelrow = X_scaled.copy()\n",
    "X_with_clusterlabelrow[\"kmeans_cluster\"] = kmeans_cluster\n",
    "X_with_clusterlabelrow[\"em_cluster\"] = em_cluster\n",
    "X_with_clusterlabelrow[\"kprototype_cluster\"] = kprototype_cluster\n",
    "\n",
    "kmeans_size = []\n",
    "em_size = []\n",
    "kprototype_size = []\n",
    "for a in range(clusters):\n",
    "    n = 0\n",
    "    m = 0\n",
    "    l = 0\n",
    "    for i in kmeans_cluster:\n",
    "        if i == a:\n",
    "            n += 1\n",
    "    for j in em_cluster:\n",
    "        if j == a:\n",
    "            m += 1\n",
    "    for l in kprototype_cluster:\n",
    "        if l == a:\n",
    "            l += 1\n",
    "    kmeans_size.append(n)\n",
    "    em_size.append(m)\n",
    "    kprototype_size.append(l)"
   ]
  },
  {
   "cell_type": "code",
   "execution_count": 9,
   "metadata": {},
   "outputs": [
    {
     "name": "stdout",
     "output_type": "stream",
     "text": [
      "{'kmeans': array([1, 0, 0, ..., 0, 0, 0], dtype=int32), 'em': array([0, 0, 0, ..., 0, 0, 0]), 'kprototype': array([0, 1, 1, ..., 1, 1, 1], dtype=uint16)}\n",
      "{'kmeans': array([1851,  426]), 'em': array([2152,  125]), 'kprototype': array([ 706, 1571])}\n"
     ]
    }
   ],
   "source": [
    "cluster_label_dict = {\n",
    "    \"kmeans\": np.array(kmeans_cluster),\n",
    "    \"em\": np.array(em_cluster),\n",
    "    \"kprototype\": np.array(kprototype_cluster),\n",
    "}\n",
    "cluster_size_dict = {\n",
    "    \"kmeans\": np.array(kmeans_size),\n",
    "    \"em\": np.array(em_size),\n",
    "    \"kprototype\": np.array(kprototype_size),\n",
    "}\n",
    "\n",
    "print(cluster_label_dict)\n",
    "print(cluster_size_dict)\n"
   ]
  },
  {
   "cell_type": "markdown",
   "metadata": {},
   "source": [
    "層化抽出"
   ]
  },
  {
   "cell_type": "code",
   "execution_count": 10,
   "metadata": {},
   "outputs": [],
   "source": [
    "class BaseAllocation(metaclass=ABCMeta):  # 抽象基底クラス（ABC）\n",
    "    # 初期化クラス（n_samples(標本サイズ), H(クラスタ数)）\n",
    "    def __init__(\n",
    "        self, n_samples: int, H: int, random_state: int, clustering_method: str\n",
    "    ):\n",
    "        self.n_samples = n_samples\n",
    "        self.H = H\n",
    "        self.random_state = random_state\n",
    "        self.clustering_method = clustering_method\n",
    "\n",
    "    @abstractmethod\n",
    "    def solve(self, X: NDArray, y: NDArray) -> NDArray:\n",
    "        \"\"\"標本配分を解く\n",
    "\n",
    "        Args:\n",
    "            X (NDArray): データ (N x M)\n",
    "            y (NDArray): 目的変数 (N)\n",
    "\n",
    "        Raises:\n",
    "            NotImplementedError: _description_\n",
    "\n",
    "        Returns:\n",
    "            NDArray: 各クラスタの標本数 (H, )\n",
    "\n",
    "        Note:\n",
    "            M: 特徴量数\n",
    "            H: クラスタ数\n",
    "        \"\"\"\n",
    "        # 具象クラスがsolveメゾッドを実装しない場合はNotImpleamentedErrorが発生\n",
    "        raise NotImplementedError\n",
    "\n",
    "    def clustering(self, X: NDArray) -> tuple[NDArray, NDArray]:\n",
    "        if self.clustering_method == \"kmeans\":\n",
    "            cluster_label = cluster_label_dict[\"kmeans\"]\n",
    "            cluster_size = cluster_size_dict[\"kmeans\"]\n",
    "        if self.clustering_method == \"em\":\n",
    "            cluster_label = cluster_label_dict[\"em\"]\n",
    "            cluster_size = cluster_size_dict[\"em\"]\n",
    "        if self.clustering_method == \"kprototype\":\n",
    "            cluster_label = cluster_label_dict[\"kprototype\"]\n",
    "            cluster_size = cluster_size_dict[\"kprototype\"]\n",
    "        self.cluster_label = cluster_label\n",
    "        self.N = cluster_size\n",
    "        return cluster_label, cluster_size"
   ]
  },
  {
   "cell_type": "code",
   "execution_count": 11,
   "metadata": {},
   "outputs": [],
   "source": [
    "class RandomAllocation(BaseAllocation):\n",
    "    # 抽象メゾッドを具象化\n",
    "    def solve(self, X: NDArray, y: NDArray) -> NDArray:\n",
    "        \"\"\"ランダムにn_samplesの標本を選択する\"\"\"\n",
    "        n = np.array([self.n_samples])\n",
    "\n",
    "        return n  # （例）n=[標本サイズ]\n",
    "\n",
    "    def clustering(self, X: NDArray) -> tuple[NDArray, NDArray]:\n",
    "        # cluster_labelのすべての要素は0（すべてのデータを同じクラスタに属させている）\n",
    "        cluster_label = np.zeros(\n",
    "            X.shape[0]\n",
    "        )  # cluster_label = [0,0,0,,...(要素数：データ数）]\n",
    "        # クラスタサイズ＝データ数\n",
    "        cluster_size = np.array([len(cluster_label)])  # cluster_size=[データ数]\n",
    "        return cluster_label, cluster_size"
   ]
  },
  {
   "cell_type": "code",
   "execution_count": 12,
   "metadata": {},
   "outputs": [],
   "source": [
    "class ProportionalAllocation(BaseAllocation):\n",
    "    def solve(self, X: NDArray, y: NDArray) -> NDArray:\n",
    "        \"\"\"各クラスタ数に比例した標本数で分割する\"\"\"\n",
    "        n: NDArray = np.round(self.N / self.N.sum() * self.n_samples).astype(int)\n",
    "\n",
    "        if n.sum() > self.n_samples:\n",
    "            # nの合計がn_samplesより大きい場合は一番標本数が多いクラスタから削る\n",
    "            n[np.argmax(n)] -= n.sum() - self.n_samples\n",
    "\n",
    "        for i in range(len(n)):  # nの要素で2より小さいものがあれば2にする\n",
    "            print(i)\n",
    "            if n[i] == 0:\n",
    "                n[i] = 2\n",
    "                n[np.argmax(n)] -= 2\n",
    "            if n[i] == 1:\n",
    "                n[i] = 2\n",
    "                n[np.argmax(n)] -= 1\n",
    "\n",
    "        return n"
   ]
  },
  {
   "cell_type": "code",
   "execution_count": 13,
   "metadata": {},
   "outputs": [],
   "source": [
    "class PostStratification(BaseAllocation):\n",
    "    def solve(self, X: NDArray, y: NDArray) -> NDArray:\n",
    "        \"\"\"ランダムにn_samplesの標本を選択する\"\"\"\n",
    "        n = np.array([self.n_samples])\n",
    "\n",
    "        return n  # （例）n=[標本サイズ]"
   ]
  },
  {
   "cell_type": "code",
   "execution_count": 14,
   "metadata": {},
   "outputs": [],
   "source": [
    "class OptimalAllocation(BaseAllocation):\n",
    "    def __init__(\n",
    "        self,\n",
    "        n_samples: int,\n",
    "        H: int,\n",
    "        m: NDArray,  # 標本サイズ下限\n",
    "        M: Optional[NDArray] = None,  # 標本サイズ上限 #Optional(Noneである可能性がある)\n",
    "        random_state: int = 0,\n",
    "        clustering_method: str = \"kmeans\",\n",
    "    ):\n",
    "        super().__init__(\n",
    "            n_samples, H, random_state, clustering_method\n",
    "        )  # 基底クラスBaseAllocation（スーパークラス）の初期化メゾッドを呼び出す\n",
    "        self.m = m  # 各クラスタの最小標本サイズ (H, )\n",
    "        self.M = M  # 各クラスタの最大標本サイズ (H, ), (指定しない場合はクラスタサイズ)\n",
    "\n",
    "    def solve(self, X: NDArray, y: NDArray) -> NDArray:\n",
    "        # S:クラスタ毎の目的変数のvarianceを要素とする配列 (H, )\n",
    "        S = np.array([np.var(y[self.cluster_label == h]) for h in range(self.H)])\n",
    "        print(\"self.N\", self.N)\n",
    "        print(\"S\", S)\n",
    "        d = (self.N**2) * S  # (H, )\n",
    "        print(\"d\", d)\n",
    "        n = self._simple_greedy(n=self.m.copy(), d=d)\n",
    "\n",
    "        # 制約チェック\n",
    "        self._check_constraints(n)\n",
    "\n",
    "        return n\n",
    "\n",
    "    def _simple_greedy(self, n: NDArray, d: NDArray) -> NDArray:\n",
    "        M = self.M.copy() if self.M is not None else self.N.copy()\n",
    "        I = np.arange(self.H)  # noqa #クラスタのインデックス\n",
    "        while (n.sum() != self.n_samples) and len(I) != 0:\n",
    "            delta = np.zeros(self.H)\n",
    "            delta[I] = (d / (n + 1) - d / n)[I]\n",
    "            h_star = np.argmin(delta[I])\n",
    "            h_star = I[h_star]\n",
    "\n",
    "            if n[h_star] + 1 <= M[h_star]:\n",
    "                n[h_star] = n[h_star] + 1\n",
    "            else:\n",
    "                # Iの要素h_starを削除\n",
    "                I_ = I.tolist()\n",
    "                I_ = [i for i in I_ if i != h_star]\n",
    "                I = np.array(I_)  # noqa\n",
    "\n",
    "        return n\n",
    "\n",
    "    def _check_constraints(self, n: NDArray):\n",
    "        assert (\n",
    "            n.sum() <= self.n_samples\n",
    "        ), f\"Total sample size is over than {self.n_samples}\"\n",
    "        assert np.all(n >= self.m), \"Minimum sample size constraint is not satisfied\"\n",
    "        if self.M is not None:\n",
    "            assert np.all(\n",
    "                n <= self.M\n",
    "            ), \"Maximum sample size constraint is not satisfied\""
   ]
  },
  {
   "cell_type": "code",
   "execution_count": 15,
   "metadata": {},
   "outputs": [],
   "source": [
    "def estimate_y_mean(n: NDArray, cluster_label: NDArray, y: NDArray) -> NDArray:\n",
    "    \"\"\"実際にサンプリングを行って目的変数の平均を推定\n",
    "\n",
    "    Args:\n",
    "        n (NDArray): 各クラスタの標本数 (H, )\n",
    "        cluster_label (NDArray): クラスタラベル (N, )\n",
    "        y (NDArray): 目的変数 (N, )\n",
    "\n",
    "    Returns:\n",
    "        NDArray: 推定された目的変数の平均\n",
    "\n",
    "    Note:\n",
    "        N: データ数\n",
    "        H: クラスタ数\n",
    "    \"\"\"\n",
    "    # cluster_labelからユニークなクラスタラベルを取得し、母集団の各クラスタのサイズNを取得\n",
    "    N = np.unique(cluster_label, return_counts=True)[1]  # クラスタサイズ (H, )\n",
    "    weights = N / N.sum()\n",
    "    y_hat = 0\n",
    "    for h in range(n.shape[0]):  # n.shape[0]:層の数\n",
    "        y_cluster = y[cluster_label == h]\n",
    "        # クラスタ内でランダム n_h サンプリング\n",
    "        sample: NDArray = np.random.choice(y_cluster, n[h], replace=False)\n",
    "        y_sample_mean = sample.mean()  # サンプリングした標本の平均\n",
    "        y_hat += y_sample_mean * weights[h]\n",
    "\n",
    "    return y_hat\n",
    "\n",
    "\n",
    "def estimate_y_mean_post(n: NDArray, cluster_label: NDArray, y: NDArray) -> NDArray:\n",
    "    N = np.unique(cluster_label, return_counts=True)[1]\n",
    "    weights = N / N.sum()\n",
    "    y_hat = 0\n",
    "    indices = np.arange(N.sum())\n",
    "    y_array = np.array(y.tolist())\n",
    "    n_indices = np.random.choice(indices, n[0], replace=False)\n",
    "    n_label = np.array([cluster_label[i] for i in n_indices])\n",
    "    n_new = np.unique(n_label)\n",
    "    # n_new = np.unique(n_label, return_counts=True)[1]\n",
    "    # for h in range(n_new.shape[0]):\n",
    "    for h in n_new:\n",
    "        index = np.where(n_label == h)[0]\n",
    "        sample = y_array[n_indices[index]]\n",
    "        y_sample_mean = sample.mean()  # サンプリングした標本の平均\n",
    "        y_hat += y_sample_mean * weights[h]\n",
    "    return y_hat"
   ]
  },
  {
   "cell_type": "code",
   "execution_count": 19,
   "metadata": {},
   "outputs": [
    {
     "name": "stdout",
     "output_type": "stream",
     "text": [
      "<__main__.RandomAllocation object at 0x000001F0372DF890>\n",
      "<__main__.ProportionalAllocation object at 0x000001F042C6BDA0>\n",
      "0\n",
      "1\n",
      "<__main__.PostStratification object at 0x000001F042CE56D0>\n",
      "<__main__.OptimalAllocation object at 0x000001F042CE6930>\n",
      "self.N [ 706 1571]\n",
      "S [55.54074385 46.48498825]\n",
      "d [2.76835062e+07 1.14726857e+08]\n"
     ]
    }
   ],
   "source": [
    "N_SAMPLES = 100  # 標本サイズ\n",
    "H = clusters  # クラスタ数が多すぎるとpropotionalがうまくいかない\n",
    "N_TRIALS = 1000  # 試行回数\n",
    "m_VALUE = 2  # 各クラスタの最小標本数\n",
    "RANDOM_STATE = 0  # 乱数シード\n",
    "CLUSTERING_METHOD = \"kprototype\"\n",
    "\n",
    "# 戦略を定義\n",
    "policies: list[BaseAllocation] = [\n",
    "    RandomAllocation(\n",
    "        n_samples=N_SAMPLES,\n",
    "        H=H,\n",
    "        random_state=RANDOM_STATE,\n",
    "        clustering_method=CLUSTERING_METHOD,\n",
    "    ),\n",
    "    ProportionalAllocation(\n",
    "        n_samples=N_SAMPLES,\n",
    "        H=H,\n",
    "        random_state=RANDOM_STATE,\n",
    "        clustering_method=CLUSTERING_METHOD,\n",
    "    ),\n",
    "    PostStratification(\n",
    "        n_samples=N_SAMPLES,\n",
    "        H=H,\n",
    "        random_state=RANDOM_STATE,\n",
    "        clustering_method=CLUSTERING_METHOD,\n",
    "    ),\n",
    "    OptimalAllocation(\n",
    "        n_samples=N_SAMPLES,\n",
    "        H=H,\n",
    "        random_state=RANDOM_STATE,\n",
    "        m=np.full(H, m_VALUE),\n",
    "        M=None,\n",
    "        clustering_method=CLUSTERING_METHOD,\n",
    "    ),\n",
    "]\n",
    "\n",
    "# それぞれの戦略で各クラスタの標本数を求解\n",
    "allocations: list[dict] = []  # 各戦略の実行結果が辞書形式で追加される\n",
    "for policy in policies:\n",
    "    print(policy)\n",
    "    # policyを用いてXをクラスタリング(_は戻り値の２番目を無視)\n",
    "    cluster_label, _ = policy.clustering(X_scaled)\n",
    "    n = policy.solve(X_scaled, y)\n",
    "    allocations.append(\n",
    "        {\n",
    "            \"policy\": policy.__class__.__name__,\n",
    "            \"n\": n,\n",
    "            \"cluster_label\": cluster_label,\n",
    "        }\n",
    "    )\n",
    "\n",
    "# 各戦略の標本数に基づいて目的変数の平均を推定\n",
    "y_hats = []\n",
    "for random_state in range(N_TRIALS):\n",
    "    for allocation in allocations:\n",
    "        if allocation[\"policy\"] == \"PostStratification\":\n",
    "            y_hat = estimate_y_mean_post(\n",
    "                allocation[\"n\"], allocation[\"cluster_label\"], y\n",
    "            )\n",
    "        else:\n",
    "            y_hat = estimate_y_mean(allocation[\"n\"], allocation[\"cluster_label\"], y)\n",
    "        y_hats.append(\n",
    "            {\n",
    "                \"policy\": allocation[\"policy\"],\n",
    "                \"y_hat\": y_hat,\n",
    "                \"random_state\": random_state,\n",
    "            }\n",
    "        )"
   ]
  },
  {
   "cell_type": "code",
   "execution_count": 20,
   "metadata": {},
   "outputs": [
    {
     "data": {
      "text/plain": [
       "(0.0, 100.0)"
      ]
     },
     "execution_count": 20,
     "metadata": {},
     "output_type": "execute_result"
    },
    {
     "name": "stderr",
     "output_type": "stream",
     "text": [
      "posx and posy should be finite values\n",
      "posx and posy should be finite values\n",
      "posx and posy should be finite values\n"
     ]
    },
    {
     "data": {
      "image/png": "[encoded data removed]",
      "text/plain": [
       "<Figure size 1200x1200 with 2 Axes>"
      ]
     },
     "metadata": {},
     "output_type": "display_data"
    }
   ],
   "source": [
    "axes: list[plt.Axes]\n",
    "fig, axes = plt.subplots(2, 1, figsize=(12, 6 * 2))\n",
    "\n",
    "# 箱ひげ図で誤差の分布を比較\n",
    "y_hat_df = pd.DataFrame(y_hats)\n",
    "y_hat_df[\"error\"] = (\n",
    "    y_hat_df[\"y_hat\"] - y.mean()\n",
    ")  # 真の平均からの誤差をerrorカラムに追加\n",
    "sns.boxplot(\n",
    "    data=y_hat_df,\n",
    "    y=\"error\",\n",
    "    x=\"policy\",\n",
    "    hue=\"policy\",\n",
    "    ax=axes[0],\n",
    "    linewidth=1,\n",
    "    width=0.5,\n",
    ")\n",
    "axes[0].set_title(\"各標本抽出方法における真の平均との誤差 (Kmeansでクラスタリング)\")\n",
    "axes[0].set_ylabel(\"真の平均との誤差\")\n",
    "axes[0].set_xlabel(\"標本抽出方法\")\n",
    "\n",
    "# 棒グラフでRandomAllocationに対する誤差分散削減率を比較\n",
    "# random_allocationの誤差分散\n",
    "random_allocation_std = y_hat_df[y_hat_df[\"policy\"] == \"RandomAllocation\"][\n",
    "    \"error\"\n",
    "].var()\n",
    "# random_allocation以外の誤差分散\n",
    "non_random_allocation_std = (\n",
    "    y_hat_df[y_hat_df[\"policy\"] != \"RandomAllocation\"].groupby(\"policy\")[\"error\"].var()\n",
    ")\n",
    "reduction_rate = (\n",
    "    1 - non_random_allocation_std / random_allocation_std\n",
    ") * 100  # 削減率 (%)\n",
    "## policyの順番をpoliciesの順番に調整\n",
    "reduction_rate = reduction_rate.reindex(\n",
    "    [policy.__class__.__name__ for policy in policies]\n",
    ")\n",
    "sns.barplot(\n",
    "    x=reduction_rate.index,\n",
    "    y=reduction_rate.values,\n",
    "    ax=axes[1],\n",
    "    hue=reduction_rate.index,\n",
    ")\n",
    "# 棒グラフの上に値を表示\n",
    "for i, v in enumerate(reduction_rate.values):\n",
    "    axes[1].text(i, v, f\"{v:.2f}\", ha=\"center\", va=\"bottom\")\n",
    "axes[1].set_title(\"各標本抽出方法における誤分散削減率（Kmeansでクラスタリング）\")\n",
    "axes[1].set_ylabel(\"誤分散削減率\")\n",
    "axes[1].set_xlabel(\"標本抽出方法\")\n",
    "axes[1].set_ylim(0, 100)"
   ]
  },
  {
   "cell_type": "code",
   "execution_count": 24,
   "metadata": {},
   "outputs": [
    {
     "name": "stdout",
     "output_type": "stream",
     "text": [
      "Var\n",
      "Random Allocation: 0.3079395468978979\n",
      "PropotionalAllocation: 0.3096677528165539\n",
      "PostStratification: 0.3247388924456399\n",
      "OptimalAllocation: 0.3018623439425935\n"
     ]
    }
   ],
   "source": [
    "RandomAllocation_df = y_hat_df[y_hat_df[\"policy\"] == \"RandomAllocation\"]\n",
    "var_for_RandomAllocation = RandomAllocation_df[\"error\"].var()\n",
    "ProportionalAllocation_df = y_hat_df[y_hat_df[\"policy\"] == \"ProportionalAllocation\"]\n",
    "var_for_ProportionalAllocation = ProportionalAllocation_df[\"error\"].var()\n",
    "PostStratification_df = y_hat_df[y_hat_df[\"policy\"] == \"PostStratification\"]\n",
    "var_for_PostStratification = PostStratification_df[\"error\"].var()\n",
    "OptimalAllocation_df = y_hat_df[y_hat_df[\"policy\"] == \"OptimalAllocation\"]\n",
    "var_for_OptimalAllocation = OptimalAllocation_df[\"error\"].var()\n",
    "\n",
    "print(\"Var\")\n",
    "print(\"Random Allocation:\", var_for_RandomAllocation)\n",
    "print(\"PropotionalAllocation:\", var_for_ProportionalAllocation)\n",
    "print(\"PostStratification:\", var_for_PostStratification)\n",
    "print(\"OptimalAllocation:\", var_for_OptimalAllocation)"
   ]
  },
  {
   "cell_type": "code",
   "execution_count": null,
   "metadata": {},
   "outputs": [],
   "source": []
  }
 ],
 "metadata": {
  "kernelspec": {
   "display_name": ".venv",
   "language": "python",
   "name": "python3"
  },
  "language_info": {
   "codemirror_mode": {
    "name": "ipython",
    "version": 3
   },
   "file_extension": ".py",
   "mimetype": "text/x-python",
   "name": "python",
   "nbconvert_exporter": "python",
   "pygments_lexer": "ipython3",
   "version": "3.11.4"
  }
 },
 "nbformat": 4,
 "nbformat_minor": 2
}
