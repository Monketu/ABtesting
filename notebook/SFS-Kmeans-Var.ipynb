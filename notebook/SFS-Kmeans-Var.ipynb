{
 "cells": [
  {
   "cell_type": "markdown",
   "metadata": {},
   "source": [
    "----------------\n",
    "# １．ライブラリのインポート"
   ]
  },
  {
   "cell_type": "code",
   "execution_count": 1,
   "metadata": {},
   "outputs": [],
   "source": [
    "# 基本的なライブラリ\n",
    "import numpy as np\n",
    "import pandas as pd\n",
    "from numpy.typing import NDArray\n",
    "from scipy import stats\n",
    "\n",
    "# Scikit-learn関連\n",
    "from sklearn.base import BaseEstimator, TransformerMixin\n",
    "from sklearn.mixture import GaussianMixture\n",
    "from sklearn.preprocessing import StandardScaler\n",
    "from sklearn.cluster import KMeans\n",
    "from sklearn.utils.validation import check_X_y\n",
    "from sklearn.model_selection import train_test_split\n",
    "\n",
    "# 抽象基底クラス (ABC)\n",
    "from abc import ABCMeta, abstractmethod\n",
    "\n",
    "# タイピングのサポート\n",
    "from typing import Optional\n",
    "\n",
    "# 可視化の設定\n",
    "import matplotlib.pyplot as plt\n",
    "import japanize_matplotlib\n",
    "import itertools\n",
    "\n",
    "plt.style.use(\"ggplot\")\n",
    "\n",
    "# 計算時間\n",
    "import time"
   ]
  },
  {
   "cell_type": "markdown",
   "metadata": {},
   "source": [
    "--------\n",
    "# ２．実験設定"
   ]
  },
  {
   "cell_type": "markdown",
   "metadata": {},
   "source": [
    "## 2.1 実験設定"
   ]
  },
  {
   "cell_type": "code",
   "execution_count": 2,
   "metadata": {},
   "outputs": [],
   "source": [
    "### 実験データの設定 ###\n",
    "TARGET = \"GMV\"  # \"GMV\" or \"BCR\"（目的変数）\n",
    "DATA = \"part\"  # \"all\" or \"part\"（データすべてを使うか一部を使うか）\n",
    "DATA_SIZE = 200000  # 訓練データとテストデータあわせたデータサイズ（母集団サイズ）\n",
    "TEST_SIZE = 0.5  # テストデータの比率\n",
    "THRESHOLD = 2  # 外れ値除外の閾値\n",
    "\n",
    "### 実験設定 ###\n",
    "SAMPLE_SIZE = 100  # 標本サイズ\n",
    "N_TRIALS = 10000  # 試行回数（標本平均を求める回数）\n",
    "m_VALUE = 2  # 最適標本配分における各クラスタの最小標本数\n",
    "RANDOM_STATE = 0  # 乱数シード\n",
    "SEED = 0\n",
    "\n",
    "\n",
    "### 実験方法 ###\n",
    "# クラスタリング\n",
    "CLUSTERING_METHOD = \"kmeans\"  # \"gmm\" or \"kmeans\" or \"xmeans\"\n",
    "N_CLUSTERS = 5  # クラスタ数\n",
    "K_MIN = 2\n",
    "K_MAX = 10\n",
    "\n",
    "# 特徴量選択\n",
    "ALLOCATION_METHODS = [\n",
    "    \"Proportional\",\n",
    "    \"Post\",\n",
    "    \"Optimal\",\n",
    "]  # 各手法の時間をはかるときは１つにする\n",
    "SELECT_MAXIMUM_FEATURES = \"yes\"  # \"yes\" or \"no\"（特徴量数が MAXIMUM_FEATURES_TO_SELECT になるまで選ぶかいなか）\n",
    "MAXIMUM_FEATURES_TO_SELECT = 5  # 選択される最大の特徴量(特徴量選択ありの場合)\n",
    "\n",
    "\n",
    "### 可視化 ###\n",
    "TITLE_SIZE = 20\n",
    "LABEL_SIZE = 15\n",
    "TICK_SIZE = 12.5"
   ]
  },
  {
   "cell_type": "markdown",
   "metadata": {},
   "source": [
    "## 2.2 手法の名前"
   ]
  },
  {
   "cell_type": "code",
   "execution_count": 3,
   "metadata": {},
   "outputs": [],
   "source": [
    "if CLUSTERING_METHOD == \"kmeans\":\n",
    "    METHOD_NAME = \"SFS-Kmeans-Var\"\n",
    "if CLUSTERING_METHOD == \"xmeans\":\n",
    "    METHOD_NAME == \"SFS-Xmeans-Var\"\n",
    "if CLUSTERING_METHOD == \"gmm\":\n",
    "    METHOD_NAME == \"SFS-GMM-Var\""
   ]
  },
  {
   "cell_type": "markdown",
   "metadata": {},
   "source": [
    "-----------\n",
    "# ３．データの前処理"
   ]
  },
  {
   "cell_type": "markdown",
   "metadata": {},
   "source": [
    "## 3.1 データ読み込み"
   ]
  },
  {
   "cell_type": "code",
   "execution_count": 4,
   "metadata": {},
   "outputs": [
    {
     "name": "stdout",
     "output_type": "stream",
     "text": [
      "[0, 1, 2, 3, 4, 5, 6, 7, 8, 9, 10, 11, 12, 13, 14, 15, 16]\n"
     ]
    }
   ],
   "source": [
    "# df1(all the data)\n",
    "df1 = pd.read_csv(\n",
    "    R\"C:\\Users\\HaruMomozu\\Documents\\aug_first_cpn_data_for_ab_test_sensibility_tsukuba.csv\"\n",
    ")\n",
    "\n",
    "features_list = [\n",
    "    \"hist_4_day_buy_num\",\n",
    "    \"hist_4_day_gmv\",\n",
    "    \"his_4_day_is_buy\",\n",
    "    \"hist_30_day_buy_days\",\n",
    "    \"hist_30_day_buy_num\",\n",
    "    \"hist_30_day_gmv\",\n",
    "    \"hist_30_day_buy_recency\",\n",
    "    \"hist_30_day_pay_days\",\n",
    "    \"hist_30_day_atpu\",\n",
    "    \"hist_30_day_gpv\",\n",
    "    \"hist_30_day_pay_recency\",\n",
    "    \"hist_30_day_list_days\",\n",
    "    \"hist_30_day_list_num\",\n",
    "    \"hist_30_day_list_recency\",\n",
    "    \"hist_30_day_like_count\",\n",
    "    \"hist_30_day_like_count_not_deleted\",\n",
    "    \"hist_30_day_like_recency\",\n",
    "]\n",
    "\n",
    "# df2(subset of the data)\n",
    "df2 = df1.iloc[:DATA_SIZE]\n",
    "\n",
    "if DATA == \"all\":\n",
    "    df = df1\n",
    "if DATA == \"part\":\n",
    "    df = df2\n",
    "\n",
    "ALL_FEATURES_INDEX = [i for i in range(len(features_list))]\n",
    "print(ALL_FEATURES_INDEX)"
   ]
  },
  {
   "cell_type": "markdown",
   "metadata": {},
   "source": [
    "## 3.2 \"GMV\" から新しい変数 \"BCR\" 作成"
   ]
  },
  {
   "cell_type": "code",
   "execution_count": 5,
   "metadata": {},
   "outputs": [],
   "source": [
    "df = df.copy()\n",
    "df[\"BCR\"] = np.where(df[\"GMV\"] > 0, 1, 0)"
   ]
  },
  {
   "cell_type": "markdown",
   "metadata": {},
   "source": [
    "## 3.3 外れ値除去"
   ]
  },
  {
   "cell_type": "code",
   "execution_count": 6,
   "metadata": {},
   "outputs": [],
   "source": [
    "def remove_outliers_zscore(\n",
    "    data: pd.DataFrame, metric: str, threshold: float\n",
    ") -> pd.DataFrame:\n",
    "    z_scores = np.abs(stats.zscore(data[metric]))\n",
    "    data = data[(z_scores < threshold)]\n",
    "    return data"
   ]
  },
  {
   "cell_type": "code",
   "execution_count": 7,
   "metadata": {},
   "outputs": [
    {
     "name": "stdout",
     "output_type": "stream",
     "text": [
      "外れ値除外前のデータ数（訓練+テスト）: 200000\n",
      "外れ値除外後のデータ数（訓練+テスト）: 198151\n"
     ]
    }
   ],
   "source": [
    "df = remove_outliers_zscore(data=df, metric=TARGET, threshold=THRESHOLD)\n",
    "df = df.reset_index(drop=True)  # 行を詰める\n",
    "\n",
    "print(\"外れ値除外前のデータ数（訓練+テスト）:\", DATA_SIZE)\n",
    "print(\"外れ値除外後のデータ数（訓練+テスト）:\", len(df))"
   ]
  },
  {
   "cell_type": "markdown",
   "metadata": {},
   "source": [
    "## 3.4 訓練データとテストデータに分割"
   ]
  },
  {
   "cell_type": "code",
   "execution_count": 8,
   "metadata": {},
   "outputs": [
    {
     "name": "stdout",
     "output_type": "stream",
     "text": [
      "訓練データのデータ数: 99075\n",
      "テストデータのデータ数: 99076\n"
     ]
    }
   ],
   "source": [
    "X_all = df[features_list].to_numpy()\n",
    "y_all = df[TARGET].to_numpy()\n",
    "X_train, X_test, y_train, y_test = train_test_split(\n",
    "    X_all, y_all, test_size=TEST_SIZE, random_state=RANDOM_STATE\n",
    ")\n",
    "\n",
    "print(\"訓練データのデータ数:\", len(X_train))\n",
    "print(\"テストデータのデータ数:\", len(X_test))"
   ]
  },
  {
   "cell_type": "markdown",
   "metadata": {},
   "source": [
    "## 3.5 標準化"
   ]
  },
  {
   "cell_type": "code",
   "execution_count": 9,
   "metadata": {},
   "outputs": [],
   "source": [
    "sc = StandardScaler()\n",
    "# 訓練データに基づいてfit\n",
    "sc.fit(X_train)\n",
    "X_train_std = sc.transform(X_train)\n",
    "X_test_std = sc.transform(X_test)"
   ]
  },
  {
   "cell_type": "markdown",
   "metadata": {},
   "source": [
    "-------------\n",
    "# ４．特徴量選択"
   ]
  },
  {
   "cell_type": "code",
   "execution_count": 10,
   "metadata": {},
   "outputs": [],
   "source": [
    "TIME_DICT = {}\n",
    "SELECTED_FEATURES_DICT = {}"
   ]
  },
  {
   "cell_type": "markdown",
   "metadata": {},
   "source": [
    "### Allocation_in_Wrapper Class で特徴量選択"
   ]
  },
  {
   "cell_type": "code",
   "execution_count": 11,
   "metadata": {},
   "outputs": [],
   "source": [
    "class Allocation_in_Wrapper(BaseEstimator, TransformerMixin):\n",
    "    def __init__(\n",
    "        self,\n",
    "        maximum_features_to_select: int,\n",
    "        n_clusters: int,\n",
    "        clustering_method: str = \"kmeans\",\n",
    "        random_state: int = 0,\n",
    "        select_maximum_features: str = \"yes\",\n",
    "        k_min: int = 2,\n",
    "        k_max: int = 10,\n",
    "        allocation_method: str = \"Proportional\",\n",
    "        sample_size: int = 10,\n",
    "        n_trials: int = 100,\n",
    "        m_value=2,\n",
    "        M: Optional[NDArray] = None,\n",
    "    ):\n",
    "        self.maximum_features_to_select = maximum_features_to_select\n",
    "        self.n_clusters = n_clusters\n",
    "        self.clustering_method = clustering_method\n",
    "        self.random_state = random_state\n",
    "        self.select_maximum_features = select_maximum_features\n",
    "        self.k_min = k_min\n",
    "        self.k_max = k_max\n",
    "        self.allocation_method = allocation_method\n",
    "        self.sample_size = sample_size\n",
    "        self.n_trials = n_trials\n",
    "        self.m_value = m_value\n",
    "        self.M = M\n",
    "\n",
    "    def fss(self, X: pd.DataFrame, y: pd.DataFrame) -> \"Allocation_in_Wrapper\":\n",
    "        X, y = check_X_y(X, y)\n",
    "        n_all_features = X.shape[1]  # 総特徴量数\n",
    "\n",
    "        features_score_dict = {}\n",
    "\n",
    "        # 選ばれた特徴量と残っている特徴量の初期化\n",
    "        current_features = []\n",
    "        remaining_features = list(range(n_all_features))\n",
    "\n",
    "        if self.select_maximum_features == \"no\":\n",
    "            best_score = -np.inf\n",
    "\n",
    "        while len(current_features) < self.maximum_features_to_select:\n",
    "            best_feature = None  # 選ぶ特徴量の初期化\n",
    "\n",
    "            if self.select_maximum_features == \"yes\":\n",
    "                best_score = -np.inf\n",
    "\n",
    "            for feature in remaining_features:\n",
    "                temp_features = current_features + [\n",
    "                    feature\n",
    "                ]  # 特徴量をひとつ加え、score計算\n",
    "                score, n_clusters = self.crit(X[:, temp_features], y)\n",
    "\n",
    "                if score > best_score:\n",
    "                    best_score = score\n",
    "                    best_feature = feature\n",
    "                    best_N_cluster_size = self.N_cluster_size\n",
    "                    best_n_clusters = n_clusters\n",
    "                    best_n_cluster_size = self.n_cluster_size\n",
    "\n",
    "            if best_feature is not None:\n",
    "                current_features.append(best_feature)\n",
    "                remaining_features.remove(best_feature)\n",
    "                num_of_features = len(current_features)\n",
    "                print(\n",
    "                    \"num_of_features:\",\n",
    "                    num_of_features,\n",
    "                    \"current_features:\",\n",
    "                    current_features,\n",
    "                    \", score:\",\n",
    "                    best_score,\n",
    "                    \"best_n_clusters:\",\n",
    "                    best_n_clusters,\n",
    "                    \"best_N_cluster_size:\",\n",
    "                    best_N_cluster_size,\n",
    "                    \"best_n_cluster_size:\",\n",
    "                    best_n_cluster_size,\n",
    "                )\n",
    "\n",
    "                features_score_dict[str(num_of_features)] = best_score  # 確認用\n",
    "            else:\n",
    "                break\n",
    "\n",
    "        self.selected_features_index = current_features\n",
    "        self.features_score_dict = features_score_dict\n",
    "\n",
    "        return self\n",
    "\n",
    "    def crit(self, X: pd.DataFrame, y: pd.DataFrame) -> float:\n",
    "        # クラスタリング手法がGMMの場合\n",
    "        if self.clustering_method == \"gmm\":\n",
    "            model = GaussianMixture(\n",
    "                n_components=self.n_clusters,\n",
    "                random_state=self.random_state,\n",
    "                init_params=\"kmeans\",\n",
    "            )\n",
    "        # クラスタリング手法がKMEANSの場合\n",
    "        if self.clustering_method == \"kmeans\":\n",
    "            model = KMeans(\n",
    "                n_clusters=self.n_clusters,\n",
    "                random_state=self.random_state,\n",
    "            )\n",
    "        if self.clustering_method == \"xmeans\":\n",
    "            model = self.xmeans(X)\n",
    "\n",
    "        model.fit(X)\n",
    "        self.N_cluster_label = model.predict(X)\n",
    "        self.N_cluster_size = np.bincount(self.N_cluster_label)\n",
    "        n_clusters = len(np.unique(self.N_cluster_label))\n",
    "\n",
    "        if 0 in self.N_cluster_size:\n",
    "            raise RuntimeError(\"n_clusters too large\")\n",
    "        var = self.cauculate_var(X, y)\n",
    "        score = -var\n",
    "\n",
    "        return score, n_clusters\n",
    "\n",
    "    def compute_bic(self, X: pd.DataFrame, kmeans: KMeans) -> float:\n",
    "        # クラスタリング結果の取得\n",
    "        labels = kmeans.labels_\n",
    "        clusters = kmeans.cluster_centers_\n",
    "        n_clusters = len(clusters)\n",
    "        n = len(X)\n",
    "        m = X.shape[1]\n",
    "        # クラスター内の分散の合計\n",
    "        variance = np.sum(\n",
    "            [\n",
    "                np.linalg.norm(X[labels == i] - clusters[i], axis=1).sum()\n",
    "                for i in range(n_clusters)\n",
    "            ]\n",
    "        )\n",
    "        # BIC の計算\n",
    "        bic = np.log(n) * n_clusters * m + n * np.log(variance / n)\n",
    "        return bic\n",
    "\n",
    "    def xmeans(self, X: pd.DataFrame) -> KMeans:\n",
    "        kmeans = KMeans(\n",
    "            n_clusters=self.k_min, random_state=self.random_state\n",
    "        )  # 初期クラスター数で KMeans を実行\n",
    "        kmeans.fit(X)\n",
    "        best_bic = self.compute_bic(X, kmeans)\n",
    "        best_kmeans = kmeans\n",
    "        for k in range(self.k_min + 1, self.k_max + 1):\n",
    "            kmeans = KMeans(n_clusters=k, random_state=self.random_state)\n",
    "            kmeans.fit(X)\n",
    "            # BIC を計算\n",
    "            current_bic = self.compute_bic(X, kmeans)\n",
    "            # BIC が改善される場合、クラスタ数を更新\n",
    "            if current_bic < best_bic:\n",
    "                best_bic = current_bic\n",
    "                best_kmeans = kmeans\n",
    "        # 最適なクラスタリング結果を返す\n",
    "        return best_kmeans\n",
    "\n",
    "    def cauculate_var(self, X: pd.DataFrame, y: pd.DataFrame) -> float:\n",
    "        # 各戦略の標本数に基づいて目的変数の平均を推定\n",
    "        y_hats = []\n",
    "        for random_state in range(self.n_trials):\n",
    "            if self.allocation_method == \"Post\":\n",
    "                y_hat = self.estimate_y_mean_post(X, y)\n",
    "            elif self.allocation_method == \"Proportional\":\n",
    "                y_hat = self.estimate_y_mean_proportional(X, y)\n",
    "            elif self.allocation_method == \"Optimal\":\n",
    "                y_hat = self.estimate_y_mean_optimal(X, y)\n",
    "            y_hats.append(y_hat)\n",
    "\n",
    "        y_hats = np.array(y_hats)\n",
    "        var = y_hats.var()\n",
    "\n",
    "        return var\n",
    "\n",
    "    def estimate_y_mean_post(self, X: pd.DataFrame, y: pd.DataFrame) -> float:\n",
    "        n_cluster_size = np.array([self.sample_size])\n",
    "        weights = self.N_cluster_size / self.N_cluster_size.sum()\n",
    "        y_hat = 0\n",
    "\n",
    "        all_indices = np.arange(len(y))\n",
    "        sample_indices = np.random.choice(all_indices, n_cluster_size[0], replace=False)\n",
    "        sample_labels = np.array([self.N_cluster_label[i] for i in sample_indices])\n",
    "\n",
    "        self.n_cluster_size = np.bincount(sample_labels)\n",
    "\n",
    "        for h in np.unique(sample_labels):\n",
    "            index = np.where(sample_labels == h)[0]\n",
    "            sample = y[sample_indices[index]]\n",
    "            y_sample_mean = sample.mean()  # サンプリングした標本の平均\n",
    "            y_hat += y_sample_mean * weights[h]\n",
    "        return y_hat\n",
    "\n",
    "    def estimate_y_mean_proportional(self, X: pd.DataFrame, y: pd.DataFrame) -> float:\n",
    "        self.n_cluster_size = self.proportional(X, y)\n",
    "\n",
    "        weights = self.N_cluster_size / self.N_cluster_size.sum()\n",
    "        y_hat = 0\n",
    "        for h in range(self.n_cluster_size.shape[0]):\n",
    "            if 0 < self.n_cluster_size[h]:\n",
    "                sample: NDArray = np.random.choice(\n",
    "                    y[self.N_cluster_label == h], self.n_cluster_size[h], replace=False\n",
    "                )\n",
    "                y_sample_mean = sample.mean()  # サンプリングした標本の平均\n",
    "                y_hat += y_sample_mean * weights[h]\n",
    "        return y_hat\n",
    "\n",
    "    def estimate_y_mean_optimal(self, X: pd.DataFrame, y: pd.DataFrame) -> float:\n",
    "        self.n_cluster_size, labels_for_optimal = self.optimal(X, y)\n",
    "\n",
    "        weights = self.N_cluster_size / self.N_cluster_size.sum()\n",
    "        y_hat = 0\n",
    "        i = -1\n",
    "        for h in labels_for_optimal:\n",
    "            i += 1\n",
    "            sample: NDArray = np.random.choice(\n",
    "                y[self.N_cluster_label == h], self.n_cluster_size[i], replace=False\n",
    "            )\n",
    "            y_sample_mean = sample.mean()  # サンプリングした標本の平均\n",
    "            y_hat += y_sample_mean * weights[h]\n",
    "        return y_hat\n",
    "\n",
    "    def proportional(self, X: pd.DataFrame, y: pd.DataFrame) -> NDArray:\n",
    "        n_cluster_size: NDArray = np.round(\n",
    "            self.N_cluster_size / self.N_cluster_size.sum() * self.sample_size\n",
    "        ).astype(int)\n",
    "\n",
    "        if n_cluster_size.sum() > self.sample_size:\n",
    "            # nの合計がn_samplesより大きい場合は一番標本数が多いクラスタから削る\n",
    "            n_cluster_size[np.argmax(n_cluster_size)] -= (\n",
    "                n_cluster_size.sum() - self.sample_size\n",
    "            )\n",
    "        if n_cluster_size.sum() < self.sample_size:\n",
    "            # nの合計がn_samplesより小さい場合は一番標本数が多いクラスタにたす\n",
    "            n_cluster_size[np.argmax(n_cluster_size)] += (\n",
    "                -n_cluster_size.sum() + self.sample_size\n",
    "            )\n",
    "        return n_cluster_size\n",
    "\n",
    "    def optimal(self, X: pd.DataFrame, y: pd.DataFrame) -> NDArray:\n",
    "        cluster_size_all = np.bincount(self.N_cluster_label)\n",
    "        cluster_size_for_optimal = []\n",
    "        labels_for_optimal = []\n",
    "        for i in range(len(cluster_size_all)):\n",
    "            if cluster_size_all[i] >= 2:\n",
    "                cluster_size_for_optimal.append(cluster_size_all[i])\n",
    "                labels_for_optimal.append(i)\n",
    "        n_clusters_for_optimal = len(cluster_size_for_optimal)\n",
    "        cluster_size_for_optimal = np.array(cluster_size_for_optimal)\n",
    "\n",
    "        self.m = np.full(n_clusters_for_optimal, self.m_value)\n",
    "\n",
    "        S = np.array([np.var(y[self.N_cluster_label == h]) for h in labels_for_optimal])\n",
    "        d = (cluster_size_for_optimal**2) * S\n",
    "\n",
    "        n_cluster_size = self.m.copy()  # 初期値\n",
    "        M = self.M.copy() if self.M is not None else cluster_size_for_optimal.copy()\n",
    "        I = np.arange(n_clusters_for_optimal)  # noqa #クラスタのインデックス\n",
    "\n",
    "        while (n_cluster_size.sum() != self.sample_size) and len(I) != 0:\n",
    "            delta = np.zeros(n_clusters_for_optimal)\n",
    "            delta[I] = (d / (n_cluster_size + 1) - d / n_cluster_size)[I]\n",
    "            h_star = np.argmin(delta[I])\n",
    "            h_star = I[h_star]\n",
    "\n",
    "            if n_cluster_size[h_star] + 1 <= M[h_star]:\n",
    "                n_cluster_size[h_star] = n_cluster_size[h_star] + 1\n",
    "            else:\n",
    "                # Iの要素h_starを削除\n",
    "                I_ = I.tolist()\n",
    "                I_ = [i for i in I_ if i != h_star]\n",
    "                I = np.array(I_)  # noqa\n",
    "\n",
    "        # 制約チェック\n",
    "        assert (\n",
    "            n_cluster_size.sum() <= self.sample_size\n",
    "        ), f\"Total sample size is over than {self.sample_size}\"\n",
    "        assert np.all(\n",
    "            n_cluster_size >= self.m\n",
    "        ), \"Minimum sample size constraint is not satisfied\"\n",
    "        if self.M is not None:\n",
    "            assert np.all(\n",
    "                n_cluster_size <= self.M\n",
    "            ), \"Maximum sample size constraint is not satisfied\"\n",
    "\n",
    "        return n_cluster_size, labels_for_optimal\n",
    "\n",
    "    def get_selected_features_index(self):\n",
    "        return self.selected_features_index  # 選択された特徴量のインデックス\n",
    "\n",
    "    def get_features_score_dict(self):\n",
    "        return self.features_score_dict"
   ]
  },
  {
   "cell_type": "code",
   "execution_count": 12,
   "metadata": {},
   "outputs": [],
   "source": [
    "def process_allocation_in_wrapper(\n",
    "    instance: \"Allocation_in_Wrapper\", X: NDArray, y: NDArray\n",
    ") -> tuple[list, dict[int, float]]:\n",
    "    instance.fss(X, y)\n",
    "    selected_features_index = instance.get_selected_features_index()\n",
    "    features_score_dict = instance.get_features_score_dict()\n",
    "    selected_features_index = np.array(selected_features_index)\n",
    "\n",
    "    return selected_features_index, features_score_dict"
   ]
  },
  {
   "cell_type": "markdown",
   "metadata": {},
   "source": [
    "### インスタンスのリスト作成"
   ]
  },
  {
   "cell_type": "code",
   "execution_count": 13,
   "metadata": {},
   "outputs": [],
   "source": [
    "instances = []\n",
    "for allocation_method in ALLOCATION_METHODS:\n",
    "    instances.append(\n",
    "        (\n",
    "            allocation_method,\n",
    "            Allocation_in_Wrapper(\n",
    "                maximum_features_to_select=MAXIMUM_FEATURES_TO_SELECT,\n",
    "                n_clusters=N_CLUSTERS,\n",
    "                clustering_method=CLUSTERING_METHOD,\n",
    "                random_state=RANDOM_STATE,\n",
    "                select_maximum_features=SELECT_MAXIMUM_FEATURES,\n",
    "                k_min=K_MIN,\n",
    "                k_max=K_MAX,\n",
    "                allocation_method=allocation_method,\n",
    "                sample_size=SAMPLE_SIZE,\n",
    "                n_trials=N_TRIALS,\n",
    "                m_value=m_VALUE,\n",
    "            ),\n",
    "        )\n",
    "    )"
   ]
  },
  {
   "cell_type": "markdown",
   "metadata": {},
   "source": [
    "### Allocaiton in Wrapper の実施"
   ]
  },
  {
   "cell_type": "code",
   "execution_count": 14,
   "metadata": {},
   "outputs": [
    {
     "name": "stdout",
     "output_type": "stream",
     "text": [
      "[ Proportional ]\n"
     ]
    },
    {
     "name": "stderr",
     "output_type": "stream",
     "text": [
      "c:\\Users\\HaruMomozu\\Desktop\\momozu\\ABtesting\\.venv\\Lib\\site-packages\\sklearn\\base.py:1473: ConvergenceWarning: Number of distinct clusters (2) found smaller than n_clusters (5). Possibly due to duplicate points in X.\n",
      "  return fit_method(estimator, *args, **kwargs)\n"
     ]
    },
    {
     "name": "stdout",
     "output_type": "stream",
     "text": [
      "num_of_features: 1 current_features: [5] , score: -195568.00198640805 best_n_clusters: 5 best_N_cluster_size: [ 6739 91861     1   466     8] best_n_cluster_size: [ 7 93  0  0  0]\n",
      "num_of_features: 2 current_features: [5, 3] , score: -197195.93901722837 best_n_clusters: 5 best_N_cluster_size: [ 6238 67723 24648     1   465] best_n_cluster_size: [ 6 69 25  0  0]\n",
      "num_of_features: 3 current_features: [5, 3, 1] , score: -195498.6826345632 best_n_clusters: 5 best_N_cluster_size: [  363 68143  5489     1 25079] best_n_cluster_size: [ 0 69  6  0 25]\n",
      "num_of_features: 4 current_features: [5, 3, 1, 4] , score: -190796.83460992976 best_n_clusters: 5 best_N_cluster_size: [  425 72265  3486     1 22898] best_n_cluster_size: [ 0 73  4  0 23]\n",
      "num_of_features: 5 current_features: [5, 3, 1, 4, 15] , score: -203360.44166437341 best_n_clusters: 5 best_N_cluster_size: [  477 72417  3175 23005     1] best_n_cluster_size: [ 0 74  3 23  0]\n",
      "[ Post ]\n"
     ]
    },
    {
     "name": "stderr",
     "output_type": "stream",
     "text": [
      "c:\\Users\\HaruMomozu\\Desktop\\momozu\\ABtesting\\.venv\\Lib\\site-packages\\sklearn\\base.py:1473: ConvergenceWarning: Number of distinct clusters (2) found smaller than n_clusters (5). Possibly due to duplicate points in X.\n",
      "  return fit_method(estimator, *args, **kwargs)\n"
     ]
    },
    {
     "name": "stdout",
     "output_type": "stream",
     "text": [
      "num_of_features: 1 current_features: [5] , score: -217689.6190691299 best_n_clusters: 5 best_N_cluster_size: [ 6739 91861     1   466     8] best_n_cluster_size: [ 5 95]\n",
      "num_of_features: 2 current_features: [5, 14] , score: -208957.83166731964 best_n_clusters: 5 best_N_cluster_size: [  795 34639 19680     1 43960] best_n_cluster_size: [ 0 33 20  0 47]\n",
      "num_of_features: 3 current_features: [5, 14, 6] , score: -214652.62996974014 best_n_clusters: 5 best_N_cluster_size: [  912 46868 28947 22347     1] best_n_cluster_size: [ 2 45 31 22]\n",
      "num_of_features: 4 current_features: [5, 14, 6, 0] , score: -215982.046818032 best_n_clusters: 5 best_N_cluster_size: [ 1549 46578 28387 22560     1] best_n_cluster_size: [ 2 53 27 18]\n",
      "num_of_features: 5 current_features: [5, 14, 6, 0, 9] , score: -213590.87201561456 best_n_clusters: 5 best_N_cluster_size: [ 1310 22428   915 27676 46746] best_n_cluster_size: [ 0 23  2 23 52]\n",
      "[ Optimal ]\n"
     ]
    },
    {
     "name": "stderr",
     "output_type": "stream",
     "text": [
      "c:\\Users\\HaruMomozu\\Desktop\\momozu\\ABtesting\\.venv\\Lib\\site-packages\\sklearn\\base.py:1473: ConvergenceWarning: Number of distinct clusters (2) found smaller than n_clusters (5). Possibly due to duplicate points in X.\n",
      "  return fit_method(estimator, *args, **kwargs)\n"
     ]
    },
    {
     "name": "stdout",
     "output_type": "stream",
     "text": [
      "num_of_features: 1 current_features: [3] , score: -191392.46308812656 best_n_clusters: 5 best_N_cluster_size: [35103 15119  3485 34992 10376] best_n_cluster_size: [25 18  8 33 16]\n",
      "num_of_features: 2 current_features: [3, 5] , score: -186476.31245708407 best_n_clusters: 5 best_N_cluster_size: [ 6238 67723 24648     1   465] best_n_cluster_size: [13 54 31  2]\n",
      "num_of_features: 3 current_features: [3, 5, 1] , score: -181698.43878472227 best_n_clusters: 5 best_N_cluster_size: [  363 68143  5489     1 25079] best_n_cluster_size: [ 2 55 12 31]\n",
      "num_of_features: 4 current_features: [3, 5, 1, 0] , score: -184070.99063223388 best_n_clusters: 5 best_N_cluster_size: [  349 25346 68583  4796     1] best_n_cluster_size: [ 2 32 55 11]\n",
      "num_of_features: 5 current_features: [3, 5, 1, 0, 14] , score: -179726.04575721952 best_n_clusters: 5 best_N_cluster_size: [  110 31133 56346  1695  9791] best_n_cluster_size: [ 2 35 42  5 16]\n"
     ]
    }
   ],
   "source": [
    "features_score_dict_dict = {}\n",
    "\n",
    "# 各インスタンスに対して処理を実行\n",
    "for allocation_method, instance in instances:\n",
    "    print(\"[\", allocation_method, \"]\")\n",
    "    start_time = time.time()\n",
    "    selected_features_index, features_score_dict = process_allocation_in_wrapper(\n",
    "        instance, X_train_std, y_train\n",
    "    )\n",
    "    end_time = time.time()\n",
    "\n",
    "    SELECTED_FEATURES_DICT[allocation_method] = selected_features_index\n",
    "    TIME_DICT[allocation_method] = end_time - start_time\n",
    "\n",
    "    features_score_dict_dict[allocation_method] = features_score_dict"
   ]
  },
  {
   "cell_type": "code",
   "execution_count": 15,
   "metadata": {},
   "outputs": [
    {
     "name": "stdout",
     "output_type": "stream",
     "text": [
      "{'Proportional': {'1': -195568.00198640805, '2': -197195.93901722837, '3': -195498.6826345632, '4': -190796.83460992976, '5': -203360.44166437341}, 'Post': {'1': -217689.6190691299, '2': -208957.83166731964, '3': -214652.62996974014, '4': -215982.046818032, '5': -213590.87201561456}, 'Optimal': {'1': -191392.46308812656, '2': -186476.31245708407, '3': -181698.43878472227, '4': -184070.99063223388, '5': -179726.04575721952}}\n"
     ]
    }
   ],
   "source": [
    "print(features_score_dict_dict)"
   ]
  },
  {
   "cell_type": "markdown",
   "metadata": {},
   "source": [
    "## 4.4 特徴量選択の結果"
   ]
  },
  {
   "cell_type": "markdown",
   "metadata": {},
   "source": [
    "### スコア（-分散）の推移"
   ]
  },
  {
   "cell_type": "code",
   "execution_count": 16,
   "metadata": {},
   "outputs": [
    {
     "data": {
      "image/png": "[encoded data removed]",
      "text/plain": [
       "<Figure size 500x300 with 1 Axes>"
      ]
     },
     "metadata": {},
     "output_type": "display_data"
    },
    {
     "data": {
      "image/png": "[encoded data removed]",
      "text/plain": [
       "<Figure size 500x300 with 1 Axes>"
      ]
     },
     "metadata": {},
     "output_type": "display_data"
    },
    {
     "data": {
      "image/png": "[encoded data removed]",
      "text/plain": [
       "<Figure size 500x300 with 1 Axes>"
      ]
     },
     "metadata": {},
     "output_type": "display_data"
    }
   ],
   "source": [
    "for allocation_method, instance in instances:\n",
    "    # 棒グラフを作成\n",
    "    plt.figure(figsize=(5, 3))\n",
    "    plt.bar(\n",
    "        features_score_dict_dict[allocation_method].keys(),\n",
    "        features_score_dict_dict[allocation_method].values(),\n",
    "    )\n",
    "    plt.title(f\"{allocation_method}\", fontsize=TITLE_SIZE)\n",
    "    plt.xlabel(\"Number of features\", fontsize=LABEL_SIZE)\n",
    "    plt.ylabel(\"Evaluation value\", fontsize=LABEL_SIZE)\n",
    "    # plt.ylim(,)\n",
    "    plt.tick_params(axis=\"both\", labelsize=TICK_SIZE)\n",
    "    plt.show()"
   ]
  },
  {
   "cell_type": "markdown",
   "metadata": {},
   "source": [
    "### 分散削減率の推移"
   ]
  },
  {
   "cell_type": "code",
   "execution_count": 17,
   "metadata": {},
   "outputs": [],
   "source": [
    "def cauculate_var_random(y: NDArray, seed: int, n_trials: int, sample_size) -> float:\n",
    "    np.random.seed(seed)\n",
    "    y_hats = []\n",
    "    for i in range(n_trials):\n",
    "        sample = np.random.choice(y, sample_size, replace=False)\n",
    "        y_hat_random = sample.mean()\n",
    "        y_hats.append(y_hat_random)\n",
    "    var_random = np.array(y_hats).var()\n",
    "\n",
    "    return var_random"
   ]
  },
  {
   "cell_type": "code",
   "execution_count": 18,
   "metadata": {},
   "outputs": [],
   "source": [
    "VAR_RANDOM_TRAIN = cauculate_var_random(\n",
    "    y=y_train, seed=SEED, n_trials=N_TRIALS, sample_size=SAMPLE_SIZE\n",
    ")"
   ]
  },
  {
   "cell_type": "code",
   "execution_count": 19,
   "metadata": {},
   "outputs": [],
   "source": [
    "features_reduction_rate_dict_dict = {}\n",
    "for allocation_method, score_dict in features_score_dict_dict.items():\n",
    "    features_reduction_rate_dict_dict[allocation_method] = {}\n",
    "    for n_features, score in score_dict.items():\n",
    "        reduction_rate = (1 - (-score / VAR_RANDOM_TRAIN)) * 100\n",
    "        features_reduction_rate_dict_dict[allocation_method][n_features] = (\n",
    "            reduction_rate\n",
    "        )"
   ]
  },
  {
   "cell_type": "code",
   "execution_count": 20,
   "metadata": {},
   "outputs": [
    {
     "data": {
      "image/png": "[encoded data removed]",
      "text/plain": [
       "<Figure size 500x300 with 1 Axes>"
      ]
     },
     "metadata": {},
     "output_type": "display_data"
    },
    {
     "data": {
      "image/png": "[encoded data removed]",
      "text/plain": [
       "<Figure size 500x300 with 1 Axes>"
      ]
     },
     "metadata": {},
     "output_type": "display_data"
    },
    {
     "data": {
      "image/png": "[encoded data removed]",
      "text/plain": [
       "<Figure size 500x300 with 1 Axes>"
      ]
     },
     "metadata": {},
     "output_type": "display_data"
    }
   ],
   "source": [
    "for allocation_method, instance in instances:\n",
    "    # 棒グラフを作成\n",
    "    plt.figure(figsize=(5, 3))\n",
    "    plt.bar(\n",
    "        features_reduction_rate_dict_dict[allocation_method].keys(),\n",
    "        features_reduction_rate_dict_dict[allocation_method].values(),\n",
    "    )\n",
    "    plt.title(f\"{allocation_method}\", fontsize=TITLE_SIZE)\n",
    "    plt.xlabel(\"Number of features\", fontsize=LABEL_SIZE)\n",
    "    plt.ylabel(\"Var reduction rate\", fontsize=LABEL_SIZE)\n",
    "    plt.ylim(0, 40)\n",
    "    plt.tick_params(axis=\"both\", labelsize=TICK_SIZE)\n",
    "    plt.show()"
   ]
  },
  {
   "cell_type": "markdown",
   "metadata": {},
   "source": [
    "### 特徴量選択の結果"
   ]
  },
  {
   "cell_type": "code",
   "execution_count": 21,
   "metadata": {},
   "outputs": [
    {
     "name": "stdout",
     "output_type": "stream",
     "text": [
      "【Proportional】\n",
      "選択された特徴量： [ 5  3  1  4 15]\n",
      "特徴量選択にかかった時間：2324.172 s\n",
      "\n",
      "【Post】\n",
      "選択された特徴量： [ 5 14  6  0  9]\n",
      "特徴量選択にかかった時間：1410.815 s\n",
      "\n",
      "【Optimal】\n",
      "選択された特徴量： [ 3  5  1  0 14]\n",
      "特徴量選択にかかった時間：4125.762 s\n",
      "\n"
     ]
    }
   ],
   "source": [
    "for allocation_method in ALLOCATION_METHODS:\n",
    "    print(f\"【{allocation_method}】\")\n",
    "    print(\"選択された特徴量：\", SELECTED_FEATURES_DICT[allocation_method])\n",
    "    print(f\"特徴量選択にかかった時間：{round(TIME_DICT[allocation_method], 3)} s\")\n",
    "    print()"
   ]
  },
  {
   "cell_type": "markdown",
   "metadata": {},
   "source": [
    "# ５．クラスタリングと標本配分"
   ]
  },
  {
   "cell_type": "markdown",
   "metadata": {},
   "source": [
    "## 5.1 クラスタリング"
   ]
  },
  {
   "cell_type": "markdown",
   "metadata": {},
   "source": [
    "### 準備"
   ]
  },
  {
   "cell_type": "code",
   "execution_count": 22,
   "metadata": {},
   "outputs": [],
   "source": [
    "def compute_bic(X: NDArray, kmeans: KMeans) -> float:\n",
    "    labels = kmeans.labels_\n",
    "    clusters = kmeans.cluster_centers_\n",
    "    n_clusters = len(clusters)\n",
    "    n = len(X)\n",
    "    m = X.shape[1]\n",
    "    variance = np.sum(\n",
    "        [\n",
    "            np.linalg.norm(X[labels == i] - clusters[i], axis=1).sum()\n",
    "            for i in range(n_clusters)\n",
    "        ]\n",
    "    )\n",
    "    bic = np.log(n) * n_clusters * m + n * np.log(variance / n)\n",
    "    return bic\n",
    "\n",
    "\n",
    "def xmeans(X: NDArray, k_min: int, k_max: int) -> KMeans:\n",
    "    kmeans = KMeans(n_clusters=k_min, random_state=RANDOM_STATE)\n",
    "    kmeans.fit(X)\n",
    "    best_bic = compute_bic(X, kmeans)\n",
    "    best_kmeans = kmeans\n",
    "    for k in range(k_min + 1, k_max + 1):\n",
    "        kmeans = KMeans(n_clusters=k, random_state=RANDOM_STATE)\n",
    "        kmeans.fit(X)\n",
    "        current_bic = compute_bic(X, kmeans)\n",
    "        if current_bic < best_bic:\n",
    "            best_bic = current_bic\n",
    "            best_kmeans = kmeans\n",
    "    return best_kmeans"
   ]
  },
  {
   "cell_type": "code",
   "execution_count": 23,
   "metadata": {},
   "outputs": [],
   "source": [
    "def clustering(\n",
    "    X_train: NDArray,\n",
    "    X_test: NDArray,\n",
    "    allocation_methods: list,\n",
    "    clustering_method: str,\n",
    "    n_clusters: int,\n",
    "    random_state: int,\n",
    "    k_min: int,\n",
    "    k_max: int,\n",
    "    selected_features_dict: dict,\n",
    ") -> tuple[dict, dict, dict, dict]:\n",
    "    cluster_label_dict_train = {}\n",
    "    cluster_size_dict_train = {}\n",
    "    cluster_label_dict_test = {}\n",
    "    cluster_size_dict_test = {}\n",
    "\n",
    "    for allocation_method in allocation_methods:\n",
    "        if clustering_method == \"kmeans\":\n",
    "            model = KMeans(n_clusters=n_clusters, random_state=random_state)\n",
    "        if clustering_method == \"gmm\":\n",
    "            model = GaussianMixture(\n",
    "                n_components=n_clusters, random_state=random_state, init_params=\"kmeans\"\n",
    "            )\n",
    "        if clustering_method == \"xmeans\":\n",
    "            model = xmeans(X_train, k_min=k_min, k_max=k_max)\n",
    "\n",
    "        cluster_label_train = model.fit_predict(\n",
    "            X_train[:, selected_features_dict[allocation_method]]\n",
    "        )\n",
    "        cluster_size_train = np.bincount(cluster_label_train)\n",
    "        cluster_label_test = model.predict(\n",
    "            X_test[:, selected_features_dict[allocation_method]]\n",
    "        )\n",
    "        cluster_size_test = np.bincount(cluster_label_test)\n",
    "\n",
    "        if 0 in cluster_size_train or 0 in cluster_size_test:\n",
    "            raise RuntimeError(\"n_clusters too large\")\n",
    "        cluster_label_dict_train[allocation_method] = cluster_label_train\n",
    "        cluster_size_dict_train[allocation_method] = cluster_size_train\n",
    "        cluster_label_dict_test[allocation_method] = cluster_label_test\n",
    "        cluster_size_dict_test[allocation_method] = cluster_size_test\n",
    "\n",
    "    return (\n",
    "        cluster_label_dict_train,\n",
    "        cluster_size_dict_train,\n",
    "        cluster_label_dict_test,\n",
    "        cluster_size_dict_test,\n",
    "    )\n"
   ]
  },
  {
   "cell_type": "markdown",
   "metadata": {},
   "source": [
    "### クラスタリングの実施"
   ]
  },
  {
   "cell_type": "code",
   "execution_count": 24,
   "metadata": {},
   "outputs": [],
   "source": [
    "(\n",
    "    CLUSTER_LABEL_DICT_TRAIN,\n",
    "    CLUSTER_SIZE_DICT_TRAIN,\n",
    "    CLUSTER_LABEL_DICT_TEST,\n",
    "    CLUSTER_SIZE_DICT_TEST,\n",
    ") = clustering(\n",
    "    X_train=X_train_std,\n",
    "    X_test=X_test_std,\n",
    "    allocation_methods=ALLOCATION_METHODS,\n",
    "    clustering_method=CLUSTERING_METHOD,\n",
    "    n_clusters=N_CLUSTERS,\n",
    "    random_state=RANDOM_STATE,\n",
    "    k_min=K_MIN,\n",
    "    k_max=K_MAX,\n",
    "    selected_features_dict=SELECTED_FEATURES_DICT,\n",
    ")\n"
   ]
  },
  {
   "cell_type": "code",
   "execution_count": 25,
   "metadata": {},
   "outputs": [],
   "source": [
    "def cauculate_cluster_size_for_optimal(\n",
    "    cluster_size_list: list,\n",
    ") -> list[int]:\n",
    "    cluster_size_for_optimal = []\n",
    "    for i in range(len(cluster_size_list)):\n",
    "        if cluster_size_list[i] >= 2:\n",
    "            cluster_size_for_optimal.append(cluster_size_list[i])\n",
    "\n",
    "    return cluster_size_for_optimal\n",
    "\n",
    "\n",
    "def cauculate_label_for_optimal(cluster_size_list: NDArray) -> list[int]:\n",
    "    label_for_optimal = []\n",
    "    for i in range(len(cluster_size_list)):\n",
    "        if cluster_size_list[i] >= 2:\n",
    "            label_for_optimal.append(i)\n",
    "\n",
    "    return label_for_optimal"
   ]
  },
  {
   "cell_type": "code",
   "execution_count": 26,
   "metadata": {},
   "outputs": [],
   "source": [
    "if \"Optimal\" in ALLOCATION_METHODS:\n",
    "    CLUSTER_SIZE_FOR_OPTIMAL_TRAIN = cauculate_cluster_size_for_optimal(\n",
    "        cluster_size_list=CLUSTER_SIZE_DICT_TRAIN[\"Optimal\"]\n",
    "    )\n",
    "    LABEL_FOR_OPTIMAL_TRAIN = cauculate_label_for_optimal(\n",
    "        cluster_size_list=CLUSTER_SIZE_DICT_TRAIN[\"Optimal\"]\n",
    "    )\n",
    "\n",
    "    CLUSTER_SIZE_FOR_OPTIMAL_TEST = cauculate_cluster_size_for_optimal(\n",
    "        cluster_size_list=CLUSTER_SIZE_DICT_TEST[\"Optimal\"]\n",
    "    )\n",
    "    LABEL_FOR_OPTIMAL_TEST = cauculate_label_for_optimal(\n",
    "        cluster_size_list=CLUSTER_SIZE_DICT_TEST[\"Optimal\"]\n",
    "    )"
   ]
  },
  {
   "cell_type": "markdown",
   "metadata": {},
   "source": [
    "### クラスタリング結果"
   ]
  },
  {
   "cell_type": "code",
   "execution_count": 27,
   "metadata": {},
   "outputs": [
    {
     "name": "stdout",
     "output_type": "stream",
     "text": [
      "訓練データ\n",
      "Proportional：[  477 72417  3175 23005     1]\n",
      "Post：[ 1310 22428   915 27676 46746]\n",
      "Optimal：[  110 31133 56346  1695  9791]\n",
      "（クラスタサイズが２以上の層のみ（最適標本配分用）：[110, 31133, 56346, 1695, 9791]\n",
      "テストデータ\n",
      "Proportional：[  510 72519  3235 22812]\n",
      "Post：[ 1312 22761   986 27793 46224]\n",
      "Optimal：[  122 31368 56180  1715  9691]\n",
      "（クラスタサイズが２以上の層のみ（最適標本配分用）：[122, 31368, 56180, 1715, 9691]\n"
     ]
    }
   ],
   "source": [
    "print(\"訓練データ\")\n",
    "for allocation_method in ALLOCATION_METHODS:\n",
    "    print(f\"{allocation_method}：{CLUSTER_SIZE_DICT_TRAIN[allocation_method]}\")\n",
    "    if allocation_method == \"Optimal\":\n",
    "        print(\n",
    "            f\"（クラスタサイズが２以上の層のみ（最適標本配分用）：{CLUSTER_SIZE_FOR_OPTIMAL_TRAIN}\"\n",
    "        )\n",
    "\n",
    "print(\"テストデータ\")\n",
    "for allocation_method in ALLOCATION_METHODS:\n",
    "    print(f\"{allocation_method}：{CLUSTER_SIZE_DICT_TEST[allocation_method]}\")\n",
    "    if allocation_method == \"Optimal\":\n",
    "        print(\n",
    "            f\"（クラスタサイズが２以上の層のみ（最適標本配分用）：{CLUSTER_SIZE_FOR_OPTIMAL_TEST}\"\n",
    "        )\n"
   ]
  },
  {
   "cell_type": "markdown",
   "metadata": {},
   "source": [
    "## 5.2 標本配分"
   ]
  },
  {
   "cell_type": "markdown",
   "metadata": {},
   "source": [
    "### 基底クラス"
   ]
  },
  {
   "cell_type": "code",
   "execution_count": 28,
   "metadata": {},
   "outputs": [],
   "source": [
    "class BaseAllocation(metaclass=ABCMeta):  # 抽象基底クラス（ABC）\n",
    "    # 初期化クラス（n_samples(標本サイズ), H(クラスタ数)）\n",
    "    def __init__(\n",
    "        self,\n",
    "        sample_size: int,\n",
    "        random_state: int,\n",
    "        allocation_method: str,\n",
    "        cluster_size_dict: dict,\n",
    "    ):\n",
    "        self.sample_size = sample_size\n",
    "        self.random_state = random_state\n",
    "        self.allocation_method = allocation_method\n",
    "        self.N = cluster_size_dict[self.allocation_method]\n",
    "\n",
    "    @abstractmethod\n",
    "    def solve(self, X: NDArray, y: NDArray) -> NDArray:\n",
    "        \"\"\"標本配分を解く\n",
    "\n",
    "        Args:\n",
    "            X (NDArray): データ (N x M)\n",
    "            y (NDArray): 目的変数 (N)\n",
    "\n",
    "        Raises:\n",
    "            NotImplementedError: _description_\n",
    "\n",
    "        Returns:\n",
    "            NDArray: 各クラスタの標本数 (H, )\n",
    "\n",
    "        Note:\n",
    "            M: 特徴量数\n",
    "            H: クラスタ数\n",
    "        \"\"\"\n",
    "        # 具象クラスがsolveメゾッドを実装しない場合はNotImpleamentedErrorが発生\n",
    "        raise NotImplementedError"
   ]
  },
  {
   "cell_type": "markdown",
   "metadata": {},
   "source": [
    "### ① 比例配分（Proportional）"
   ]
  },
  {
   "cell_type": "code",
   "execution_count": 29,
   "metadata": {},
   "outputs": [],
   "source": [
    "class Proportional(BaseAllocation):\n",
    "    def solve(self, X: NDArray, y: NDArray) -> NDArray:\n",
    "        \"\"\"各クラスタ数に比例した標本数で分割する\"\"\"\n",
    "        n: NDArray = np.round(self.N / self.N.sum() * self.sample_size).astype(int)\n",
    "\n",
    "        if n.sum() > self.sample_size:\n",
    "            # nの合計がn_samplesより大きい場合は一番標本数が多いクラスタから削る\n",
    "            n[np.argmax(n)] -= n.sum() - self.sample_size\n",
    "\n",
    "        if n.sum() < self.sample_size:\n",
    "            # nの合計がn_samplesより小さい場合は一番標本数が多いクラスタにたす\n",
    "            n[np.argmax(n)] += -n.sum() + self.sample_size\n",
    "\n",
    "        return n"
   ]
  },
  {
   "cell_type": "markdown",
   "metadata": {},
   "source": [
    "### ② 事後層化（Post）"
   ]
  },
  {
   "cell_type": "code",
   "execution_count": 30,
   "metadata": {},
   "outputs": [],
   "source": [
    "class Post(BaseAllocation):\n",
    "    def solve(self, X: NDArray, y: NDArray) -> NDArray:\n",
    "        \"\"\"ランダムにn_samplesの標本を選択する\"\"\"\n",
    "        n = np.array([self.sample_size])\n",
    "\n",
    "        return n  # （例）n=[標本サイズ]"
   ]
  },
  {
   "cell_type": "markdown",
   "metadata": {},
   "source": [
    "### ③ 最適標本配分（Optimal）"
   ]
  },
  {
   "cell_type": "code",
   "execution_count": 31,
   "metadata": {},
   "outputs": [],
   "source": [
    "class Optimal(BaseAllocation):\n",
    "    def __init__(\n",
    "        self,\n",
    "        sample_size: int,\n",
    "        random_state: int,\n",
    "        allocation_method: str,\n",
    "        cluster_label_dict: dict,\n",
    "        cluster_size_dict: dict,\n",
    "        cluster_size_for_optimal: list,\n",
    "        label_for_optimal: dict,\n",
    "        m_value: int,  # 標本サイズ下限\n",
    "        M: Optional[NDArray] = None,  # 標本サイズ上限 #Optional(Noneである可能性がある)\n",
    "    ):\n",
    "        super().__init__(\n",
    "            sample_size,\n",
    "            random_state,\n",
    "            allocation_method,\n",
    "            cluster_size_dict,\n",
    "        )  # 基底クラスBaseAllocation（スーパークラス）の初期化メゾッドを呼び出す\n",
    "        self.cluster_label = cluster_label_dict[self.allocation_method]\n",
    "        self.N_for_optimal = np.array(cluster_size_for_optimal)\n",
    "        self.labels = label_for_optimal\n",
    "        self.m_value = m_value  # 各クラスタの最小標本サイズ (H, )\n",
    "        self.M = M  # 各クラスタの最大標本サイズ (H, ), (指定しない場合はクラスタサイズ)\n",
    "\n",
    "    def solve(self, X: NDArray, y: NDArray) -> NDArray:\n",
    "        # S:クラスタ毎の目的変数のvarianceを要素とする配列 (H, )\n",
    "        S = np.array(\n",
    "            [np.var(y[self.cluster_label == h]) for h in self.labels]\n",
    "        )  # 層hのデータが１つのときはS[h]は0になる\n",
    "        d = (self.N_for_optimal**2) * S  # (H, )\n",
    "\n",
    "        self.m = np.full(len(self.labels), self.m_value)\n",
    "        n = self._simple_greedy(n=self.m.copy(), d=d)\n",
    "\n",
    "        # 制約チェック\n",
    "        self._check_constraints(n)\n",
    "\n",
    "        return n\n",
    "\n",
    "    def _simple_greedy(self, n: NDArray, d: NDArray) -> NDArray:\n",
    "        M = self.M.copy() if self.M is not None else self.N_for_optimal.copy()\n",
    "        I = np.arange(len(self.labels))  # noqa #クラスタのインデックス配列\n",
    "        while (n.sum() != self.sample_size) and len(I) != 0:\n",
    "            delta = np.zeros(len(self.labels))\n",
    "            delta[I] = (d / (n + 1) - d / n)[I]\n",
    "            h_star = np.argmin(delta[I])\n",
    "            h_star = I[h_star]\n",
    "\n",
    "            if n[h_star] + 1 <= M[h_star]:\n",
    "                n[h_star] = n[h_star] + 1\n",
    "            else:\n",
    "                # Iの要素h_starを削除\n",
    "                I_ = I.tolist()\n",
    "                I_ = [i for i in I_ if i != h_star]\n",
    "                I = np.array(I_)  # noqa\n",
    "\n",
    "        return n\n",
    "\n",
    "    def _check_constraints(self, n: NDArray):\n",
    "        assert (\n",
    "            n.sum() <= self.sample_size\n",
    "        ), f\"Total sample size is over than {self.sample_size}\"\n",
    "        assert np.all(\n",
    "            n >= self.m_value\n",
    "        ), \"Minimum sample size constraint is not satisfied\"\n",
    "        if self.M is not None:\n",
    "            assert np.all(\n",
    "                n <= self.M\n",
    "            ), \"Maximum sample size constraint is not satisfied\""
   ]
  },
  {
   "cell_type": "markdown",
   "metadata": {},
   "source": [
    "### ポリシーの生成"
   ]
  },
  {
   "cell_type": "code",
   "execution_count": 32,
   "metadata": {},
   "outputs": [],
   "source": [
    "def create_policies(\n",
    "    sample_size: int,\n",
    "    random_state: int,\n",
    "    m_value: int,\n",
    "    cluster_size_dict: dict,\n",
    "    cluster_label_dict: dict,\n",
    "    cluster_size_for_optimal: list,\n",
    "    label_for_optimal: list,\n",
    "    allocation_methods: list,\n",
    ") -> list[BaseAllocation]:\n",
    "    policies: list[BaseAllocation] = []\n",
    "    if \"Proportional\" in allocation_methods:\n",
    "        policies.append(\n",
    "            Proportional(\n",
    "                sample_size=sample_size,\n",
    "                random_state=random_state,\n",
    "                allocation_method=\"Proportional\",\n",
    "                cluster_size_dict=cluster_size_dict,\n",
    "            )\n",
    "        )\n",
    "    if \"Post\" in allocation_methods:\n",
    "        policies.append(\n",
    "            Post(\n",
    "                sample_size=sample_size,\n",
    "                random_state=random_state,\n",
    "                allocation_method=\"Post\",\n",
    "                cluster_size_dict=cluster_size_dict,\n",
    "            )\n",
    "        )\n",
    "    if \"Optimal\" in allocation_methods:\n",
    "        policies.append(\n",
    "            Optimal(\n",
    "                sample_size=sample_size,\n",
    "                random_state=random_state,\n",
    "                allocation_method=\"Optimal\",\n",
    "                cluster_size_dict=cluster_size_dict,\n",
    "                cluster_label_dict=cluster_label_dict,\n",
    "                cluster_size_for_optimal=cluster_size_for_optimal,\n",
    "                label_for_optimal=label_for_optimal,\n",
    "                m_value=m_value,\n",
    "                M=None,\n",
    "            )\n",
    "        )\n",
    "\n",
    "    return policies"
   ]
  },
  {
   "cell_type": "code",
   "execution_count": 33,
   "metadata": {},
   "outputs": [],
   "source": [
    "policies_train = create_policies(\n",
    "    sample_size=SAMPLE_SIZE,\n",
    "    random_state=RANDOM_STATE,\n",
    "    cluster_size_dict=CLUSTER_SIZE_DICT_TRAIN,\n",
    "    cluster_label_dict=CLUSTER_LABEL_DICT_TRAIN,\n",
    "    cluster_size_for_optimal=CLUSTER_SIZE_FOR_OPTIMAL_TRAIN,\n",
    "    label_for_optimal=LABEL_FOR_OPTIMAL_TRAIN,\n",
    "    m_value=m_VALUE,\n",
    "    allocation_methods=ALLOCATION_METHODS,\n",
    ")\n",
    "\n",
    "policies_test = create_policies(\n",
    "    sample_size=SAMPLE_SIZE,\n",
    "    random_state=RANDOM_STATE,\n",
    "    cluster_size_dict=CLUSTER_SIZE_DICT_TEST,\n",
    "    cluster_label_dict=CLUSTER_LABEL_DICT_TEST,\n",
    "    cluster_size_for_optimal=CLUSTER_SIZE_FOR_OPTIMAL_TEST,\n",
    "    label_for_optimal=LABEL_FOR_OPTIMAL_TEST,\n",
    "    m_value=m_VALUE,\n",
    "    allocation_methods=ALLOCATION_METHODS,\n",
    ")"
   ]
  },
  {
   "cell_type": "markdown",
   "metadata": {},
   "source": [
    "### 標本配分の実施"
   ]
  },
  {
   "cell_type": "code",
   "execution_count": 34,
   "metadata": {},
   "outputs": [],
   "source": [
    "def cauculate_allocation_dict(\n",
    "    X: NDArray, y: NDArray, policies: list\n",
    ") -> dict[str, NDArray]:\n",
    "    allocation_dict = {}\n",
    "    for policy in policies:\n",
    "        n = policy.solve(X, y)\n",
    "        allocation_dict[policy.__class__.__name__] = n\n",
    "\n",
    "    return allocation_dict"
   ]
  },
  {
   "cell_type": "code",
   "execution_count": 35,
   "metadata": {},
   "outputs": [],
   "source": [
    "ALLOCATION_DICT_TRAIN = cauculate_allocation_dict(\n",
    "    X=X_train_std, y=y_train, policies=policies_train\n",
    ")\n",
    "ALLOCATION_DICT_TEST = cauculate_allocation_dict(\n",
    "    X=X_test_std, y=y_test, policies=policies_test\n",
    ")"
   ]
  },
  {
   "cell_type": "markdown",
   "metadata": {},
   "source": [
    "### 標本配分の結果"
   ]
  },
  {
   "cell_type": "code",
   "execution_count": 36,
   "metadata": {},
   "outputs": [
    {
     "name": "stdout",
     "output_type": "stream",
     "text": [
      "【SFS-Kmeans-Var】\n",
      "訓練データ\n",
      "Proportional : [ 0 74  3 23  0]\n",
      "Post : [100]\n",
      "Optimal : [ 2 35 42  5 16]\n",
      "\n",
      "テストデータ\n",
      "Proportional : [ 1 73  3 23]\n",
      "Post : [100]\n",
      "Optimal : [ 2 35 42  5 16]\n"
     ]
    }
   ],
   "source": [
    "print(f\"【{METHOD_NAME}】\")\n",
    "print(\"訓練データ\")\n",
    "for allocation_method in ALLOCATION_METHODS:\n",
    "    print(f\"{allocation_method} : {ALLOCATION_DICT_TRAIN[allocation_method]}\")\n",
    "\n",
    "print()\n",
    "\n",
    "print(\"テストデータ\")\n",
    "for allocation_method in ALLOCATION_METHODS:\n",
    "    print(f\"{allocation_method} : {ALLOCATION_DICT_TEST[allocation_method]}\")\n"
   ]
  },
  {
   "cell_type": "markdown",
   "metadata": {},
   "source": [
    "---------------------\n",
    "# ６．評価"
   ]
  },
  {
   "cell_type": "markdown",
   "metadata": {},
   "source": [
    "## 6.1 標本平均の分散を計算（単純無作為抽出）"
   ]
  },
  {
   "cell_type": "code",
   "execution_count": 37,
   "metadata": {},
   "outputs": [
    {
     "name": "stdout",
     "output_type": "stream",
     "text": [
      "訓練データでの標本平均の分散 (Random) : 238051.96263906235\n",
      "テストデータでの標本平均の分散 (Random) : 238508.6545548929\n"
     ]
    }
   ],
   "source": [
    "VAR_RANDOM_TEST = cauculate_var_random(\n",
    "    y=y_test, seed=SEED, n_trials=N_TRIALS, sample_size=SAMPLE_SIZE\n",
    ")\n",
    "\n",
    "print(f\"訓練データでの標本平均の分散 (Random) : {VAR_RANDOM_TRAIN}\")\n",
    "print(f\"テストデータでの標本平均の分散 (Random) : {VAR_RANDOM_TEST}\")"
   ]
  },
  {
   "cell_type": "markdown",
   "metadata": {},
   "source": [
    "## 6.2 標本平均の分散を計算（層化抽出）"
   ]
  },
  {
   "cell_type": "markdown",
   "metadata": {},
   "source": [
    "### 標本平均を計算する関数"
   ]
  },
  {
   "cell_type": "code",
   "execution_count": 38,
   "metadata": {},
   "outputs": [],
   "source": [
    "def estimate_y_mean_proportional(\n",
    "    n: NDArray, cluster_label: NDArray, y: NDArray\n",
    ") -> float:\n",
    "    N = np.unique(cluster_label, return_counts=True)[1]  # クラスタサイズ (H, )\n",
    "    weights = N / N.sum()\n",
    "    y_hat = 0\n",
    "    for h in range(n.shape[0]):  # n.shape[0]:層の数\n",
    "        if 0 < n[h]:\n",
    "            sample: NDArray = np.random.choice(\n",
    "                y[cluster_label == h], n[h], replace=False\n",
    "            )\n",
    "            y_sample_mean = sample.mean()  # サンプリングした標本の平均\n",
    "            y_hat += y_sample_mean * weights[h]\n",
    "    return y_hat\n",
    "\n",
    "\n",
    "def estimate_y_mean_optimal(\n",
    "    n: NDArray, cluster_label: NDArray, label_for_optimal: list, y: NDArray\n",
    ") -> float:\n",
    "    N = np.unique(cluster_label, return_counts=True)[1]\n",
    "    weights = N / N.sum()\n",
    "    y_hat = 0\n",
    "    i = -1\n",
    "    for h in label_for_optimal:  # n.shape[0]:層の数\n",
    "        i += 1\n",
    "        sample: NDArray = np.random.choice(y[cluster_label == h], n[i], replace=False)\n",
    "        y_sample_mean = sample.mean()  # サンプリングした標本の平均\n",
    "        y_hat += y_sample_mean * weights[h]\n",
    "    return y_hat\n",
    "\n",
    "\n",
    "def estimate_y_mean_post(n: NDArray, cluster_label: NDArray, y: NDArray) -> float:\n",
    "    N = np.unique(cluster_label, return_counts=True)[1]\n",
    "    weights = N / N.sum()\n",
    "    y_hat = 0\n",
    "\n",
    "    all_indices = np.arange(len(y))  # 全データのインデックス\n",
    "    sample_indices = np.random.choice(all_indices, n[0], replace=False)\n",
    "    sample_labels = np.array([cluster_label[i] for i in sample_indices])\n",
    "\n",
    "    for h in np.unique(sample_labels):\n",
    "        index = np.where(sample_labels == h)[0]\n",
    "        sample = y[sample_indices[index]]\n",
    "        y_sample_mean = sample.mean()\n",
    "        y_hat += y_sample_mean * weights[h]\n",
    "    return y_hat"
   ]
  },
  {
   "cell_type": "markdown",
   "metadata": {},
   "source": [
    "### 分散を計算する関数"
   ]
  },
  {
   "cell_type": "code",
   "execution_count": 39,
   "metadata": {},
   "outputs": [],
   "source": [
    "def cauculate_var_stratified_dict(\n",
    "    y: NDArray,\n",
    "    seed: int,\n",
    "    n_trials: int,\n",
    "    allocation_dict: dict,\n",
    "    cluster_label_dict: dict,\n",
    "    cluster_size_for_optimal: list,\n",
    "    label_for_optimal: list,\n",
    ") -> dict[str, float]:\n",
    "    np.random.seed(seed)\n",
    "    var_stratified_dict = {}\n",
    "\n",
    "    for allocation_method, allocation in allocation_dict.items():\n",
    "        y_hats = []\n",
    "        for i in range(n_trials):\n",
    "            if allocation_method == \"Post\":\n",
    "                y_hat = estimate_y_mean_post(\n",
    "                    n=allocation,\n",
    "                    cluster_label=cluster_label_dict[allocation_method],\n",
    "                    y=y,\n",
    "                )\n",
    "            elif allocation_method == \"Proportional\":\n",
    "                y_hat = estimate_y_mean_proportional(\n",
    "                    n=allocation,\n",
    "                    cluster_label=cluster_label_dict[allocation_method],\n",
    "                    y=y,\n",
    "                )\n",
    "            elif allocation_method == \"Optimal\":\n",
    "                y_hat = estimate_y_mean_optimal(\n",
    "                    n=allocation,\n",
    "                    cluster_label=cluster_label_dict[allocation_method],\n",
    "                    label_for_optimal=label_for_optimal,\n",
    "                    y=y,\n",
    "                )\n",
    "            y_hats.append(y_hat)\n",
    "        y_hats = np.array(y_hats)\n",
    "        var = y_hats.var()\n",
    "        var_stratified_dict[allocation_method] = var\n",
    "\n",
    "    return var_stratified_dict"
   ]
  },
  {
   "cell_type": "markdown",
   "metadata": {},
   "source": [
    "### 分散を計算"
   ]
  },
  {
   "cell_type": "code",
   "execution_count": 40,
   "metadata": {},
   "outputs": [],
   "source": [
    "VAR_STRATIFIED_DICT_TRAIN = cauculate_var_stratified_dict(\n",
    "    y=y_train,\n",
    "    seed=SEED,\n",
    "    n_trials=N_TRIALS,\n",
    "    allocation_dict=ALLOCATION_DICT_TRAIN,\n",
    "    cluster_label_dict=CLUSTER_LABEL_DICT_TRAIN,\n",
    "    cluster_size_for_optimal=CLUSTER_SIZE_FOR_OPTIMAL_TRAIN,\n",
    "    label_for_optimal=LABEL_FOR_OPTIMAL_TRAIN,\n",
    ")\n",
    "VAR_STRATIFIED_DICT_TEST = cauculate_var_stratified_dict(\n",
    "    y=y_test,\n",
    "    seed=SEED,\n",
    "    n_trials=N_TRIALS,\n",
    "    allocation_dict=ALLOCATION_DICT_TEST,\n",
    "    cluster_label_dict=CLUSTER_LABEL_DICT_TEST,\n",
    "    cluster_size_for_optimal=CLUSTER_SIZE_FOR_OPTIMAL_TEST,\n",
    "    label_for_optimal=LABEL_FOR_OPTIMAL_TEST,\n",
    ")"
   ]
  },
  {
   "cell_type": "code",
   "execution_count": 41,
   "metadata": {},
   "outputs": [
    {
     "name": "stdout",
     "output_type": "stream",
     "text": [
      "訓練データでの標本平均の分散\n",
      "{'Proportional': 206701.574159619, 'Post': 208552.72249021978, 'Optimal': 186323.887879098}\n",
      "テストデータでの標本平均の分散\n",
      "{'Proportional': 210845.32887297482, 'Post': 214883.77222321363, 'Optimal': 187700.31904806755}\n"
     ]
    }
   ],
   "source": [
    "print(\"訓練データでの標本平均の分散\")\n",
    "print(VAR_STRATIFIED_DICT_TRAIN)\n",
    "print(\"テストデータでの標本平均の分散\")\n",
    "print(VAR_STRATIFIED_DICT_TEST)"
   ]
  },
  {
   "cell_type": "markdown",
   "metadata": {},
   "source": [
    "## 6.3 分散削減率の計算"
   ]
  },
  {
   "cell_type": "code",
   "execution_count": 42,
   "metadata": {},
   "outputs": [],
   "source": [
    "def cauculate_reduction_rate_dict(\n",
    "    var_stratified_dict: dict, var_random: float\n",
    ") -> dict[str, float]:\n",
    "    reduction_rate_dict = {}\n",
    "    for allocation_method, var in var_stratified_dict.items():\n",
    "        reduction_rate = (1 - var / var_random) * 100\n",
    "        reduction_rate_dict[allocation_method] = reduction_rate\n",
    "\n",
    "    return reduction_rate_dict"
   ]
  },
  {
   "cell_type": "code",
   "execution_count": 43,
   "metadata": {},
   "outputs": [],
   "source": [
    "REDUCTION_RATE_DICT_TRAIN = cauculate_reduction_rate_dict(\n",
    "    VAR_STRATIFIED_DICT_TRAIN, VAR_RANDOM_TRAIN\n",
    ")\n",
    "\n",
    "REDUCTION_RATE_DICT_TEST = cauculate_reduction_rate_dict(\n",
    "    VAR_STRATIFIED_DICT_TEST, VAR_RANDOM_TEST\n",
    ")"
   ]
  },
  {
   "cell_type": "code",
   "execution_count": 44,
   "metadata": {},
   "outputs": [
    {
     "name": "stdout",
     "output_type": "stream",
     "text": [
      "【SFS-Kmeans-Var】\n",
      "訓練データでの標本平均の分散の削減率\n",
      "{'Proportional': 13.169556819397975, 'Post': 12.391933182071568, 'Optimal': 21.72974092988057}\n",
      "テストデータでの標本平均の分散の削減率\n",
      "{'Proportional': 11.598457814264085, 'Post': 9.905251604294296, 'Optimal': 21.302512314131473}\n"
     ]
    }
   ],
   "source": [
    "print(f\"【{METHOD_NAME}】\")\n",
    "print(\"訓練データでの標本平均の分散の削減率\")\n",
    "print(REDUCTION_RATE_DICT_TRAIN)\n",
    "print(\"テストデータでの標本平均の分散の削減率\")\n",
    "print(REDUCTION_RATE_DICT_TEST)"
   ]
  },
  {
   "cell_type": "markdown",
   "metadata": {},
   "source": [
    "## 6.4 結果のプロット"
   ]
  },
  {
   "cell_type": "markdown",
   "metadata": {},
   "source": [
    "### プロットするための関数"
   ]
  },
  {
   "cell_type": "code",
   "execution_count": 45,
   "metadata": {},
   "outputs": [],
   "source": [
    "def plot_bars(\n",
    "    dicts, var_random, target, method_name, title_size, label_size, tick_size\n",
    ") -> plt.Figure:\n",
    "    fig, axs = plt.subplots(1, 2, figsize=(8, 2.5))\n",
    "    ylabels = [\"Var reduction rate\", \"Var\"]\n",
    "    if target == \"GMV\":\n",
    "        ylims = [(0, 40), (0, 400000)]\n",
    "    if target == \"BCR\":\n",
    "        ylims = [(0, 40), (0, 0.005)]\n",
    "\n",
    "    for i, ax in enumerate(axs):\n",
    "        data = list(dicts[i].values())\n",
    "        labels = list(dicts[i].keys())\n",
    "        bars = ax.bar(labels, data)\n",
    "        if i == 0:\n",
    "            for bar in bars:\n",
    "                yval = bar.get_height()  # 各バーの高さ（値）\n",
    "                ax.text(\n",
    "                    bar.get_x() + bar.get_width() / 2,\n",
    "                    yval,\n",
    "                    round(yval, 2),\n",
    "                    ha=\"center\",\n",
    "                    va=\"bottom\",\n",
    "                    fontsize=label_size,\n",
    "                )  # 値をバーの上に表示\n",
    "        if i == 1:\n",
    "            ax.bar(\"Random\", var_random, color=\"blue\")\n",
    "        ax.set_title(method_name, fontsize=title_size)\n",
    "        ax.set_ylabel(ylabels[i], fontsize=label_size)\n",
    "        ax.tick_params(axis=\"both\", which=\"major\", labelsize=tick_size)\n",
    "        ax.set_ylim(ylims[i])\n",
    "    plt.tight_layout()\n",
    "    plt.show()"
   ]
  },
  {
   "cell_type": "markdown",
   "metadata": {},
   "source": [
    "### 訓練データの結果"
   ]
  },
  {
   "cell_type": "code",
   "execution_count": 46,
   "metadata": {},
   "outputs": [
    {
     "data": {
      "image/png": "[encoded data removed]",
      "text/plain": [
       "<Figure size 800x250 with 2 Axes>"
      ]
     },
     "metadata": {},
     "output_type": "display_data"
    }
   ],
   "source": [
    "plot_bars(\n",
    "    dicts=[\n",
    "        REDUCTION_RATE_DICT_TRAIN,\n",
    "        VAR_STRATIFIED_DICT_TRAIN,\n",
    "    ],\n",
    "    var_random=VAR_RANDOM_TRAIN,\n",
    "    target=TARGET,\n",
    "    method_name=METHOD_NAME,\n",
    "    title_size=TITLE_SIZE,\n",
    "    label_size=LABEL_SIZE,\n",
    "    tick_size=TICK_SIZE,\n",
    ")"
   ]
  },
  {
   "cell_type": "markdown",
   "metadata": {},
   "source": [
    "### テストデータの結果"
   ]
  },
  {
   "cell_type": "code",
   "execution_count": 47,
   "metadata": {},
   "outputs": [
    {
     "data": {
      "image/png": "[encoded data removed]",
      "text/plain": [
       "<Figure size 800x250 with 2 Axes>"
      ]
     },
     "metadata": {},
     "output_type": "display_data"
    }
   ],
   "source": [
    "plot_bars(\n",
    "    dicts=[\n",
    "        REDUCTION_RATE_DICT_TEST,\n",
    "        VAR_STRATIFIED_DICT_TEST,\n",
    "    ],\n",
    "    var_random=VAR_RANDOM_TEST,\n",
    "    target=TARGET,\n",
    "    method_name=METHOD_NAME,\n",
    "    title_size=TITLE_SIZE,\n",
    "    label_size=LABEL_SIZE,\n",
    "    tick_size=TICK_SIZE,\n",
    ")"
   ]
  },
  {
   "cell_type": "markdown",
   "metadata": {},
   "source": [
    "### 確認用"
   ]
  },
  {
   "cell_type": "code",
   "execution_count": 48,
   "metadata": {},
   "outputs": [
    {
     "name": "stdout",
     "output_type": "stream",
     "text": [
      "外れ値除外前のデータ数（訓練+テスト）: 200000\n",
      "外れ値除外後のデータ数（訓練+テスト）: 198151\n",
      "訓練データのデータ数: 99075\n",
      "テストデータのデータ数: 99076\n"
     ]
    }
   ],
   "source": [
    "# データ\n",
    "print(\"外れ値除外前のデータ数（訓練+テスト）:\", DATA_SIZE)\n",
    "print(\"外れ値除外後のデータ数（訓練+テスト）:\", len(df))\n",
    "print(\"訓練データのデータ数:\", len(X_train))\n",
    "print(\"テストデータのデータ数:\", len(X_test))\n"
   ]
  },
  {
   "cell_type": "code",
   "execution_count": 49,
   "metadata": {},
   "outputs": [
    {
     "name": "stdout",
     "output_type": "stream",
     "text": [
      "【Proportional】\n",
      "選択された特徴量： [ 5  3  1  4 15]\n",
      "特徴量選択にかかった時間：2324.172 s\n",
      "\n",
      "【Post】\n",
      "選択された特徴量： [ 5 14  6  0  9]\n",
      "特徴量選択にかかった時間：1410.815 s\n",
      "\n",
      "【Optimal】\n",
      "選択された特徴量： [ 3  5  1  0 14]\n",
      "特徴量選択にかかった時間：4125.762 s\n",
      "\n"
     ]
    }
   ],
   "source": [
    "# 特徴量選択\n",
    "for allocation_method in ALLOCATION_METHODS:\n",
    "    print(f\"【{allocation_method}】\")\n",
    "    print(\"選択された特徴量：\", SELECTED_FEATURES_DICT[allocation_method])\n",
    "    print(f\"特徴量選択にかかった時間：{round(TIME_DICT[allocation_method], 3)} s\")\n",
    "    print()\n"
   ]
  },
  {
   "cell_type": "code",
   "execution_count": 50,
   "metadata": {},
   "outputs": [
    {
     "name": "stdout",
     "output_type": "stream",
     "text": [
      "訓練データ\n",
      "Proportional：[  477 72417  3175 23005     1]\n",
      "Post：[ 1310 22428   915 27676 46746]\n",
      "Optimal：[  110 31133 56346  1695  9791]\n",
      "テストデータ\n",
      "Proportional：[  510 72519  3235 22812]\n",
      "Post：[ 1312 22761   986 27793 46224]\n",
      "Optimal：[  122 31368 56180  1715  9691]\n"
     ]
    }
   ],
   "source": [
    "print(\"訓練データ\")\n",
    "for allocation_method in ALLOCATION_METHODS:\n",
    "    print(f\"{allocation_method}：{CLUSTER_SIZE_DICT_TRAIN[allocation_method]}\")\n",
    "\n",
    "print(\"テストデータ\")\n",
    "for allocation_method in ALLOCATION_METHODS:\n",
    "    print(f\"{allocation_method}：{CLUSTER_SIZE_DICT_TEST[allocation_method]}\")\n"
   ]
  },
  {
   "cell_type": "code",
   "execution_count": 51,
   "metadata": {},
   "outputs": [
    {
     "name": "stdout",
     "output_type": "stream",
     "text": [
      "var_random_train = 238051.96263906235\n",
      "var_random_test = 238508.6545548929\n"
     ]
    }
   ],
   "source": [
    "print(\"var_random_train =\", VAR_RANDOM_TRAIN)\n",
    "print(\"var_random_test =\", VAR_RANDOM_TEST)"
   ]
  },
  {
   "cell_type": "code",
   "execution_count": 52,
   "metadata": {},
   "outputs": [
    {
     "name": "stdout",
     "output_type": "stream",
     "text": [
      "var_once_dict_train = {'Proportional': 206701.574159619, 'Post': 208552.72249021978, 'Optimal': 186323.887879098}\n",
      "var_once_dict_test = {'Proportional': 210845.32887297482, 'Post': 214883.77222321363, 'Optimal': 187700.31904806755}\n"
     ]
    }
   ],
   "source": [
    "print(\"var_once_dict_train =\", VAR_STRATIFIED_DICT_TRAIN)\n",
    "print(\"var_once_dict_test =\", VAR_STRATIFIED_DICT_TEST)\n"
   ]
  }
 ],
 "metadata": {
  "kernelspec": {
   "display_name": ".venv",
   "language": "python",
   "name": "python3"
  },
  "language_info": {
   "codemirror_mode": {
    "name": "ipython",
    "version": 3
   },
   "file_extension": ".py",
   "mimetype": "text/x-python",
   "name": "python",
   "nbconvert_exporter": "python",
   "pygments_lexer": "ipython3",
   "version": "3.12.4"
  }
 },
 "nbformat": 4,
 "nbformat_minor": 2
}
