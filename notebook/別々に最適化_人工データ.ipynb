{
 "cells": [
  {
   "cell_type": "markdown",
   "metadata": {},
   "source": [
    "-------------\n",
    "# １．ライブラリのインポート"
   ]
  },
  {
   "cell_type": "code",
   "execution_count": 1,
   "metadata": {},
   "outputs": [],
   "source": [
    "# 基本的なライブラリ\n",
    "import numpy as np\n",
    "import pandas as pd\n",
    "from numpy.typing import NDArray\n",
    "from scipy import stats\n",
    "\n",
    "# Scikit-learn関連\n",
    "from sklearn.base import BaseEstimator, TransformerMixin\n",
    "from sklearn.mixture import GaussianMixture\n",
    "from sklearn.preprocessing import StandardScaler\n",
    "from sklearn.cluster import KMeans\n",
    "from sklearn.utils.validation import check_X_y\n",
    "from sklearn.linear_model import Lasso\n",
    "\n",
    "# 抽象基底クラス (ABC)\n",
    "from abc import ABCMeta, abstractmethod\n",
    "\n",
    "# タイピングのサポート\n",
    "from typing import Optional\n",
    "\n",
    "# 可視化の設定\n",
    "import matplotlib.pyplot as plt\n",
    "import japanize_matplotlib\n",
    "import itertools\n",
    "\n",
    "plt.style.use(\"ggplot\")\n",
    "\n",
    "import time"
   ]
  },
  {
   "cell_type": "markdown",
   "metadata": {},
   "source": [
    "--------\n",
    "# ２．実験設定"
   ]
  },
  {
   "cell_type": "markdown",
   "metadata": {},
   "source": [
    "## 2.1 実験設定"
   ]
  },
  {
   "cell_type": "code",
   "execution_count": 2,
   "metadata": {},
   "outputs": [],
   "source": [
    "### 実験データの設定 ###\n",
    "n = 100000  # データサイズ\n",
    "p = 20  # 特徴量数\n",
    "s = 5  # 非ゼロ係数の数\n",
    "rho = 0.35  # 相関レベル\n",
    "snr = 1  # 信号対雑音比\n",
    "beta_type = \"first_large\"\n",
    "\n",
    "ALL_FEATURES_INDEX = [i for i in range(p)]\n",
    "\n",
    "### 実験設定 ###\n",
    "SAMPLE_SIZE = 100  # 標本サイズ\n",
    "N_TRIALS = 10000  # 試行回数（標本抽出を行う回数）\n",
    "m_VALUE = 2  # 最適標本配分における各クラスタの最小標本数\n",
    "RANDOM_STATE = 0  # 乱数シード\n",
    "SEED = 0\n",
    "\n",
    "### 実験方法 ###\n",
    "# クラスタリング\n",
    "CLUSTERING_METHOD_LIST = [\"kmeans\"]  # [\"gmm\", \"kmeans\", \"xmeans\"]\n",
    "N_CLUSTERS = 6  # クラスタ数（Kmeans と GMM）\n",
    "K_MIN = 2  # 最小クラスタ数（Xmeans)\n",
    "K_MAX = 10  # 最大クラスタ数(Xmeans)\n",
    "\n",
    "# 特徴量選択\n",
    "CRITERION_LIST = [\n",
    "    \"none\",\n",
    "    \"lasso\",  # \"lasso\" を選択した場合はalphaも調節する\n",
    "    \"ml\",\n",
    "    \"ml(obj)\",\n",
    "    # \"checking\"\n",
    "]\n",
    "LASSO_ALPHA = 0.035  # 選ばれる特徴量の数を確認して調節\n",
    "SELECT_MAXIMUM_FEATURES = \"yes\"  # \"yes\" or \"no\"（特徴量数が MAXIMUM_FEATURES_TO_SELECT になるまで選ぶかいなか）\n",
    "MAXIMUM_FEATURES_TO_SELECT = s  # 選択される最大の特徴量(特徴量選択ありの場合)\n",
    "FEATURES_LIST_CHECKING = [0]  # 特徴量を指定するとき（特徴量選択基準：\"checking\"の場合)\n",
    "\n",
    "# 標本配分\n",
    "ALLOCATION_LIST = [\n",
    "    \"Proportional\",\n",
    "    \"Post\",\n",
    "    \"Optimal\",\n",
    "]\n",
    "\n",
    "\n",
    "### 可視化 ###\n",
    "TITLE_SIZE = 20\n",
    "LABEL_SIZE = 15\n",
    "TICK_SIZE = 12.5"
   ]
  },
  {
   "cell_type": "markdown",
   "metadata": {},
   "source": [
    "## 2.2 各手法の名前"
   ]
  },
  {
   "cell_type": "code",
   "execution_count": 3,
   "metadata": {},
   "outputs": [
    {
     "name": "stdout",
     "output_type": "stream",
     "text": [
      "METHODS_NAME_DICT {('none', 'kmeans'): 'Kmeans', ('lasso', 'kmeans'): 'Lasso-Kmeans', ('ml', 'kmeans'): 'SFS-Kmeans-F', ('ml(obj)', 'kmeans'): 'SFS-Kmeans-T'}\n"
     ]
    }
   ],
   "source": [
    "stratification_methods = list(itertools.product(CRITERION_LIST, CLUSTERING_METHOD_LIST))\n",
    "METHODS_NAME_DICT = {}\n",
    "for method in stratification_methods:\n",
    "    if method == (\"none\", \"kmeans\"):\n",
    "        METHODS_NAME_DICT[method] = \"Kmeans\"\n",
    "    if method == (\"none\", \"xmeans\"):\n",
    "        METHODS_NAME_DICT[method] = \"Xmeans\"\n",
    "    if method == (\"none\", \"gmm\"):\n",
    "        METHODS_NAME_DICT[method] = \"GMM\"\n",
    "\n",
    "    if method == (\"ml\", \"kmeans\"):\n",
    "        METHODS_NAME_DICT[method] = \"SFS-Kmeans-F\"\n",
    "    if method == (\"ml\", \"xmeans\"):\n",
    "        METHODS_NAME_DICT[method] = \"SFS-Xmeans-F\"\n",
    "    if method == (\"ml\", \"gmm\"):\n",
    "        METHODS_NAME_DICT[method] = \"SFS-GMM-Loglikelyhood\"\n",
    "\n",
    "    if method == (\"checking\", \"kmeans\"):\n",
    "        METHODS_NAME_DICT[method] = f\"Kmeans ({FEATURES_LIST_CHECKING})\"\n",
    "    if method == (\"checking\", \"xmeans\"):\n",
    "        METHODS_NAME_DICT[method] = f\"Xmeans ({FEATURES_LIST_CHECKING})\"\n",
    "    if method == (\"checking\", \"gmm\"):\n",
    "        METHODS_NAME_DICT[method] = f\"GMM ({FEATURES_LIST_CHECKING})\"\n",
    "\n",
    "    if method == (\"lasso\", \"kmeans\"):\n",
    "        METHODS_NAME_DICT[method] = \"Lasso-Kmeans\"\n",
    "    if method == (\"lasso\", \"xmeans\"):\n",
    "        METHODS_NAME_DICT[method] = \"Lasso-Xmeans\"\n",
    "    if method == (\"lasso\", \"gmm\"):\n",
    "        METHODS_NAME_DICT[method] = \"Lasso-GMM\"\n",
    "\n",
    "    if method == (\"ml(obj)\", \"kmeans\"):\n",
    "        METHODS_NAME_DICT[method] = \"SFS-Kmeans-T\"\n",
    "    if method == (\"ml(obj)\", \"xmeans\"):\n",
    "        METHODS_NAME_DICT[method] = \"SFS-Xmeans-T\"\n",
    "\n",
    "print(\"METHODS_NAME_DICT\", METHODS_NAME_DICT)"
   ]
  },
  {
   "cell_type": "markdown",
   "metadata": {},
   "source": [
    "-----------\n",
    "# ３．データの前処理"
   ]
  },
  {
   "cell_type": "markdown",
   "metadata": {},
   "source": [
    "## 3.1 データ作成"
   ]
  },
  {
   "cell_type": "code",
   "execution_count": 4,
   "metadata": {},
   "outputs": [],
   "source": [
    "def simulate_data(n, p, s, rho, snr, beta_type, seed):\n",
    "    np.random.seed(seed)\n",
    "\n",
    "    # # 1. β₀の生成\n",
    "    beta = np.zeros(p)\n",
    "    if beta_type == \"all_one\":\n",
    "        beta[:s] = 1\n",
    "    if beta_type == \"first_large\":\n",
    "        beta[0] = 3\n",
    "        beta[1:s] = 0.5\n",
    "\n",
    "    # 2. 共分散行列Σの生成\n",
    "    Sigma = np.fromfunction(lambda i, j: rho ** np.abs(i - j), (p, p), dtype=int)\n",
    "\n",
    "    # 3. Xの生成 (多変量正規分布)\n",
    "    X = np.random.multivariate_normal(mean=np.zeros(p), cov=Sigma, size=n)\n",
    "\n",
    "    # 4. 応答変数Yの生成\n",
    "    signal_variance = beta.T @ Sigma @ beta  # β₀の分散\n",
    "    noise_variance = signal_variance / snr  # ノイズ分散 σ²\n",
    "    noise = np.random.normal(scale=np.sqrt(noise_variance), size=n)  # ノイズ項\n",
    "    Y = X @ beta + noise\n",
    "\n",
    "    return X, Y, beta"
   ]
  },
  {
   "cell_type": "code",
   "execution_count": 5,
   "metadata": {},
   "outputs": [],
   "source": [
    "X_train, y_train, beta_train = simulate_data(n, p, s, rho, snr, beta_type, seed=0)\n",
    "X_test, y_test, beta_test = simulate_data(n, p, s, rho, snr, beta_type, seed=1)"
   ]
  },
  {
   "cell_type": "markdown",
   "metadata": {},
   "source": [
    "## 3.5 標準化"
   ]
  },
  {
   "cell_type": "code",
   "execution_count": 6,
   "metadata": {},
   "outputs": [],
   "source": [
    "sc = StandardScaler()\n",
    "# 訓練データに基づいてfit\n",
    "sc.fit(X_train)\n",
    "X_train_std = sc.transform(X_train)\n",
    "X_test_std = sc.transform(X_test)"
   ]
  },
  {
   "cell_type": "markdown",
   "metadata": {},
   "source": [
    "-------------\n",
    "# 4. 特徴量選択"
   ]
  },
  {
   "cell_type": "code",
   "execution_count": 7,
   "metadata": {},
   "outputs": [],
   "source": [
    "TIME_DICT = {}\n",
    "SELECTED_FEATURES_DICT = {}"
   ]
  },
  {
   "cell_type": "markdown",
   "metadata": {},
   "source": [
    "## 4.1 特徴量選択なしの場合"
   ]
  },
  {
   "cell_type": "code",
   "execution_count": 8,
   "metadata": {},
   "outputs": [],
   "source": [
    "for method, name in METHODS_NAME_DICT.items():\n",
    "    if method[0] == \"none\":\n",
    "        SELECTED_FEATURES_DICT[name] = np.array(ALL_FEATURES_INDEX)\n",
    "        TIME_DICT[name] = 0\n",
    "    if method[0] == \"checking\":\n",
    "        SELECTED_FEATURES_DICT[name] = np.array(FEATURES_LIST_CHECKING)\n",
    "        TIME_DICT[name] = 0"
   ]
  },
  {
   "cell_type": "markdown",
   "metadata": {},
   "source": [
    "## 4.2 Lasso で特徴量選択する場合"
   ]
  },
  {
   "cell_type": "code",
   "execution_count": 9,
   "metadata": {},
   "outputs": [],
   "source": [
    "def lasso(X: NDArray, y: NDArray, alpha: float) -> list:\n",
    "    lasso = Lasso(alpha=alpha)\n",
    "    lasso.fit(X, y)\n",
    "    features_list = np.where(lasso.coef_ != 0)[0]\n",
    "    return features_list"
   ]
  },
  {
   "cell_type": "code",
   "execution_count": 10,
   "metadata": {},
   "outputs": [
    {
     "name": "stdout",
     "output_type": "stream",
     "text": [
      "[0 1 2 3 4]\n"
     ]
    }
   ],
   "source": [
    "if \"lasso\" in CRITERION_LIST:\n",
    "    start_time = time.time()\n",
    "    selected_features_index = lasso(X_train_std, y_train, alpha=LASSO_ALPHA)\n",
    "    end_time = time.time()\n",
    "\n",
    "    for method, name in METHODS_NAME_DICT.items():\n",
    "        if method[0] == \"lasso\":\n",
    "            SELECTED_FEATURES_DICT[name] = selected_features_index\n",
    "            TIME_DICT[name] = end_time - start_time\n",
    "\n",
    "    print(selected_features_index)"
   ]
  },
  {
   "cell_type": "markdown",
   "metadata": {},
   "source": [
    "## 4.3 Wrapper法 で特徴量選択する場合"
   ]
  },
  {
   "cell_type": "markdown",
   "metadata": {},
   "source": [
    "### 準備"
   ]
  },
  {
   "cell_type": "code",
   "execution_count": 11,
   "metadata": {},
   "outputs": [],
   "source": [
    "class Wrapper(BaseEstimator, TransformerMixin):\n",
    "    def __init__(\n",
    "        self,\n",
    "        maximum_features_to_select: int,\n",
    "        n_clusters: int,\n",
    "        criterion: str,\n",
    "        clustering_method: str,\n",
    "        random_state: int = 0,\n",
    "        select_maximum_features: str = \"yes\",\n",
    "        k_min: int = 2,\n",
    "        k_max: int = 10,\n",
    "    ):\n",
    "        self.maximum_features_to_select = maximum_features_to_select\n",
    "        self.n_clusters = n_clusters\n",
    "        self.criterion = criterion\n",
    "        self.clustering_method = clustering_method\n",
    "        self.random_state = random_state\n",
    "        self.select_maximum_features = select_maximum_features\n",
    "        self.k_min = k_min\n",
    "        self.k_max = k_max\n",
    "\n",
    "    def fss(self, X: NDArray, y: NDArray) -> \"Wrapper\":\n",
    "        X, y = check_X_y(X, y)\n",
    "        n_all_features = X.shape[1]  # 総特徴量数\n",
    "\n",
    "        ##### 初期化 #####\n",
    "        features_score_dict = {}  # スコアの推移の確認用\n",
    "        current_features = []  # 選択された特徴量\n",
    "        remaining_features = list(range(n_all_features))  # 選択されていない特徴量\n",
    "\n",
    "        if self.select_maximum_features == \"no\":\n",
    "            best_score = -np.inf  # 初期スコア（特徴量を最大数選ぶとは限らないとき）\n",
    "\n",
    "        ##### 特徴量選択とクラスタリング #####\n",
    "        while len(current_features) < self.maximum_features_to_select:\n",
    "            best_feature = None\n",
    "            if self.select_maximum_features == \"yes\":\n",
    "                best_score = -np.inf  # 初期スコア（特徴量を最大数選ぶとき）\n",
    "\n",
    "            for feature in remaining_features:\n",
    "                temp_features = current_features + [\n",
    "                    feature\n",
    "                ]  # スコアを調べたい特徴量サブセット\n",
    "\n",
    "                score, labels = self.crit(X[:, temp_features], y)\n",
    "                if score > best_score:\n",
    "                    best_score = score\n",
    "                    best_feature = feature\n",
    "                    best_labels = np.array(labels)\n",
    "                    best_cluster_size = np.bincount(best_labels)\n",
    "                    best_n_clusters = len(np.unique(best_labels))\n",
    "\n",
    "            # 選択された特徴量をcurrent_featuresに追加し、remaining_features から除外\n",
    "            if best_feature is not None:\n",
    "                current_features.append(best_feature)\n",
    "                remaining_features.remove(best_feature)\n",
    "                num_of_features = len(current_features)\n",
    "                print(\n",
    "                    \"num_of_features:\",\n",
    "                    num_of_features,\n",
    "                    \"current_features:\",\n",
    "                    current_features,\n",
    "                    \", score:\",\n",
    "                    best_score,\n",
    "                    \"best_n_clusters:\",\n",
    "                    best_n_clusters,\n",
    "                    \"best_cluster_size\",\n",
    "                    best_cluster_size,\n",
    "                )\n",
    "                features_score_dict[str(num_of_features)] = best_score  # スコア確認用\n",
    "\n",
    "            else:\n",
    "                break\n",
    "\n",
    "        ##### 最終的な特徴量とクラスタリング結果 #####\n",
    "        self.selected_features_index = current_features\n",
    "        self.features_score_dict = features_score_dict\n",
    "\n",
    "        return self\n",
    "\n",
    "    def crit(self, X: NDArray, y: NDArray) -> tuple[float, list, int]:\n",
    "        # クラスタリング手法がGMMの場合\n",
    "        if self.clustering_method == \"gmm\":\n",
    "            model = GaussianMixture(\n",
    "                n_components=self.n_clusters,\n",
    "                random_state=self.random_state,\n",
    "                init_params=\"kmeans\",\n",
    "            )\n",
    "        if self.clustering_method == \"kmeans\":\n",
    "            model = KMeans(\n",
    "                n_clusters=self.n_clusters,\n",
    "                random_state=self.random_state,\n",
    "            )\n",
    "        if self.clustering_method == \"xmeans\":\n",
    "            model = self.xmeans(X)\n",
    "\n",
    "        model.fit(X)\n",
    "        labels = model.predict(X)\n",
    "\n",
    "        if self.criterion == \"ml\":\n",
    "            score = model.score(X)\n",
    "        elif self.criterion == \"ml(obj)\" and (\n",
    "            self.clustering_method == \"kmeans\" or self.clustering_method == \"xmeans\"\n",
    "        ):\n",
    "            tss = 0\n",
    "            for k in np.unique(labels):\n",
    "                y_k = y[labels == k]\n",
    "                mean_y_k = np.mean(y_k)\n",
    "                tss += np.sum((y_k - mean_y_k) ** 2)\n",
    "            score = -tss\n",
    "\n",
    "        return score, labels\n",
    "\n",
    "    def compute_bic(self, X: NDArray, kmeans: KMeans) -> float:\n",
    "        # クラスタリング結果の取得\n",
    "        labels = kmeans.labels_\n",
    "        clusters = kmeans.cluster_centers_\n",
    "        n_clusters = len(clusters)\n",
    "        n = len(X)\n",
    "        m = X.shape[1]\n",
    "        # クラスター内の分散の合計\n",
    "        variance = np.sum(\n",
    "            [\n",
    "                np.linalg.norm(X[labels == i] - clusters[i], axis=1).sum()\n",
    "                for i in range(n_clusters)\n",
    "            ]\n",
    "        )\n",
    "        # BIC の計算\n",
    "        bic = np.log(n) * n_clusters * m + n * np.log(variance / n)\n",
    "        return bic\n",
    "\n",
    "    def xmeans(self, X: NDArray) -> KMeans:\n",
    "        kmeans = KMeans(\n",
    "            n_clusters=self.k_min, random_state=self.random_state\n",
    "        )  # 初期クラスター数で KMeans を実行\n",
    "        kmeans.fit(X)\n",
    "        best_bic = self.compute_bic(X, kmeans)\n",
    "        best_kmeans = kmeans\n",
    "        for k in range(self.k_min + 1, self.k_max + 1):\n",
    "            kmeans = KMeans(n_clusters=k, random_state=self.random_state)\n",
    "            kmeans.fit(X)\n",
    "            # BIC を計算\n",
    "            current_bic = self.compute_bic(X, kmeans)\n",
    "            # BIC が改善される場合、クラスタ数を更新\n",
    "            if current_bic < best_bic:\n",
    "                best_bic = current_bic\n",
    "                best_kmeans = kmeans\n",
    "        # 最適なクラスタリング結果を返す\n",
    "        return best_kmeans\n",
    "\n",
    "    def get_selected_features_index(self) -> list:\n",
    "        return self.selected_features_index  # 最終的に選択された特徴量のインデックス\n",
    "\n",
    "    def get_features_score_dict(self) -> dict:\n",
    "        return self.features_score_dict  # スコアの推移（確認用）"
   ]
  },
  {
   "cell_type": "code",
   "execution_count": 12,
   "metadata": {},
   "outputs": [],
   "source": [
    "def process_wrapper(\n",
    "    instance: \"Wrapper\", X: NDArray, y: NDArray\n",
    ") -> tuple[list, dict[int, float]]:\n",
    "    instance.fss(X, y)\n",
    "    selected_features_index = instance.get_selected_features_index()\n",
    "    features_score_dict = instance.get_features_score_dict()\n",
    "    selected_features_index = np.array(selected_features_index)\n",
    "\n",
    "    return selected_features_index, features_score_dict"
   ]
  },
  {
   "cell_type": "markdown",
   "metadata": {},
   "source": [
    "### インスタンスのリスト作成"
   ]
  },
  {
   "cell_type": "code",
   "execution_count": 13,
   "metadata": {},
   "outputs": [
    {
     "name": "stdout",
     "output_type": "stream",
     "text": [
      "[('SFS-Kmeans-F', Wrapper(clustering_method='kmeans', criterion='ml',\n",
      "        maximum_features_to_select=5, n_clusters=6)), ('SFS-Kmeans-T', Wrapper(clustering_method='kmeans', criterion='ml(obj)',\n",
      "        maximum_features_to_select=5, n_clusters=6))]\n"
     ]
    }
   ],
   "source": [
    "instances = []\n",
    "for method, name in METHODS_NAME_DICT.items():\n",
    "    if method[0] == \"ml\" or method[0] == \"ml(obj)\":\n",
    "        instances.append(\n",
    "            (\n",
    "                name,\n",
    "                Wrapper(\n",
    "                    maximum_features_to_select=MAXIMUM_FEATURES_TO_SELECT,\n",
    "                    n_clusters=N_CLUSTERS,\n",
    "                    criterion=method[0],\n",
    "                    clustering_method=method[1],\n",
    "                    random_state=RANDOM_STATE,\n",
    "                    select_maximum_features=SELECT_MAXIMUM_FEATURES,\n",
    "                    k_min=K_MIN,\n",
    "                    k_max=K_MAX,\n",
    "                ),\n",
    "            )\n",
    "        )\n",
    "print(instances)"
   ]
  },
  {
   "cell_type": "markdown",
   "metadata": {},
   "source": [
    "### Wrapper 法実施"
   ]
  },
  {
   "cell_type": "code",
   "execution_count": 14,
   "metadata": {},
   "outputs": [
    {
     "name": "stdout",
     "output_type": "stream",
     "text": [
      "[ SFS-Kmeans-F ]\n",
      "num_of_features: 1 current_features: [5] , score: -5754.662579908298 best_n_clusters: 6 best_cluster_size [24997  8756  6527 23508 19640 16572]\n",
      "num_of_features: 2 current_features: [5, 4] , score: -47688.91576796299 best_n_clusters: 6 best_cluster_size [16720 17171 11312 21287 11254 22256]\n",
      "num_of_features: 3 current_features: [5, 4, 3] , score: -112448.8169072631 best_n_clusters: 6 best_cluster_size [17740 14098 17427 17839 18531 14365]\n",
      "num_of_features: 4 current_features: [5, 4, 3, 2] , score: -186611.52773246882 best_n_clusters: 6 best_cluster_size [13900 17775 17930 18799 13738 17858]\n",
      "num_of_features: 5 current_features: [5, 4, 3, 2, 1] , score: -265632.06026563095 best_n_clusters: 6 best_cluster_size [18137 17413 14945 15277 17132 17096]\n",
      "[ SFS-Kmeans-T ]\n",
      "num_of_features: 1 current_features: [0] , score: -1459494.4203114999 best_n_clusters: 6 best_cluster_size [23580 19888  8832  6185 25371 16144]\n",
      "num_of_features: 2 current_features: [0, 1] , score: -1578276.1940241363 best_n_clusters: 6 best_cluster_size [15826 15105 14063 23785 15233 15988]\n",
      "num_of_features: 3 current_features: [0, 1, 4] , score: -1645858.5787597 best_n_clusters: 6 best_cluster_size [19522 17958 13420 17615 17710 13775]\n",
      "num_of_features: 4 current_features: [0, 1, 4, 2] , score: -1723171.2955238628 best_n_clusters: 6 best_cluster_size [17742 17984 15377 16756 15654 16487]\n",
      "num_of_features: 5 current_features: [0, 1, 4, 2, 3] , score: -1757190.683475755 best_n_clusters: 6 best_cluster_size [17959 17785 16913 15176 15251 16916]\n"
     ]
    }
   ],
   "source": [
    "features_score_dict_dict = {}  # スコア推移確認用\n",
    "\n",
    "# 各インスタンスに対して処理を実行\n",
    "for method_name, instance in instances:\n",
    "    print(\"[\", method_name, \"]\")\n",
    "    start_time = time.time()\n",
    "    selected_features_index, features_score_dict = process_wrapper(\n",
    "        instance, X_train_std, y_train\n",
    "    )\n",
    "    end_time = time.time()\n",
    "\n",
    "    SELECTED_FEATURES_DICT[method_name] = selected_features_index\n",
    "    TIME_DICT[method_name] = end_time - start_time\n",
    "\n",
    "    features_score_dict_dict[method_name] = features_score_dict  # スコア推移確認用"
   ]
  },
  {
   "cell_type": "markdown",
   "metadata": {},
   "source": [
    "## 4.4 特徴量選択の結果"
   ]
  },
  {
   "cell_type": "markdown",
   "metadata": {},
   "source": [
    "### Wrapper 法のスコア推移"
   ]
  },
  {
   "cell_type": "code",
   "execution_count": 15,
   "metadata": {},
   "outputs": [
    {
     "data": {
      "image/png": "[encoded data removed]",
      "text/plain": [
       "<Figure size 500x300 with 1 Axes>"
      ]
     },
     "metadata": {},
     "output_type": "display_data"
    },
    {
     "data": {
      "image/png": "[encoded data removed]",
      "text/plain": [
       "<Figure size 500x300 with 1 Axes>"
      ]
     },
     "metadata": {},
     "output_type": "display_data"
    }
   ],
   "source": [
    "for method_name, instance in instances:\n",
    "    # 棒グラフを作成\n",
    "    plt.figure(figsize=(5, 3))\n",
    "    plt.bar(\n",
    "        features_score_dict_dict[method_name].keys(),\n",
    "        features_score_dict_dict[method_name].values(),\n",
    "    )\n",
    "    plt.title(f\"{method_name}\", fontsize=TITLE_SIZE)\n",
    "    plt.xlabel(\"Number of features\", fontsize=LABEL_SIZE)\n",
    "    plt.ylabel(\"Evaluation value\", fontsize=LABEL_SIZE)\n",
    "    # plt.ylim(,)\n",
    "    plt.tick_params(axis=\"both\", labelsize=TICK_SIZE)\n",
    "    plt.show()"
   ]
  },
  {
   "cell_type": "markdown",
   "metadata": {},
   "source": [
    "### 特徴量選択の結果"
   ]
  },
  {
   "cell_type": "code",
   "execution_count": 16,
   "metadata": {},
   "outputs": [
    {
     "name": "stdout",
     "output_type": "stream",
     "text": [
      "【Kmeans】\n",
      "選択された特徴量： [ 0  1  2  3  4  5  6  7  8  9 10 11 12 13 14 15 16 17 18 19]\n",
      "特徴量選択にかかった時間：0 s\n",
      "\n",
      "【Lasso-Kmeans】\n",
      "選択された特徴量： [0 1 2 3 4]\n",
      "特徴量選択にかかった時間：0.865 s\n",
      "\n",
      "【SFS-Kmeans-F】\n",
      "選択された特徴量： [5 4 3 2 1]\n",
      "特徴量選択にかかった時間：12.179 s\n",
      "\n",
      "【SFS-Kmeans-T】\n",
      "選択された特徴量： [0 1 4 2 3]\n",
      "特徴量選択にかかった時間：10.201 s\n",
      "\n"
     ]
    }
   ],
   "source": [
    "for _, method_name in METHODS_NAME_DICT.items():\n",
    "    print(f\"【{method_name}】\")\n",
    "    print(\"選択された特徴量：\", SELECTED_FEATURES_DICT[method_name])\n",
    "    print(f\"特徴量選択にかかった時間：{round(TIME_DICT[method_name], 3)} s\")\n",
    "    print()"
   ]
  },
  {
   "cell_type": "markdown",
   "metadata": {},
   "source": [
    "-----------\n",
    "# 5. クラスタリングと標本配分"
   ]
  },
  {
   "cell_type": "markdown",
   "metadata": {},
   "source": [
    "## 5.1 クラスタリング"
   ]
  },
  {
   "cell_type": "markdown",
   "metadata": {},
   "source": [
    "### 準備"
   ]
  },
  {
   "cell_type": "code",
   "execution_count": 17,
   "metadata": {},
   "outputs": [],
   "source": [
    "def compute_bic(X: NDArray, kmeans: KMeans) -> float:\n",
    "    labels = kmeans.labels_\n",
    "    clusters = kmeans.cluster_centers_\n",
    "    n_clusters = len(clusters)\n",
    "    n = len(X)\n",
    "    m = X.shape[1]\n",
    "    variance = np.sum(\n",
    "        [\n",
    "            np.linalg.norm(X[labels == i] - clusters[i], axis=1).sum()\n",
    "            for i in range(n_clusters)\n",
    "        ]\n",
    "    )\n",
    "    bic = np.log(n) * n_clusters * m + n * np.log(variance / n)\n",
    "    return bic\n",
    "\n",
    "\n",
    "def xmeans(X: NDArray, k_min: int, k_max: int) -> KMeans:\n",
    "    kmeans = KMeans(n_clusters=k_min, random_state=RANDOM_STATE)\n",
    "    kmeans.fit(X)\n",
    "    best_bic = compute_bic(X, kmeans)\n",
    "    best_kmeans = kmeans\n",
    "    for k in range(k_min + 1, k_max + 1):\n",
    "        kmeans = KMeans(n_clusters=k, random_state=RANDOM_STATE)\n",
    "        kmeans.fit(X)\n",
    "        current_bic = compute_bic(X, kmeans)\n",
    "        if current_bic < best_bic:\n",
    "            best_bic = current_bic\n",
    "            best_kmeans = kmeans\n",
    "    return best_kmeans"
   ]
  },
  {
   "cell_type": "code",
   "execution_count": 18,
   "metadata": {},
   "outputs": [],
   "source": [
    "def clustering(\n",
    "    X_train: NDArray,\n",
    "    X_test: NDArray,\n",
    "    methods_name_dict: dict,\n",
    "    n_clusters: int,\n",
    "    random_state: int,\n",
    "    k_min: int,\n",
    "    k_max: int,\n",
    "    selected_features_dict: dict,\n",
    ") -> tuple[dict, dict, dict, dict]:\n",
    "    cluster_label_dict_train = {}\n",
    "    cluster_size_dict_train = {}\n",
    "    cluster_label_dict_test = {}\n",
    "    cluster_size_dict_test = {}\n",
    "\n",
    "    for method, name in methods_name_dict.items():\n",
    "        if method[1] == \"kmeans\":\n",
    "            model = KMeans(n_clusters=n_clusters, random_state=random_state)\n",
    "        if method[1] == \"gmm\":\n",
    "            model = GaussianMixture(\n",
    "                n_components=n_clusters, random_state=random_state, init_params=\"kmeans\"\n",
    "            )\n",
    "        if method[1] == \"xmeans\":\n",
    "            model = xmeans(X_train, k_min=k_min, k_max=k_max)\n",
    "\n",
    "        cluster_label_train = model.fit_predict(\n",
    "            X_train[:, selected_features_dict[name]]\n",
    "        )\n",
    "        cluster_size_train = np.bincount(cluster_label_train)\n",
    "        cluster_label_test = model.predict(X_test[:, selected_features_dict[name]])\n",
    "        cluster_size_test = np.bincount(cluster_label_test, minlength=n_clusters)\n",
    "\n",
    "        cluster_label_dict_train[name] = cluster_label_train\n",
    "        cluster_size_dict_train[name] = cluster_size_train\n",
    "        cluster_label_dict_test[name] = cluster_label_test\n",
    "        cluster_size_dict_test[name] = cluster_size_test\n",
    "\n",
    "    return (\n",
    "        cluster_label_dict_train,\n",
    "        cluster_size_dict_train,\n",
    "        cluster_label_dict_test,\n",
    "        cluster_size_dict_test,\n",
    "    )"
   ]
  },
  {
   "cell_type": "markdown",
   "metadata": {},
   "source": [
    "### クラスタリングの実施"
   ]
  },
  {
   "cell_type": "code",
   "execution_count": 19,
   "metadata": {},
   "outputs": [],
   "source": [
    "# 訓練データ\n",
    "(\n",
    "    CLUSTER_LABEL_DICT_TRAIN,\n",
    "    CLUSTER_SIZE_DICT_TRAIN,\n",
    "    CLUSTER_LABEL_DICT_TEST,\n",
    "    CLUSTER_SIZE_DICT_TEST,\n",
    ") = clustering(\n",
    "    X_train=X_train_std,\n",
    "    X_test=X_test_std,\n",
    "    methods_name_dict=METHODS_NAME_DICT,\n",
    "    n_clusters=N_CLUSTERS,\n",
    "    random_state=RANDOM_STATE,\n",
    "    k_min=K_MIN,\n",
    "    k_max=K_MAX,\n",
    "    selected_features_dict=SELECTED_FEATURES_DICT,\n",
    ")"
   ]
  },
  {
   "cell_type": "code",
   "execution_count": 20,
   "metadata": {},
   "outputs": [],
   "source": [
    "def cauculate_cluster_size_dict_for_allocation(\n",
    "    cluster_size_dict: dict[str, NDArray], min_n_h: int\n",
    ") -> dict[str, list[int]]:\n",
    "    cluster_size_dict_for_allocation = {}\n",
    "    for method_name, cluster_size in cluster_size_dict.items():\n",
    "        cluster_size_list = []\n",
    "        for i in range(len(cluster_size)):\n",
    "            if cluster_size[i] >= min_n_h:\n",
    "                cluster_size_list.append(cluster_size[i])\n",
    "        cluster_size_dict_for_allocation[method_name] = cluster_size_list\n",
    "    return cluster_size_dict_for_allocation\n",
    "\n",
    "\n",
    "def cauculate_unique_label_dict_for_allocation(\n",
    "    cluster_size_dict: dict[str, NDArray], min_n_h\n",
    ") -> dict[str, list[int]]:\n",
    "    unique_label_dict_for_allocation = {}\n",
    "    for method_name, cluster_size in cluster_size_dict.items():\n",
    "        labels = []\n",
    "        for i in range(len(cluster_size)):\n",
    "            if cluster_size[i] >= min_n_h:\n",
    "                labels.append(i)\n",
    "        unique_label_dict_for_allocation[method_name] = labels\n",
    "    return unique_label_dict_for_allocation"
   ]
  },
  {
   "cell_type": "code",
   "execution_count": 21,
   "metadata": {},
   "outputs": [],
   "source": [
    "CLUSTER_SIZE_DICT_FOR_ALLOCATION_TRAIN = cauculate_cluster_size_dict_for_allocation(\n",
    "    cluster_size_dict=CLUSTER_SIZE_DICT_TRAIN, min_n_h=1\n",
    ")\n",
    "UNIQUE_LABEL_DICT_FOR_ALLOCATION_TRAIN = cauculate_unique_label_dict_for_allocation(\n",
    "    cluster_size_dict=CLUSTER_SIZE_DICT_TRAIN, min_n_h=1\n",
    ")\n",
    "CLUSTER_SIZE_DICT_FOR_ALLOCATION_TEST = cauculate_cluster_size_dict_for_allocation(\n",
    "    cluster_size_dict=CLUSTER_SIZE_DICT_TEST, min_n_h=1\n",
    ")\n",
    "UNIQUE_LABEL_DICT_FOR_ALLOCATION_TEST = cauculate_unique_label_dict_for_allocation(\n",
    "    cluster_size_dict=CLUSTER_SIZE_DICT_TEST, min_n_h=1\n",
    ")\n",
    "\n",
    "CLUSTER_SIZE_DICT_FOR_OPTIMAL_TRAIN = cauculate_cluster_size_dict_for_allocation(\n",
    "    cluster_size_dict=CLUSTER_SIZE_DICT_TRAIN, min_n_h=2\n",
    ")\n",
    "UNIQUE_LABEL_DICT_FOR_OPTIMAL_TRAIN = cauculate_unique_label_dict_for_allocation(\n",
    "    cluster_size_dict=CLUSTER_SIZE_DICT_TRAIN, min_n_h=2\n",
    ")\n",
    "CLUSTER_SIZE_DICT_FOR_OPTIMAL_TEST = cauculate_cluster_size_dict_for_allocation(\n",
    "    cluster_size_dict=CLUSTER_SIZE_DICT_TEST, min_n_h=2\n",
    ")\n",
    "UNIQUE_LABEL_DICT_FOR_OPTIMAL_TEST = cauculate_unique_label_dict_for_allocation(\n",
    "    cluster_size_dict=CLUSTER_SIZE_DICT_TEST, min_n_h=2\n",
    ")"
   ]
  },
  {
   "cell_type": "markdown",
   "metadata": {},
   "source": [
    "### クラスタリング結果"
   ]
  },
  {
   "cell_type": "code",
   "execution_count": 22,
   "metadata": {},
   "outputs": [
    {
     "name": "stdout",
     "output_type": "stream",
     "text": [
      "【訓練データ】\n",
      "Kmeans:[17217 17238 16848 16007 16202 16488]\n",
      "（クラスタサイズが１以上の層のみ：[17217, 17238, 16848, 16007, 16202, 16488]\n",
      "（クラスタサイズが２以上の層のみ：[17217, 17238, 16848, 16007, 16202, 16488]\n",
      "Lasso-Kmeans:[17959 17785 16913 15176 15251 16916]\n",
      "（クラスタサイズが１以上の層のみ：[17959, 17785, 16913, 15176, 15251, 16916]\n",
      "（クラスタサイズが２以上の層のみ：[17959, 17785, 16913, 15176, 15251, 16916]\n",
      "SFS-Kmeans-F:[18137 17413 14945 15277 17132 17096]\n",
      "（クラスタサイズが１以上の層のみ：[18137, 17413, 14945, 15277, 17132, 17096]\n",
      "（クラスタサイズが２以上の層のみ：[18137, 17413, 14945, 15277, 17132, 17096]\n",
      "SFS-Kmeans-T:[17959 17785 16913 15176 15251 16916]\n",
      "（クラスタサイズが１以上の層のみ：[17959, 17785, 16913, 15176, 15251, 16916]\n",
      "（クラスタサイズが２以上の層のみ：[17959, 17785, 16913, 15176, 15251, 16916]\n",
      "\n",
      "【テストデータ】\n",
      "Kmeans:[17157 17393 16790 15938 16292 16430]\n",
      "（クラスタサイズが１以上の層のみ：[17157, 17393, 16790, 15938, 16292, 16430]\n",
      "（クラスタサイズが２以上の層のみ：[17157, 17393, 16790, 15938, 16292, 16430]\n",
      "{'Kmeans': [0, 1, 2, 3, 4, 5], 'Lasso-Kmeans': [0, 1, 2, 3, 4, 5], 'SFS-Kmeans-F': [0, 1, 2, 3, 4, 5], 'SFS-Kmeans-T': [0, 1, 2, 3, 4, 5]}\n",
      "Lasso-Kmeans:[17881 17822 16957 15037 15157 17146]\n",
      "（クラスタサイズが１以上の層のみ：[17881, 17822, 16957, 15037, 15157, 17146]\n",
      "（クラスタサイズが２以上の層のみ：[17881, 17822, 16957, 15037, 15157, 17146]\n",
      "{'Kmeans': [0, 1, 2, 3, 4, 5], 'Lasso-Kmeans': [0, 1, 2, 3, 4, 5], 'SFS-Kmeans-F': [0, 1, 2, 3, 4, 5], 'SFS-Kmeans-T': [0, 1, 2, 3, 4, 5]}\n",
      "SFS-Kmeans-F:[18027 17493 14977 15379 17248 16876]\n",
      "（クラスタサイズが１以上の層のみ：[18027, 17493, 14977, 15379, 17248, 16876]\n",
      "（クラスタサイズが２以上の層のみ：[18027, 17493, 14977, 15379, 17248, 16876]\n",
      "{'Kmeans': [0, 1, 2, 3, 4, 5], 'Lasso-Kmeans': [0, 1, 2, 3, 4, 5], 'SFS-Kmeans-F': [0, 1, 2, 3, 4, 5], 'SFS-Kmeans-T': [0, 1, 2, 3, 4, 5]}\n",
      "SFS-Kmeans-T:[17881 17822 16957 15037 15157 17146]\n",
      "（クラスタサイズが１以上の層のみ：[17881, 17822, 16957, 15037, 15157, 17146]\n",
      "（クラスタサイズが２以上の層のみ：[17881, 17822, 16957, 15037, 15157, 17146]\n",
      "{'Kmeans': [0, 1, 2, 3, 4, 5], 'Lasso-Kmeans': [0, 1, 2, 3, 4, 5], 'SFS-Kmeans-F': [0, 1, 2, 3, 4, 5], 'SFS-Kmeans-T': [0, 1, 2, 3, 4, 5]}\n"
     ]
    }
   ],
   "source": [
    "print(\"【訓練データ】\")\n",
    "for _, method_name in METHODS_NAME_DICT.items():\n",
    "    print(f\"{method_name}:{CLUSTER_SIZE_DICT_TRAIN[method_name]}\")\n",
    "    print(\n",
    "        f\"（クラスタサイズが１以上の層のみ：{CLUSTER_SIZE_DICT_FOR_ALLOCATION_TRAIN[method_name]}\"\n",
    "    )\n",
    "    print(\n",
    "        f\"（クラスタサイズが２以上の層のみ：{CLUSTER_SIZE_DICT_FOR_OPTIMAL_TRAIN[method_name]}\"\n",
    "    )\n",
    "print()\n",
    "\n",
    "print(\"【テストデータ】\")\n",
    "for _, method_name in METHODS_NAME_DICT.items():\n",
    "    print(f\"{method_name}:{CLUSTER_SIZE_DICT_TEST[method_name]}\")\n",
    "    print(\n",
    "        f\"（クラスタサイズが１以上の層のみ：{CLUSTER_SIZE_DICT_FOR_ALLOCATION_TEST[method_name]}\"\n",
    "    )\n",
    "    print(\n",
    "        f\"（クラスタサイズが２以上の層のみ：{CLUSTER_SIZE_DICT_FOR_OPTIMAL_TEST[method_name]}\"\n",
    "    )\n",
    "\n",
    "    print(UNIQUE_LABEL_DICT_FOR_OPTIMAL_TRAIN)"
   ]
  },
  {
   "cell_type": "markdown",
   "metadata": {},
   "source": [
    "## 5.2 標本配分"
   ]
  },
  {
   "cell_type": "markdown",
   "metadata": {},
   "source": [
    "### 基底クラス"
   ]
  },
  {
   "cell_type": "code",
   "execution_count": 23,
   "metadata": {},
   "outputs": [],
   "source": [
    "class BaseAllocation(metaclass=ABCMeta):  # 抽象基底クラス（ABC）\n",
    "    # 初期化クラス（n_samples(標本サイズ), H(クラスタ数)）\n",
    "    def __init__(\n",
    "        self,\n",
    "        sample_size: int,\n",
    "        random_state: int,\n",
    "        method_name: str,\n",
    "        cluster_size_dict_for_allocation: dict,\n",
    "    ):\n",
    "        self.sample_size = sample_size\n",
    "        self.random_state = random_state\n",
    "        self.method_name = method_name\n",
    "        self.N = np.array(cluster_size_dict_for_allocation[self.method_name])\n",
    "\n",
    "    @abstractmethod\n",
    "    def solve(self, X: NDArray, y: NDArray) -> NDArray:\n",
    "        \"\"\"標本配分を解く\n",
    "\n",
    "        Args:\n",
    "            X (NDArray): データ (N x M)\n",
    "            y (NDArray): 目的変数 (N)\n",
    "\n",
    "        Raises:\n",
    "            NotImplementedError: _description_\n",
    "\n",
    "        Returns:\n",
    "            NDArray: 各クラスタの標本数 (H, )\n",
    "\n",
    "        Note:\n",
    "            M: 特徴量数\n",
    "            H: クラスタ数\n",
    "        \"\"\"\n",
    "        raise NotImplementedError"
   ]
  },
  {
   "cell_type": "markdown",
   "metadata": {},
   "source": [
    "### ① 比例配分（Proportional）"
   ]
  },
  {
   "cell_type": "code",
   "execution_count": 24,
   "metadata": {},
   "outputs": [],
   "source": [
    "class Proportional(BaseAllocation):\n",
    "    def solve(self, X: NDArray, y: NDArray) -> NDArray:\n",
    "        \"\"\"各クラスタ数に比例した標本数で分割する\"\"\"\n",
    "        n: NDArray = np.round(self.N / self.N.sum() * self.sample_size).astype(int)\n",
    "\n",
    "        if n.sum() > self.sample_size:\n",
    "            # nの合計がn_samplesより大きい場合は一番標本数が多いクラスタから削る\n",
    "            n[np.argmax(n)] -= n.sum() - self.sample_size\n",
    "\n",
    "        if n.sum() < self.sample_size:\n",
    "            # nの合計がn_samplesより小さい場合は一番標本数が多いクラスタに足す\n",
    "            n[np.argmax(n)] += -n.sum() + self.sample_size\n",
    "\n",
    "        return n"
   ]
  },
  {
   "cell_type": "markdown",
   "metadata": {},
   "source": [
    "### ② 事後層化（Post）"
   ]
  },
  {
   "cell_type": "code",
   "execution_count": 25,
   "metadata": {},
   "outputs": [],
   "source": [
    "class Post(BaseAllocation):\n",
    "    def solve(self, X: NDArray, y: NDArray) -> NDArray:\n",
    "        \"\"\"ランダムにn_samplesの標本を選択する\"\"\"\n",
    "        n = np.array([self.sample_size])\n",
    "\n",
    "        return n"
   ]
  },
  {
   "cell_type": "markdown",
   "metadata": {},
   "source": [
    "### ③ 最適標本配分（Optimal）"
   ]
  },
  {
   "cell_type": "code",
   "execution_count": 26,
   "metadata": {},
   "outputs": [],
   "source": [
    "class Optimal(BaseAllocation):\n",
    "    def __init__(\n",
    "        self,\n",
    "        sample_size: int,\n",
    "        random_state: int,\n",
    "        method_name: str,\n",
    "        cluster_size_dict_for_allocation: dict,\n",
    "        cluster_label_dict: dict,\n",
    "        cluster_size_dict_for_optimal: dict,\n",
    "        unique_label_dict_for_optimal: dict,\n",
    "        m_value: int,  # 標本サイズ下限\n",
    "        M: Optional[NDArray] = None,  # 標本サイズ上限 #Optional(Noneである可能性がある)\n",
    "    ):\n",
    "        super().__init__(\n",
    "            sample_size, random_state, method_name, cluster_size_dict_for_allocation\n",
    "        )  # 基底クラスBaseAllocation（スーパークラス）の初期化メゾッドを呼び出す\n",
    "        self.cluster_label = cluster_label_dict[self.method_name]\n",
    "        self.N_for_optimal = np.array(cluster_size_dict_for_optimal[self.method_name])\n",
    "        self.labels = unique_label_dict_for_optimal[self.method_name]\n",
    "        self.m_value = m_value  # 各クラスタの最小標本サイズの配列\n",
    "        self.M = M  # 各クラスタの最大標本サイズの配列 (指定しない場合はクラスタサイズ)\n",
    "\n",
    "    def solve(self, X: NDArray, y: NDArray) -> NDArray:\n",
    "        # S:クラスタ毎の目的変数のvarianceを要素とする配列 (H, )\n",
    "        S = np.array([np.var(y[self.cluster_label == h]) for h in self.labels])\n",
    "        d = (self.N_for_optimal**2) * S  # (H, )\n",
    "\n",
    "        self.m = np.full(len(self.labels), self.m_value)\n",
    "        n = self._simple_greedy(n=self.m.copy(), d=d)\n",
    "\n",
    "        # 制約チェック\n",
    "        self._check_constraints(n)\n",
    "\n",
    "        return n\n",
    "\n",
    "    def _simple_greedy(self, n: NDArray, d: NDArray) -> NDArray:\n",
    "        M = self.M.copy() if self.M is not None else self.N_for_optimal.copy()\n",
    "        I = np.arange(len(self.labels))  # noqa #クラスタのインデックス配列\n",
    "        while (n.sum() != self.sample_size) and len(I) != 0:\n",
    "            delta = np.zeros(len(self.labels))\n",
    "            delta[I] = (d / (n + 1) - d / n)[I]\n",
    "            h_star = np.argmin(delta[I])\n",
    "            h_star = I[h_star]\n",
    "\n",
    "            if n[h_star] + 1 <= M[h_star]:\n",
    "                n[h_star] = n[h_star] + 1\n",
    "            else:\n",
    "                # Iの要素h_starを削除\n",
    "                I_ = I.tolist()\n",
    "                I_ = [i for i in I_ if i != h_star]\n",
    "                I = np.array(I_)  # noqa\n",
    "\n",
    "        return n\n",
    "\n",
    "    def _check_constraints(self, n: NDArray):\n",
    "        assert (\n",
    "            n.sum() <= self.sample_size\n",
    "        ), f\"Total sample size is over than {self.sample_size}\"\n",
    "        assert np.all(\n",
    "            n >= self.m_value\n",
    "        ), \"Minimum sample size constraint is not satisfied\"\n",
    "        if self.M is not None:\n",
    "            assert np.all(\n",
    "                n <= self.M\n",
    "            ), \"Maximum sample size constraint is not satisfied\""
   ]
  },
  {
   "cell_type": "markdown",
   "metadata": {},
   "source": [
    "### ポリシーの作成"
   ]
  },
  {
   "cell_type": "code",
   "execution_count": 27,
   "metadata": {},
   "outputs": [],
   "source": [
    "def create_policies(\n",
    "    sample_size: int,\n",
    "    random_state: int,\n",
    "    methods_name_dict: dict,\n",
    "    cluster_size_dict_for_allocation: dict,\n",
    "    cluster_label_dict: dict,\n",
    "    cluster_size_dict_for_optimal: dict,\n",
    "    unique_label_dict_for_optimal: dict,\n",
    "    allocation_list: list,\n",
    "    m_value: int,\n",
    ") -> dict[str, list[BaseAllocation]]:\n",
    "    policies_dict = {}\n",
    "\n",
    "    for _, method_name in methods_name_dict.items():\n",
    "        policies: list[BaseAllocation] = []\n",
    "        if \"Proportional\" in allocation_list:\n",
    "            policies.append(\n",
    "                Proportional(\n",
    "                    sample_size=sample_size,\n",
    "                    random_state=random_state,\n",
    "                    method_name=method_name,\n",
    "                    cluster_size_dict_for_allocation=cluster_size_dict_for_allocation,\n",
    "                )\n",
    "            )\n",
    "        if \"Post\" in allocation_list:\n",
    "            policies.append(\n",
    "                Post(\n",
    "                    sample_size=sample_size,\n",
    "                    random_state=random_state,\n",
    "                    method_name=method_name,\n",
    "                    cluster_size_dict_for_allocation=cluster_size_dict_for_allocation,\n",
    "                )\n",
    "            )\n",
    "        if \"Optimal\" in allocation_list:\n",
    "            policies.append(\n",
    "                Optimal(\n",
    "                    sample_size=sample_size,\n",
    "                    random_state=random_state,\n",
    "                    method_name=method_name,\n",
    "                    cluster_size_dict_for_allocation=cluster_size_dict_for_allocation,\n",
    "                    cluster_label_dict=cluster_label_dict,\n",
    "                    cluster_size_dict_for_optimal=cluster_size_dict_for_optimal,\n",
    "                    unique_label_dict_for_optimal=unique_label_dict_for_optimal,\n",
    "                    m_value=m_value,\n",
    "                    M=None,\n",
    "                )\n",
    "            )\n",
    "        policies_dict[method_name] = policies\n",
    "\n",
    "    return policies_dict"
   ]
  },
  {
   "cell_type": "code",
   "execution_count": 28,
   "metadata": {},
   "outputs": [],
   "source": [
    "policies_dict_train = create_policies(\n",
    "    sample_size=SAMPLE_SIZE,\n",
    "    random_state=RANDOM_STATE,\n",
    "    m_value=m_VALUE,\n",
    "    methods_name_dict=METHODS_NAME_DICT,\n",
    "    cluster_size_dict_for_allocation=CLUSTER_SIZE_DICT_FOR_ALLOCATION_TRAIN,\n",
    "    cluster_label_dict=CLUSTER_LABEL_DICT_TRAIN,\n",
    "    cluster_size_dict_for_optimal=CLUSTER_SIZE_DICT_FOR_OPTIMAL_TRAIN,\n",
    "    unique_label_dict_for_optimal=UNIQUE_LABEL_DICT_FOR_OPTIMAL_TRAIN,\n",
    "    allocation_list=ALLOCATION_LIST,\n",
    ")\n",
    "policies_dict_test = create_policies(\n",
    "    sample_size=SAMPLE_SIZE,\n",
    "    random_state=RANDOM_STATE,\n",
    "    m_value=m_VALUE,\n",
    "    methods_name_dict=METHODS_NAME_DICT,\n",
    "    cluster_size_dict_for_allocation=CLUSTER_SIZE_DICT_FOR_ALLOCATION_TEST,\n",
    "    cluster_label_dict=CLUSTER_LABEL_DICT_TEST,\n",
    "    cluster_size_dict_for_optimal=CLUSTER_SIZE_DICT_FOR_OPTIMAL_TEST,\n",
    "    unique_label_dict_for_optimal=UNIQUE_LABEL_DICT_FOR_OPTIMAL_TEST,\n",
    "    allocation_list=ALLOCATION_LIST,\n",
    ")"
   ]
  },
  {
   "cell_type": "markdown",
   "metadata": {},
   "source": [
    "### 標本配分の実施"
   ]
  },
  {
   "cell_type": "code",
   "execution_count": 29,
   "metadata": {},
   "outputs": [],
   "source": [
    "def cauculate_allocation_dict_dict(\n",
    "    X: NDArray, y: NDArray, policies_dict: dict\n",
    ") -> dict[str, dict[str, NDArray]]:\n",
    "    allocation_dict_dict = {}\n",
    "    for name, policies in policies_dict.items():\n",
    "        # それぞれの戦略で各クラスタの標本数を求解\n",
    "        allocation_dict = {}\n",
    "        for policy in policies:\n",
    "            n = policy.solve(X, y)\n",
    "            allocation_dict[policy.__class__.__name__] = n\n",
    "        allocation_dict_dict[name] = allocation_dict\n",
    "\n",
    "    return allocation_dict_dict"
   ]
  },
  {
   "cell_type": "code",
   "execution_count": 30,
   "metadata": {},
   "outputs": [],
   "source": [
    "ALLOCATION_DICT_DICT_TRAIN = cauculate_allocation_dict_dict(\n",
    "    X=X_train_std, y=y_train, policies_dict=policies_dict_train\n",
    ")\n",
    "ALLOCATION_DICT_DICT_TEST = cauculate_allocation_dict_dict(\n",
    "    X=X_test_std, y=y_test, policies_dict=policies_dict_test\n",
    ")"
   ]
  },
  {
   "cell_type": "markdown",
   "metadata": {},
   "source": [
    "### 標本配分の結果"
   ]
  },
  {
   "cell_type": "code",
   "execution_count": 31,
   "metadata": {},
   "outputs": [
    {
     "name": "stdout",
     "output_type": "stream",
     "text": [
      "訓練データ\n",
      "【Kmeans】\n",
      "Proportional: [18 17 17 16 16 16]\n",
      "Post: [100]\n",
      "Optimal: [18 17 16 16 16 17]\n",
      "\n",
      "【Lasso-Kmeans】\n",
      "Proportional: [18 18 17 15 15 17]\n",
      "Post: [100]\n",
      "Optimal: [18 18 17 15 15 17]\n",
      "\n",
      "【SFS-Kmeans-F】\n",
      "Proportional: [19 17 15 15 17 17]\n",
      "Post: [100]\n",
      "Optimal: [18 18 15 15 17 17]\n",
      "\n",
      "【SFS-Kmeans-T】\n",
      "Proportional: [18 18 17 15 15 17]\n",
      "Post: [100]\n",
      "Optimal: [18 18 17 15 15 17]\n",
      "\n",
      "テストデータ\n",
      "【Kmeans】\n",
      "Proportional: [18 17 17 16 16 16]\n",
      "Post: [100]\n",
      "Optimal: [17 18 16 16 16 17]\n",
      "\n",
      "【Lasso-Kmeans】\n",
      "Proportional: [18 18 17 15 15 17]\n",
      "Post: [100]\n",
      "Optimal: [18 18 17 15 15 17]\n",
      "\n",
      "【SFS-Kmeans-F】\n",
      "Proportional: [19 17 15 15 17 17]\n",
      "Post: [100]\n",
      "Optimal: [18 18 15 15 17 17]\n",
      "\n",
      "【SFS-Kmeans-T】\n",
      "Proportional: [18 18 17 15 15 17]\n",
      "Post: [100]\n",
      "Optimal: [18 18 17 15 15 17]\n",
      "\n"
     ]
    }
   ],
   "source": [
    "print(\"訓練データ\")\n",
    "for _, method_name in METHODS_NAME_DICT.items():\n",
    "    print(f\"【{method_name}】\")\n",
    "    for allocation_method in ALLOCATION_LIST:\n",
    "        print(\n",
    "            f\"{allocation_method}: {ALLOCATION_DICT_DICT_TRAIN[method_name][allocation_method]}\"\n",
    "        )\n",
    "    print()\n",
    "\n",
    "print(\"テストデータ\")\n",
    "for _, method_name in METHODS_NAME_DICT.items():\n",
    "    print(f\"【{method_name}】\")\n",
    "    for allocation_method in ALLOCATION_LIST:\n",
    "        print(\n",
    "            f\"{allocation_method}: {ALLOCATION_DICT_DICT_TEST[method_name][allocation_method]}\"\n",
    "        )\n",
    "    print()"
   ]
  },
  {
   "cell_type": "markdown",
   "metadata": {},
   "source": [
    "---------------\n",
    "# 6. 評価"
   ]
  },
  {
   "cell_type": "markdown",
   "metadata": {},
   "source": [
    "## 6.1 標本平均の分散を計算（単純無作為抽出）"
   ]
  },
  {
   "cell_type": "code",
   "execution_count": 32,
   "metadata": {},
   "outputs": [],
   "source": [
    "def cauculate_var_random(y: NDArray, seed: int, n_trials: int, sample_size) -> float:\n",
    "    np.random.seed(seed)\n",
    "    y_hats = []\n",
    "    for i in range(n_trials):\n",
    "        sample = np.random.choice(y, sample_size, replace=False)\n",
    "        y_hat_random = sample.mean()\n",
    "        y_hats.append(y_hat_random)\n",
    "    var_random = np.array(y_hats).var()\n",
    "\n",
    "    return var_random"
   ]
  },
  {
   "cell_type": "code",
   "execution_count": 33,
   "metadata": {},
   "outputs": [],
   "source": [
    "VAR_RANDOM_TRAIN = cauculate_var_random(\n",
    "    y=y_train, seed=SEED, n_trials=N_TRIALS, sample_size=SAMPLE_SIZE\n",
    ")\n",
    "VAR_RANDOM_TEST = cauculate_var_random(\n",
    "    y=y_test, seed=SEED, n_trials=N_TRIALS, sample_size=SAMPLE_SIZE\n",
    ")"
   ]
  },
  {
   "cell_type": "code",
   "execution_count": 34,
   "metadata": {},
   "outputs": [
    {
     "name": "stdout",
     "output_type": "stream",
     "text": [
      "訓練データでの標本平均の分散 (Random) : 0.23966714593483657\n",
      "テストデータでの標本平均の分散 (Random) : 0.2492846181835931\n"
     ]
    }
   ],
   "source": [
    "print(f\"訓練データでの標本平均の分散 (Random) : {VAR_RANDOM_TRAIN}\")\n",
    "print(f\"テストデータでの標本平均の分散 (Random) : {VAR_RANDOM_TEST}\")"
   ]
  },
  {
   "cell_type": "markdown",
   "metadata": {},
   "source": [
    "## 6.2 標本平均の分散を計算（層化抽出）"
   ]
  },
  {
   "cell_type": "markdown",
   "metadata": {},
   "source": [
    "### 標本平均を計算する関数"
   ]
  },
  {
   "cell_type": "code",
   "execution_count": 35,
   "metadata": {},
   "outputs": [],
   "source": [
    "def estimate_y_mean_proportional(\n",
    "    n: NDArray,\n",
    "    cluster_label: NDArray,\n",
    "    cluster_size_for_allocation: list,\n",
    "    unique_label_for_allocation: list,\n",
    "    y: NDArray,\n",
    ") -> float:\n",
    "    N = np.array(cluster_size_for_allocation)\n",
    "    weights = N / N.sum()\n",
    "    y_hat = 0\n",
    "    i = -1\n",
    "    for h in unique_label_for_allocation:  # n.shape[0]:層の数\n",
    "        i += 1\n",
    "        if n[i] > 0:\n",
    "            sample: NDArray = np.random.choice(\n",
    "                y[cluster_label == h], n[i], replace=False\n",
    "            )\n",
    "            y_sample_mean = sample.mean()  # サンプリングした標本の平均\n",
    "            y_hat += y_sample_mean * weights[i]\n",
    "    return y_hat\n",
    "\n",
    "\n",
    "def estimate_y_mean_optimal(\n",
    "    n: NDArray,\n",
    "    cluster_label: NDArray,\n",
    "    cluster_size_for_optimal: list,\n",
    "    unique_label_for_optimal: list,\n",
    "    y: NDArray,\n",
    ") -> float:\n",
    "    N = np.array(cluster_size_for_optimal)\n",
    "    weights = N / N.sum()\n",
    "    y_hat = 0\n",
    "    i = -1\n",
    "    for h in unique_label_for_optimal:  # n.shape[0]:層の数\n",
    "        i += 1\n",
    "        sample: NDArray = np.random.choice(y[cluster_label == h], n[i], replace=False)\n",
    "        y_sample_mean = sample.mean()  # サンプリングした標本の平均\n",
    "        y_hat += y_sample_mean * weights[i]\n",
    "    return y_hat\n",
    "\n",
    "\n",
    "def estimate_y_mean_post(\n",
    "    n: NDArray,\n",
    "    cluster_label: NDArray,\n",
    "    cluster_size_for_allocation: list,\n",
    "    unique_label_for_allocation: list,\n",
    "    y: NDArray,\n",
    ") -> float:\n",
    "    N = np.array(cluster_size_for_allocation)\n",
    "    weights = N / N.sum()\n",
    "    y_hat = 0\n",
    "\n",
    "    all_indices = np.arange(len(y))  # 全データのインデックス\n",
    "    sample_indices = np.random.choice(all_indices, n[0], replace=False)\n",
    "    sample_labels = np.array([cluster_label[i] for i in sample_indices])\n",
    "\n",
    "    for h in np.unique(sample_labels):\n",
    "        index = np.where(sample_labels == h)[0]\n",
    "        sample = y[sample_indices[index]]\n",
    "        y_sample_mean = sample.mean()\n",
    "        y_hat += y_sample_mean * weights[unique_label_for_allocation.index(h)]\n",
    "    return y_hat"
   ]
  },
  {
   "cell_type": "markdown",
   "metadata": {},
   "source": [
    "### 分散を計算する関数"
   ]
  },
  {
   "cell_type": "code",
   "execution_count": 36,
   "metadata": {},
   "outputs": [],
   "source": [
    "def cauculate_var_stratified_dict_dict(\n",
    "    y: NDArray,\n",
    "    seed: int,\n",
    "    n_trials: int,\n",
    "    allocation_dict_dict: dict[dict],\n",
    "    cluster_label_dict: dict,\n",
    "    cluster_size_dict_for_allocation: dict,\n",
    "    unique_label_dict_for_allocation: dict,\n",
    "    cluster_size_dict_for_optimal: dict,\n",
    "    unique_label_dict_for_optimal: dict,\n",
    ") -> dict[str, dict[str, float]]:\n",
    "    np.random.seed(seed)\n",
    "    var_stratified_dict_dict = {}\n",
    "    for method_name, allocation_dict in allocation_dict_dict.items():\n",
    "        var_stratified_dict_dict[method_name] = {}\n",
    "        for allocation_method, allocation in allocation_dict.items():\n",
    "            y_hats = []\n",
    "            for i in range(n_trials):\n",
    "                if allocation_method == \"Post\":\n",
    "                    y_hat = estimate_y_mean_post(\n",
    "                        n=allocation,\n",
    "                        cluster_label=cluster_label_dict[method_name],\n",
    "                        cluster_size_for_allocation=cluster_size_dict_for_allocation[\n",
    "                            method_name\n",
    "                        ],\n",
    "                        unique_label_for_allocation=unique_label_dict_for_allocation[\n",
    "                            method_name\n",
    "                        ],\n",
    "                        y=y,\n",
    "                    )\n",
    "                elif allocation_method == \"Proportional\":\n",
    "                    y_hat = estimate_y_mean_proportional(\n",
    "                        n=allocation,\n",
    "                        cluster_label=cluster_label_dict[method_name],\n",
    "                        cluster_size_for_allocation=cluster_size_dict_for_allocation[\n",
    "                            method_name\n",
    "                        ],\n",
    "                        unique_label_for_allocation=unique_label_dict_for_allocation[\n",
    "                            method_name\n",
    "                        ],\n",
    "                        y=y,\n",
    "                    )\n",
    "                elif allocation_method == \"Optimal\":\n",
    "                    y_hat = estimate_y_mean_optimal(\n",
    "                        n=allocation,\n",
    "                        cluster_label=cluster_label_dict[method_name],\n",
    "                        cluster_size_for_optimal=cluster_size_dict_for_optimal[\n",
    "                            method_name\n",
    "                        ],\n",
    "                        unique_label_for_optimal=unique_label_dict_for_optimal[\n",
    "                            method_name\n",
    "                        ],\n",
    "                        y=y,\n",
    "                    )\n",
    "                y_hats.append(y_hat)\n",
    "            y_hats = np.array(y_hats)\n",
    "            var = y_hats.var()\n",
    "            var_stratified_dict_dict[method_name][allocation_method] = var\n",
    "\n",
    "    return var_stratified_dict_dict"
   ]
  },
  {
   "cell_type": "markdown",
   "metadata": {},
   "source": [
    "### 分散を計算"
   ]
  },
  {
   "cell_type": "code",
   "execution_count": 37,
   "metadata": {},
   "outputs": [],
   "source": [
    "VAR_STRATIFIED_DICT_DICT_TRAIN = cauculate_var_stratified_dict_dict(\n",
    "    y=y_train,\n",
    "    seed=SEED,\n",
    "    n_trials=N_TRIALS,\n",
    "    allocation_dict_dict=ALLOCATION_DICT_DICT_TRAIN,\n",
    "    cluster_label_dict=CLUSTER_LABEL_DICT_TRAIN,\n",
    "    cluster_size_dict_for_allocation=CLUSTER_SIZE_DICT_FOR_ALLOCATION_TRAIN,\n",
    "    unique_label_dict_for_allocation=UNIQUE_LABEL_DICT_FOR_ALLOCATION_TRAIN,\n",
    "    cluster_size_dict_for_optimal=CLUSTER_SIZE_DICT_FOR_OPTIMAL_TRAIN,\n",
    "    unique_label_dict_for_optimal=UNIQUE_LABEL_DICT_FOR_OPTIMAL_TRAIN,\n",
    ")\n",
    "VAR_STRATIFIED_DICT_DICT_TEST = cauculate_var_stratified_dict_dict(\n",
    "    y=y_test,\n",
    "    seed=SEED,\n",
    "    n_trials=N_TRIALS,\n",
    "    allocation_dict_dict=ALLOCATION_DICT_DICT_TEST,\n",
    "    cluster_label_dict=CLUSTER_LABEL_DICT_TEST,\n",
    "    cluster_size_dict_for_allocation=CLUSTER_SIZE_DICT_FOR_ALLOCATION_TEST,\n",
    "    unique_label_dict_for_allocation=UNIQUE_LABEL_DICT_FOR_ALLOCATION_TEST,\n",
    "    cluster_size_dict_for_optimal=CLUSTER_SIZE_DICT_FOR_OPTIMAL_TEST,\n",
    "    unique_label_dict_for_optimal=UNIQUE_LABEL_DICT_FOR_OPTIMAL_TEST,\n",
    ")"
   ]
  },
  {
   "cell_type": "code",
   "execution_count": 38,
   "metadata": {},
   "outputs": [
    {
     "name": "stdout",
     "output_type": "stream",
     "text": [
      "【Kmeans】\n",
      "訓練データでの標本平均の分散\n",
      "{'Proportional': 0.2182511813030868, 'Post': 0.2250447606310624, 'Optimal': 0.2199738245460728}\n",
      "テストデータでの標本平均の分散\n",
      "{'Proportional': 0.2247873026860564, 'Post': 0.22434358724046705, 'Optimal': 0.21780144273326676}\n",
      "\n",
      "【Lasso-Kmeans】\n",
      "訓練データでの標本平均の分散\n",
      "{'Proportional': 0.17275872411245405, 'Post': 0.1853725831375416, 'Optimal': 0.1746421205215898}\n",
      "テストデータでの標本平均の分散\n",
      "{'Proportional': 0.1725565743638215, 'Post': 0.1878282765600744, 'Optimal': 0.1765211511684619}\n",
      "\n",
      "【SFS-Kmeans-F】\n",
      "訓練データでの標本平均の分散\n",
      "{'Proportional': 0.2174710588243687, 'Post': 0.23097557531518315, 'Optimal': 0.21717805446283978}\n",
      "テストデータでの標本平均の分散\n",
      "{'Proportional': 0.22477263699237418, 'Post': 0.23047455082263388, 'Optimal': 0.21898904477218228}\n",
      "\n",
      "【SFS-Kmeans-T】\n",
      "訓練データでの標本平均の分散\n",
      "{'Proportional': 0.17750844088497653, 'Post': 0.18672352454437588, 'Optimal': 0.17684226519135826}\n",
      "テストデータでの標本平均の分散\n",
      "{'Proportional': 0.17483136385556816, 'Post': 0.1823712723497894, 'Optimal': 0.17324932438690677}\n",
      "\n"
     ]
    }
   ],
   "source": [
    "for _, method_name in METHODS_NAME_DICT.items():\n",
    "    print(f\"【{method_name}】\")\n",
    "    print(\"訓練データでの標本平均の分散\")\n",
    "    print(VAR_STRATIFIED_DICT_DICT_TRAIN[method_name])\n",
    "    print(\"テストデータでの標本平均の分散\")\n",
    "    print(VAR_STRATIFIED_DICT_DICT_TEST[method_name])\n",
    "    print()"
   ]
  },
  {
   "cell_type": "markdown",
   "metadata": {},
   "source": [
    "## 6.3 分散削減率の計算"
   ]
  },
  {
   "cell_type": "code",
   "execution_count": 39,
   "metadata": {},
   "outputs": [],
   "source": [
    "def cauculate_reduction_rate_dict_dict(\n",
    "    var_stratified_dict_dict: dict, var_random: float\n",
    ") -> dict[str, dict[str, float]]:\n",
    "    reduction_rate_dict_dict = {}\n",
    "    for method_name, dict in var_stratified_dict_dict.items():\n",
    "        reduction_rate_dict_dict[method_name] = {}\n",
    "        for allocation_method, var in dict.items():\n",
    "            reduction_rate = (1 - var / var_random) * 100\n",
    "            reduction_rate_dict_dict[method_name][allocation_method] = reduction_rate\n",
    "\n",
    "    return reduction_rate_dict_dict"
   ]
  },
  {
   "cell_type": "code",
   "execution_count": 40,
   "metadata": {},
   "outputs": [],
   "source": [
    "REDUCTION_RATE_DICT_DICT_TRAIN = cauculate_reduction_rate_dict_dict(\n",
    "    VAR_STRATIFIED_DICT_DICT_TRAIN, VAR_RANDOM_TRAIN\n",
    ")\n",
    "\n",
    "REDUCTION_RATE_DICT_DICT_TEST = cauculate_reduction_rate_dict_dict(\n",
    "    VAR_STRATIFIED_DICT_DICT_TEST, VAR_RANDOM_TEST\n",
    ")"
   ]
  },
  {
   "cell_type": "code",
   "execution_count": 41,
   "metadata": {},
   "outputs": [
    {
     "name": "stdout",
     "output_type": "stream",
     "text": [
      "訓練データ\n",
      "Kmeans:{'Proportional': 8.935711462752005, 'Post': 6.101122140349546, 'Optimal': 8.216946595641527}\n",
      "Lasso-Kmeans:{'Proportional': 27.917227270096646, 'Post': 22.654153361536334, 'Optimal': 27.13138889338069}\n",
      "SFS-Kmeans-F:{'Proportional': 9.261213932302093, 'Post': 3.62651734585957, 'Optimal': 9.3834686370035}\n",
      "SFS-Kmeans-T:{'Proportional': 25.935430076327805, 'Post': 22.090479353751558, 'Optimal': 26.213388780688295}\n",
      "\n",
      "テストデータ\n",
      "Kmeans:{'Proportional': 9.827046560688679, 'Post': 10.005042077950232, 'Optimal': 12.629409579992457}\n",
      "Lasso-Kmeans:{'Proportional': 30.77929331494611, 'Post': 24.65308211606436, 'Optimal': 29.18891167265779}\n",
      "SFS-Kmeans-F:{'Proportional': 9.832929672847424, 'Post': 7.545618938712851, 'Optimal': 12.153005521222626}\n",
      "SFS-Kmeans-T:{'Proportional': 29.866766297305848, 'Post': 26.842147871523856, 'Optimal': 30.501398100980246}\n"
     ]
    }
   ],
   "source": [
    "print(\"訓練データ\")\n",
    "for _, method_name in METHODS_NAME_DICT.items():\n",
    "    print(f\"{method_name}:{REDUCTION_RATE_DICT_DICT_TRAIN[method_name]}\")\n",
    "\n",
    "print()\n",
    "\n",
    "print(\"テストデータ\")\n",
    "for _, method_name in METHODS_NAME_DICT.items():\n",
    "    print(f\"{method_name}:{REDUCTION_RATE_DICT_DICT_TEST[method_name]}\")"
   ]
  },
  {
   "cell_type": "markdown",
   "metadata": {},
   "source": [
    "## 6.4 結果のプロット"
   ]
  },
  {
   "cell_type": "markdown",
   "metadata": {},
   "source": [
    "### プロットするための関数"
   ]
  },
  {
   "cell_type": "code",
   "execution_count": 42,
   "metadata": {},
   "outputs": [],
   "source": [
    "def plot_bars(\n",
    "    dicts: list[dict[str, float]],\n",
    "    var_random: float,\n",
    "    method_name: str,\n",
    "    title_size: float,\n",
    "    label_size: float,\n",
    "    tick_size: float,\n",
    ") -> plt.Figure:\n",
    "    fig, axs = plt.subplots(1, 2, figsize=(8, 2.5))\n",
    "    ylabels = [\"Var reduction rate\", \"Var\"]\n",
    "    ylims = [(0, 100), (0, 0.005)]\n",
    "\n",
    "    for i, ax in enumerate(axs):\n",
    "        data = list(dicts[i].values())\n",
    "        labels = list(dicts[i].keys())\n",
    "        bars = ax.bar(labels, data)\n",
    "        if i == 0:\n",
    "            for bar in bars:\n",
    "                yval = bar.get_height()  # 各バーの高さ（値）\n",
    "                ax.text(\n",
    "                    bar.get_x() + bar.get_width() / 2,\n",
    "                    yval,\n",
    "                    round(yval, 2),\n",
    "                    ha=\"center\",\n",
    "                    va=\"bottom\",\n",
    "                    fontsize=label_size,\n",
    "                )  # 値をバーの上に表示\n",
    "        if i == 1:\n",
    "            ax.bar(\"Random\", var_random, color=\"blue\")\n",
    "        ax.set_title(method_name, fontsize=title_size)\n",
    "        ax.set_ylabel(ylabels[i], fontsize=label_size)\n",
    "        ax.tick_params(axis=\"both\", which=\"major\", labelsize=tick_size)\n",
    "        ax.set_ylim(ylims[i])\n",
    "    plt.tight_layout()\n",
    "    plt.show()"
   ]
  },
  {
   "cell_type": "markdown",
   "metadata": {},
   "source": [
    "### 訓練データの結果"
   ]
  },
  {
   "cell_type": "code",
   "execution_count": 43,
   "metadata": {},
   "outputs": [
    {
     "data": {
      "image/png": "[encoded data removed]",
      "text/plain": [
       "<Figure size 800x250 with 2 Axes>"
      ]
     },
     "metadata": {},
     "output_type": "display_data"
    },
    {
     "data": {
      "image/png": "[encoded data removed]",
      "text/plain": [
       "<Figure size 800x250 with 2 Axes>"
      ]
     },
     "metadata": {},
     "output_type": "display_data"
    },
    {
     "data": {
      "image/png": "[encoded data removed]",
      "text/plain": [
       "<Figure size 800x250 with 2 Axes>"
      ]
     },
     "metadata": {},
     "output_type": "display_data"
    },
    {
     "data": {
      "image/png": "[encoded data removed]",
      "text/plain": [
       "<Figure size 800x250 with 2 Axes>"
      ]
     },
     "metadata": {},
     "output_type": "display_data"
    }
   ],
   "source": [
    "for _, method_name in METHODS_NAME_DICT.items():\n",
    "    plot_bars(\n",
    "        dicts=[\n",
    "            REDUCTION_RATE_DICT_DICT_TRAIN[method_name],\n",
    "            VAR_STRATIFIED_DICT_DICT_TRAIN[method_name],\n",
    "        ],\n",
    "        var_random=VAR_RANDOM_TRAIN,\n",
    "        method_name=method_name,\n",
    "        title_size=TITLE_SIZE,\n",
    "        label_size=LABEL_SIZE,\n",
    "        tick_size=TICK_SIZE,\n",
    "    )"
   ]
  },
  {
   "cell_type": "markdown",
   "metadata": {},
   "source": [
    "### テストデータの結果"
   ]
  },
  {
   "cell_type": "code",
   "execution_count": 44,
   "metadata": {},
   "outputs": [
    {
     "data": {
      "image/png": "[encoded data removed]",
      "text/plain": [
       "<Figure size 800x250 with 2 Axes>"
      ]
     },
     "metadata": {},
     "output_type": "display_data"
    },
    {
     "data": {
      "image/png": "[encoded data removed]",
      "text/plain": [
       "<Figure size 800x250 with 2 Axes>"
      ]
     },
     "metadata": {},
     "output_type": "display_data"
    },
    {
     "data": {
      "image/png": "[encoded data removed]",
      "text/plain": [
       "<Figure size 800x250 with 2 Axes>"
      ]
     },
     "metadata": {},
     "output_type": "display_data"
    },
    {
     "data": {
      "image/png": "[encoded data removed]",
      "text/plain": [
       "<Figure size 800x250 with 2 Axes>"
      ]
     },
     "metadata": {},
     "output_type": "display_data"
    }
   ],
   "source": [
    "for _, method_name in METHODS_NAME_DICT.items():\n",
    "    plot_bars(\n",
    "        dicts=[\n",
    "            REDUCTION_RATE_DICT_DICT_TEST[method_name],\n",
    "            VAR_STRATIFIED_DICT_DICT_TEST[method_name],\n",
    "        ],\n",
    "        var_random=VAR_RANDOM_TEST,\n",
    "        method_name=method_name,\n",
    "        title_size=TITLE_SIZE,\n",
    "        label_size=LABEL_SIZE,\n",
    "        tick_size=TICK_SIZE,\n",
    "    )"
   ]
  },
  {
   "cell_type": "markdown",
   "metadata": {},
   "source": [
    "### 確認用"
   ]
  },
  {
   "cell_type": "code",
   "execution_count": 45,
   "metadata": {},
   "outputs": [
    {
     "name": "stdout",
     "output_type": "stream",
     "text": [
      "【Kmeans】\n",
      "選択された特徴量： [ 0  1  2  3  4  5  6  7  8  9 10 11 12 13 14 15 16 17 18 19]\n",
      "特徴量選択にかかった時間：0 s\n",
      "\n",
      "【Lasso-Kmeans】\n",
      "選択された特徴量： [0 1 2 3 4]\n",
      "特徴量選択にかかった時間：0.865 s\n",
      "\n",
      "【SFS-Kmeans-F】\n",
      "選択された特徴量： [5 4 3 2 1]\n",
      "特徴量選択にかかった時間：12.179 s\n",
      "\n",
      "【SFS-Kmeans-T】\n",
      "選択された特徴量： [0 1 4 2 3]\n",
      "特徴量選択にかかった時間：10.201 s\n",
      "\n"
     ]
    }
   ],
   "source": [
    "# 特徴量選択\n",
    "for _, method_name in METHODS_NAME_DICT.items():\n",
    "    print(f\"【{method_name}】\")\n",
    "    print(\"選択された特徴量：\", SELECTED_FEATURES_DICT[method_name])\n",
    "    print(f\"特徴量選択にかかった時間：{round(TIME_DICT[method_name], 3)} s\")\n",
    "    print()"
   ]
  },
  {
   "cell_type": "code",
   "execution_count": 46,
   "metadata": {},
   "outputs": [
    {
     "name": "stdout",
     "output_type": "stream",
     "text": [
      "【訓練データ】\n",
      "Kmeans:[17217 17238 16848 16007 16202 16488]\n",
      "Lasso-Kmeans:[17959 17785 16913 15176 15251 16916]\n",
      "SFS-Kmeans-F:[18137 17413 14945 15277 17132 17096]\n",
      "SFS-Kmeans-T:[17959 17785 16913 15176 15251 16916]\n",
      "\n",
      "【テストデータ】\n",
      "Kmeans:[17157 17393 16790 15938 16292 16430]\n",
      "Lasso-Kmeans:[17881 17822 16957 15037 15157 17146]\n",
      "SFS-Kmeans-F:[18027 17493 14977 15379 17248 16876]\n",
      "SFS-Kmeans-T:[17881 17822 16957 15037 15157 17146]\n"
     ]
    }
   ],
   "source": [
    "# クラスタサイズ\n",
    "print(\"【訓練データ】\")\n",
    "for _, method_name in METHODS_NAME_DICT.items():\n",
    "    print(f\"{method_name}:{CLUSTER_SIZE_DICT_TRAIN[method_name]}\")\n",
    "\n",
    "print()\n",
    "\n",
    "print(\"【テストデータ】\")\n",
    "for _, method_name in METHODS_NAME_DICT.items():\n",
    "    print(f\"{method_name}:{CLUSTER_SIZE_DICT_TEST[method_name]}\")"
   ]
  },
  {
   "cell_type": "code",
   "execution_count": 47,
   "metadata": {},
   "outputs": [
    {
     "name": "stdout",
     "output_type": "stream",
     "text": [
      "var_random_train = 0.23966714593483657\n",
      "var_random_test = 0.2492846181835931\n"
     ]
    }
   ],
   "source": [
    "print(\"var_random_train =\", VAR_RANDOM_TRAIN)\n",
    "print(\"var_random_test =\", VAR_RANDOM_TEST)"
   ]
  },
  {
   "cell_type": "code",
   "execution_count": 48,
   "metadata": {},
   "outputs": [
    {
     "name": "stdout",
     "output_type": "stream",
     "text": [
      "var_sep_dict_train = {'Kmeans': {'Proportional': 0.2182511813030868, 'Post': 0.2250447606310624, 'Optimal': 0.2199738245460728}, 'Lasso-Kmeans': {'Proportional': 0.17275872411245405, 'Post': 0.1853725831375416, 'Optimal': 0.1746421205215898}, 'SFS-Kmeans-F': {'Proportional': 0.2174710588243687, 'Post': 0.23097557531518315, 'Optimal': 0.21717805446283978}, 'SFS-Kmeans-T': {'Proportional': 0.17750844088497653, 'Post': 0.18672352454437588, 'Optimal': 0.17684226519135826}}\n",
      "var_sep_dict_test = {'Kmeans': {'Proportional': 0.2247873026860564, 'Post': 0.22434358724046705, 'Optimal': 0.21780144273326676}, 'Lasso-Kmeans': {'Proportional': 0.1725565743638215, 'Post': 0.1878282765600744, 'Optimal': 0.1765211511684619}, 'SFS-Kmeans-F': {'Proportional': 0.22477263699237418, 'Post': 0.23047455082263388, 'Optimal': 0.21898904477218228}, 'SFS-Kmeans-T': {'Proportional': 0.17483136385556816, 'Post': 0.1823712723497894, 'Optimal': 0.17324932438690677}}\n"
     ]
    }
   ],
   "source": [
    "print(\"var_sep_dict_train =\", VAR_STRATIFIED_DICT_DICT_TRAIN)\n",
    "print(\"var_sep_dict_test =\", VAR_STRATIFIED_DICT_DICT_TEST)"
   ]
  }
 ],
 "metadata": {
  "kernelspec": {
   "display_name": ".venv",
   "language": "python",
   "name": "python3"
  },
  "language_info": {
   "codemirror_mode": {
    "name": "ipython",
    "version": 3
   },
   "file_extension": ".py",
   "mimetype": "text/x-python",
   "name": "python",
   "nbconvert_exporter": "python",
   "pygments_lexer": "ipython3",
   "version": "3.12.4"
  }
 },
 "nbformat": 4,
 "nbformat_minor": 2
}
