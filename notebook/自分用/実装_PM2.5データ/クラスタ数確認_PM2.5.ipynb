{
 "cells": [
  {
   "cell_type": "markdown",
   "metadata": {},
   "source": [
    "-------------\n",
    "# １．ライブラリのインポート"
   ]
  },
  {
   "cell_type": "code",
   "execution_count": 6,
   "metadata": {},
   "outputs": [],
   "source": [
    "# 基本的なライブラリ\n",
    "import numpy as np\n",
    "import pandas as pd\n",
    "from numpy.typing import NDArray\n",
    "from scipy import stats\n",
    "\n",
    "# Scikit-learn関連\n",
    "from sklearn.base import BaseEstimator, TransformerMixin\n",
    "from sklearn.mixture import GaussianMixture\n",
    "from sklearn.preprocessing import StandardScaler\n",
    "from sklearn.cluster import KMeans\n",
    "from sklearn.utils.validation import check_X_y\n",
    "from sklearn.metrics import silhouette_score\n",
    "from sklearn.metrics import silhouette_samples\n",
    "from sklearn.linear_model import Lasso\n",
    "\n",
    "\n",
    "# 抽象基底クラス (ABC)\n",
    "from abc import ABCMeta, abstractmethod\n",
    "\n",
    "# タイピングのサポート\n",
    "from typing import Optional\n",
    "\n",
    "# 可視化の設定\n",
    "import matplotlib.pyplot as plt\n",
    "from matplotlib import cm\n",
    "import japanize_matplotlib\n",
    "import itertools\n",
    "\n",
    "plt.style.use(\"ggplot\")"
   ]
  },
  {
   "cell_type": "markdown",
   "metadata": {},
   "source": [
    "--------\n",
    "# 2．実験設定"
   ]
  },
  {
   "cell_type": "code",
   "execution_count": 7,
   "metadata": {},
   "outputs": [],
   "source": [
    "### 実験データの設定 ###\n",
    "THRESHOLD = 2  # 外れ値除外の閾値\n",
    "TARGET = \"PM_US Post\"\n",
    "features_list_con = [\n",
    "    \"DEWP\",\n",
    "    \"TEMP\",\n",
    "    \"HUMI\",\n",
    "    \"PRES\",\n",
    "    \"Iws\",\n",
    "    \"precipitation\",\n",
    "    \"Iprec\",\n",
    "]  # 連続変数のリスト\n",
    "features_list_cat = [\"city\", \"season\", \"cbwd\"]  # 質的変数のリスト\n",
    "features_list = features_list_con + features_list_cat\n",
    "variables_list = [TARGET] + features_list_con + features_list_cat\n",
    "\n",
    "\n",
    "### 実験設定 ###\n",
    "N_CLUSTERS = 10\n",
    "K_MIN = 2\n",
    "K_MAX = 10\n",
    "\n",
    "### シード ###\n",
    "RANDOM_STATE = 0"
   ]
  },
  {
   "cell_type": "markdown",
   "metadata": {},
   "source": [
    "-----------\n",
    "# 3．データの前処理"
   ]
  },
  {
   "cell_type": "markdown",
   "metadata": {},
   "source": [
    "### データ読み込み"
   ]
  },
  {
   "cell_type": "markdown",
   "metadata": {},
   "source": [
    "mercari PC"
   ]
  },
  {
   "cell_type": "code",
   "execution_count": 8,
   "metadata": {},
   "outputs": [],
   "source": [
    "df_Beijing = pd.read_csv(\n",
    "    R\"C:\\Users\\HaruMomozu\\Documents\\中国気象データ\\BeijingPM20100101_20151231.csv\"\n",
    ")\n",
    "df_Chengdu = pd.read_csv(\n",
    "    R\"C:\\Users\\HaruMomozu\\Documents\\中国気象データ\\ChengduPM20100101_20151231.csv\"\n",
    ")\n",
    "df_Guangzhou = pd.read_csv(\n",
    "    R\"C:\\Users\\HaruMomozu\\Documents\\中国気象データ\\GuangzhouPM20100101_20151231.csv\"\n",
    ")\n",
    "df_Shanghai = pd.read_csv(\n",
    "    R\"C:\\Users\\HaruMomozu\\Documents\\中国気象データ\\ShanghaiPM20100101_20151231.csv\"\n",
    ")\n",
    "df_Shenyang = pd.read_csv(\n",
    "    R\"C:\\Users\\HaruMomozu\\Documents\\中国気象データ\\ShenyangPM20100101_20151231.csv\"\n",
    ")"
   ]
  },
  {
   "cell_type": "markdown",
   "metadata": {},
   "source": [
    "自分のPC"
   ]
  },
  {
   "cell_type": "code",
   "execution_count": 9,
   "metadata": {},
   "outputs": [],
   "source": [
    "# df_Beijing = pd.read_csv(\n",
    "#     R\"C:\\Users\\tsuki\\Documents\\研究室\\研究\\ABテスト実装\\オンラインデータ\\中国気象データ\\BeijingPM20100101_20151231.csv\"\n",
    "# )\n",
    "# df_Chengdu = pd.read_csv(\n",
    "#     R\"C:\\Users\\tsuki\\Documents\\研究室\\研究\\ABテスト実装\\オンラインデータ\\中国気象データ\\ChengduPM20100101_20151231.csv\"\n",
    "# )\n",
    "# df_Guangzhou = pd.read_csv(\n",
    "#     R\"C:\\Users\\tsuki\\Documents\\研究室\\研究\\ABテスト実装\\オンラインデータ\\中国気象データ\\GuangzhouPM20100101_20151231.csv\"\n",
    "# )\n",
    "# df_Shanghai = pd.read_csv(\n",
    "#     R\"C:\\Users\\tsuki\\Documents\\研究室\\研究\\ABテスト実装\\オンラインデータ\\中国気象データ\\ShanghaiPM20100101_20151231.csv\"\n",
    "# )\n",
    "# df_Shenyang = pd.read_csv(\n",
    "#     R\"C:\\Users\\tsuki\\Documents\\研究室\\研究\\ABテスト実装\\オンラインデータ\\中国気象データ\\ShenyangPM20100101_20151231.csv\"\n",
    "# )"
   ]
  },
  {
   "cell_type": "markdown",
   "metadata": {},
   "source": [
    "### 変数\"city\"作成"
   ]
  },
  {
   "cell_type": "code",
   "execution_count": 10,
   "metadata": {},
   "outputs": [],
   "source": [
    "df_Beijing[\"city\"] = \"Beijing\"\n",
    "df_Chengdu[\"city\"] = \"Chengdu\"\n",
    "df_Guangzhou[\"city\"] = \"Guangzhou\"\n",
    "df_Shanghai[\"city\"] = \"Shanghai\"\n",
    "df_Shenyang[\"city\"] = \"Shenyang\""
   ]
  },
  {
   "cell_type": "markdown",
   "metadata": {},
   "source": [
    "### 5つのデータを結合"
   ]
  },
  {
   "cell_type": "code",
   "execution_count": 11,
   "metadata": {},
   "outputs": [],
   "source": [
    "df_all = pd.concat(\n",
    "    [df_Beijing, df_Chengdu, df_Guangzhou, df_Shanghai, df_Shenyang],\n",
    "    axis=0,\n",
    "    ignore_index=True,\n",
    ")"
   ]
  },
  {
   "cell_type": "markdown",
   "metadata": {},
   "source": [
    "### one-hot エンコーディング"
   ]
  },
  {
   "cell_type": "code",
   "execution_count": 12,
   "metadata": {},
   "outputs": [
    {
     "name": "stdout",
     "output_type": "stream",
     "text": [
      "           No  year  month  day  hour  PM_Dongsi  PM_Dongsihuan  \\\n",
      "0           1  2010      1    1     0        NaN            NaN   \n",
      "1           2  2010      1    1     1        NaN            NaN   \n",
      "2           3  2010      1    1     2        NaN            NaN   \n",
      "3           4  2010      1    1     3        NaN            NaN   \n",
      "4           5  2010      1    1     4        NaN            NaN   \n",
      "...       ...   ...    ...  ...   ...        ...            ...   \n",
      "262915  52580  2015     12   31    19        NaN            NaN   \n",
      "262916  52581  2015     12   31    20        NaN            NaN   \n",
      "262917  52582  2015     12   31    21        NaN            NaN   \n",
      "262918  52583  2015     12   31    22        NaN            NaN   \n",
      "262919  52584  2015     12   31    23        NaN            NaN   \n",
      "\n",
      "        PM_Nongzhanguan  PM_US Post  DEWP  ...  city_Shenyang  season_1.0  \\\n",
      "0                   NaN         NaN -21.0  ...          False       False   \n",
      "1                   NaN         NaN -21.0  ...          False       False   \n",
      "2                   NaN         NaN -21.0  ...          False       False   \n",
      "3                   NaN         NaN -21.0  ...          False       False   \n",
      "4                   NaN         NaN -20.0  ...          False       False   \n",
      "...                 ...         ...   ...  ...            ...         ...   \n",
      "262915              NaN       166.0 -10.0  ...           True       False   \n",
      "262916              NaN       259.0 -10.0  ...           True       False   \n",
      "262917              NaN       368.0 -10.0  ...           True       False   \n",
      "262918              NaN       319.0 -10.0  ...           True       False   \n",
      "262919              NaN       275.0  -9.0  ...           True       False   \n",
      "\n",
      "        season_2.0  season_3.0  season_4.0  cbwd_NE  cbwd_NW  cbwd_SE  \\\n",
      "0            False       False        True    False     True    False   \n",
      "1            False       False        True    False     True    False   \n",
      "2            False       False        True    False     True    False   \n",
      "3            False       False        True    False     True    False   \n",
      "4            False       False        True    False     True    False   \n",
      "...            ...         ...         ...      ...      ...      ...   \n",
      "262915       False       False        True    False    False     True   \n",
      "262916       False       False        True    False    False     True   \n",
      "262917       False       False        True    False    False     True   \n",
      "262918       False       False        True    False    False     True   \n",
      "262919       False       False        True    False    False     True   \n",
      "\n",
      "        cbwd_SW  cbwd_cv  \n",
      "0         False    False  \n",
      "1         False    False  \n",
      "2         False    False  \n",
      "3         False    False  \n",
      "4         False    False  \n",
      "...         ...      ...  \n",
      "262915    False    False  \n",
      "262916    False    False  \n",
      "262917    False    False  \n",
      "262918    False    False  \n",
      "262919    False    False  \n",
      "\n",
      "[262920 rows x 38 columns]\n"
     ]
    }
   ],
   "source": [
    "df_all_encoded = pd.get_dummies(df_all, columns=features_list_cat)\n",
    "print(df_all_encoded)"
   ]
  },
  {
   "cell_type": "code",
   "execution_count": 14,
   "metadata": {},
   "outputs": [
    {
     "name": "stdout",
     "output_type": "stream",
     "text": [
      "columns_list: ['DEWP', 'TEMP', 'HUMI', 'PRES', 'Iws', 'precipitation', 'Iprec', 'city_Beijing', 'city_Chengdu', 'city_Guangzhou', 'city_Shanghai', 'city_Shenyang', 'season_1.0', 'season_2.0', 'season_3.0', 'season_4.0', 'cbwd_NE', 'cbwd_NW', 'cbwd_SE', 'cbwd_SW', 'cbwd_cv']\n",
      "all_columns: ['PM_US Post', 'DEWP', 'TEMP', 'HUMI', 'PRES', 'Iws', 'precipitation', 'Iprec', 'city_Beijing', 'city_Chengdu', 'city_Guangzhou', 'city_Shanghai', 'city_Shenyang', 'season_1.0', 'season_2.0', 'season_3.0', 'season_4.0', 'cbwd_NE', 'cbwd_NW', 'cbwd_SE', 'cbwd_SW', 'cbwd_cv']\n"
     ]
    }
   ],
   "source": [
    "cat_columns_list = []\n",
    "for f in features_list_cat:\n",
    "    col_list = [col for col in df_all_encoded.columns if col.startswith(f)]\n",
    "    cat_columns_list = cat_columns_list + col_list\n",
    "\n",
    "columns_list = features_list_con + cat_columns_list\n",
    "all_columns = [TARGET] + features_list_con + cat_columns_list\n",
    "\n",
    "print(\"columns_list:\", columns_list)\n",
    "print(\"all_columns:\", all_columns)\n"
   ]
  },
  {
   "cell_type": "markdown",
   "metadata": {},
   "source": [
    "### 訓練データ（2014年）とテストデータ（2015年）"
   ]
  },
  {
   "cell_type": "code",
   "execution_count": 23,
   "metadata": {},
   "outputs": [
    {
     "name": "stdout",
     "output_type": "stream",
     "text": [
      "        PM_US Post  DEWP  TEMP   HUMI    PRES     Iws  precipitation  Iprec  \\\n",
      "35064         53.0 -20.0   7.0  12.00  1014.0  143.48            0.0    0.0   \n",
      "35065         65.0 -20.0   7.0  12.00  1013.0  147.50            0.0    0.0   \n",
      "35066         70.0 -20.0   6.0  13.00  1013.0  151.52            0.0    0.0   \n",
      "35067         79.0 -20.0   6.0  13.00  1013.0  153.31            0.0    0.0   \n",
      "35068         92.0 -18.0   3.0  19.00  1012.0    0.89            0.0    0.0   \n",
      "...            ...   ...   ...    ...     ...     ...            ...    ...   \n",
      "254155        38.0 -20.0 -10.0  43.68  1026.0   51.00            0.0    0.0   \n",
      "254156        36.0 -21.0 -10.0  40.04  1026.0   55.00            0.0    0.0   \n",
      "254157        31.0 -21.0 -11.0  43.36  1027.0   59.00            0.0    0.0   \n",
      "254158        30.0 -21.0 -11.0  43.36  1027.0   64.00            0.0    0.0   \n",
      "254159        26.0 -21.0 -12.0  46.98  1027.0   68.00            0.0    0.0   \n",
      "\n",
      "        city_Beijing  city_Chengdu  ...  city_Shenyang  season_1.0  \\\n",
      "35064           True         False  ...          False       False   \n",
      "35065           True         False  ...          False       False   \n",
      "35066           True         False  ...          False       False   \n",
      "35067           True         False  ...          False       False   \n",
      "35068           True         False  ...          False       False   \n",
      "...              ...           ...  ...            ...         ...   \n",
      "254155         False         False  ...           True       False   \n",
      "254156         False         False  ...           True       False   \n",
      "254157         False         False  ...           True       False   \n",
      "254158         False         False  ...           True       False   \n",
      "254159         False         False  ...           True       False   \n",
      "\n",
      "        season_2.0  season_3.0  season_4.0  cbwd_NE  cbwd_NW  cbwd_SE  \\\n",
      "35064        False       False        True    False     True    False   \n",
      "35065        False       False        True    False     True    False   \n",
      "35066        False       False        True    False     True    False   \n",
      "35067        False       False        True    False     True    False   \n",
      "35068        False       False        True    False    False    False   \n",
      "...            ...         ...         ...      ...      ...      ...   \n",
      "254155       False       False        True    False     True    False   \n",
      "254156       False       False        True    False     True    False   \n",
      "254157       False       False        True    False     True    False   \n",
      "254158       False       False        True    False     True    False   \n",
      "254159       False       False        True    False     True    False   \n",
      "\n",
      "        cbwd_SW  cbwd_cv  \n",
      "35064     False    False  \n",
      "35065     False    False  \n",
      "35066     False    False  \n",
      "35067     False    False  \n",
      "35068     False     True  \n",
      "...         ...      ...  \n",
      "254155    False    False  \n",
      "254156    False    False  \n",
      "254157    False    False  \n",
      "254158    False    False  \n",
      "254159    False    False  \n",
      "\n",
      "[43800 rows x 22 columns]\n",
      "        PM_US Post  DEWP  TEMP   HUMI    PRES    Iws  precipitation  Iprec  \\\n",
      "43824         22.0 -21.0  -6.0  29.00  1034.0   0.89            0.0    0.0   \n",
      "43825          9.0 -22.0  -4.0  23.00  1034.0   4.92            0.0    0.0   \n",
      "43826          9.0 -21.0  -5.0  27.00  1034.0   8.94            0.0    0.0   \n",
      "43827         13.0 -21.0  -6.0  29.00  1035.0  12.96            0.0    0.0   \n",
      "43828         10.0 -21.0  -5.0  27.00  1034.0  16.98            0.0    0.0   \n",
      "...            ...   ...   ...    ...     ...    ...            ...    ...   \n",
      "262915       166.0 -10.0  -9.0  92.42  1031.0   2.00            0.0    0.0   \n",
      "262916       259.0 -10.0  -7.0  79.10  1030.0   5.00            0.0    0.0   \n",
      "262917       368.0 -10.0  -7.0  79.10  1030.0   8.00            0.0    0.0   \n",
      "262918       319.0 -10.0  -7.0  79.10  1028.0  11.00            NaN    NaN   \n",
      "262919       275.0  -9.0  -6.0  79.26  1028.0  12.00            0.0    0.0   \n",
      "\n",
      "        city_Beijing  city_Chengdu  ...  city_Shenyang  season_1.0  \\\n",
      "43824           True         False  ...          False       False   \n",
      "43825           True         False  ...          False       False   \n",
      "43826           True         False  ...          False       False   \n",
      "43827           True         False  ...          False       False   \n",
      "43828           True         False  ...          False       False   \n",
      "...              ...           ...  ...            ...         ...   \n",
      "262915         False         False  ...           True       False   \n",
      "262916         False         False  ...           True       False   \n",
      "262917         False         False  ...           True       False   \n",
      "262918         False         False  ...           True       False   \n",
      "262919         False         False  ...           True       False   \n",
      "\n",
      "        season_2.0  season_3.0  season_4.0  cbwd_NE  cbwd_NW  cbwd_SE  \\\n",
      "43824        False       False        True    False    False     True   \n",
      "43825        False       False        True    False     True    False   \n",
      "43826        False       False        True    False     True    False   \n",
      "43827        False       False        True    False     True    False   \n",
      "43828        False       False        True    False     True    False   \n",
      "...            ...         ...         ...      ...      ...      ...   \n",
      "262915       False       False        True    False    False     True   \n",
      "262916       False       False        True    False    False     True   \n",
      "262917       False       False        True    False    False     True   \n",
      "262918       False       False        True    False    False     True   \n",
      "262919       False       False        True    False    False     True   \n",
      "\n",
      "        cbwd_SW  cbwd_cv  \n",
      "43824     False    False  \n",
      "43825     False    False  \n",
      "43826     False    False  \n",
      "43827     False    False  \n",
      "43828     False    False  \n",
      "...         ...      ...  \n",
      "262915    False    False  \n",
      "262916    False    False  \n",
      "262917    False    False  \n",
      "262918    False    False  \n",
      "262919    False    False  \n",
      "\n",
      "[43800 rows x 22 columns]\n"
     ]
    }
   ],
   "source": [
    "df_2014 = df_all_encoded[df_all[\"year\"] == 2014][all_columns]\n",
    "df_2015 = df_all_encoded[df_all[\"year\"] == 2015][all_columns]\n",
    "print(df_2014)\n",
    "print(df_2015)"
   ]
  },
  {
   "cell_type": "markdown",
   "metadata": {},
   "source": [
    "### 欠損値除去"
   ]
  },
  {
   "cell_type": "code",
   "execution_count": 24,
   "metadata": {},
   "outputs": [],
   "source": [
    "def remove_nan(data: pd.DataFrame) -> tuple[pd.DataFrame, pd.DataFrame]:\n",
    "    # 各列に対して、pd.to_numericを使用して数値に変換（エラーがあればNaNにする）\n",
    "    df_numeric = data.apply(lambda col: pd.to_numeric(col, errors=\"coerce\"))\n",
    "\n",
    "    # 数値に変換できなかった行を抽出（NaNを含む行）\n",
    "    df_excluded = data[df_numeric.isna().any(axis=1)]\n",
    "\n",
    "    # NaNを含む行を削除\n",
    "    df_clean = df_numeric.dropna()\n",
    "\n",
    "    return df_excluded, df_clean"
   ]
  },
  {
   "cell_type": "code",
   "execution_count": 25,
   "metadata": {},
   "outputs": [
    {
     "name": "stdout",
     "output_type": "stream",
     "text": [
      "全データ数（訓練）： 43800\n",
      "全データ数（テスト）： 43800\n",
      "欠損値除去後のデータ数（訓練）： 40334\n",
      "欠損値除去後のデータ数（テスト）： 39098\n"
     ]
    }
   ],
   "source": [
    "_, df_2014_clean = remove_nan(df_2014)\n",
    "_, df_2015_clean = remove_nan(df_2015)\n",
    "\n",
    "print(\"全データ数（訓練）：\", len(df_2014))\n",
    "print(\"全データ数（テスト）：\", len(df_2015))\n",
    "print(\"欠損値除去後のデータ数（訓練）：\", len(df_2014_clean))\n",
    "print(\"欠損値除去後のデータ数（テスト）：\", len(df_2015_clean))"
   ]
  },
  {
   "cell_type": "markdown",
   "metadata": {},
   "source": [
    "### 外れ値除去"
   ]
  },
  {
   "cell_type": "code",
   "execution_count": 26,
   "metadata": {},
   "outputs": [],
   "source": [
    "# # 外れ値の除去\n",
    "# def remove_outliers_zscore(\n",
    "#     data: pd.DataFrame, metric: str, threshold: float = 2\n",
    "# ) -> pd.DataFrame:\n",
    "#     z_scores = np.abs(stats.zscore(data[metric]))\n",
    "#     data = data[(z_scores < threshold)]\n",
    "#     return data"
   ]
  },
  {
   "cell_type": "code",
   "execution_count": 27,
   "metadata": {},
   "outputs": [],
   "source": [
    "# df_train = remove_outliers_zscore(\n",
    "#     data=df_2014_clean, metric=TARGET, threshold=THRESHOLD\n",
    "# )\n",
    "# df_train = df_train.reset_index(drop=True)  # 行を詰める\n",
    "# df_test = remove_outliers_zscore(data=df_2015_clean, metric=TARGET, threshold=THRESHOLD)\n",
    "# df_test = df_test.reset_index(drop=True)  # 行を詰める\n",
    "\n",
    "# print(\"欠損値と外れ値除外後のデータ数（訓練）:\", len(df_train))\n",
    "# print(\"欠損値と外れ値除外後のデータ数（テスト）:\", len(df_test))"
   ]
  },
  {
   "cell_type": "code",
   "execution_count": 28,
   "metadata": {},
   "outputs": [],
   "source": [
    "df_train = df_2014_clean\n",
    "df_test = df_2015_clean\n"
   ]
  },
  {
   "cell_type": "markdown",
   "metadata": {},
   "source": [
    "### NumPy 配列作成"
   ]
  },
  {
   "cell_type": "code",
   "execution_count": 29,
   "metadata": {},
   "outputs": [],
   "source": [
    "X_train = df_train[columns_list].to_numpy()\n",
    "y_train = df_train[TARGET].to_numpy()\n",
    "\n",
    "X_test = df_test[columns_list].to_numpy()\n",
    "y_test = df_test[TARGET].to_numpy()"
   ]
  },
  {
   "cell_type": "markdown",
   "metadata": {},
   "source": [
    "### 標準化"
   ]
  },
  {
   "cell_type": "code",
   "execution_count": 30,
   "metadata": {},
   "outputs": [],
   "source": [
    "sc = StandardScaler()\n",
    "sc.fit(X_train)  # 訓練データに基づいてfit\n",
    "\n",
    "X_train_std = sc.transform(X_train)\n",
    "X_test_std = sc.transform(X_test)"
   ]
  },
  {
   "cell_type": "markdown",
   "metadata": {},
   "source": [
    "-------------\n",
    "# 4．Kmeansのクラスタサイズ確認"
   ]
  },
  {
   "cell_type": "code",
   "execution_count": 31,
   "metadata": {},
   "outputs": [
    {
     "name": "stdout",
     "output_type": "stream",
     "text": [
      "[4345 2076 2528 4272 5067 3008 4637 4029 5148 3988]\n"
     ]
    }
   ],
   "source": [
    "kmeans = KMeans(n_clusters=N_CLUSTERS, random_state=RANDOM_STATE)\n",
    "labels = kmeans.fit_predict(X_test_std)\n",
    "cluster_size = np.bincount(labels)\n",
    "\n",
    "print(cluster_size)"
   ]
  },
  {
   "cell_type": "markdown",
   "metadata": {},
   "source": [
    "-----------------------------\n",
    "# 5．シルエット係数で確認"
   ]
  },
  {
   "cell_type": "code",
   "execution_count": 32,
   "metadata": {},
   "outputs": [],
   "source": [
    "def silhouette(X, k_min=2, k_max=10):\n",
    "    kmeans = KMeans(n_clusters=k_min, random_state=RANDOM_STATE)\n",
    "    kmeans.fit(X)\n",
    "    labels = kmeans.predict(X)\n",
    "    best_score = silhouette_score(X, labels)\n",
    "    score_dict = {}\n",
    "    score_dict[k_min] = best_score\n",
    "    best_k = k_min\n",
    "    for k in range(k_min + 1, k_max + 1):\n",
    "        kmeans = KMeans(n_clusters=k, random_state=RANDOM_STATE)\n",
    "        kmeans.fit(X)\n",
    "        labels = kmeans.predict(X)\n",
    "        current_score = silhouette_score(X, labels)\n",
    "        score_dict[k] = current_score\n",
    "        if current_score > best_score:\n",
    "            best_score = current_score\n",
    "            best_k = k\n",
    "    return best_k, score_dict\n"
   ]
  },
  {
   "cell_type": "code",
   "execution_count": 33,
   "metadata": {},
   "outputs": [
    {
     "name": "stdout",
     "output_type": "stream",
     "text": [
      "n_clusters chosen in Xmeans: 6\n"
     ]
    },
    {
     "data": {
      "image/png": "[encoded data removed]",
      "text/plain": [
       "<Figure size 640x480 with 1 Axes>"
      ]
     },
     "metadata": {},
     "output_type": "display_data"
    }
   ],
   "source": [
    "best_k, score_dict = silhouette(X_train_std, k_min=K_MIN, k_max=K_MAX)\n",
    "print(\"n_clusters chosen in Xmeans:\", best_k)\n",
    "\n",
    "x = []\n",
    "for k in score_dict.keys():\n",
    "    x.append(str(k))\n",
    "y = [score for score in score_dict.values()]\n",
    "bars = plt.bar(x, y)\n",
    "plt.ylabel(\"Silhouette score\", fontsize=30)\n",
    "plt.xlabel(\"Number of clusters\", fontsize=30)\n",
    "plt.tick_params(axis=\"both\", which=\"major\", labelsize=25)\n",
    "plt.tight_layout()\n",
    "plt.show()\n"
   ]
  },
  {
   "cell_type": "markdown",
   "metadata": {},
   "source": [
    "-------------\n",
    "# 6．Xmeans で確認"
   ]
  },
  {
   "cell_type": "code",
   "execution_count": null,
   "metadata": {},
   "outputs": [],
   "source": [
    "# def compute_bic(X, kmeans):\n",
    "#     labels = kmeans.labels_\n",
    "#     clusters = kmeans.cluster_centers_\n",
    "#     n_clusters = len(clusters)\n",
    "#     n = len(X)\n",
    "#     m = X.shape[1]\n",
    "#     variance = np.sum(\n",
    "#         [\n",
    "#             np.linalg.norm(X[labels == i] - clusters[i], axis=1).sum()\n",
    "#             for i in range(n_clusters)\n",
    "#         ]\n",
    "#     )\n",
    "#     bic = np.log(n) * n_clusters * m + n * np.log(variance / n)\n",
    "#     return bic\n",
    "\n",
    "\n",
    "# def xmeans(X, k_min=2, k_max=10):\n",
    "#     kmeans = KMeans(n_clusters=k_min, random_state=RANDOM_STATE)\n",
    "#     kmeans.fit(X)\n",
    "#     best_bic = compute_bic(X, kmeans)\n",
    "#     best_k = k_min\n",
    "#     score_dict = {}\n",
    "#     score_dict[k_min] = best_bic\n",
    "#     for k in range(k_min + 1, k_max + 1):\n",
    "#         kmeans = KMeans(n_clusters=k, random_state=RANDOM_STATE)\n",
    "#         kmeans.fit(X)\n",
    "#         current_bic = compute_bic(X, kmeans)\n",
    "#         score_dict[k] = current_bic\n",
    "#         if current_bic < best_bic:\n",
    "#             best_bic = current_bic\n",
    "#             best_k = k\n",
    "#     return best_k, score_dict"
   ]
  },
  {
   "cell_type": "code",
   "execution_count": null,
   "metadata": {},
   "outputs": [],
   "source": [
    "# best_k, score_dict = xmeans(X_train_std, k_min=K_MIN, k_max=K_MAX)\n",
    "# print(\"n_clusters chosen in Xmeans:\", best_k)\n",
    "\n",
    "# x = []\n",
    "# for k in score_dict.keys():\n",
    "#     x.append(str(k))\n",
    "# y = [score for score in score_dict.values()]\n",
    "# bars = plt.bar(x, y)\n",
    "# plt.ylabel(\"BIC\", fontsize=30)\n",
    "# plt.xlabel(\"Number of clusters\", fontsize=30)\n",
    "# plt.tick_params(axis=\"both\", which=\"major\", labelsize=25)\n",
    "# plt.tight_layout()\n",
    "# plt.show()"
   ]
  },
  {
   "cell_type": "markdown",
   "metadata": {},
   "source": [
    "-----\n",
    "# 7．エルボー図"
   ]
  },
  {
   "cell_type": "code",
   "execution_count": null,
   "metadata": {},
   "outputs": [
    {
     "data": {
      "image/png": "[encoded data removed]",
      "text/plain": [
       "<Figure size 640x480 with 1 Axes>"
      ]
     },
     "metadata": {},
     "output_type": "display_data"
    }
   ],
   "source": [
    "distortions = []\n",
    "for i in range(K_MIN - 1, K_MAX + 1):\n",
    "    kmeans = KMeans(n_clusters=i, random_state=RANDOM_STATE)\n",
    "    kmeans.fit(X_train_std)\n",
    "    distortions.append(kmeans.inertia_)\n",
    "\n",
    "plt.plot(range(K_MIN - 1, K_MAX + 1), distortions, marker=\"o\")\n",
    "plt.xlabel(\"Number of clusters\", fontsize=30)\n",
    "plt.ylabel(\"Distortion\", fontsize=30)\n",
    "plt.xticks(range(K_MIN - 1, K_MAX + 1))\n",
    "plt.tick_params(axis=\"both\", labelsize=25)\n",
    "plt.tight_layout()\n",
    "plt.show()"
   ]
  },
  {
   "cell_type": "code",
   "execution_count": null,
   "metadata": {},
   "outputs": [],
   "source": []
  }
 ],
 "metadata": {
  "kernelspec": {
   "display_name": ".venv",
   "language": "python",
   "name": "python3"
  },
  "language_info": {
   "codemirror_mode": {
    "name": "ipython",
    "version": 3
   },
   "file_extension": ".py",
   "mimetype": "text/x-python",
   "name": "python",
   "nbconvert_exporter": "python",
   "pygments_lexer": "ipython3",
   "version": "3.12.4"
  }
 },
 "nbformat": 4,
 "nbformat_minor": 2
}
