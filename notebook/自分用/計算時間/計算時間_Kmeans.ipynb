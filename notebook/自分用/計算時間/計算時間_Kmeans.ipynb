{
 "cells": [
  {
   "cell_type": "markdown",
   "metadata": {},
   "source": [
    "-------------\n",
    "# １．ライブラリのインポート"
   ]
  },
  {
   "cell_type": "code",
   "execution_count": 1,
   "metadata": {},
   "outputs": [],
   "source": [
    "# 基本的なライブラリ\n",
    "import numpy as np\n",
    "import pandas as pd\n",
    "from numpy.typing import NDArray\n",
    "from scipy import stats\n",
    "\n",
    "# Scikit-learn関連\n",
    "from sklearn.base import BaseEstimator, TransformerMixin\n",
    "from sklearn.mixture import GaussianMixture\n",
    "from sklearn.preprocessing import StandardScaler\n",
    "from sklearn.cluster import KMeans\n",
    "from sklearn.utils.validation import check_X_y\n",
    "from sklearn.linear_model import Lasso\n",
    "\n",
    "# 抽象基底クラス (ABC)\n",
    "from abc import ABCMeta, abstractmethod\n",
    "\n",
    "# タイピングのサポート\n",
    "from typing import Optional\n",
    "\n",
    "# 可視化の設定\n",
    "import matplotlib.pyplot as plt\n",
    "import japanize_matplotlib\n",
    "import itertools\n",
    "\n",
    "plt.style.use(\"ggplot\")\n",
    "\n",
    "import time"
   ]
  },
  {
   "cell_type": "markdown",
   "metadata": {},
   "source": [
    "--------\n",
    "# ２．実験設定"
   ]
  },
  {
   "cell_type": "markdown",
   "metadata": {},
   "source": [
    "## 2.1 実験設定"
   ]
  },
  {
   "cell_type": "code",
   "execution_count": 2,
   "metadata": {},
   "outputs": [],
   "source": [
    "### 実験データの設定 ###\n",
    "n = 100000  # データサイズ\n",
    "p = 20  # 特徴量数\n",
    "s = 5  # 非ゼロ係数の数\n",
    "rho = 0.35  # 相関レベル\n",
    "snr = 0.5  # 信号対雑音比\n",
    "beta_type = \"type1\"\n",
    "\n",
    "\n",
    "### 実験設定 ###\n",
    "SAMPLE_SIZE = 10000  # 標本サイズ\n",
    "N_TRIALS = 10000  # 試行回数（標本抽出を行う回数）\n",
    "m_VALUE = 2  # 最適標本配分における各クラスタの最小標本数\n",
    "RANDOM_STATE = 0  # 乱数シード\n",
    "EXP_NUM = 50\n",
    "\n",
    "### 実験方法 ###\n",
    "# クラスタリング\n",
    "N_CLUSTERS = 6  # クラスタ数（Kmeans と GMM）\n",
    "\n",
    "\n",
    "# 標本配分\n",
    "ALLOCATION_LIST = [\n",
    "    \"Proportional\",\n",
    "    \"Optimal\",\n",
    "]\n",
    "\n",
    "### シード ###\n",
    "np.random.seed(42)"
   ]
  },
  {
   "cell_type": "code",
   "execution_count": 3,
   "metadata": {},
   "outputs": [
    {
     "name": "stdout",
     "output_type": "stream",
     "text": [
      "[1 0 0 0 1 0 0 0 1 0 0 0 1 0 0 0 1 0 0 0]\n"
     ]
    }
   ],
   "source": [
    "if beta_type == \"type1\":\n",
    "    BETA = [1, 0, 0, 0, 1, 0, 0, 0, 1, 0, 0, 0, 1, 0, 0, 0, 1, 0, 0, 0]\n",
    "    for i in range(p - 20):\n",
    "        BETA.append(0)\n",
    "    BETA = np.array(BETA)\n",
    "    print(BETA)\n",
    "ALL_FEATURES_INDEX = [i for i in range(p)]\n"
   ]
  },
  {
   "cell_type": "markdown",
   "metadata": {},
   "source": [
    "-----------\n",
    "# ３．データの前処理"
   ]
  },
  {
   "cell_type": "markdown",
   "metadata": {},
   "source": [
    "## 3.1 データ作成"
   ]
  },
  {
   "cell_type": "code",
   "execution_count": 4,
   "metadata": {},
   "outputs": [],
   "source": [
    "def simulate_data(n, p, rho, snr, beta, seed):\n",
    "    np.random.seed(seed)\n",
    "\n",
    "    # 2. 共分散行列Σの生成\n",
    "    Sigma = np.fromfunction(lambda i, j: rho ** np.abs(i - j), (p, p), dtype=int)\n",
    "\n",
    "    # 3. Xの生成 (多変量正規分布)\n",
    "    X = np.random.multivariate_normal(mean=np.zeros(p), cov=Sigma, size=n)\n",
    "\n",
    "    # 4. 応答変数Yの生成\n",
    "    signal_variance = beta.T @ Sigma @ beta  # β₀の分散\n",
    "    noise_variance = signal_variance / snr  # ノイズ分散 σ²\n",
    "    noise = np.random.normal(scale=np.sqrt(noise_variance), size=n)  # ノイズ項\n",
    "    Y = X @ beta + noise\n",
    "\n",
    "    return X, Y, beta"
   ]
  },
  {
   "cell_type": "code",
   "execution_count": 5,
   "metadata": {},
   "outputs": [],
   "source": [
    "X_train, y_train, beta_train = simulate_data(\n",
    "    n=n, p=p, rho=rho, snr=snr, beta=BETA, seed=0\n",
    ")\n",
    "X_test, y_test, beta_test = simulate_data(n=n, p=p, rho=rho, snr=snr, beta=BETA, seed=1)"
   ]
  },
  {
   "cell_type": "markdown",
   "metadata": {},
   "source": [
    "## 3.5 標準化"
   ]
  },
  {
   "cell_type": "code",
   "execution_count": 6,
   "metadata": {},
   "outputs": [],
   "source": [
    "sc = StandardScaler()\n",
    "# 訓練データに基づいてfit\n",
    "sc.fit(X_train)\n",
    "X_train_std = sc.transform(X_train)\n",
    "X_test_std = sc.transform(X_test)"
   ]
  },
  {
   "cell_type": "markdown",
   "metadata": {},
   "source": [
    "K-meansクラスタリング"
   ]
  },
  {
   "cell_type": "code",
   "execution_count": 7,
   "metadata": {},
   "outputs": [],
   "source": [
    "kmeans = KMeans(n_clusters=N_CLUSTERS, random_state=RANDOM_STATE)\n",
    "\n",
    "TIME_LIST = []\n",
    "\n",
    "# 各インスタンスに対して処理を実行\n",
    "for exp_num in range(EXP_NUM):\n",
    "    start_time = time.time()\n",
    "    kmeans.fit(X_train_std)\n",
    "    end_time = time.time()\n",
    "    TIME_LIST.append(end_time - start_time)\n"
   ]
  },
  {
   "cell_type": "code",
   "execution_count": 8,
   "metadata": {},
   "outputs": [
    {
     "name": "stdout",
     "output_type": "stream",
     "text": [
      "100000:[1.737678050994873, 0.28446125984191895, 0.30789685249328613, 0.2225513458251953, 0.269162654876709, 0.2215263843536377, 0.23646235466003418, 0.22952556610107422, 0.2241497039794922, 0.2251589298248291, 0.21365141868591309, 0.22915005683898926, 0.2011125087738037, 0.23912572860717773, 0.20899224281311035, 0.23643136024475098, 0.21433711051940918, 0.22634005546569824, 0.1999971866607666, 0.23313283920288086, 0.22189831733703613, 0.22333788871765137, 0.21254873275756836, 0.22532081604003906, 0.22540736198425293, 0.2160632610321045, 0.2263185977935791, 0.21089959144592285, 0.23500347137451172, 0.21699261665344238, 0.23022818565368652, 0.21134638786315918, 0.21440339088439941, 0.2124166488647461, 0.21637940406799316, 0.2118206024169922, 0.2169952392578125, 0.21625089645385742, 0.21925020217895508, 0.23118042945861816, 0.20463085174560547, 0.26600170135498047, 0.23145008087158203, 0.25171542167663574, 0.20077157020568848, 0.23181676864624023, 0.3356974124908447, 0.31162071228027344, 0.22177696228027344, 0.22885417938232422]\n"
     ]
    }
   ],
   "source": [
    "print(f\"{n}:{TIME_LIST}\")"
   ]
  }
 ],
 "metadata": {
  "kernelspec": {
   "display_name": ".venv",
   "language": "python",
   "name": "python3"
  },
  "language_info": {
   "codemirror_mode": {
    "name": "ipython",
    "version": 3
   },
   "file_extension": ".py",
   "mimetype": "text/x-python",
   "name": "python",
   "nbconvert_exporter": "python",
   "pygments_lexer": "ipython3",
   "version": "3.12.4"
  }
 },
 "nbformat": 4,
 "nbformat_minor": 2
}
