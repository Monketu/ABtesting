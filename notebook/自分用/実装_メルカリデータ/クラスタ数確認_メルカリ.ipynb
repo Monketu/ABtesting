{
 "cells": [
  {
   "cell_type": "markdown",
   "metadata": {},
   "source": [
    "-------------\n",
<<<<<<< HEAD
    "## １．ライブラリのインポート"
=======
    "# １．ライブラリのインポート"
>>>>>>> 1080d625ef26aed6794f9095fab8fd63f3845d51
   ]
  },
  {
   "cell_type": "code",
   "execution_count": null,
   "metadata": {},
   "outputs": [],
   "source": [
    "# 基本的なライブラリ\n",
    "import numpy as np\n",
    "import pandas as pd\n",
    "from numpy.typing import NDArray\n",
    "from scipy import stats\n",
    "\n",
    "# Scikit-learn関連\n",
    "from sklearn.base import BaseEstimator, TransformerMixin\n",
    "from sklearn.mixture import GaussianMixture\n",
    "from sklearn.preprocessing import StandardScaler\n",
    "from sklearn.cluster import KMeans\n",
    "from sklearn.utils.validation import check_X_y\n",
    "from sklearn.metrics import silhouette_score\n",
    "from sklearn.metrics import silhouette_samples\n",
    "from sklearn.linear_model import Lasso\n",
    "\n",
    "# 抽象基底クラス (ABC)\n",
    "from abc import ABCMeta, abstractmethod\n",
    "\n",
    "# タイピングのサポート\n",
    "from typing import Optional\n",
    "\n",
    "# 可視化の設定\n",
    "import matplotlib.pyplot as plt\n",
    "from matplotlib import cm\n",
    "import japanize_matplotlib\n",
    "import itertools\n",
    "plt.style.use(\"ggplot\")"
   ]
  },
  {
   "cell_type": "markdown",
   "metadata": {},
   "source": [
    "--------\n",
    "# ２．実験設定"
   ]
  },
  {
   "cell_type": "code",
   "execution_count": 2,
   "metadata": {},
   "outputs": [],
   "source": [
    "### 実験データの設定 ###\n",
    "TRAIN_SIZE = 100000\n",
    "TEST_SIZE = 100000\n",
    "THRESHOLD = 2  # 外れ値除外のための閾値\n",
    "TARGET = \"GMV\"  # \"GMV\" or \"BCR\"（目的変数）\n",
    "features_list = [   # 特徴量のリスト\n",
    "    \"hist_4_day_buy_num\",\n",
    "    \"hist_4_day_gmv\",\n",
    "    \"his_4_day_is_buy\",\n",
    "    \"hist_30_day_buy_days\",\n",
    "    \"hist_30_day_buy_num\",\n",
    "    \"hist_30_day_gmv\",\n",
    "    \"hist_30_day_buy_recency\",\n",
    "    \"hist_30_day_pay_days\",\n",
    "    \"hist_30_day_atpu\",\n",
    "    \"hist_30_day_gpv\",\n",
    "    \"hist_30_day_pay_recency\",\n",
    "    \"hist_30_day_list_days\",\n",
    "    \"hist_30_day_list_num\",\n",
    "    \"hist_30_day_list_recency\",\n",
    "    \"hist_30_day_like_count\",\n",
    "    \"hist_30_day_like_count_not_deleted\",\n",
    "    \"hist_30_day_like_recency\",\n",
    "]\n",
    "ALL_FEATURES_INDEX = [i for i in range(len(features_list))]\n",
    "\n",
    "### 実験設定 ###\n",
    "N_CLUSTERS = 10 # Kmeansクラスタリングのクラスタ数\n",
    "K_MIN = 2 # 最小クラスタ数\n",
    "K_MAX = 10 # 最大クラスタ数\n",
    "\n",
    "\n",
    "### シード ###\n",
    "RANDOM_STATE = 0"
   ]
  },
  {
   "cell_type": "markdown",
   "metadata": {},
   "source": [
    "-----------\n",
    "# ３．データの前処理"
   ]
  },
  {
   "cell_type": "markdown",
   "metadata": {},
   "source": [
    "### データ読み込み"
   ]
  },
  {
   "cell_type": "code",
   "execution_count": null,
   "metadata": {},
   "outputs": [],
   "source": [
    "df_all = pd.read_csv(\n",
    "    R\"C:\\Users\\HaruMomozu\\Documents\\aug_first_cpn_data_for_ab_test_sensibility_tsukuba.csv\"\n",
    ")\n",
    "df_train = df_all.iloc[:TRAIN_SIZE]\n",
    "df_test = df_all.iloc[TRAIN_SIZE : TRAIN_SIZE + TEST_SIZE]"
   ]
  },
  {
   "cell_type": "markdown",
   "metadata": {},
   "source": [
    "### 目的変数\"GMV\" から新しい目的変数 \"BCR\" 作成"
   ]
  },
  {
   "cell_type": "code",
   "execution_count": null,
   "metadata": {},
   "outputs": [],
   "source": [
    "df_train = df_train.copy()\n",
    "df_train[\"BCR\"] = np.where(df_train[\"GMV\"] > 0, 1, 0)\n",
    "df_test = df_test.copy()\n",
    "df_test[\"BCR\"] = np.where(df_test[\"GMV\"] > 0, 1, 0)"
   ]
  },
  {
   "cell_type": "markdown",
   "metadata": {},
   "source": [
    "### 外れ値除去"
   ]
  },
  {
   "cell_type": "code",
   "execution_count": 5,
   "metadata": {},
   "outputs": [],
   "source": [
    "# 外れ値の除去\n",
    "def remove_outliers_zscore(\n",
    "    data: pd.DataFrame, metric: str, threshold: float = 2\n",
    ") -> pd.DataFrame:\n",
    "    z_scores = np.abs(stats.zscore(data[metric]))\n",
    "    data = data[(z_scores < threshold)]\n",
    "    return data"
   ]
  },
  {
   "cell_type": "code",
   "execution_count": 6,
   "metadata": {},
   "outputs": [
    {
     "name": "stdout",
     "output_type": "stream",
     "text": [
      "外れ値除外前のデータ数（訓練+テスト）: 200000\n",
      "外れ値除外後のデータ数（訓練+テスト）: 198151\n"
     ]
    }
   ],
   "source": [
    "df_train = remove_outliers_zscore(data=df_train, metric=TARGET, threshold=THRESHOLD)\n",
    "df_train = df_train.reset_index(drop=True)  # 行を詰める\n",
    "df_test = remove_outliers_zscore(data=df_test, metric=TARGET, threshold=THRESHOLD)\n",
    "df_test = df_test.reset_index(drop=True)  # 行を詰める\n",
    "\n",
    "print(\"外れ値除外前のデータ数（訓練）:\", TRAIN_SIZE)\n",
    "print(\"外れ値除外後のデータ数（訓練）:\", len(df_train))\n",
    "print(\"外れ値除外前のデータ数（テスト）:\", TEST_SIZE)\n",
    "print(\"外れ値除外後のデータ数（テスト）:\", len(df_test))"
   ]
  },
  {
   "cell_type": "markdown",
   "metadata": {},
   "source": [
    "### NumPy 配列作成"
   ]
  },
  {
   "cell_type": "code",
   "execution_count": 7,
   "metadata": {},
   "outputs": [
    {
     "name": "stdout",
     "output_type": "stream",
     "text": [
      "訓練データのデータ数: 99075\n",
      "テストデータのデータ数: 99076\n"
     ]
    }
   ],
   "source": [
    "X_train = df_train[features_list].to_numpy()\n",
    "y_train = df_train[TARGET].to_numpy()\n",
    "\n",
    "X_test = df_test[features_list].to_numpy()\n",
    "y_test = df_test[TARGET].to_numpy()"
   ]
  },
  {
   "cell_type": "markdown",
   "metadata": {},
   "source": [
    "### 標準化"
   ]
  },
  {
   "cell_type": "code",
   "execution_count": null,
   "metadata": {},
   "outputs": [],
   "source": [
    "sc = StandardScaler()\n",
    "sc.fit(X_train) # 訓練データに基づいてfit\n",
    "\n",
    "X_train_std = sc.transform(X_train)\n",
    "X_test_std = sc.transform(X_test)"
   ]
  },
  {
   "cell_type": "markdown",
   "metadata": {},
   "source": [
    "-------------\n",
    "# 4．Kmeansのクラスタサイズ確認"
   ]
  },
  {
   "cell_type": "code",
   "execution_count": 9,
   "metadata": {},
   "outputs": [
    {
     "name": "stdout",
     "output_type": "stream",
     "text": [
      "[ 6760  2114 22086  2516 10472 33197     2   264  5926 15739]\n"
     ]
    }
   ],
   "source": [
    "kmeans = KMeans(n_clusters=N_CLUSTERS, random_state=RANDOM_STATE)\n",
    "labels = kmeans.fit_predict(X_test_std)\n",
    "cluster_size = np.bincount(labels)\n",
    "\n",
    "print(cluster_size)"
   ]
  },
  {
   "cell_type": "markdown",
   "metadata": {},
   "source": [
    "-----------------------------\n",
    "# 5．シルエット係数で確認"
   ]
  },
  {
   "cell_type": "code",
   "execution_count": null,
   "metadata": {},
   "outputs": [],
   "source": [
    "def silhouette(X, k_min=2, k_max=10):\n",
    "    kmeans = KMeans(n_clusters=k_min, random_state=RANDOM_STATE)\n",
    "    kmeans.fit(X)\n",
    "    labels = kmeans.predict(X)\n",
    "    best_score = silhouette_score(X, labels)\n",
    "    score_dict = {}\n",
    "    score_dict[k_min] = best_score\n",
    "    best_k = k_min\n",
    "    for k in range(k_min + 1, k_max + 1):\n",
    "        kmeans = KMeans(n_clusters=k, random_state=RANDOM_STATE)\n",
    "        kmeans.fit(X)\n",
    "        labels = kmeans.predict(X)\n",
    "        current_score = silhouette_score(X, labels)\n",
    "        score_dict[k] = current_score\n",
    "        if current_score > best_score:\n",
    "            best_score = current_score\n",
    "            best_k = k\n",
    "    return best_k, score_dict"
   ]
  },
  {
   "cell_type": "code",
   "execution_count": null,
   "metadata": {},
   "outputs": [],
   "source": [
    "best_k, score_dict = silhouette(X_train_std, k_min=K_MIN, k_max=K_MAX)\n",
    "print(\"n_clusters chosen in Xmeans:\", best_k)\n",
    "\n",
    "x = []\n",
    "for k in score_dict.keys():\n",
    "    x.append(str(k))\n",
    "y = [score for score in score_dict.values()]\n",
    "bars = plt.bar(x, y)\n",
    "plt.ylabel(\"Silhouette score\", fontsize=30)\n",
    "plt.xlabel(\"Number of clusters\", fontsize=30)\n",
    "plt.tick_params(axis=\"both\", which=\"major\", labelsize=25)\n",
    "plt.tight_layout()\n",
    "plt.show()"
   ]
  },
  {
   "cell_type": "markdown",
   "metadata": {},
   "source": [
    "-------------\n",
    "# 6．Xmeans で確認"
   ]
  },
  {
   "cell_type": "code",
   "execution_count": null,
   "metadata": {},
   "outputs": [],
   "source": [
    "# def compute_bic(X, kmeans):\n",
    "#     labels = kmeans.labels_\n",
    "#     clusters = kmeans.cluster_centers_\n",
    "#     n_clusters = len(clusters)\n",
    "#     n = len(X)\n",
    "#     m = X.shape[1]\n",
    "#     variance = np.sum(\n",
    "#         [\n",
    "#             np.linalg.norm(X[labels == i] - clusters[i], axis=1).sum()\n",
    "#             for i in range(n_clusters)\n",
    "#         ]\n",
    "#     )\n",
    "#     bic = np.log(n) * n_clusters * m + n * np.log(variance / n)\n",
    "#     return bic\n",
    "\n",
    "\n",
    "# def xmeans(X, k_min=2, k_max=10):\n",
    "#     kmeans = KMeans(n_clusters=k_min, random_state=RANDOM_STATE)\n",
    "#     kmeans.fit(X)\n",
    "#     best_bic = compute_bic(X, kmeans)\n",
    "#     best_k = k_min\n",
    "#     score_dict = {}\n",
    "#     score_dict[k_min] = best_bic\n",
    "#     for k in range(k_min + 1, k_max + 1):\n",
    "#         kmeans = KMeans(n_clusters=k, random_state=RANDOM_STATE)\n",
    "#         kmeans.fit(X)\n",
    "#         current_bic = compute_bic(X, kmeans)\n",
    "#         score_dict[k] = current_bic\n",
    "#         if current_bic < best_bic:\n",
    "#             best_bic = current_bic\n",
    "#             best_k = k\n",
    "#     return best_k, score_dict"
   ]
  },
  {
   "cell_type": "code",
   "execution_count": null,
   "metadata": {},
   "outputs": [
    {
     "name": "stdout",
     "output_type": "stream",
     "text": [
      "n_clusters chosen in Xmeans: 10\n"
     ]
    },
    {
     "data": {
      "image/png": "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",
      "text/plain": [
       "<Figure size 640x480 with 1 Axes>"
      ]
     },
     "metadata": {},
     "output_type": "display_data"
    }
   ],
   "source": [
    "# best_k, score_dict = xmeans(X_train_std, k_min=K_MIN, k_max=K_MAX)\n",
    "# print(\"n_clusters chosen in Xmeans:\", best_k)\n",
    "\n",
    "# x = []\n",
    "# for k in score_dict.keys():\n",
    "#     x.append(str(k))\n",
    "# y = [score for score in score_dict.values()]\n",
    "# bars = plt.bar(x, y)\n",
    "# plt.ylabel(\"BIC\", fontsize=30)\n",
    "# plt.xlabel(\"Number of clusters\", fontsize=30)\n",
    "# plt.tick_params(axis=\"both\", which=\"major\", labelsize=25)\n",
    "# plt.tight_layout()\n",
    "# plt.show()"
   ]
  },
  {
   "cell_type": "markdown",
   "metadata": {},
   "source": [
    "-----\n",
    "# 7．エルボー図で確認"
   ]
  },
  {
   "cell_type": "code",
   "execution_count": 34,
   "metadata": {},
   "outputs": [
    {
     "data": {
      "image/png": "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",
      "text/plain": [
       "<Figure size 640x480 with 1 Axes>"
      ]
     },
     "metadata": {},
     "output_type": "display_data"
    }
   ],
   "source": [
    "distortions = []\n",
    "for i in range(K_MIN - 1, K_MAX + 1):\n",
    "    kmeans = KMeans(n_clusters=i, random_state=RANDOM_STATE)\n",
    "    kmeans.fit(X_train_std)\n",
    "    distortions.append(kmeans.inertia_)\n",
    "\n",
    "plt.plot(range(K_MIN - 1, K_MAX + 1), distortions, marker=\"o\")\n",
    "plt.xlabel(\"Number of clusters\", fontsize=30)\n",
    "plt.ylabel(\"Distortion\", fontsize=30)\n",
    "plt.xticks(range(K_MIN - 1, K_MAX + 1))\n",
    "plt.tick_params(axis=\"both\", labelsize=25)\n",
    "plt.tight_layout()\n",
    "plt.show()\n"
   ]
  },
  {
   "cell_type": "code",
   "execution_count": null,
   "metadata": {},
   "outputs": [],
   "source": []
  }
 ],
 "metadata": {
  "kernelspec": {
   "display_name": ".venv",
   "language": "python",
   "name": "python3"
  },
  "language_info": {
   "codemirror_mode": {
    "name": "ipython",
    "version": 3
   },
   "file_extension": ".py",
   "mimetype": "text/x-python",
   "name": "python",
   "nbconvert_exporter": "python",
   "pygments_lexer": "ipython3",
   "version": "3.12.4"
  }
 },
 "nbformat": 4,
 "nbformat_minor": 2
}
