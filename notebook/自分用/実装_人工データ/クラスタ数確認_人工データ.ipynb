{
 "cells": [
  {
   "cell_type": "markdown",
   "metadata": {},
   "source": [
    "-------------\n",
    "# 1．ライブラリのインポート"
   ]
  },
  {
   "cell_type": "code",
   "execution_count": null,
   "metadata": {},
   "outputs": [],
   "source": [
    "# 基本的なライブラリ\n",
    "import numpy as np\n",
    "import pandas as pd\n",
    "from numpy.typing import NDArray\n",
    "from scipy import stats\n",
    "\n",
    "# Scikit-learn関連\n",
    "from sklearn.base import BaseEstimator, TransformerMixin\n",
    "from sklearn.mixture import GaussianMixture\n",
    "from sklearn.preprocessing import StandardScaler\n",
    "from sklearn.cluster import KMeans\n",
    "from sklearn.utils.validation import check_X_y\n",
    "from sklearn.metrics import silhouette_score\n",
    "from sklearn.metrics import silhouette_samples\n",
    "from sklearn.linear_model import Lasso\n",
    "\n",
    "# 抽象基底クラス (ABC)\n",
    "from abc import ABCMeta, abstractmethod\n",
    "\n",
    "# タイピングのサポート\n",
    "from typing import Optional\n",
    "\n",
    "# 可視化の設定\n",
    "import matplotlib.pyplot as plt\n",
    "from matplotlib import cm\n",
    "import japanize_matplotlib\n",
    "import itertools\n",
    "plt.style.use(\"ggplot\")"
   ]
  },
  {
   "cell_type": "markdown",
   "metadata": {},
   "source": [
    "--------\n",
    "# 2．実験設定"
   ]
  },
  {
   "cell_type": "code",
   "execution_count": null,
   "metadata": {},
   "outputs": [],
   "source": [
    "### 実験データの設定 ###\n",
    "n = 100000  # データサイズ\n",
    "p = 20  # 特徴量数\n",
    "s = 5  # 非ゼロ係数の数\n",
    "rho = 0.35  # 相関レベル\n",
    "snr = 1  # 信号対雑音比\n",
    "beta_type = \"first_large\"\n",
    "\n",
    "\n",
    "### 実験設定 ###\n",
    "N_CLUSTERS = 10\n",
    "K_MIN = 2\n",
    "K_MAX = 10\n",
    "\n",
    "\n",
    "### シード ###\n",
    "RANDOM_STATE = 0  # 乱数シード"
   ]
  },
  {
   "cell_type": "markdown",
   "metadata": {},
   "source": [
    "-----------\n",
    "# 3．データの前処理"
   ]
  },
  {
   "cell_type": "markdown",
   "metadata": {},
   "source": [
    "### データ作成"
   ]
  },
  {
   "cell_type": "code",
   "execution_count": null,
   "metadata": {},
   "outputs": [],
   "source": [
    "def simulate_data(n, p, rho, snr, beta, seed):\n",
    "    np.random.seed(seed)\n",
    "\n",
    "    # 共分散行列Σの生成\n",
    "    Sigma = np.fromfunction(lambda i, j: rho ** np.abs(i - j), (p, p), dtype=int)\n",
    "\n",
    "    # Xの生成 (多変量正規分布)\n",
    "    X = np.random.multivariate_normal(mean=np.zeros(p), cov=Sigma, size=n)\n",
    "\n",
    "    # 応答変数Yの生成\n",
    "    signal_variance = beta.T @ Sigma @ beta  # β₀の分散\n",
    "    noise_variance = signal_variance / snr  # ノイズ分散 σ²\n",
    "    noise = np.random.normal(scale=np.sqrt(noise_variance), size=n)  # ノイズ項\n",
    "    Y = X @ beta + noise\n",
    "\n",
    "    return X, Y, beta\n"
   ]
  },
  {
   "cell_type": "code",
   "execution_count": 4,
   "metadata": {},
   "outputs": [],
   "source": [
    "X_train, y_train, beta_train = simulate_data(n, p, s, rho, snr, beta_type, seed=0)\n",
    "X_test, y_test, beta_test = simulate_data(n, p, s, rho, snr, beta_type, seed=1)"
   ]
  },
  {
   "cell_type": "markdown",
   "metadata": {},
   "source": [
    "### 標準化"
   ]
  },
  {
   "cell_type": "code",
   "execution_count": null,
   "metadata": {},
   "outputs": [],
   "source": [
    "sc = StandardScaler()\n",
    "sc.fit(X_train) # 訓練データに基づいてfit\n",
    "X_train_std = sc.transform(X_train)\n",
    "X_test_std = sc.transform(X_test)"
   ]
  },
  {
   "cell_type": "markdown",
   "metadata": {},
   "source": [
    "-------------\n",
    "# 4．Kmeansのクラスタサイズ確認"
   ]
  },
  {
   "cell_type": "code",
   "execution_count": 6,
   "metadata": {},
   "outputs": [
    {
     "name": "stdout",
     "output_type": "stream",
     "text": [
      "[ 9611  9812 10439 10490  9669 10443 10226  9669  9858  9783]\n"
     ]
    }
   ],
   "source": [
    "kmeans = KMeans(n_clusters=N_CLUSTERS, random_state=RANDOM_STATE)\n",
    "labels = kmeans.fit_predict(X_test_std)\n",
    "cluster_size = np.bincount(labels)\n",
    "\n",
    "print(cluster_size)"
   ]
  },
  {
   "cell_type": "markdown",
   "metadata": {},
   "source": [
    "----------------\n",
    "# 5．シルエット係数で確認"
   ]
  },
  {
   "cell_type": "code",
   "execution_count": null,
   "metadata": {},
   "outputs": [],
   "source": [
    "def silhouette(X, k_min=2, k_max=10):\n",
    "    kmeans = KMeans(n_clusters=k_min, random_state=RANDOM_STATE)\n",
    "    kmeans.fit(X)\n",
    "    labels = kmeans.predict(X)\n",
    "    best_score = silhouette_score(X, labels)\n",
    "    score_dict = {}\n",
    "    score_dict[k_min] = best_score\n",
    "    best_k = k_min\n",
    "    for k in range(k_min + 1, k_max + 1):\n",
    "        kmeans = KMeans(n_clusters=k, random_state=RANDOM_STATE)\n",
    "        kmeans.fit(X)\n",
    "        labels = kmeans.predict(X)\n",
    "        current_score = silhouette_score(X, labels)\n",
    "        score_dict[k] = current_score\n",
    "        if current_score > best_score:\n",
    "            best_score = current_score\n",
    "            best_k = k\n",
    "    return best_k, score_dict"
   ]
  },
  {
   "cell_type": "code",
   "execution_count": null,
   "metadata": {},
   "outputs": [],
   "source": [
    "best_k, score_dict = silhouette(X_train_std, k_min=K_MIN, k_max=K_MAX)\n",
    "print(\"n_clusters chosen in Xmeans:\", best_k)\n",
    "\n",
    "x = []\n",
    "for k in score_dict.keys():\n",
    "    x.append(str(k))\n",
    "y = [score for score in score_dict.values()]\n",
    "bars = plt.bar(x, y)\n",
    "plt.ylabel(\"Silhouette score\", fontsize=30)\n",
    "plt.xlabel(\"Number of clusters\", fontsize=30)\n",
    "plt.tick_params(axis=\"both\", which=\"major\", labelsize=25)\n",
    "plt.tight_layout()\n",
    "plt.show()"
   ]
  },
  {
   "cell_type": "markdown",
   "metadata": {},
   "source": [
    "-------------\n",
    "# 6．Xmeans で確認"
   ]
  },
  {
   "cell_type": "code",
   "execution_count": 7,
   "metadata": {},
   "outputs": [],
   "source": [
    "# def compute_bic(X, kmeans):\n",
    "#     labels = kmeans.labels_\n",
    "#     clusters = kmeans.cluster_centers_\n",
    "#     n_clusters = len(clusters)\n",
    "#     n = len(X)\n",
    "#     m = X.shape[1]\n",
    "#     variance = np.sum(\n",
    "#         [\n",
    "#             np.linalg.norm(X[labels == i] - clusters[i], axis=1).sum()\n",
    "#             for i in range(n_clusters)\n",
    "#         ]\n",
    "#     )\n",
    "#     bic = np.log(n) * n_clusters * m + n * np.log(variance / n)\n",
    "#     return bic\n",
    "\n",
    "\n",
    "# def xmeans(X, k_min=2, k_max=10):\n",
    "#     kmeans = KMeans(n_clusters=k_min, random_state=RANDOM_STATE)\n",
    "#     kmeans.fit(X)\n",
    "#     best_bic = compute_bic(X, kmeans)\n",
    "#     best_k = k_min\n",
    "#     score_dict = {}\n",
    "#     score_dict[k_min] = best_bic\n",
    "#     for k in range(k_min + 1, k_max + 1):\n",
    "#         kmeans = KMeans(n_clusters=k, random_state=RANDOM_STATE)\n",
    "#         kmeans.fit(X)\n",
    "#         current_bic = compute_bic(X, kmeans)\n",
    "#         score_dict[k] = current_bic\n",
    "#         if current_bic < best_bic:\n",
    "#             best_bic = current_bic\n",
    "#             best_k = k\n",
    "#     return best_k, score_dict"
   ]
  },
  {
   "cell_type": "code",
   "execution_count": 8,
   "metadata": {},
   "outputs": [],
   "source": [
    "# best_k, score_dict = xmeans(X_train_std, k_min=K_MIN, k_max=K_MAX)\n",
    "# print(\"n_clusters chosen in Xmeans:\", best_k)\n",
    "\n",
    "# x = []\n",
    "# for k in score_dict.keys():\n",
    "#     x.append(str(k))\n",
    "# y = [score for score in score_dict.values()]\n",
    "# bars = plt.bar(x, y)\n",
    "# plt.ylabel(\"BIC\", fontsize=30)\n",
    "# plt.xlabel(\"Number of clusters\", fontsize=30)\n",
    "# plt.tick_params(axis=\"both\", which=\"major\", labelsize=25)\n",
    "# plt.tight_layout()\n",
    "# plt.show()"
   ]
  },
  {
   "cell_type": "markdown",
   "metadata": {},
   "source": [
    "-----\n",
    "# 7．エルボー図で確認"
   ]
  },
  {
   "cell_type": "code",
   "execution_count": 14,
   "metadata": {},
   "outputs": [
    {
     "data": {
      "image/png": "[encoded data removed]",
      "text/plain": [
       "<Figure size 640x480 with 1 Axes>"
      ]
     },
     "metadata": {},
     "output_type": "display_data"
    }
   ],
   "source": [
    "distortions = []\n",
    "for i in range(K_MIN - 1, K_MAX + 1):\n",
    "    kmeans = KMeans(n_clusters=i, random_state=RANDOM_STATE)\n",
    "    kmeans.fit(X_train_std)\n",
    "    distortions.append(kmeans.inertia_)\n",
    "\n",
    "plt.plot(range(K_MIN - 1, K_MAX + 1), distortions, marker=\"o\")\n",
    "plt.xlabel(\"Number of clusters\", fontsize=30)\n",
    "plt.ylabel(\"Distortion\", fontsize=30)\n",
    "plt.xticks(range(K_MIN - 1, K_MAX + 1))\n",
    "plt.tick_params(axis=\"both\", labelsize=25)\n",
    "plt.tight_layout()\n",
    "plt.show()"
   ]
  },
  {
   "cell_type": "code",
   "execution_count": null,
   "metadata": {},
   "outputs": [],
   "source": []
  }
 ],
 "metadata": {
  "kernelspec": {
   "display_name": ".venv",
   "language": "python",
   "name": "python3"
  },
  "language_info": {
   "codemirror_mode": {
    "name": "ipython",
    "version": 3
   },
   "file_extension": ".py",
   "mimetype": "text/x-python",
   "name": "python",
   "nbconvert_exporter": "python",
   "pygments_lexer": "ipython3",
   "version": "3.11.4"
  }
 },
 "nbformat": 4,
 "nbformat_minor": 2
}
