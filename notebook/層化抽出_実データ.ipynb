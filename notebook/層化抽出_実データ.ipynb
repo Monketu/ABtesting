{
 "cells": [
  {
   "cell_type": "markdown",
   "metadata": {},
   "source": [
    "# 実データ"
   ]
  },
  {
   "cell_type": "code",
   "execution_count": 2,
   "metadata": {},
   "outputs": [
    {
     "name": "stderr",
     "output_type": "stream",
     "text": [
      "Seed set to 8\n"
     ]
    },
    {
     "data": {
      "text/plain": [
       "8"
      ]
     },
     "execution_count": 2,
     "metadata": {},
     "output_type": "execute_result"
    }
   ],
   "source": [
    "import japanize_matplotlib  # noqa\n",
    "import matplotlib.pyplot as plt\n",
    "import numpy as np\n",
    "import seaborn as sns  # データ可視化ライブラリ\n",
    "from sklearn.datasets import make_blobs\n",
    "from lightning.pytorch import seed_everything\n",
    "from sklearn.decomposition import PCA\n",
    "import pandas as pd\n",
    "\n",
    "plt.style.use(\"ggplot\")\n",
    "seed_everything(8)"
   ]
  },
  {
   "cell_type": "code",
   "execution_count": 12,
   "metadata": {},
   "outputs": [
    {
     "name": "stdout",
     "output_type": "stream",
     "text": [
      "         SEQN age_group  RIDAGEYR  RIAGENDR  PAQ605  BMXBMI  LBXGLU  DIQ010  \\\n",
      "0     73564.0     Adult      61.0       2.0     2.0    35.7   110.0     2.0   \n",
      "1     73568.0     Adult      26.0       2.0     2.0    20.3    89.0     2.0   \n",
      "2     73576.0     Adult      16.0       1.0     2.0    23.2    89.0     2.0   \n",
      "3     73577.0     Adult      32.0       1.0     2.0    28.9   104.0     2.0   \n",
      "4     73580.0     Adult      38.0       2.0     1.0    35.9   103.0     2.0   \n",
      "...       ...       ...       ...       ...     ...     ...     ...     ...   \n",
      "2273  83711.0     Adult      38.0       2.0     2.0    33.5   100.0     2.0   \n",
      "2274  83712.0     Adult      61.0       1.0     2.0    30.0    93.0     2.0   \n",
      "2275  83713.0     Adult      34.0       1.0     2.0    23.7   103.0     2.0   \n",
      "2276  83718.0     Adult      60.0       2.0     2.0    27.4    90.0     2.0   \n",
      "2277  83727.0     Adult      26.0       1.0     2.0    24.5   108.0     2.0   \n",
      "\n",
      "      LBXGLT  LBXIN  \n",
      "0      150.0  14.91  \n",
      "1       80.0   3.85  \n",
      "2       68.0   6.14  \n",
      "3       84.0  16.15  \n",
      "4       81.0  10.92  \n",
      "...      ...    ...  \n",
      "2273    73.0   6.53  \n",
      "2274   208.0  13.02  \n",
      "2275   124.0  21.41  \n",
      "2276   108.0   4.99  \n",
      "2277   108.0   3.76  \n",
      "\n",
      "[2278 rows x 10 columns]\n"
     ]
    }
   ],
   "source": [
    "df1 = pd.read_csv(\n",
    "    R\"C:\\Users\\HaruMomozu\\Documents\\オンラインデータ\\NHANES_age_prediction.csv\"\n",
    ")\n",
    "print(df1)\n"
   ]
  },
  {
   "cell_type": "code",
   "execution_count": 14,
   "metadata": {},
   "outputs": [
    {
     "data": {
      "text/plain": [
       "(2278, 10)"
      ]
     },
     "execution_count": 14,
     "metadata": {},
     "output_type": "execute_result"
    }
   ],
   "source": [
    "df1.shape #行数、列数"
   ]
  },
  {
   "cell_type": "code",
   "execution_count": 19,
   "metadata": {},
   "outputs": [],
   "source": [
    "obj = \"SEQN\"\n",
    "features = [\n",
    "    \"age_group\",\n",
    "    \"RIDAGEYR\",\n",
    "    \"RIAGENDR\",\n",
    "    \"PAQ605\",\n",
    "    \"BMXBMI\",\n",
    "    \"LBXGLU\",\n",
    "    \"DIQ010\",\n",
    "    \"LBXGLT\",\n",
    "    \"LBXIN\",\n",
    "]\n"
   ]
  },
  {
   "cell_type": "markdown",
   "metadata": {},
   "source": [
    "## データの分布を確認"
   ]
  },
  {
   "cell_type": "code",
   "execution_count": null,
   "metadata": {},
   "outputs": [],
   "source": [
    "# 目的変数の分布\n",
    "axes: list[plt.Axes]\n",
    "fig, axes = plt.subplots(\n",
    "    1, 2, figsize=(10 * 2, 6 * 1)\n",
    ")  # 1行2列のサブプロット（横幅20, 縦幅6）\n",
    "sns.boxplot(  # 箱ひげ図\n",
    "    x=features,  # x軸、as.type(str)で文字列に変換\n",
    "    y=df1[obj],  # y軸\n",
    "    ax=axes[0],  # グラフを描画するサブプロット指定\n",
    "    hue=,  # クラスタラベルに基づいて色を付ける\n",
    "    palette=\"tab10\",  # カラーパレット指定\n",
    "    legend=False,\n",
    ")\n",
    "axes[0].set_title(\"Box plot of y\", fontdict={\"fontsize\": \"xx-large\"})\n",
    "axes[0].set_xlabel(\"Cluster label\")\n",
    "axes[0].set_ylabel(\"y\")\n",
    "\n",
    "# データの散布図\n",
    "## 次元削減\n",
    "pca = PCA(n_components=2)  # 主成分分析で2次元に削減\n",
    "X_pca = pca.fit_transform(X)  # XにPCAを適用\n",
    "# 散布図（x軸：第1主成分、y軸：第2主成分、色分けのためにyを指定、サブプロット、色パレット、凡例）\n",
    "sns.scatterplot(\n",
    "    x=X_pca[:, 0], y=X_pca[:, 1], hue=y, ax=axes[1], palette=\"Blues\", legend=False\n",
    ")\n",
    "axes[1].set_title(\"Scatter plot of X\", fontdict={\"fontsize\": \"xx-large\"})\n",
    "axes[1].set_xlabel(\"Feature 1\")\n",
    "axes[1].set_ylabel(\"Feature 2\")\n",
    "## colorbar（右のバー）\n",
    "# カラーバーを作成するためのオブジェクト作成（カラーマップ指定、yの最小値から最大値を正規化）\n",
    "sm = plt.cm.ScalarMappable(cmap=\"Blues\", norm=plt.Normalize(vmin=y.min(), vmax=y.max()))\n",
    "sm._A = []  # smの内部のデータをクリア\n",
    "cbar = fig.colorbar(sm, ax=axes[1])\n",
    "cbar.set_label(\"y\")\n",
    "\n",
    "fig.tight_layout()"
   ]
  },
  {
   "cell_type": "markdown",
   "metadata": {},
   "source": [
    "# 標本戦略の実装"
   ]
  },
  {
   "cell_type": "markdown",
   "metadata": {},
   "source": [
    "## 基底クラス\n",
    "\n",
    "インターフェースを統一するための基底クラスを作成\n",
    "\n",
    "【ABCMeta】  \n",
    "・抽象基底クラス（ABC）を定義するためのメタクラス  \n",
    "・自体のインスタンス化はできないが、サブクラスは実装する必要のある共通のインターフェースを定義できる  \n",
    "・ABCMeta を使用することで@abstractmethod デコレータを使ってABCを作成できる  \n",
    "・デコレータ：関数やメソッドを引数として受け取り、修飾した新しい関数やメソッドを返す高階関数 \n",
    "\n",
    "【abstractmethod】  \n",
    "・ABC内で抽象メゾッドを定義するために使用される  \n",
    "・ABCのサブクラスはこれらの抽象メゾッドを実装する必要がある"
   ]
  },
  {
   "cell_type": "code",
   "execution_count": 4,
   "metadata": {},
   "outputs": [],
   "source": [
    "from abc import ABCMeta, abstractmethod\n",
    "\n",
    "from numpy.typing import NDArray\n",
    "from sklearn.cluster import KMeans\n",
    "\n",
    "\n",
    "class BaseAllocation(metaclass=ABCMeta):  # 抽象基底クラス（ABC）\n",
    "    # 初期化クラス（n_samples(サンプル数), H(クラスタ数)）\n",
    "    def __init__(self, n_samples: int, H: int, random_state: int):\n",
    "        self.n_samples = n_samples\n",
    "        self.H = H\n",
    "        self.random_state = random_state\n",
    "\n",
    "    @abstractmethod\n",
    "    def solve(self, X: NDArray, y: NDArray) -> NDArray:\n",
    "        \"\"\"標本配分を解く\n",
    "\n",
    "        Args:\n",
    "            X (NDArray): データ (N x M)\n",
    "            y (NDArray): 目的変数 (N)\n",
    "\n",
    "        Raises:\n",
    "            NotImplementedError: _description_\n",
    "\n",
    "        Returns:\n",
    "            NDArray: 各クラスタの標本数 (H, )\n",
    "\n",
    "        Note:\n",
    "            M: 特徴量数\n",
    "            H: クラスタ数\n",
    "        \"\"\"\n",
    "        # 具象クラスがsolveメゾッドを実装しない場合はNotImpleamentedErrorが発生\n",
    "        raise NotImplementedError\n",
    "\n",
    "    def clustering(self, X: NDArray) -> tuple[NDArray, NDArray]:\n",
    "        \"\"\"クラスタリングを行う\n",
    "\n",
    "        Args:\n",
    "            X (NDArray): データ (N x M)\n",
    "\n",
    "        Returns:\n",
    "            NDArray: クラスタラベル (N, ), クラスタサイズ (H, )\n",
    "\n",
    "        Note:\n",
    "            N: データ数\n",
    "            M: 特徴量数\n",
    "            H: クラスタ数\n",
    "        \"\"\"\n",
    "        # kmeans:KMeansを用いてself.H個のクラスタに分割する\n",
    "        kmeans = KMeans(n_clusters=self.H, random_state=self.random_state)\n",
    "        # XをKMeansを用いてself.H個のクラスタに分割し、各データのクラスタラベル取得\n",
    "        cluster_label = kmeans.fit_predict(X)\n",
    "        # 母集団の各クラスタのサイズを計算\n",
    "        _, cluster_size = np.unique(cluster_label, return_counts=True)\n",
    "        # インスタンス変数として設定\n",
    "        self.cluster_label = cluster_label\n",
    "        self.N = cluster_size\n",
    "        return cluster_label, cluster_size.copy()"
   ]
  },
  {
   "cell_type": "markdown",
   "metadata": {},
   "source": [
    "## Random Allocation"
   ]
  },
  {
   "cell_type": "code",
   "execution_count": 5,
   "metadata": {},
   "outputs": [],
   "source": [
    "from numpy.typing import NDArray\n",
    "\n",
    "\n",
    "# BaseAllocationを継承することでBaseAllocationクラスで定義されたインスタンス変数やメゾッドを利用できる\n",
    "class RandomAllocation(BaseAllocation):\n",
    "    # 抽象メゾッドを具象化\n",
    "    def solve(self, X: NDArray, y: NDArray) -> NDArray:\n",
    "        \"\"\"ランダムにn_samplesの標本を選択する\"\"\"\n",
    "        n = np.array([self.n_samples])\n",
    "\n",
    "        return n  # （例）標本サイズが100のとき、n=[100]\n",
    "\n",
    "    def clustering(self, X: NDArray) -> tuple[NDArray, NDArray]:\n",
    "        # cluster_labelのすべての要素は0（すべてのデータを同じクラスタに属させている）\n",
    "        cluster_label = np.zeros(X.shape[0])\n",
    "        # クラスタサイズ＝データ数\n",
    "        cluster_size = np.array([len(cluster_label)])\n",
    "        return cluster_label, cluster_size"
   ]
  },
  {
   "cell_type": "markdown",
   "metadata": {},
   "source": [
    "## Equal Allocation"
   ]
  },
  {
   "cell_type": "code",
   "execution_count": 6,
   "metadata": {},
   "outputs": [],
   "source": [
    "class EqualAllocation(BaseAllocation):\n",
    "    def solve(self, X: NDArray, y: NDArray) -> NDArray:\n",
    "        \"\"\"各クラスタから均等に標本を選ぶ\"\"\"\n",
    "        # nの各要素は各クラスタに均等に分配されるサンプル数\n",
    "        n = np.full(self.H, self.n_samples // self.H)\n",
    "\n",
    "        # 標本クラスタサイズが母集団クラスタサイズより大きい場合はクラスタサイズに合わせる\n",
    "        n = np.minimum(n, self.N)\n",
    "        return n"
   ]
  },
  {
   "cell_type": "markdown",
   "metadata": {},
   "source": [
    "## Propotional Allocation"
   ]
  },
  {
   "cell_type": "code",
   "execution_count": 7,
   "metadata": {},
   "outputs": [],
   "source": [
    "class PropotionalAllocation(BaseAllocation):\n",
    "    def solve(self, X: NDArray, y: NDArray) -> NDArray:\n",
    "        \"\"\"各クラスタ数に比例した標本数で分割する\"\"\"\n",
    "        n: NDArray = np.round(self.N / self.N.sum() * self.n_samples).astype(int)\n",
    "\n",
    "        if n.sum() > self.n_samples:\n",
    "            # nの合計がn_samplesより大きい場合は一番標本数が多いクラスタから削る\n",
    "            n[np.argmax(n)] -= n.sum() - self.n_samples\n",
    "\n",
    "        return n"
   ]
  },
  {
   "cell_type": "markdown",
   "metadata": {},
   "source": [
    "## 最適標本配分\n",
    "Binary SearchもしくSimple Greedy [1]で各クラスタのサンプル数を決定\n",
    "\n",
    "[1]: Ulf Friedrich, Ralf Münnich, Sven de Vries, Matthias Wagner, 2015. Fast\n",
    "   integer-valued algorithms for optimal allocations under constraints in stratified\n",
    "   sampling. Computational Statistics and Data Analysis 92(2015) 1-12."
   ]
  },
  {
   "cell_type": "code",
   "execution_count": 8,
   "metadata": {},
   "outputs": [],
   "source": [
    "from typing import Literal, Optional\n",
    "\n",
    "from numpy.typing import NDArray\n",
    "\n",
    "\n",
    "class OptimalAllocation(BaseAllocation):\n",
    "    def __init__(\n",
    "        self,\n",
    "        n_samples: int,\n",
    "        H: int,\n",
    "        m: NDArray,  # 標本数下限\n",
    "        M: Optional[NDArray] = None,  # 標本数上限\n",
    "        method: Literal[\"binary\", \"greedy\"] = \"greedy\",\n",
    "        random_state: int = 0,\n",
    "    ):\n",
    "        super().__init__(\n",
    "            n_samples, H, random_state\n",
    "        )  # 基底クラスBaseAllocationの初期化メゾッドを呼び出す\n",
    "        self.m = m  # 各クラスタの最小標本数 (H, )\n",
    "        self.M = M  # 各クラスタの最大標本数 (H, ), (指定しない場合はクラスタサイズ)\n",
    "        self.method = method\n",
    "\n",
    "    def solve(self, X: NDArray, y: NDArray) -> NDArray:\n",
    "        # S:クラスタ毎の目的変数のvarianceを要素とする配列 (H, )\n",
    "        S = np.array([np.var(y[self.cluster_label == h]) for h in range(self.H)])\n",
    "        d = (self.N**2) * S  # (H, )\n",
    "\n",
    "        if self.method == \"binary\":\n",
    "            n = self._binary_search(d=d)\n",
    "        elif self.method == \"greedy\":\n",
    "            n = self._simple_greedy(n=self.m.copy(), d=d)\n",
    "        else:\n",
    "            raise ValueError(f\"Invalid method: {self.method}\")\n",
    "\n",
    "        # 制約チェック\n",
    "        self._check_constraints(n)\n",
    "\n",
    "        return n\n",
    "\n",
    "    def _binary_search(self, d: NDArray) -> NDArray:\n",
    "        I = np.arange(self.H)  # noqa # クラスタのインデックスを表す配列 (H, )\n",
    "        n = self.m.copy()  # 各クラスタの最小標本数でnを初期化 (H, )\n",
    "        u_old = self.m.copy()  # 各クラスタの最小標本数で初期化(H, )\n",
    "        m = self.m.copy()  # 各クラスタの最小標本数 (H, )\n",
    "        M = (\n",
    "            self.M.copy() if self.M is not None else self.N.copy()\n",
    "        )  # クラスタサイズ (H, ), (指定しない場合はクラスタサイズ)\n",
    "\n",
    "        while n.sum() != self.n_samples:\n",
    "            u = u_old.copy()\n",
    "            delta = np.zeros(self.H)\n",
    "            u[I] = np.floor((M + m) / 2)[I]\n",
    "            delta[I] = (d / u - d / (u - 1))[I]\n",
    "\n",
    "            if not np.all(u == u_old):\n",
    "                s = np.median(delta[I])\n",
    "            else:\n",
    "                if (M - m + 1)[I].max() == 2:\n",
    "                    n = self._simple_greedy(n, d)\n",
    "                    return n\n",
    "\n",
    "                h_star = np.argmax((M - m + 1)[I])\n",
    "                s = delta[I][h_star]\n",
    "\n",
    "            n[I] = np.floor(0.5 + np.sqrt(0.25 - d * (s ** (-1))))[I]\n",
    "            n[I] = np.maximum(n, m)[I]  # if n_h < m_h, n_h <- m_h\n",
    "            n[I] = np.minimum(n, M)[I]  # if n_h > M_h, n_h <- M_h\n",
    "\n",
    "            if n.sum() < self.n_samples:\n",
    "                m = n.copy()\n",
    "            else:\n",
    "                M = n.copy()\n",
    "\n",
    "            # m == MのindexをIから削除\n",
    "            I_ = I.tolist()\n",
    "            I_ = [i for i in I_ if m[i] != M[i]]\n",
    "            I = np.array(I_)  # noqa\n",
    "            u_old = u.copy()\n",
    "\n",
    "        return n\n",
    "\n",
    "    def _simple_greedy(self, n: NDArray, d: NDArray) -> NDArray:\n",
    "        M = self.M.copy() if self.M is not None else self.N.copy()  # クラスタサイズ上限\n",
    "        I = np.arange(self.H)  # noqa #クラスタのインデックス\n",
    "        while (n.sum() != self.n_samples) and len(I) != 0:\n",
    "            delta = np.zeros(self.H)\n",
    "            delta[I] = (d / (n + 1) - d / n)[I]\n",
    "            h_star = np.argmin(delta[I])\n",
    "            h_star = I[h_star]\n",
    "\n",
    "            if n[h_star] + 1 <= M[h_star]:\n",
    "                n[h_star] = n[h_star] + 1\n",
    "            else:\n",
    "                # Iの要素h_starを削除\n",
    "                I_ = I.tolist()\n",
    "                I_ = [i for i in I_ if i != h_star]\n",
    "                I = np.array(I_)  # noqa\n",
    "\n",
    "        return n\n",
    "\n",
    "    def _check_constraints(self, n: NDArray):\n",
    "        assert (\n",
    "            n.sum() <= self.n_samples\n",
    "        ), f\"Total sample size is over than {self.n_samples}\"\n",
    "        assert np.all(n >= self.m), \"Minimum sample size constraint is not satisfied\"\n",
    "        if self.M is not None:\n",
    "            assert np.all(\n",
    "                n <= self.M\n",
    "            ), \"Maximum sample size constraint is not satisfied\""
   ]
  },
  {
   "cell_type": "markdown",
   "metadata": {},
   "source": [
    "# 比較実験"
   ]
  },
  {
   "cell_type": "code",
   "execution_count": 9,
   "metadata": {},
   "outputs": [],
   "source": [
    "import numpy as np\n",
    "from numpy.typing import NDArray\n",
    "\n",
    "\n",
    "def estimate_y_mean(n: NDArray, cluster_label: NDArray, y: NDArray) -> NDArray:\n",
    "    \"\"\"実際にサンプリングを行って目的変数の平均を推定\n",
    "\n",
    "    Args:\n",
    "        n (NDArray): 各クラスタの標本数 (H, )\n",
    "        cluster_label (NDArray): クラスタラベル (N, )\n",
    "        y (NDArray): 目的変数 (N, )\n",
    "\n",
    "    Returns:\n",
    "        NDArray: 推定された目的変数の平均\n",
    "\n",
    "    Note:\n",
    "        N: データ数\n",
    "        H: クラスタ数\n",
    "    \"\"\"\n",
    "    # cluster_labelからユニークなクラスタラベルを取得し、母集団の各クラスタのサイズNを取得\n",
    "    N = np.unique(cluster_label, return_counts=True)[1]  # クラスタサイズ (H, )\n",
    "    weights = N / N.sum()\n",
    "    y_hat = 0\n",
    "    for h in range(n.shape[0]):  # n.shape[0]:層の数\n",
    "        y_cluster = y[cluster_label == h]\n",
    "        # クラスタ内でランダム n_h サンプリング\n",
    "        sample: NDArray = np.random.choice(y_cluster, n[h], replace=False)\n",
    "        y_sample_mean = sample.mean()  # サンプリングした標本の平均\n",
    "        y_hat += y_sample_mean * weights[h]\n",
    "\n",
    "    return y_hat"
   ]
  },
  {
   "cell_type": "code",
   "execution_count": 10,
   "metadata": {},
   "outputs": [],
   "source": [
    "N_SAMPLES = 100  # 標本数\n",
    "H = 10  # クラスタ数\n",
    "N_TRIALS = 100  # 試行回数\n",
    "m_VALUE = 2  # 各クラスタの最小標本数\n",
    "\n",
    "# 戦略を定義\n",
    "policies: list[BaseAllocation] = [\n",
    "    RandomAllocation(n_samples=N_SAMPLES, H=H, random_state=RANDOM_STATE),\n",
    "    EqualAllocation(n_samples=N_SAMPLES, H=H, random_state=RANDOM_STATE),\n",
    "    PropotionalAllocation(n_samples=N_SAMPLES, H=H, random_state=RANDOM_STATE),\n",
    "    OptimalAllocation(\n",
    "        n_samples=N_SAMPLES,\n",
    "        H=H,\n",
    "        random_state=RANDOM_STATE,\n",
    "        m=np.full(H, m_VALUE),\n",
    "        M=None,\n",
    "        method=\"greedy\",  # binary or greedy\n",
    "    ),\n",
    "]\n",
    "\n",
    "# それぞれの戦略で各クラスタの標本数を求解\n",
    "allocations: list[dict] = []  # 各戦略の実行結果が辞書形式で追加される\n",
    "for policy in policies:\n",
    "    # policyを用いてXをクラスタリング(_は戻り値の２番目を無視)\n",
    "    cluster_label, _ = policy.clustering(X)\n",
    "    n = policy.solve(X, y)\n",
    "    allocations.append(\n",
    "        {\n",
    "            \"policy\": policy.__class__.__name__,\n",
    "            \"n\": n,\n",
    "            \"cluster_label\": cluster_label,\n",
    "        }\n",
    "    )\n",
    "\n",
    "# 各戦略の標本数に基づいて目的変数の平均を推定\n",
    "y_hats = []\n",
    "for random_state in range(N_TRIALS):\n",
    "    for allocation in allocations:\n",
    "        y_hat = estimate_y_mean(allocation[\"n\"], allocation[\"cluster_label\"], y)\n",
    "        y_hats.append(\n",
    "            {\n",
    "                \"policy\": allocation[\"policy\"],\n",
    "                \"y_hat\": y_hat,\n",
    "                \"random_state\": random_state,\n",
    "            }\n",
    "        )"
   ]
  },
  {
   "cell_type": "code",
   "execution_count": 11,
   "metadata": {},
   "outputs": [
    {
     "data": {
      "text/plain": [
       "(0.0, 100.0)"
      ]
     },
     "execution_count": 11,
     "metadata": {},
     "output_type": "execute_result"
    },
    {
     "name": "stderr",
     "output_type": "stream",
     "text": [
      "posx and posy should be finite values\n",
      "posx and posy should be finite values\n",
      "posx and posy should be finite values\n"
     ]
    },
    {
     "data": {
      "image/png": "[encoded data removed]",
      "text/plain": [
       "<Figure size 1200x1200 with 2 Axes>"
      ]
     },
     "metadata": {},
     "output_type": "display_data"
    }
   ],
   "source": [
    "import matplotlib.pyplot as plt\n",
    "import seaborn as sns\n",
    "\n",
    "axes: list[plt.Axes]\n",
    "fig, axes = plt.subplots(2, 1, figsize=(12, 6 * 2))\n",
    "\n",
    "# 箱ひげ図で誤差の分布を比較\n",
    "y_hat_df = pd.DataFrame(y_hats)\n",
    "y_hat_df[\"error\"] = (\n",
    "    y_hat_df[\"y_hat\"] - y.mean()\n",
    ")  # 真の平均からの誤差をerrorカラムに追加\n",
    "sns.boxplot(\n",
    "    data=y_hat_df,\n",
    "    y=\"error\",\n",
    "    x=\"policy\",\n",
    "    hue=\"policy\",\n",
    "    ax=axes[0],\n",
    "    linewidth=1,\n",
    "    width=0.5,\n",
    ")\n",
    "axes[0].set_title(\n",
    "    \"各標本配分手法における真の平均からの誤差（標本数＝{}）\".format(N_SAMPLES)\n",
    ")\n",
    "axes[0].set_ylabel(\"真の平均からの誤差\")\n",
    "axes[0].set_xlabel(\"標本配分手法\")\n",
    "\n",
    "# 棒グラフでRandomAllocationに対する誤差分散削減率を比較\n",
    "# random_allocationの誤差分散\n",
    "random_allocation_std = y_hat_df[y_hat_df[\"policy\"] == \"RandomAllocation\"][\n",
    "    \"error\"\n",
    "].var()\n",
    "# random_allocation以外の誤差分散\n",
    "non_random_allocation_std = (\n",
    "    y_hat_df[y_hat_df[\"policy\"] != \"RandomAllocation\"].groupby(\"policy\")[\"error\"].var()\n",
    ")\n",
    "reduction_rate = (\n",
    "    1 - non_random_allocation_std / random_allocation_std\n",
    ") * 100  # 削減率 (%)\n",
    "## policyの順番をpoliciesの順番に調整\n",
    "reduction_rate = reduction_rate.reindex(\n",
    "    [policy.__class__.__name__ for policy in policies]\n",
    ")\n",
    "sns.barplot(\n",
    "    x=reduction_rate.index,\n",
    "    y=reduction_rate.values,\n",
    "    ax=axes[1],\n",
    "    hue=reduction_rate.index,\n",
    ")\n",
    "# 棒グラフの上に値を表示\n",
    "for i, v in enumerate(reduction_rate.values):\n",
    "    axes[1].text(i, v, f\"{v:.2f}\", ha=\"center\", va=\"bottom\")\n",
    "axes[1].set_ylabel(\"RandomAllocationに対する誤差分散削減率\")\n",
    "axes[1].set_xlabel(\"標本戦略\")\n",
    "axes[1].set_ylim(0, 100)"
   ]
  },
  {
   "cell_type": "code",
   "execution_count": null,
   "metadata": {},
   "outputs": [],
   "source": []
  }
 ],
 "metadata": {
  "kernelspec": {
   "display_name": ".venv",
   "language": "python",
   "name": "python3"
  },
  "language_info": {
   "codemirror_mode": {
    "name": "ipython",
    "version": 3
   },
   "file_extension": ".py",
   "mimetype": "text/x-python",
   "name": "python",
   "nbconvert_exporter": "python",
   "pygments_lexer": "ipython3",
   "version": "3.12.4"
  }
 },
 "nbformat": 4,
 "nbformat_minor": 2
}
