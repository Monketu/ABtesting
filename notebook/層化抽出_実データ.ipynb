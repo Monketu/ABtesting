{
 "cells": [
  {
   "cell_type": "markdown",
   "metadata": {},
   "source": [
    "# モジュールimport"
   ]
  },
  {
   "cell_type": "code",
   "execution_count": 19,
   "metadata": {},
   "outputs": [
    {
     "name": "stderr",
     "output_type": "stream",
     "text": [
      "Seed set to 8\n"
     ]
    },
    {
     "data": {
      "text/plain": [
       "8"
      ]
     },
     "execution_count": 19,
     "metadata": {},
     "output_type": "execute_result"
    }
   ],
   "source": [
    "import japanize_matplotlib  # noqa\n",
    "import matplotlib.pyplot as plt\n",
    "import numpy as np\n",
    "import seaborn as sns  # データ可視化ライブラリ\n",
    "from lightning.pytorch import seed_everything\n",
    "from sklearn.decomposition import PCA\n",
    "\n",
    "plt.style.use(\"ggplot\")\n",
    "seed_everything(8)"
   ]
  },
  {
   "cell_type": "markdown",
   "metadata": {},
   "source": [
    "# データの前処理"
   ]
  },
  {
   "cell_type": "code",
   "execution_count": 20,
   "metadata": {},
   "outputs": [],
   "source": [
    "from scipy import stats\n",
    "from sklearn.preprocessing import StandardScaler\n",
    "import pandas as pd\n",
    "from sklearn.preprocessing import StandardScaler\n",
    "import pandas as pd\n",
    "\n",
    "\n",
    "# 外れ値の除去\n",
    "def remove_outliers_zscore(data, metric, threshold=2):\n",
    "    z_scores = np.abs(stats.zscore(data[metric]))\n",
    "    data = data[(z_scores < threshold)]\n",
    "    return data"
   ]
  },
  {
   "cell_type": "markdown",
   "metadata": {},
   "source": [
    "データ①　健康診断"
   ]
  },
  {
   "cell_type": "code",
   "execution_count": 21,
   "metadata": {},
   "outputs": [],
   "source": [
    "df1 = pd.read_csv(\n",
    "    R\"C:\\Users\\HaruMomozu\\Documents\\オンラインデータ\\NHANES_age_prediction.csv\"\n",
    ")\n",
    "df1 = df1.drop(columns=[\"SEQN\", \"age_group\"])\n",
    "\n",
    "obj1 = \"BMXBMI\"\n",
    "features_list1 = [\n",
    "    \"RIDAGEYR\",  # 年齢（連続変数）\n",
    "    \"RIAGENDR\",  # 性別（1:Male, 2:Female)\n",
    "    \"PAQ605\",  # 運動有無(1:日常的に運動する, 2:運動しない)\n",
    "    \"LBXGLU\",  # 断食後の血糖値（連続変数）\n",
    "    \"DIQ010\",  # 糖尿病の有無(0:なし、1:あり)\n",
    "    \"LBXGLT\",  # 口内の健康状態（連続変数）\n",
    "    \"LBXIN\",  # 血中インスリン濃度（連続変数）\n",
    "]"
   ]
  },
  {
   "cell_type": "markdown",
   "metadata": {},
   "source": [
    "データ②　オンライン記事"
   ]
  },
  {
   "cell_type": "code",
   "execution_count": 3,
   "metadata": {},
   "outputs": [],
   "source": [
    "df2 = pd.read_csv(\n",
    "    R\"C:\\Users\\HaruMomozu\\Documents\\オンラインデータ\\OnlineNewsPopularity\\OnlinenewsPopularity.csv\"\n",
    ")\n",
    "df2 = df2.drop(columns=[\"url\"])\n",
    "\n",
    "obj2 = \" shares\"\n",
    "features_list2 = [col for col in list(df2.columns) if col != \" shares\"]\n"
   ]
  },
  {
   "cell_type": "markdown",
   "metadata": {},
   "source": [
    "データ③　国勢調査"
   ]
  },
  {
   "cell_type": "code",
   "execution_count": 34,
   "metadata": {},
   "outputs": [],
   "source": [
    "df3 = pd.read_csv(\n",
    "    R\"C:\\Users\\HaruMomozu\\Documents\\オンラインデータ\\USCensus1990.data.txt\",\n",
    "    delimiter=\",\",\n",
    ")\n",
    "\n",
    "obj3 = \"iClass\"\n",
    "features_list3 = [col for col in list(df3.columns) if col != \"iClass\"]\n"
   ]
  },
  {
   "cell_type": "markdown",
   "metadata": {},
   "source": [
    "データ④　mercariデータ"
   ]
  },
  {
   "cell_type": "code",
   "execution_count": 18,
   "metadata": {},
   "outputs": [
    {
     "data": {
      "text/html": [
       "<div>\n",
       "<style scoped>\n",
       "    .dataframe tbody tr th:only-of-type {\n",
       "        vertical-align: middle;\n",
       "    }\n",
       "\n",
       "    .dataframe tbody tr th {\n",
       "        vertical-align: top;\n",
       "    }\n",
       "\n",
       "    .dataframe thead th {\n",
       "        text-align: right;\n",
       "    }\n",
       "</style>\n",
       "<table border=\"1\" class=\"dataframe\">\n",
       "  <thead>\n",
       "    <tr style=\"text-align: right;\">\n",
       "      <th></th>\n",
       "      <th>Unnamed: 0</th>\n",
       "      <th>variant</th>\n",
       "      <th>segment</th>\n",
       "      <th>distribution_date</th>\n",
       "      <th>TRX</th>\n",
       "      <th>GMV</th>\n",
       "      <th>buyer</th>\n",
       "      <th>hist_4_day_buy_num</th>\n",
       "      <th>hist_4_day_gmv</th>\n",
       "      <th>his_4_day_is_buy</th>\n",
       "      <th>...</th>\n",
       "      <th>hist_30_day_pay_days</th>\n",
       "      <th>hist_30_day_atpu</th>\n",
       "      <th>hist_30_day_gpv</th>\n",
       "      <th>hist_30_day_pay_recency</th>\n",
       "      <th>hist_30_day_list_days</th>\n",
       "      <th>hist_30_day_list_num</th>\n",
       "      <th>hist_30_day_list_recency</th>\n",
       "      <th>hist_30_day_like_count</th>\n",
       "      <th>hist_30_day_like_count_not_deleted</th>\n",
       "      <th>hist_30_day_like_recency</th>\n",
       "    </tr>\n",
       "  </thead>\n",
       "  <tbody>\n",
       "    <tr>\n",
       "      <th>0</th>\n",
       "      <td>0</td>\n",
       "      <td>test1</td>\n",
       "      <td>b_a1</td>\n",
       "      <td>2022-08-11</td>\n",
       "      <td>2</td>\n",
       "      <td>1688</td>\n",
       "      <td>1.0</td>\n",
       "      <td>2</td>\n",
       "      <td>1090</td>\n",
       "      <td>1.0</td>\n",
       "      <td>...</td>\n",
       "      <td>2</td>\n",
       "      <td>2</td>\n",
       "      <td>1373.0</td>\n",
       "      <td>21</td>\n",
       "      <td>14</td>\n",
       "      <td>41</td>\n",
       "      <td>2</td>\n",
       "      <td>25</td>\n",
       "      <td>28</td>\n",
       "      <td>1</td>\n",
       "    </tr>\n",
       "    <tr>\n",
       "      <th>1</th>\n",
       "      <td>1</td>\n",
       "      <td>test1</td>\n",
       "      <td>b_a1</td>\n",
       "      <td>2022-08-11</td>\n",
       "      <td>0</td>\n",
       "      <td>0</td>\n",
       "      <td>0.0</td>\n",
       "      <td>0</td>\n",
       "      <td>0</td>\n",
       "      <td>0.0</td>\n",
       "      <td>...</td>\n",
       "      <td>0</td>\n",
       "      <td>0</td>\n",
       "      <td>0.0</td>\n",
       "      <td>31</td>\n",
       "      <td>9</td>\n",
       "      <td>14</td>\n",
       "      <td>2</td>\n",
       "      <td>6</td>\n",
       "      <td>5</td>\n",
       "      <td>9</td>\n",
       "    </tr>\n",
       "    <tr>\n",
       "      <th>2</th>\n",
       "      <td>2</td>\n",
       "      <td>test1</td>\n",
       "      <td>b_a1</td>\n",
       "      <td>2022-08-11</td>\n",
       "      <td>1</td>\n",
       "      <td>1700</td>\n",
       "      <td>1.0</td>\n",
       "      <td>2</td>\n",
       "      <td>2100</td>\n",
       "      <td>1.0</td>\n",
       "      <td>...</td>\n",
       "      <td>0</td>\n",
       "      <td>0</td>\n",
       "      <td>0.0</td>\n",
       "      <td>31</td>\n",
       "      <td>0</td>\n",
       "      <td>0</td>\n",
       "      <td>31</td>\n",
       "      <td>14</td>\n",
       "      <td>82</td>\n",
       "      <td>3</td>\n",
       "    </tr>\n",
       "    <tr>\n",
       "      <th>3</th>\n",
       "      <td>3</td>\n",
       "      <td>test1</td>\n",
       "      <td>b_a1</td>\n",
       "      <td>2022-08-11</td>\n",
       "      <td>1</td>\n",
       "      <td>300</td>\n",
       "      <td>1.0</td>\n",
       "      <td>0</td>\n",
       "      <td>0</td>\n",
       "      <td>0.0</td>\n",
       "      <td>...</td>\n",
       "      <td>0</td>\n",
       "      <td>0</td>\n",
       "      <td>0.0</td>\n",
       "      <td>31</td>\n",
       "      <td>0</td>\n",
       "      <td>0</td>\n",
       "      <td>31</td>\n",
       "      <td>1</td>\n",
       "      <td>2</td>\n",
       "      <td>5</td>\n",
       "    </tr>\n",
       "    <tr>\n",
       "      <th>4</th>\n",
       "      <td>4</td>\n",
       "      <td>test1</td>\n",
       "      <td>b_a1</td>\n",
       "      <td>2022-08-11</td>\n",
       "      <td>6</td>\n",
       "      <td>6308</td>\n",
       "      <td>1.0</td>\n",
       "      <td>0</td>\n",
       "      <td>0</td>\n",
       "      <td>0.0</td>\n",
       "      <td>...</td>\n",
       "      <td>0</td>\n",
       "      <td>0</td>\n",
       "      <td>0.0</td>\n",
       "      <td>31</td>\n",
       "      <td>0</td>\n",
       "      <td>0</td>\n",
       "      <td>31</td>\n",
       "      <td>19</td>\n",
       "      <td>4</td>\n",
       "      <td>2</td>\n",
       "    </tr>\n",
       "  </tbody>\n",
       "</table>\n",
       "<p>5 rows × 24 columns</p>\n",
       "</div>"
      ],
      "text/plain": [
       "   Unnamed: 0 variant segment distribution_date  TRX   GMV  buyer  \\\n",
       "0           0   test1    b_a1        2022-08-11    2  1688    1.0   \n",
       "1           1   test1    b_a1        2022-08-11    0     0    0.0   \n",
       "2           2   test1    b_a1        2022-08-11    1  1700    1.0   \n",
       "3           3   test1    b_a1        2022-08-11    1   300    1.0   \n",
       "4           4   test1    b_a1        2022-08-11    6  6308    1.0   \n",
       "\n",
       "   hist_4_day_buy_num  hist_4_day_gmv  his_4_day_is_buy  ...  \\\n",
       "0                   2            1090               1.0  ...   \n",
       "1                   0               0               0.0  ...   \n",
       "2                   2            2100               1.0  ...   \n",
       "3                   0               0               0.0  ...   \n",
       "4                   0               0               0.0  ...   \n",
       "\n",
       "   hist_30_day_pay_days  hist_30_day_atpu  hist_30_day_gpv  \\\n",
       "0                     2                 2           1373.0   \n",
       "1                     0                 0              0.0   \n",
       "2                     0                 0              0.0   \n",
       "3                     0                 0              0.0   \n",
       "4                     0                 0              0.0   \n",
       "\n",
       "   hist_30_day_pay_recency  hist_30_day_list_days  hist_30_day_list_num  \\\n",
       "0                       21                     14                    41   \n",
       "1                       31                      9                    14   \n",
       "2                       31                      0                     0   \n",
       "3                       31                      0                     0   \n",
       "4                       31                      0                     0   \n",
       "\n",
       "   hist_30_day_list_recency  hist_30_day_like_count  \\\n",
       "0                         2                      25   \n",
       "1                         2                       6   \n",
       "2                        31                      14   \n",
       "3                        31                       1   \n",
       "4                        31                      19   \n",
       "\n",
       "   hist_30_day_like_count_not_deleted  hist_30_day_like_recency  \n",
       "0                                  28                         1  \n",
       "1                                   5                         9  \n",
       "2                                  82                         3  \n",
       "3                                   2                         5  \n",
       "4                                   4                         2  \n",
       "\n",
       "[5 rows x 24 columns]"
      ]
     },
     "execution_count": 18,
     "metadata": {},
     "output_type": "execute_result"
    }
   ],
   "source": [
    "df4 = pd.read_csv(\n",
    "    R\"C:\\Users\\HaruMomozu\\Documents\\aug_first_cpn_data_for_ab_test_sensibility_tsukuba.csv\"\n",
    ")\n",
    "\n",
    "obj4 = \"GMV\"\n",
    "features_list4 = [\n",
    "    \"hist_4_day_buy_num\",\n",
    "    \"hist_4_day_gmv\",\n",
    "    \"his_4_day_is_buy\",\n",
    "    \"hist_30_day_buy_days\",\n",
    "    \"hist_30_day_buy_num\",\n",
    "    \"hist_30_day_gmv\",\n",
    "    \"hist_30_day_buy_recency\",\n",
    "    \"hist_30_day_pay_days\",\n",
    "    \"hist_30_day_atpu\",\n",
    "    \"hist_30_day_gpv\",\n",
    "    \"hist_30_day_pay_recency\",\n",
    "    \"hist_30_day_list_days\",\n",
    "    \"hist_30_day_list_num\",\n",
    "    \"hist_30_day_list_recency\",\n",
    "    \"hist_30_day_like_count\",\n",
    "    \"hist_30_day_like_count_not_deleted\",\n",
    "    \"hist_30_day_like_recency\",\n",
    "]\n",
    "\n"
   ]
  },
  {
   "cell_type": "markdown",
   "metadata": {},
   "source": [
    "使うデータを選び標準化する"
   ]
  },
  {
   "cell_type": "code",
   "execution_count": 23,
   "metadata": {},
   "outputs": [
    {
     "name": "stdout",
     "output_type": "stream",
     "text": [
      "      RIDAGEYR  RIAGENDR  PAQ605  BMXBMI  LBXGLU  DIQ010  LBXGLT  LBXIN\n",
      "0         61.0       2.0     2.0    35.7   110.0     2.0   150.0  14.91\n",
      "1         26.0       2.0     2.0    20.3    89.0     2.0    80.0   3.85\n",
      "2         16.0       1.0     2.0    23.2    89.0     2.0    68.0   6.14\n",
      "3         32.0       1.0     2.0    28.9   104.0     2.0    84.0  16.15\n",
      "4         38.0       2.0     1.0    35.9   103.0     2.0    81.0  10.92\n",
      "...        ...       ...     ...     ...     ...     ...     ...    ...\n",
      "2165      38.0       2.0     2.0    33.5   100.0     2.0    73.0   6.53\n",
      "2166      61.0       1.0     2.0    30.0    93.0     2.0   208.0  13.02\n",
      "2167      34.0       1.0     2.0    23.7   103.0     2.0   124.0  21.41\n",
      "2168      60.0       2.0     2.0    27.4    90.0     2.0   108.0   4.99\n",
      "2169      26.0       1.0     2.0    24.5   108.0     2.0   108.0   3.76\n",
      "\n",
      "[2170 rows x 8 columns]\n",
      "0       35.7\n",
      "1       20.3\n",
      "2       23.2\n",
      "3       28.9\n",
      "4       35.9\n",
      "        ... \n",
      "2273    33.5\n",
      "2274    30.0\n",
      "2275    23.7\n",
      "2276    27.4\n",
      "2277    24.5\n",
      "Name: BMXBMI, Length: 2170, dtype: float64\n"
     ]
    }
   ],
   "source": [
    "df = df1  # 選ぶ\n",
    "obj = obj1  # 選ぶ\n",
    "features_list = features_list1  # 選ぶ\n",
    "\n",
    "df = remove_outliers_zscore(df, obj)\n",
    "\n",
    "X = df[features_list]\n",
    "# 数値列の標準化\n",
    "scaler = StandardScaler()\n",
    "scaled_features = scaler.fit_transform(X)\n",
    "X_scaled = pd.DataFrame(scaled_features, columns=features_list)\n",
    "\n",
    "y = df[obj]  # 目的変数\n",
    "\n",
    "# 行を詰める\n",
    "df = df.reset_index(drop=True)\n",
    "\n",
    "print(df)\n",
    "print(y)"
   ]
  },
  {
   "cell_type": "markdown",
   "metadata": {},
   "source": [
    "# クラスタリング"
   ]
  },
  {
   "cell_type": "markdown",
   "metadata": {},
   "source": [
    "##### Kmeans"
   ]
  },
  {
   "cell_type": "code",
   "execution_count": 7,
   "metadata": {},
   "outputs": [
    {
     "name": "stderr",
     "output_type": "stream",
     "text": [
      "c:\\Users\\HaruMomozu\\Desktop\\momozu\\ABtesting\\.venv\\Lib\\site-packages\\threadpoolctl.py:1214: RuntimeWarning: \n",
      "Found Intel OpenMP ('libiomp') and LLVM OpenMP ('libomp') loaded at\n",
      "the same time. Both libraries are known to be incompatible and this\n",
      "can cause random crashes or deadlocks on Linux when loaded in the\n",
      "same Python program.\n",
      "Using threadpoolctl may cause crashes or deadlocks. For more\n",
      "information and possible workarounds, please see\n",
      "    https://github.com/joblib/threadpoolctl/blob/master/multiple_openmp.md\n",
      "\n",
      "  warnings.warn(msg, RuntimeWarning)\n"
     ]
    },
    {
     "name": "stdout",
     "output_type": "stream",
     "text": [
      "各クラスタのデータ数: [1219683, 255958, 4511169]\n",
      "5986810\n"
     ]
    }
   ],
   "source": [
    "from sklearn.cluster import KMeans\n",
    "\n",
    "clusters = 3\n",
    "cluster_labels = [a for a in range(clusters)]\n",
    "\n",
    "\n",
    "# dataに対してKmeansを行った結果をdataに反映（クラスラベルを追加）する関数\n",
    "def kmeans_cluster(data, cluster_num):\n",
    "    # k-meansクラスタリングの適用\n",
    "    kmeans = KMeans(n_clusters=cluster_num, init=\"k-means++\", random_state=42)\n",
    "    clusters = kmeans.fit_predict(data)\n",
    "    # 結果を元のデータフレームに追加\n",
    "    data[\"kmeans_cluster\"] = clusters\n",
    "    return data\n",
    "\n",
    "\n",
    "Kresult = kmeans_cluster(X_scaled, clusters)\n",
    "\n",
    "N = []\n",
    "for a in range(clusters):\n",
    "    cluster_a_list = Kresult[Kresult[\"kmeans_cluster\"] == a]\n",
    "    N.append(len(cluster_a_list))\n",
    "print(\"各クラスタのデータ数:\", N)\n",
    "print(sum(N))"
   ]
  },
  {
   "cell_type": "markdown",
   "metadata": {},
   "source": [
    "## データの分布を確認"
   ]
  },
  {
   "cell_type": "code",
   "execution_count": 8,
   "metadata": {},
   "outputs": [
    {
     "name": "stdout",
     "output_type": "stream",
     "text": [
      "各主成分の説明分散比率:\n",
      "[0.28215877 0.17813366]\n"
     ]
    },
    {
     "data": {
      "image/png": "[encoded data removed]",
      "text/plain": [
       "<Figure size 2000x600 with 3 Axes>"
      ]
     },
     "metadata": {},
     "output_type": "display_data"
    }
   ],
   "source": [
    "# 目的変数の分布\n",
    "axes: list[plt.Axes]\n",
    "fig, axes = plt.subplots(\n",
    "    1, 2, figsize=(10 * 2, 6 * 1)\n",
    ")  # 1行2列のサブプロット（横幅20, 縦幅6）\n",
    "sns.boxplot(  # 箱ひげ図\n",
    "    x=Kresult[\"kmeans_cluster\"].astype(str),  # x軸、as.type(str)で文字列に変換\n",
    "    y=y,  # y軸\n",
    "    ax=axes[0],  # グラフを描画するサブプロット指定\n",
    "    hue=Kresult[\"kmeans_cluster\"].astype(str),  # クラスタラベルに基づいて色を付ける\n",
    "    palette=\"tab10\",  # カラーパレット指定\n",
    "    legend=False,\n",
    ")\n",
    "axes[0].set_title(\"Box plot of y\", fontdict={\"fontsize\": \"xx-large\"})\n",
    "axes[0].set_xlabel(\"Cluster label\")\n",
    "axes[0].set_ylabel(\"y\")\n",
    "\n",
    "# データの散布図\n",
    "## 次元削減\n",
    "pca = PCA(n_components=2)  # 主成分分析で2次元に削減\n",
    "X_pca = pca.fit_transform(X_scaled)  # XにPCAを適用\n",
    "# 散布図（x軸：第1主成分、y軸：第2主成分、色分けのためにyを指定、サブプロット、色パレット、凡例）\n",
    "sns.scatterplot(\n",
    "    x=X_pca[:, 0],\n",
    "    y=X_pca[:, 1],\n",
    "    hue=y,\n",
    "    ax=axes[1],\n",
    "    palette=\"Blues\",\n",
    "    legend=False,\n",
    ")\n",
    "axes[1].set_title(\"Scatter plot of X\", fontdict={\"fontsize\": \"xx-large\"})\n",
    "axes[1].set_xlabel(\"Feature 1\")\n",
    "axes[1].set_ylabel(\"Feature 2\")\n",
    "## colorbar（右のバー）\n",
    "# カラーバーを作成するためのオブジェクト作成（カラーマップ指定、yの最小値から最大値を正規化）\n",
    "sm = plt.cm.ScalarMappable(cmap=\"Blues\", norm=plt.Normalize(vmin=y.min(), vmax=y.max()))\n",
    "sm._A = []  # smの内部のデータをクリア\n",
    "cbar = fig.colorbar(sm, ax=axes[1])\n",
    "cbar.set_label(\"y\")\n",
    "\n",
    "fig.tight_layout()\n",
    "\n",
    "explained_variance_ratio = pca.explained_variance_ratio_\n",
    "print(\"各主成分の説明分散比率:\")\n",
    "print(explained_variance_ratio)"
   ]
  },
  {
   "cell_type": "markdown",
   "metadata": {},
   "source": [
    "# 標本戦略の実装"
   ]
  },
  {
   "cell_type": "markdown",
   "metadata": {},
   "source": [
    "##### 準備：基底クラス\n",
    "インターフェースを統一するための基底クラスを作成\n",
    "\n",
    "【ABCMeta】  \n",
    "・抽象基底クラス（ABC）を定義するためのメタクラス  \n",
    "・自体のインスタンス化はできないが、サブクラスは実装する必要のある共通のインターフェースを定義できる  \n",
    "・ABCMeta を使用することで@abstractmethod デコレータを使ってABCを作成できる  \n",
    "・デコレータ：関数やメソッドを引数として受け取り、修飾した新しい関数やメソッドを返す高階関数 \n",
    "\n",
    "【abstractmethod】  \n",
    "・ABC内で抽象メゾッドを定義するために使用される  \n",
    "・ABCのサブクラスはこれらの抽象メゾッドを実装する必要がある"
   ]
  },
  {
   "cell_type": "code",
   "execution_count": 9,
   "metadata": {},
   "outputs": [],
   "source": [
    "from abc import ABCMeta, abstractmethod\n",
    "\n",
    "from numpy.typing import NDArray\n",
    "\n",
    "\n",
    "class BaseAllocation(metaclass=ABCMeta):  # 抽象基底クラス（ABC）\n",
    "    # 初期化クラス（n_samples(標本サイズ), H(クラスタ数)）\n",
    "    def __init__(self, n_samples: int, H: int, random_state: int):\n",
    "        self.n_samples = n_samples\n",
    "        self.H = H\n",
    "        self.random_state = random_state\n",
    "\n",
    "    @abstractmethod\n",
    "    def solve(self, X: NDArray, y: NDArray) -> NDArray:\n",
    "        \"\"\"標本配分を解く\n",
    "\n",
    "        Args:\n",
    "            X (NDArray): データ (N x M)\n",
    "            y (NDArray): 目的変数 (N)\n",
    "\n",
    "        Raises:\n",
    "            NotImplementedError: _description_\n",
    "\n",
    "        Returns:\n",
    "            NDArray: 各クラスタの標本数 (H, )\n",
    "\n",
    "        Note:\n",
    "            M: 特徴量数\n",
    "            H: クラスタ数\n",
    "        \"\"\"\n",
    "        # 具象クラスがsolveメゾッドを実装しない場合はNotImpleamentedErrorが発生\n",
    "        raise NotImplementedError\n",
    "\n",
    "    def clustering(self, X: NDArray) -> tuple[NDArray, NDArray]:\n",
    "        \"\"\"クラスタリングを行う\n",
    "\n",
    "        Args:\n",
    "            X (NDArray): データ (N x M)\n",
    "\n",
    "        Returns:\n",
    "            NDArray: クラスタラベル (N, ), クラスタサイズ (H, )\n",
    "\n",
    "        Note:\n",
    "            N: データ数\n",
    "            M: 特徴量数\n",
    "            H: クラスタ数\n",
    "        \"\"\"\n",
    "        # kmeans:KMeansを用いてself.H個のクラスタに分割する\n",
    "        kmeans = KMeans(n_clusters=self.H, random_state=self.random_state)\n",
    "        # XをKMeansを用いてself.H個のクラスタに分割し、各データのクラスタラベル取得\n",
    "        cluster_label = kmeans.fit_predict(X)\n",
    "        # 母集団の各クラスタのサイズを計算\n",
    "        _, cluster_size = np.unique(cluster_label, return_counts=True)\n",
    "        # インスタンス変数として設定\n",
    "        self.cluster_label = cluster_label\n",
    "        self.N = cluster_size\n",
    "        return cluster_label, cluster_size.copy()"
   ]
  },
  {
   "cell_type": "markdown",
   "metadata": {},
   "source": [
    "##### 方法① 単純無作為抽出"
   ]
  },
  {
   "cell_type": "code",
   "execution_count": 10,
   "metadata": {},
   "outputs": [],
   "source": [
    "from numpy.typing import NDArray\n",
    "\n",
    "\n",
    "# BaseAllocationを継承することでBaseAllocationクラスで定義されたインスタンス変数やメゾッドを利用できる\n",
    "class RandomAllocation(BaseAllocation):\n",
    "    # 抽象メゾッドを具象化\n",
    "    def solve(self, X: NDArray, y: NDArray) -> NDArray:\n",
    "        \"\"\"ランダムにn_samplesの標本を選択する\"\"\"\n",
    "        n = np.array([self.n_samples])\n",
    "\n",
    "        return n  # （例）n=[標本サイズ]\n",
    "\n",
    "    def clustering(self, X: NDArray) -> tuple[NDArray, NDArray]:\n",
    "        # cluster_labelのすべての要素は0（すべてのデータを同じクラスタに属させている）\n",
    "        cluster_label = np.zeros(\n",
    "            X.shape[0]\n",
    "        )  # cluster_label = [0,0,0,,...(要素数：データ数）]\n",
    "        # クラスタサイズ＝データ数\n",
    "        cluster_size = np.array([len(cluster_label)])  # cluster_size=[データ数]\n",
    "        return cluster_label, cluster_size"
   ]
  },
  {
   "cell_type": "markdown",
   "metadata": {},
   "source": [
    "##### 方法② 比例配分"
   ]
  },
  {
   "cell_type": "code",
   "execution_count": 11,
   "metadata": {},
   "outputs": [],
   "source": [
    "class PropotionalAllocation(BaseAllocation):\n",
    "    def solve(self, X: NDArray, y: NDArray) -> NDArray:\n",
    "        \"\"\"各クラスタ数に比例した標本数で分割する\"\"\"\n",
    "        n: NDArray = np.round(self.N / self.N.sum() * self.n_samples).astype(int)\n",
    "\n",
    "        if n.sum() > self.n_samples:\n",
    "            # nの合計がn_samplesより大きい場合は一番標本数が多いクラスタから削る\n",
    "            n[np.argmax(n)] -= n.sum() - self.n_samples\n",
    "\n",
    "        return n"
   ]
  },
  {
   "cell_type": "markdown",
   "metadata": {},
   "source": [
    "##### 方法③　事後層化"
   ]
  },
  {
   "cell_type": "code",
   "execution_count": 12,
   "metadata": {},
   "outputs": [],
   "source": [
    "class PostStratification(BaseAllocation):\n",
    "    def solve(self, X: NDArray, y: NDArray) -> NDArray:\n",
    "        \"\"\"ランダムにn_samplesの標本を選択する\"\"\"\n",
    "        n = np.array([self.n_samples])\n",
    "\n",
    "        return n  # （例）n=[標本サイズ]"
   ]
  },
  {
   "cell_type": "markdown",
   "metadata": {},
   "source": [
    "##### 方法③ 最適配分"
   ]
  },
  {
   "cell_type": "code",
   "execution_count": 13,
   "metadata": {},
   "outputs": [],
   "source": [
    "from typing import Literal, Optional\n",
    "\n",
    "from numpy.typing import NDArray\n",
    "\n",
    "\n",
    "class OptimalAllocation(BaseAllocation):\n",
    "    def __init__(\n",
    "        self,\n",
    "        n_samples: int,\n",
    "        H: int,\n",
    "        m: NDArray,  # 標本サイズ下限\n",
    "        M: Optional[NDArray] = None,  # 標本サイズ上限 #Optional(Noneである可能性がある)\n",
    "        random_state: int = 0,\n",
    "    ):\n",
    "        super().__init__(\n",
    "            n_samples, H, random_state\n",
    "        )  # 基底クラスBaseAllocation（スーパークラス）の初期化メゾッドを呼び出す\n",
    "        self.m = m  # 各クラスタの最小標本サイズ (H, )\n",
    "        self.M = M  # 各クラスタの最大標本サイズ (H, ), (指定しない場合はクラスタサイズ)\n",
    "\n",
    "    def solve(self, X: NDArray, y: NDArray) -> NDArray:\n",
    "        # S:クラスタ毎の目的変数のvarianceを要素とする配列 (H, )\n",
    "        S = np.array([np.var(y[self.cluster_label == h]) for h in range(self.H)])\n",
    "        d = (self.N**2) * S  # (H, )\n",
    "        n = self._simple_greedy(n=self.m.copy(), d=d)\n",
    "\n",
    "        # 制約チェック\n",
    "        self._check_constraints(n)\n",
    "\n",
    "        return n\n",
    "\n",
    "    def _simple_greedy(self, n: NDArray, d: NDArray) -> NDArray:\n",
    "        M = self.M.copy() if self.M is not None else self.N.copy()\n",
    "        I = np.arange(self.H)  # noqa #クラスタのインデックス\n",
    "        while (n.sum() != self.n_samples) and len(I) != 0:\n",
    "            delta = np.zeros(self.H)\n",
    "            delta[I] = (d / (n + 1) - d / n)[I]\n",
    "            h_star = np.argmin(delta[I])\n",
    "            h_star = I[h_star]\n",
    "\n",
    "            if n[h_star] + 1 <= M[h_star]:\n",
    "                n[h_star] = n[h_star] + 1\n",
    "            else:\n",
    "                # Iの要素h_starを削除\n",
    "                I_ = I.tolist()\n",
    "                I_ = [i for i in I_ if i != h_star]\n",
    "                I = np.array(I_)  # noqa\n",
    "\n",
    "        return n\n",
    "\n",
    "    def _check_constraints(self, n: NDArray):\n",
    "        assert (\n",
    "            n.sum() <= self.n_samples\n",
    "        ), f\"Total sample size is over than {self.n_samples}\"\n",
    "        assert np.all(n >= self.m), \"Minimum sample size constraint is not satisfied\"\n",
    "        if self.M is not None:\n",
    "            assert np.all(\n",
    "                n <= self.M\n",
    "            ), \"Maximum sample size constraint is not satisfied\""
   ]
  },
  {
   "cell_type": "markdown",
   "metadata": {},
   "source": [
    "# 比較実験"
   ]
  },
  {
   "cell_type": "code",
   "execution_count": 14,
   "metadata": {},
   "outputs": [],
   "source": [
    "import numpy as np\n",
    "from numpy.typing import NDArray\n",
    "\n",
    "\n",
    "def estimate_y_mean(n: NDArray, cluster_label: NDArray, y: NDArray) -> NDArray:\n",
    "    \"\"\"実際にサンプリングを行って目的変数の平均を推定\n",
    "\n",
    "    Args:\n",
    "        n (NDArray): 各クラスタの標本数 (H, )\n",
    "        cluster_label (NDArray): クラスタラベル (N, )\n",
    "        y (NDArray): 目的変数 (N, )\n",
    "\n",
    "    Returns:\n",
    "        NDArray: 推定された目的変数の平均\n",
    "\n",
    "    Note:\n",
    "        N: データ数\n",
    "        H: クラスタ数\n",
    "    \"\"\"\n",
    "    # cluster_labelからユニークなクラスタラベルを取得し、母集団の各クラスタのサイズNを取得\n",
    "    N = np.unique(cluster_label, return_counts=True)[1]  # クラスタサイズ (H, )\n",
    "    weights = N / N.sum()\n",
    "    y_hat = 0\n",
    "    for h in range(n.shape[0]):  # n.shape[0]:層の数\n",
    "        y_cluster = y[cluster_label == h]\n",
    "        # クラスタ内でランダム n_h サンプリング\n",
    "        sample: NDArray = np.random.choice(y_cluster, n[h], replace=False)\n",
    "        y_sample_mean = sample.mean()  # サンプリングした標本の平均\n",
    "        y_hat += y_sample_mean * weights[h]\n",
    "\n",
    "    return y_hat\n",
    "\n",
    "\n",
    "def estimate_y_mean_post(n: NDArray, cluster_label: NDArray, y: NDArray) -> NDArray:\n",
    "    N = np.unique(cluster_label, return_counts=True)[1]\n",
    "    weights = N / N.sum()\n",
    "    y_hat = 0\n",
    "    indices = np.arange(N.sum())\n",
    "    y_array = np.array(y.tolist())\n",
    "    n_indices = np.random.choice(indices, n[0], replace=False)\n",
    "    n_label = np.array([cluster_label[i] for i in n_indices])\n",
    "    n_new = np.unique(n_label, return_counts=True)[1]\n",
    "    for h in range(n_new.shape[0]):\n",
    "        index = np.where(n_label == h)[0]\n",
    "        sample = y_array[n_indices[index]]  ##ここ\n",
    "        y_sample_mean = sample.mean()  # サンプリングした標本の平均\n",
    "        y_hat += y_sample_mean * weights[h]\n",
    "    return y_hat"
   ]
  },
  {
   "cell_type": "code",
   "execution_count": 15,
   "metadata": {},
   "outputs": [
    {
     "name": "stdout",
     "output_type": "stream",
     "text": [
      "[{'policy': 'RandomAllocation', 'n': array([10000]), 'cluster_label': array([0., 0., 0., ..., 0., 0., 0.])}, {'policy': 'PropotionalAllocation', 'n': array([7675, 2325]), 'cluster_label': array([1, 1, 1, ..., 1, 0, 1], dtype=int32)}, {'policy': 'PostStratification', 'n': array([10000]), 'cluster_label': array([1, 1, 1, ..., 1, 0, 1], dtype=int32)}, {'policy': 'OptimalAllocation', 'n': array([6196, 3804]), 'cluster_label': array([1, 1, 1, ..., 1, 0, 1], dtype=int32)}]\n"
     ]
    }
   ],
   "source": [
    "N_SAMPLES = 10000  # 標本サイズ\n",
    "H = 2  # クラスタ数が多すぎるとpropotionalがうまくいかない\n",
    "N_TRIALS = 1000  # 試行回数\n",
    "m_VALUE = 2  # 各クラスタの最小標本数\n",
    "RANDOM_STATE = 0  # 乱数シード\n",
    "\n",
    "# 戦略を定義\n",
    "policies: list[BaseAllocation] = [\n",
    "    RandomAllocation(n_samples=N_SAMPLES, H=H, random_state=RANDOM_STATE),\n",
    "    PropotionalAllocation(n_samples=N_SAMPLES, H=H, random_state=RANDOM_STATE),\n",
    "    PostStratification(n_samples=N_SAMPLES, H=H, random_state=RANDOM_STATE),\n",
    "    OptimalAllocation(\n",
    "        n_samples=N_SAMPLES,\n",
    "        H=H,\n",
    "        random_state=RANDOM_STATE,\n",
    "        m=np.full(H, m_VALUE),\n",
    "        M=None,\n",
    "    ),\n",
    "]\n",
    "\n",
    "# それぞれの戦略で各クラスタの標本数を求解\n",
    "allocations: list[dict] = []  # 各戦略の実行結果が辞書形式で追加される\n",
    "for policy in policies:\n",
    "    # policyを用いてXをクラスタリング(_は戻り値の２番目を無視)\n",
    "    cluster_label, _ = policy.clustering(X_scaled)\n",
    "    n = policy.solve(X_scaled, y)\n",
    "    allocations.append(\n",
    "        {\n",
    "            \"policy\": policy.__class__.__name__,\n",
    "            \"n\": n,\n",
    "            \"cluster_label\": cluster_label,\n",
    "        }\n",
    "    )\n",
    "print(allocations)\n",
    "\n",
    "# 各戦略の標本数に基づいて目的変数の平均を推定\n",
    "y_hats = []\n",
    "for random_state in range(N_TRIALS):\n",
    "    for allocation in allocations:\n",
    "        if allocation[\"policy\"] == \"PostStratification\":\n",
    "            y_hat = estimate_y_mean_post(\n",
    "                allocation[\"n\"], allocation[\"cluster_label\"], y\n",
    "            )\n",
    "        else:\n",
    "            y_hat = estimate_y_mean(allocation[\"n\"], allocation[\"cluster_label\"], y)\n",
    "        y_hats.append(\n",
    "            {\n",
    "                \"policy\": allocation[\"policy\"],\n",
    "                \"y_hat\": y_hat,\n",
    "                \"random_state\": random_state,\n",
    "            }\n",
    "        )"
   ]
  },
  {
   "cell_type": "code",
   "execution_count": 16,
   "metadata": {},
   "outputs": [
    {
     "data": {
      "text/plain": [
       "(0.0, 100.0)"
      ]
     },
     "execution_count": 16,
     "metadata": {},
     "output_type": "execute_result"
    },
    {
     "name": "stderr",
     "output_type": "stream",
     "text": [
      "posx and posy should be finite values\n",
      "posx and posy should be finite values\n",
      "posx and posy should be finite values\n"
     ]
    },
    {
     "data": {
      "image/png": "[encoded data removed]",
      "text/plain": [
       "<Figure size 1200x1200 with 2 Axes>"
      ]
     },
     "metadata": {},
     "output_type": "display_data"
    }
   ],
   "source": [
    "import matplotlib.pyplot as plt\n",
    "import seaborn as sns\n",
    "\n",
    "axes: list[plt.Axes]\n",
    "fig, axes = plt.subplots(2, 1, figsize=(12, 6 * 2))\n",
    "\n",
    "# 箱ひげ図で誤差の分布を比較\n",
    "y_hat_df = pd.DataFrame(y_hats)\n",
    "y_hat_df[\"error\"] = (\n",
    "    y_hat_df[\"y_hat\"] - y.mean()\n",
    ")  # 真の平均からの誤差をerrorカラムに追加\n",
    "sns.boxplot(\n",
    "    data=y_hat_df,\n",
    "    y=\"error\",\n",
    "    x=\"policy\",\n",
    "    hue=\"policy\",\n",
    "    ax=axes[0],\n",
    "    linewidth=1,\n",
    "    width=0.5,\n",
    ")\n",
    "axes[0].set_title(\n",
    "    \"Error from the true mean for each method (sample size={})\".format(N_SAMPLES)\n",
    ")\n",
    "axes[0].set_ylabel(\"Error from the true mean\")\n",
    "axes[0].set_xlabel(\"Method\")\n",
    "\n",
    "# 棒グラフでRandomAllocationに対する誤差分散削減率を比較\n",
    "# random_allocationの誤差分散\n",
    "random_allocation_std = y_hat_df[y_hat_df[\"policy\"] == \"RandomAllocation\"][\n",
    "    \"error\"\n",
    "].var()\n",
    "# random_allocation以外の誤差分散\n",
    "non_random_allocation_std = (\n",
    "    y_hat_df[y_hat_df[\"policy\"] != \"RandomAllocation\"].groupby(\"policy\")[\"error\"].var()\n",
    ")\n",
    "reduction_rate = (\n",
    "    1 - non_random_allocation_std / random_allocation_std\n",
    ") * 100  # 削減率 (%)\n",
    "## policyの順番をpoliciesの順番に調整\n",
    "reduction_rate = reduction_rate.reindex(\n",
    "    [policy.__class__.__name__ for policy in policies]\n",
    ")\n",
    "sns.barplot(\n",
    "    x=reduction_rate.index,\n",
    "    y=reduction_rate.values,\n",
    "    ax=axes[1],\n",
    "    hue=reduction_rate.index,\n",
    ")\n",
    "# 棒グラフの上に値を表示\n",
    "for i, v in enumerate(reduction_rate.values):\n",
    "    axes[1].text(i, v, f\"{v:.2f}\", ha=\"center\", va=\"bottom\")\n",
    "axes[1].set_ylabel(\"Error Variance Reduction Rate (relative to Random Allocation\")\n",
    "axes[1].set_xlabel(\"Method\")\n",
    "axes[1].set_ylim(0, 100)"
   ]
  },
  {
   "cell_type": "code",
   "execution_count": null,
   "metadata": {},
   "outputs": [],
   "source": []
  }
 ],
 "metadata": {
  "kernelspec": {
   "display_name": ".venv",
   "language": "python",
   "name": "python3"
  },
  "language_info": {
   "codemirror_mode": {
    "name": "ipython",
    "version": 3
   },
   "file_extension": ".py",
   "mimetype": "text/x-python",
   "name": "python",
   "nbconvert_exporter": "python",
   "pygments_lexer": "ipython3",
   "version": "3.12.4"
  }
 },
 "nbformat": 4,
 "nbformat_minor": 2
}
