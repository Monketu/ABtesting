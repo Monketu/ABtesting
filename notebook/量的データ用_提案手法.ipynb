{
 "cells": [
  {
   "cell_type": "markdown",
   "metadata": {},
   "source": [
    "# 同時に最適化する方法"
   ]
  },
  {
   "cell_type": "markdown",
   "metadata": {},
   "source": [
    "-------------\n",
    "### ライブラリのインポート＆その他の設定（Importing Libraries & Other Settings）"
   ]
  },
  {
   "cell_type": "code",
   "execution_count": 1,
   "metadata": {},
   "outputs": [],
   "source": [
    "# 基本的なライブラリ\n",
    "import numpy as np\n",
    "import pandas as pd\n",
    "from numpy.typing import NDArray\n",
    "from scipy import stats\n",
    "\n",
    "# Scikit-learn関連\n",
    "from sklearn.base import BaseEstimator, TransformerMixin\n",
    "from sklearn.mixture import GaussianMixture\n",
    "from sklearn.preprocessing import StandardScaler\n",
    "from sklearn.cluster import KMeans\n",
    "from sklearn.utils.validation import check_X_y\n",
    "from sklearn.model_selection import train_test_split\n",
    "\n",
    "# 抽象基底クラス (ABC)\n",
    "from abc import ABCMeta, abstractmethod\n",
    "\n",
    "# タイピングのサポート\n",
    "from typing import Optional\n",
    "\n",
    "# 可視化の設定\n",
    "import matplotlib.pyplot as plt\n",
    "import japanize_matplotlib\n",
    "import itertools\n",
    "\n",
    "plt.style.use(\"ggplot\")\n",
    "\n",
    "# 計算時間\n",
    "import time"
   ]
  },
  {
   "cell_type": "markdown",
   "metadata": {},
   "source": [
    "--------\n",
    "### 実験設定"
   ]
  },
  {
   "cell_type": "code",
   "execution_count": 2,
   "metadata": {},
   "outputs": [],
   "source": [
    "TARGET = \"BCR\"  # \"GMV\"か\"BCR\"\n",
    "DATA = \"part\"  # \"all\" or \"part\"\n",
    "DATA_SIZE = 200000  # データサイズ(訓練データとテストデータあわせて）\n",
    "TEST_SIZE = 0.5  # テストデータの比率\n",
    "THRESHOLD = 2  # 外れ値除外の閾値\n",
    "\n",
    "SAMPLE_SIZE = 10000  # 標本サイズ\n",
    "N_TRIALS = 10000  # 試行回数（標本平均を求める回数）\n",
    "N_EXPERIMENT = 1  # 同じ特徴量が選択されるか確認したいときは２以上にする\n",
    "m_VALUE = 2  # 各クラスタの最小標本数(最適標本配分)\n",
    "RANDOM_STATE = 0  # 乱数シード\n",
    "\n",
    "ALLOCATION_METHODS = [\n",
    "    # \"Proportional\",\n",
    "    \"Post\",\n",
    "    # \"Optimal\",\n",
    "]  # Randomはいれない #時間を測る場合は１つにする\n",
    "CLUSTERING_METHOD = \"kmeans\"  # \"gmm\" or \"kmeans\" or \"xmeans\"\n",
    "CRITERION = \"Var\"  # \"EVRR\" か　\"VRR\" か \"Var\"(Var の評価はVRR)\n",
    "\n",
    "if CRITERION == \"EVRR\":\n",
    "    if CLUSTERING_METHOD == \"kmeans\":\n",
    "        CLUSTERING_METHOD_NAME = \"SFS-Kmeans-EVRR\"\n",
    "    if CLUSTERING_METHOD == \"xmeans\":\n",
    "        CLUSTERING_METHOD_NAME == \"SFS-Xmeans-EVRR\"\n",
    "    if CLUSTERING_METHOD == \"gmm\":\n",
    "        CLUSTERING_METHOD_NAME == \"SFS-GMM-EVRR\"\n",
    "if CRITERION == \"VRR\":\n",
    "    if CLUSTERING_METHOD == \"kmeans\":\n",
    "        CLUSTERING_METHOD_NAME = \"SFS-Kmeans-VRR\"\n",
    "    if CLUSTERING_METHOD == \"xmeans\":\n",
    "        CLUSTERING_METHOD_NAME == \"SFS-Xmeans-VRR\"\n",
    "    if CLUSTERING_METHOD == \"gmm\":\n",
    "        CLUSTERING_METHOD_NAME == \"SFS-GMM-VRR\"\n",
    "if CRITERION == \"Var\":\n",
    "    if CLUSTERING_METHOD == \"kmeans\":\n",
    "        CLUSTERING_METHOD_NAME = \"SFS-Kmeans-Var\"\n",
    "    if CLUSTERING_METHOD == \"xmeans\":\n",
    "        CLUSTERING_METHOD_NAME == \"SFS-Xmeans-Var\"\n",
    "    if CLUSTERING_METHOD == \"gmm\":\n",
    "        CLUSTERING_METHOD_NAME == \"SFS-GMM-Var\"\n",
    "\n",
    "# クラスタを固定する場合(gmm, kmeans)\n",
    "N_CLUSTERS = 10  # クラスタ数\n",
    "# クラスタ数を固定しない場合（xmeans)\n",
    "K_MIN = 2\n",
    "K_MAX = 10\n",
    "\n",
    "\n",
    "MAXIMUM_FEATURES_TO_SELECT = 5  # 選択される最大の特徴量数\n",
    "\n",
    "SELECTING_FEATURES = \"all_features\"  # 特徴量をmaxになるまで選ぶ⇒\"all_features\" or 基準値が最大になるまで⇒\"not_all_features\""
   ]
  },
  {
   "cell_type": "markdown",
   "metadata": {},
   "source": [
    "-----------\n",
    "### データの前処理（Data Preprocessing）"
   ]
  },
  {
   "cell_type": "markdown",
   "metadata": {},
   "source": [
    "##### 外れ値を除去する関数"
   ]
  },
  {
   "cell_type": "code",
   "execution_count": 3,
   "metadata": {},
   "outputs": [],
   "source": [
    "# 外れ値の除去\n",
    "def remove_outliers_zscore(\n",
    "    data: pd.DataFrame, metric: str, threshold: float = 2\n",
    ") -> pd.DataFrame:\n",
    "    z_scores = np.abs(stats.zscore(data[metric]))\n",
    "    data = data[(z_scores < threshold)]\n",
    "    return data"
   ]
  },
  {
   "cell_type": "markdown",
   "metadata": {},
   "source": [
    "##### メルカリデータ（df1：全部, df2：一部）"
   ]
  },
  {
   "cell_type": "code",
   "execution_count": 4,
   "metadata": {},
   "outputs": [],
   "source": [
    "# df1(all the data)\n",
    "df1 = pd.read_csv(\n",
    "    R\"C:\\Users\\HaruMomozu\\Documents\\aug_first_cpn_data_for_ab_test_sensibility_tsukuba.csv\"\n",
    ")\n",
    "\n",
    "features_list = [\n",
    "    \"hist_4_day_buy_num\",\n",
    "    \"hist_4_day_gmv\",\n",
    "    \"his_4_day_is_buy\",\n",
    "    \"hist_30_day_buy_days\",\n",
    "    \"hist_30_day_buy_num\",\n",
    "    \"hist_30_day_gmv\",\n",
    "    \"hist_30_day_buy_recency\",\n",
    "    \"hist_30_day_pay_days\",\n",
    "    \"hist_30_day_atpu\",\n",
    "    \"hist_30_day_gpv\",\n",
    "    \"hist_30_day_pay_recency\",\n",
    "    \"hist_30_day_list_days\",\n",
    "    \"hist_30_day_list_num\",\n",
    "    \"hist_30_day_list_recency\",\n",
    "    \"hist_30_day_like_count\",\n",
    "    \"hist_30_day_like_count_not_deleted\",\n",
    "    \"hist_30_day_like_recency\",\n",
    "]\n",
    "\n",
    "# df2(subset of the data)\n",
    "df2 = df1.iloc[:DATA_SIZE]"
   ]
  },
  {
   "cell_type": "markdown",
   "metadata": {},
   "source": [
    "##### 外れ値除去"
   ]
  },
  {
   "cell_type": "code",
   "execution_count": 5,
   "metadata": {},
   "outputs": [
    {
     "name": "stdout",
     "output_type": "stream",
     "text": [
      "外れ値除外前のデータ数（訓練+テスト）: 200000\n",
      "外れ値除外後のデータ数（訓練+テスト）: 198151\n"
     ]
    },
    {
     "name": "stderr",
     "output_type": "stream",
     "text": [
      "C:\\Users\\HaruMomozu\\AppData\\Local\\Temp\\ipykernel_7244\\3440415765.py:9: SettingWithCopyWarning: \n",
      "A value is trying to be set on a copy of a slice from a DataFrame.\n",
      "Try using .loc[row_indexer,col_indexer] = value instead\n",
      "\n",
      "See the caveats in the documentation: https://pandas.pydata.org/pandas-docs/stable/user_guide/indexing.html#returning-a-view-versus-a-copy\n",
      "  df[\"BCR\"] = np.where(df[\"GMV\"] > 0, 1, 0)\n"
     ]
    }
   ],
   "source": [
    "if DATA == \"all\":\n",
    "    df = df1\n",
    "if DATA == \"part\":\n",
    "    df = df2\n",
    "\n",
    "# 外れ値除去\n",
    "df = remove_outliers_zscore(data=df, metric=\"GMV\", threshold=THRESHOLD)\n",
    "\n",
    "df[\"BCR\"] = np.where(df[\"GMV\"] > 0, 1, 0)\n",
    "\n",
    "X_all = df[features_list]\n",
    "y_all = df[TARGET]\n",
    "\n",
    "# 行を詰める\n",
    "df = df.reset_index(drop=True)\n",
    "\n",
    "print(\"外れ値除外前のデータ数（訓練+テスト）:\", DATA_SIZE)\n",
    "print(\"外れ値除外後のデータ数（訓練+テスト）:\", len(df))"
   ]
  },
  {
   "cell_type": "markdown",
   "metadata": {},
   "source": [
    "##### 訓練テストの分割と標準化"
   ]
  },
  {
   "cell_type": "code",
   "execution_count": 6,
   "metadata": {},
   "outputs": [
    {
     "name": "stdout",
     "output_type": "stream",
     "text": [
      "訓練データのデータ数: 99075\n",
      "テストデータのデータ数: 99076\n"
     ]
    }
   ],
   "source": [
    "X_train, X_test, y_train, y_test = train_test_split(\n",
    "    X_all, y_all, test_size=TEST_SIZE, random_state=0\n",
    ")\n",
    "\n",
    "print(\"訓練データのデータ数:\", len(X_train))\n",
    "print(\"テストデータのデータ数:\", len(X_test))\n",
    "\n",
    "sc = StandardScaler()\n",
    "sc.fit(X_train)\n",
    "X_train_std = sc.transform(X_train)\n",
    "X_test_std = sc.transform(X_test)"
   ]
  },
  {
   "cell_type": "markdown",
   "metadata": {},
   "source": [
    "-------------------------\n",
    "### 単純無作為抽出（Random）の誤差分散を計算"
   ]
  },
  {
   "cell_type": "code",
   "execution_count": 7,
   "metadata": {},
   "outputs": [
    {
     "name": "stdout",
     "output_type": "stream",
     "text": [
      "ランダムの誤差分散 [2.228411859749999e-05]\n"
     ]
    }
   ],
   "source": [
    "RANDOM_STD_LIST = []\n",
    "for exp in range(N_EXPERIMENT):\n",
    "    y_hats = []\n",
    "    np.random.seed(exp)\n",
    "    for random_state in range(N_TRIALS):\n",
    "        sample = np.random.choice(y_train, SAMPLE_SIZE, replace=False)\n",
    "        y_hat_random = sample.mean()\n",
    "        y_hats.append(y_hat_random)\n",
    "    if CRITERION == \"EVRR\":\n",
    "        errors = np.array(y_hats) - y_train.mean()\n",
    "        random_std = errors.var()\n",
    "    if CRITERION == \"VRR\" or \"Var\":\n",
    "        random_std = np.array(y_hats).var()\n",
    "    RANDOM_STD_LIST.append(random_std)\n",
    "\n",
    "print(\"ランダムの誤差分散\", RANDOM_STD_LIST)"
   ]
  },
  {
   "cell_type": "markdown",
   "metadata": {},
   "source": [
    "-------------\n",
    "### 提案手法でクラスタリングと特徴量選択と標本配分"
   ]
  },
  {
   "cell_type": "markdown",
   "metadata": {},
   "source": [
    "##### Allocation_in_Wrapper Class"
   ]
  },
  {
   "cell_type": "code",
   "execution_count": 8,
   "metadata": {},
   "outputs": [],
   "source": [
    "class Allocation_in_Wrapper(BaseEstimator, TransformerMixin):\n",
    "    def __init__(\n",
    "        self,\n",
    "        maximum_features_to_select: int,\n",
    "        n_clusters: int,\n",
    "        clustering_method: str = \"kmeans\",\n",
    "        criterion: str = \"EVRR\",\n",
    "        allocation_methods: list[str] = [\"Proportional\"],\n",
    "        sample_size: int = 10,\n",
    "        n_trials: int = 100,\n",
    "        m_value=2,\n",
    "        M: Optional[NDArray] = None,\n",
    "        random_state: int = 0,\n",
    "        selecting_features: str = \"all_features\",\n",
    "        k_min: int = 2,\n",
    "        k_max: int = 10,\n",
    "        random_allocation_std: float = 0.1,\n",
    "    ):\n",
    "        self.maximum_features_to_select = maximum_features_to_select\n",
    "        self.n_clusters = n_clusters\n",
    "        self.clustering_method = clustering_method\n",
    "        self.criterion = criterion\n",
    "        self.allocation_methods = allocation_methods\n",
    "        self.sample_size = sample_size\n",
    "        self.n_trials = n_trials\n",
    "        self.m_value = m_value\n",
    "        self.M = M\n",
    "        self.random_state = random_state\n",
    "        self.selecting_features = selecting_features\n",
    "        self.k_min = k_min\n",
    "        self.k_max = k_max\n",
    "        self.random_allocation_std = random_allocation_std\n",
    "\n",
    "    def fss(self, X: pd.DataFrame, y: pd.DataFrame) -> \"Allocation_in_Wrapper\":\n",
    "        X, y = check_X_y(X, y)\n",
    "        n_all_features = X.shape[1]  # 総特徴量数\n",
    "        self.final_selected_features_dict = {}  # キー：標本配分手法, 値：最終的に選ばれた特徴量のリスト\n",
    "        self.final_cluster_assignments_dict = {}  # キー：標本配分手法, 値：最終的なクラスタラベル\n",
    "        self.features_score_dict_dict = {}  # キー：標本配分手法, 値：features_score_dict\n",
    "        self.features_variance_dict_dict = {}  # キー：標本配分手法, 値：features_error_variance_dict\n",
    "        self.final_n_clusters_dict = {}  # キー：標本配分手法, 値：最終的なクラスタ数\n",
    "        self.final_score_dict = {}\n",
    "        self.final_variance_dict = {}\n",
    "\n",
    "        # 特徴量選択\n",
    "        for allocation_method in self.allocation_methods:\n",
    "            print(\"[\", allocation_method, \"]\")\n",
    "\n",
    "            features_score_dict = {}\n",
    "            features_variance_dict = {}\n",
    "\n",
    "            # 選ばれた特徴量と残っている特徴量の初期化\n",
    "            current_features = []\n",
    "            remaining_features = list(range(n_all_features))\n",
    "\n",
    "            if self.selecting_features == \"not_all_features\":\n",
    "                if self.criterion == \"EVRR\" or \"VRR\":\n",
    "                    best_score = -np.inf\n",
    "\n",
    "            while len(current_features) < self.maximum_features_to_select:\n",
    "                if self.selecting_features == \"all_features\":\n",
    "                    if self.criterion == \"EVRR\" or \"VRR\":\n",
    "                        best_score = -np.inf\n",
    "\n",
    "                best_feature = None  # 選ぶ特徴量の初期化\n",
    "\n",
    "                for feature in remaining_features:\n",
    "                    temp_features = current_features + [\n",
    "                        feature\n",
    "                    ]  # 特徴量をひとつ加え、score計算\n",
    "                    score, variance, n_clusters = self.crit(\n",
    "                        X[:, temp_features], y, allocation_method\n",
    "                    )\n",
    "\n",
    "                    if score > best_score:\n",
    "                        best_score = score\n",
    "                        best_variance = variance\n",
    "                        best_feature = feature\n",
    "                        best_labels = self.N_cluster_label\n",
    "                        best_N_cluster_size = self.N_cluster_size\n",
    "                        best_n_clusters = n_clusters\n",
    "                        best_n_cluster_size = self.n_cluster_size\n",
    "\n",
    "                if best_feature is not None:\n",
    "                    current_features.append(best_feature)\n",
    "                    num_of_features = len(current_features)\n",
    "                    print(\n",
    "                        \"num_of_features:\",\n",
    "                        num_of_features,\n",
    "                        \"current_features:\",\n",
    "                        current_features,\n",
    "                        \", score:\",\n",
    "                        best_score,\n",
    "                        \"best_n_clusters:\",\n",
    "                        best_n_clusters,\n",
    "                        \"best_N_cluster_size:\",\n",
    "                        best_N_cluster_size,\n",
    "                        \"best_n_cluster_size:\",\n",
    "                        best_n_cluster_size,\n",
    "                    )\n",
    "\n",
    "                    features_score_dict[str(num_of_features)] = best_score  # 確認用\n",
    "                    features_variance_dict[str(num_of_features)] = best_variance\n",
    "\n",
    "                    remaining_features.remove(best_feature)\n",
    "                    self.selected_features_ = current_features\n",
    "                else:\n",
    "                    break\n",
    "\n",
    "            self.final_cluster_assignments_dict[allocation_method] = best_labels\n",
    "            self.final_n_clusters_dict[allocation_method] = best_n_clusters\n",
    "            self.final_selected_features_dict[allocation_method] = (\n",
    "                self.selected_features_\n",
    "            )\n",
    "            self.features_score_dict_dict[allocation_method] = features_score_dict\n",
    "            self.features_variance_dict_dict[allocation_method] = features_variance_dict\n",
    "            self.final_score_dict[allocation_method] = best_score\n",
    "            self.final_variance_dict[allocation_method] = best_variance\n",
    "\n",
    "        return self\n",
    "\n",
    "    def crit(self, X: pd.DataFrame, y: pd.DataFrame, allocation_method: str) -> float:\n",
    "        # クラスタリング手法がGMMの場合\n",
    "        if self.clustering_method == \"gmm\":\n",
    "            model = GaussianMixture(\n",
    "                n_components=self.n_clusters,\n",
    "                random_state=self.random_state,\n",
    "                init_params=\"kmeans\",\n",
    "            )\n",
    "        # クラスタリング手法がKMEANSの場合\n",
    "        if self.clustering_method == \"kmeans\":\n",
    "            model = KMeans(\n",
    "                n_clusters=self.n_clusters,\n",
    "                random_state=self.random_state,\n",
    "            )\n",
    "        if self.clustering_method == \"xmeans\":\n",
    "            model = self.xmeans(X)\n",
    "\n",
    "        model.fit(X)\n",
    "        self.N_cluster_label = model.predict(X)\n",
    "        self.N_cluster_size = np.bincount(self.N_cluster_label)\n",
    "        n_clusters = len(np.unique(self.N_cluster_label))\n",
    "\n",
    "        variance, reduction_rate = self.cauculate_reduction_rate(\n",
    "            X, y, allocation_method\n",
    "        )\n",
    "        if reduction_rate is None:\n",
    "            score = -variance\n",
    "        else:\n",
    "            score = reduction_rate\n",
    "\n",
    "        return score, variance, n_clusters\n",
    "\n",
    "    def compute_bic(self, X: pd.DataFrame, kmeans):\n",
    "        # クラスタリング結果の取得\n",
    "        labels = kmeans.labels_\n",
    "        clusters = kmeans.cluster_centers_\n",
    "        n_clusters = len(clusters)\n",
    "        n = len(X)\n",
    "        m = X.shape[1]\n",
    "        # クラスター内の分散の合計\n",
    "        variance = np.sum(\n",
    "            [\n",
    "                np.linalg.norm(X[labels == i] - clusters[i], axis=1).sum()\n",
    "                for i in range(n_clusters)\n",
    "            ]\n",
    "        )\n",
    "        # BIC の計算\n",
    "        bic = np.log(n) * n_clusters * m + n * np.log(variance / n)\n",
    "        return bic\n",
    "\n",
    "    def xmeans(self, X: pd.DataFrame):\n",
    "        kmeans = KMeans(\n",
    "            n_clusters=self.k_min, random_state=self.random_state\n",
    "        )  # 初期クラスター数で KMeans を実行\n",
    "        kmeans.fit(X)\n",
    "        best_bic = self.compute_bic(X, kmeans)\n",
    "        best_kmeans = kmeans\n",
    "        for k in range(self.k_min + 1, self.k_max + 1):\n",
    "            kmeans = KMeans(n_clusters=k, random_state=self.random_state)\n",
    "            kmeans.fit(X)\n",
    "            # BIC を計算\n",
    "            current_bic = self.compute_bic(X, kmeans)\n",
    "            # BIC が改善される場合、クラスタ数を更新\n",
    "            if current_bic < best_bic:\n",
    "                best_bic = current_bic\n",
    "                best_kmeans = kmeans\n",
    "        # 最適なクラスタリング結果を返す\n",
    "        return best_kmeans\n",
    "\n",
    "    def cauculate_reduction_rate(\n",
    "        self, X: pd.DataFrame, y: pd.DataFrame, allocation_method: str\n",
    "    ) -> float:\n",
    "        # 各戦略の標本数に基づいて目的変数の平均を推定\n",
    "        y_hats = []\n",
    "        for random_state in range(self.n_trials):\n",
    "            if allocation_method == \"Post\":\n",
    "                y_hat = self.estimate_y_mean_post(X, y)\n",
    "            else:\n",
    "                y_hat = self.estimate_y_mean_other(X, y, allocation_method)\n",
    "            y_hats.append(\n",
    "                {\n",
    "                    \"policy\": allocation_method,\n",
    "                    \"y_hat\": y_hat,\n",
    "                    \"random_state\": random_state,\n",
    "                }\n",
    "            )\n",
    "\n",
    "        y_hat_df = pd.DataFrame(y_hats)\n",
    "\n",
    "        if self.criterion == \"EVRR\":\n",
    "            y_hat_df[\"error\"] = (\n",
    "                y_hat_df[\"y_hat\"] - y.mean()\n",
    "            )  # 真の平均からの誤差をerrorカラムに追加\n",
    "            non_random_allocation_std = y_hat_df[\"error\"].var()\n",
    "            # 削減率\n",
    "            reduction_rate = (\n",
    "                1 - non_random_allocation_std / self.random_allocation_std\n",
    "            ) * 100\n",
    "        if self.criterion == \"VRR\":\n",
    "            non_random_allocation_std = y_hat_df[\"y_hat\"].var()\n",
    "            reduction_rate = (\n",
    "                1 - non_random_allocation_std / self.random_allocation_std\n",
    "            ) * 100\n",
    "        if self.criterion == \"Var\":\n",
    "            non_random_allocation_std = y_hat_df[\"y_hat\"].var()\n",
    "            reduction_rate = None\n",
    "\n",
    "        return non_random_allocation_std, reduction_rate\n",
    "\n",
    "    def estimate_y_mean_post(self, X: pd.DataFrame, y: pd.DataFrame) -> float:\n",
    "        n_cluster_size = np.array([self.sample_size])\n",
    "        weights = self.N_cluster_size / self.N_cluster_size.sum()\n",
    "        y_hat = 0\n",
    "        indices = np.arange(self.N_cluster_size.sum())\n",
    "        y_array = np.array(y.tolist())\n",
    "        n_indices = np.random.choice(indices, n_cluster_size[0], replace=False)\n",
    "        n_label = np.array([self.N_cluster_label[i] for i in n_indices])\n",
    "        n_new_labels = np.unique(n_label)\n",
    "        self.n_cluster_size = np.bincount(n_label)\n",
    "        for h in n_new_labels:\n",
    "            index = np.where(n_label == h)[0]\n",
    "            sample = y_array[n_indices[index]]\n",
    "            y_sample_mean = sample.mean()  # サンプリングした標本の平均\n",
    "            y_hat += y_sample_mean * weights[h]\n",
    "        return y_hat\n",
    "\n",
    "    def estimate_y_mean_other(\n",
    "        self, X: pd.DataFrame, y: pd.DataFrame, allocation_method: str\n",
    "    ) -> float:\n",
    "        if allocation_method == \"Proportional\":\n",
    "            self.n_cluster_size = self.ProportionalAllocation(X, y)\n",
    "        if allocation_method == \"Optimal\":\n",
    "            self.n_cluster_size = self.OptimalAllocation(X, y)\n",
    "\n",
    "        weights = self.N_cluster_size / self.N_cluster_size.sum()\n",
    "        y_hat = 0\n",
    "        for h in range(self.n_cluster_size.shape[0]):\n",
    "            if self.n_cluster_size[h] != 0:\n",
    "                y_cluster = y[self.N_cluster_label == h]\n",
    "                if self.n_cluster_size[h] <= len(y_cluster):\n",
    "                    sample: NDArray = np.random.choice(\n",
    "                        y_cluster, self.n_cluster_size[h], replace=False\n",
    "                    )\n",
    "                    y_sample_mean = sample.mean()  # サンプリングした標本の平均\n",
    "                    y_hat += y_sample_mean * weights[h]\n",
    "        return y_hat\n",
    "\n",
    "    def ProportionalAllocation(self, X: pd.DataFrame, y: pd.DataFrame) -> NDArray:\n",
    "        n_cluster_size: NDArray = np.round(\n",
    "            self.N_cluster_size / self.N_cluster_size.sum() * self.sample_size\n",
    "        ).astype(int)\n",
    "\n",
    "        if n_cluster_size.sum() > self.sample_size:\n",
    "            # nの合計がn_samplesより大きい場合は一番標本数が多いクラスタから削る\n",
    "            n_cluster_size[np.argmax(n_cluster_size)] -= (\n",
    "                n_cluster_size.sum() - self.sample_size\n",
    "            )\n",
    "        if n_cluster_size.sum() < self.sample_size:\n",
    "            # nの合計がn_samplesより小さい場合は一番標本数が多いクラスタにたす\n",
    "            n_cluster_size[np.argmax(n_cluster_size)] += (\n",
    "                -n_cluster_size.sum() + self.sample_size\n",
    "            )\n",
    "        return n_cluster_size\n",
    "\n",
    "    def OptimalAllocation(\n",
    "        self, X: pd.DataFrame, y: pd.DataFrame\n",
    "    ) -> NDArray:  # たぶんあってる\n",
    "        n_cluster = len(np.unique(self.N_cluster_label))\n",
    "        self.m = np.full(n_cluster, self.m_value)\n",
    "        # S:クラスタ毎の目的変数のvarianceを要素とする配列 (H, )\n",
    "        S = np.array([np.var(y[self.N_cluster_label == h]) for h in range(n_cluster)])\n",
    "        d = (self.N_cluster_size**2) * S\n",
    "\n",
    "        n_cluster_size = self.m.copy()  # 初期値\n",
    "\n",
    "        M = self.M.copy() if self.M is not None else self.N_cluster_size.copy()\n",
    "        I = np.arange(n_cluster)  # noqa #クラスタのインデックス   ###############self.n_clusters\n",
    "        while (n_cluster_size.sum() != self.sample_size) and len(I) != 0:\n",
    "            delta = np.zeros(n_cluster)  ############self.n_clusters\n",
    "            delta[I] = (d / (n_cluster_size + 1) - d / n_cluster_size)[I]\n",
    "            h_star = np.argmin(delta[I])\n",
    "            h_star = I[h_star]\n",
    "\n",
    "            if n_cluster_size[h_star] + 1 <= M[h_star]:\n",
    "                n_cluster_size[h_star] = n_cluster_size[h_star] + 1\n",
    "            else:\n",
    "                # Iの要素h_starを削除\n",
    "                I_ = I.tolist()\n",
    "                I_ = [i for i in I_ if i != h_star]\n",
    "                I = np.array(I_)  # noqa\n",
    "\n",
    "        # 制約チェック\n",
    "        assert (\n",
    "            n_cluster_size.sum() <= self.sample_size\n",
    "        ), f\"Total sample size is over than {self.sample_size}\"\n",
    "        assert np.all(\n",
    "            n_cluster_size >= self.m\n",
    "        ), \"Minimum sample size constraint is not satisfied\"\n",
    "        if self.M is not None:\n",
    "            assert np.all(\n",
    "                n_cluster_size <= self.M\n",
    "            ), \"Maximum sample size constraint is not satisfied\"\n",
    "\n",
    "        return n_cluster_size\n",
    "\n",
    "    def get_final_selected_features_dict(self):\n",
    "        return self.final_selected_features_dict  # 選択された特徴量のインデックス\n",
    "\n",
    "    def get_final_cluster_assignments(self):\n",
    "        return self.final_cluster_assignments_dict  # 最終的なクラスタリング結果\n",
    "\n",
    "    def get_final_n_clusters_dict(self):\n",
    "        return self.final_n_clusters_dict\n",
    "\n",
    "    def get_final_score_dict(self):\n",
    "        return self.final_score_dict\n",
    "\n",
    "    def get_final_variance_dict(self):\n",
    "        return self.final_variance_dict\n",
    "\n",
    "    def get_features_score_dict_dict(self):\n",
    "        return self.features_score_dict_dict\n",
    "\n",
    "    def get_features_variance_dict_dict(self):\n",
    "        return self.features_variance_dict_dict"
   ]
  },
  {
   "cell_type": "markdown",
   "metadata": {},
   "source": [
    "----------------\n",
    "### 実験"
   ]
  },
  {
   "cell_type": "code",
   "execution_count": 9,
   "metadata": {},
   "outputs": [
    {
     "name": "stdout",
     "output_type": "stream",
     "text": [
      "[ Post ]\n"
     ]
    },
    {
     "name": "stderr",
     "output_type": "stream",
     "text": [
      "c:\\Users\\HaruMomozu\\Desktop\\momozu\\ABtesting\\.venv\\Lib\\site-packages\\sklearn\\base.py:1473: ConvergenceWarning: Number of distinct clusters (2) found smaller than n_clusters (10). Possibly due to duplicate points in X.\n",
      "  return fit_method(estimator, *args, **kwargs)\n"
     ]
    },
    {
     "name": "stdout",
     "output_type": "stream",
     "text": [
      "num_of_features: 1 current_features: [3] , score: -1.815004758647842e-05 best_n_clusters: 10 best_N_cluster_size: [16928 11404  5514 20067  2094   627 18175 14925  2712  6629] best_n_cluster_size: [1721 1198  547 2052  205   69 1832 1477  289  610]\n",
      "num_of_features: 2 current_features: [3, 0] , score: -1.8601509033692114e-05 best_n_clusters: 10 best_N_cluster_size: [22866 16667  1834     1   392  7040 30465 10095  4595  5120] best_n_cluster_size: [2339 1636  170    0   46  719 3127  957  463  543]\n",
      "num_of_features: 3 current_features: [3, 0, 2] , score: -1.8821746521851445e-05 best_n_clusters: 10 best_N_cluster_size: [10032  7492  5773     1  2626  8884 12685 33401 17734   447] best_n_cluster_size: [1060  768  599    0  273  902 1219 3366 1767   46]\n",
      "num_of_features: 4 current_features: [3, 0, 2, 11] , score: -1.879016728847846e-05 best_n_clusters: 10 best_N_cluster_size: [40974  5971 10157  1531 21604   815  2183     1  3875 11964] best_n_cluster_size: [4065  623 1066  158 2150   81  222    0  400 1235]\n",
      "num_of_features: 5 current_features: [3, 0, 2, 11, 6] , score: -1.905144807128356e-05 best_n_clusters: 10 best_N_cluster_size: [29615  9138  2056 19332  8829  2617  3136     1 22183  2168] best_n_cluster_size: [2984  982  208 1989  854  243  294    0 2235  211]\n",
      "\n",
      "Cauclulation time for SFS-Kmeans-Var['Post']: 5374.947385072708 s\n"
     ]
    }
   ],
   "source": [
    "all_reduction_rate_dict = {}\n",
    "for allocation_method in ALLOCATION_METHODS:\n",
    "    all_reduction_rate_dict[allocation_method] = []\n",
    "\n",
    "all_variance_dict = {}\n",
    "all_variance_dict[\"Random\"] = RANDOM_STD_LIST\n",
    "for allocation_method in ALLOCATION_METHODS:\n",
    "    all_variance_dict[allocation_method] = []\n",
    "\n",
    "features_score_dict_dict_list = []\n",
    "features_variance_dict_dict_list = []\n",
    "SELECTED_FEATURES_LIST = []\n",
    "\n",
    "start_time = time.time()\n",
    "for exp in range(N_EXPERIMENT):\n",
    "    np.random.seed(exp)\n",
    "    ins = Allocation_in_Wrapper(\n",
    "        maximum_features_to_select=MAXIMUM_FEATURES_TO_SELECT,\n",
    "        n_clusters=N_CLUSTERS,\n",
    "        clustering_method=CLUSTERING_METHOD,\n",
    "        criterion=CRITERION,\n",
    "        allocation_methods=ALLOCATION_METHODS,\n",
    "        sample_size=SAMPLE_SIZE,\n",
    "        n_trials=N_TRIALS,\n",
    "        m_value=m_VALUE,\n",
    "        random_state=RANDOM_STATE,\n",
    "        selecting_features=SELECTING_FEATURES,\n",
    "        k_min=K_MIN,\n",
    "        k_max=K_MAX,\n",
    "        random_allocation_std=RANDOM_STD_LIST[exp],\n",
    "    )\n",
    "\n",
    "    ins.fss(X_train, y_train)\n",
    "    selected_features_index = ins.get_final_selected_features_dict()\n",
    "    cluster_label = ins.get_final_cluster_assignments()\n",
    "    cluster_size = np.unique(cluster_label, return_counts=True)[1]\n",
    "    features_score_dict_dict = ins.get_features_score_dict_dict()\n",
    "    features_variance_dict_dict = ins.get_features_variance_dict_dict()\n",
    "\n",
    "    SELECTED_FEATURES_LIST.append(selected_features_index)\n",
    "    features_score_dict_dict_list.append(features_score_dict_dict)\n",
    "    features_variance_dict_dict_list.append(features_variance_dict_dict)\n",
    "\n",
    "    final_score_dict = ins.get_final_score_dict()\n",
    "    final_variance_dict = ins.get_final_variance_dict()\n",
    "\n",
    "    for allocation_method in ALLOCATION_METHODS:\n",
    "        all_reduction_rate_dict[allocation_method].append(\n",
    "            final_score_dict[allocation_method]\n",
    "        )\n",
    "        all_variance_dict[allocation_method].append(\n",
    "            final_variance_dict[allocation_method]\n",
    "        )\n",
    "end_time = time.time()\n",
    "\n",
    "\n",
    "print()\n",
    "print(\n",
    "    f\"Cauclulation time for {CLUSTERING_METHOD_NAME}{ALLOCATION_METHODS}: {end_time-start_time} s\"\n",
    ")"
   ]
  },
  {
   "cell_type": "markdown",
   "metadata": {},
   "source": [
    "---------------\n",
    "### 可視化"
   ]
  },
  {
   "cell_type": "markdown",
   "metadata": {},
   "source": [
    "##### プロットするための関数"
   ]
  },
  {
   "cell_type": "code",
   "execution_count": 10,
   "metadata": {},
   "outputs": [],
   "source": [
    "def plot_bars(\n",
    "    dicts, titles, figsize=(8, 2.5), text=\"yes\", set_xlabel=\"no\", Var_eva=\"no\"\n",
    "):\n",
    "    fig, axs = plt.subplots(1, 2, figsize=figsize)\n",
    "    if CRITERION == \"EVRR\":\n",
    "        ylabels = [\"EV reduction rate\", \"EV\"]\n",
    "    if CRITERION == \"VRR\":\n",
    "        ylabels = [\"Var reduction rate\", \"Var\"]\n",
    "    if CRITERION == \"Var\" and Var_eva == \"no\":\n",
    "        ylabels = [\"-Var\", \"Var\"]\n",
    "    if CRITERION == \"Var\" and Var_eva == \"yes\":\n",
    "        ylabels = [\"Var reduction rate\", \"Var\"]\n",
    "    if TARGET == \"GMV\":\n",
    "        if CRITERION == \"Var\" and Var_eva == \"no\":\n",
    "            ylims = [(-300000, -100000), (100000, 300000)]\n",
    "        else:\n",
    "            ylims = [(0, 40), (0, 500000)]\n",
    "    if TARGET == \"BCR\":\n",
    "        if CRITERION == \"Var\" and Var_eva == \"no\":\n",
    "            ylims = [(-0.003, 0), (0, 0.003)]\n",
    "        else:\n",
    "            ylims = [(0, 40), (0, 0.003)]\n",
    "\n",
    "    for i, ax in enumerate(axs):\n",
    "        data = list(dicts[i].values())\n",
    "        labels = list(dicts[i].keys())\n",
    "        bars = ax.bar(labels, data)\n",
    "        if text == \"yes\":\n",
    "            for bar in bars:\n",
    "                yval = bar.get_height()  # 各バーの高さ（値）\n",
    "                ax.text(\n",
    "                    bar.get_x() + bar.get_width() / 2,\n",
    "                    yval,\n",
    "                    round(yval, 2),\n",
    "                    ha=\"center\",\n",
    "                    va=\"bottom\",\n",
    "                    fontsize=15,\n",
    "                )  # 値をバーの上に表示\n",
    "        if i == 1 and \"Random\" not in labels:\n",
    "            random_bar = ax.bar(\"ran\", random_std, color=\"blue\")\n",
    "            if text == \"yes\":\n",
    "                yval = random_bar[0].get_height()\n",
    "                ax.text(\n",
    "                    random_bar[0].get_x() + random_bar[0].get_width() / 2,\n",
    "                    yval,\n",
    "                    round(yval, 2),\n",
    "                    ha=\"center\",\n",
    "                    va=\"bottom\",\n",
    "                    fontsize=15,\n",
    "                )\n",
    "        ax.set_title(titles[i], fontsize=20)\n",
    "        if set_xlabel == \"yes\":\n",
    "            ax.set_xlabel(\"Number of features\", fontsize=15)\n",
    "        ax.set_ylabel(ylabels[i], fontsize=15)\n",
    "        ax.tick_params(axis=\"both\", which=\"major\", labelsize=12.5)\n",
    "        ax.set_ylim(ylims[i])\n",
    "    plt.tight_layout()\n",
    "    plt.show()\n",
    "\n",
    "\n",
    "def plot_boxplots(dicts, titles, figsize=(8, 2.5)):\n",
    "    fig, axs = plt.subplots(1, 2, figsize=figsize)\n",
    "    if CRITERION == \"EVRR\":\n",
    "        ylabels = [\"EV reduction rate\", \"EV\"]\n",
    "    if CRITERION == \"VRR\":\n",
    "        ylabels = [\"Var reduction rate\", \"Var\"]\n",
    "    if CRITERION == \"Var\":\n",
    "        ylabels = [\"-Var\", \"Var\"]\n",
    "    if TARGET == \"GMV\":\n",
    "        if CRITERION == \"Var\":\n",
    "            ylims = [(-300000, -100000), (100000, 300000)]\n",
    "        else:\n",
    "            ylims = [(0, 40), (0, 500000)]\n",
    "    if TARGET == \"BCR\":\n",
    "        if CRITERION == \"Var\":\n",
    "            ylims = [(-0.003, 0), (0, 0.003)]\n",
    "        else:\n",
    "            ylims = [(0, 40), (0, 0.003)]\n",
    "    for i, ax in enumerate(axs):\n",
    "        data = list(dicts[i].values())\n",
    "        labels = list(dicts[i].keys())\n",
    "        ax.boxplot(data, labels=labels)\n",
    "        ax.set_title(titles[i], fontsize=20)\n",
    "        ax.set_ylabel(ylabels[i], fontsize=15)\n",
    "        ax.tick_params(axis=\"both\", which=\"major\", labelsize=12.5)\n",
    "        ax.set_ylim(*ylims[i])\n",
    "    plt.tight_layout()  # レイアウトを調整\n",
    "    plt.show()"
   ]
  },
  {
   "cell_type": "markdown",
   "metadata": {},
   "source": [
    "##### 誤差分散削減率の推移"
   ]
  },
  {
   "cell_type": "code",
   "execution_count": 11,
   "metadata": {},
   "outputs": [
    {
     "name": "stdout",
     "output_type": "stream",
     "text": [
      "exp_num :  0\n"
     ]
    },
    {
     "data": {
      "image/png": "[encoded data removed]",
      "text/plain": [
       "<Figure size 800x250 with 2 Axes>"
      ]
     },
     "metadata": {},
     "output_type": "display_data"
    }
   ],
   "source": [
    "for exp in range(N_EXPERIMENT):\n",
    "    print(\"exp_num : \", exp)\n",
    "    for allocation_method in ALLOCATION_METHODS:\n",
    "        plot_bars(\n",
    "            dicts=[\n",
    "                features_score_dict_dict_list[exp][allocation_method],\n",
    "                features_variance_dict_dict_list[exp][allocation_method],\n",
    "            ],\n",
    "            titles=[\n",
    "                f\"{allocation_method}\",\n",
    "                f\"{allocation_method}\",\n",
    "            ],\n",
    "            text=\"no\",\n",
    "            set_xlabel=\"yes\",\n",
    "        )"
   ]
  },
  {
   "cell_type": "markdown",
   "metadata": {},
   "source": [
    "##### 箱ひげ図"
   ]
  },
  {
   "cell_type": "code",
   "execution_count": 12,
   "metadata": {},
   "outputs": [
    {
     "name": "stderr",
     "output_type": "stream",
     "text": [
      "C:\\Users\\HaruMomozu\\AppData\\Local\\Temp\\ipykernel_7244\\960849249.py:82: MatplotlibDeprecationWarning: The 'labels' parameter of boxplot() has been renamed 'tick_labels' since Matplotlib 3.9; support for the old name will be dropped in 3.11.\n",
      "  ax.boxplot(data, labels=labels)\n",
      "C:\\Users\\HaruMomozu\\AppData\\Local\\Temp\\ipykernel_7244\\960849249.py:82: MatplotlibDeprecationWarning: The 'labels' parameter of boxplot() has been renamed 'tick_labels' since Matplotlib 3.9; support for the old name will be dropped in 3.11.\n",
      "  ax.boxplot(data, labels=labels)\n"
     ]
    },
    {
     "data": {
      "image/png": "[encoded data removed]",
      "text/plain": [
       "<Figure size 800x250 with 2 Axes>"
      ]
     },
     "metadata": {},
     "output_type": "display_data"
    }
   ],
   "source": [
    "plot_boxplots(\n",
    "    dicts=[all_reduction_rate_dict, all_variance_dict],\n",
    "    titles=[\n",
    "        f\"{CLUSTERING_METHOD_NAME}\",\n",
    "        f\"{CLUSTERING_METHOD_NAME}\",\n",
    "    ],\n",
    ")"
   ]
  },
  {
   "cell_type": "markdown",
   "metadata": {},
   "source": [
    "##### 結果"
   ]
  },
  {
   "cell_type": "code",
   "execution_count": 13,
   "metadata": {},
   "outputs": [
    {
     "name": "stdout",
     "output_type": "stream",
     "text": [
      "{'Post': [-1.905144807128356e-05]}\n",
      "[{'Post': 1.905144807128356e-05}]\n",
      "exp_num :  0\n"
     ]
    },
    {
     "data": {
      "image/png": "[encoded data removed]",
      "text/plain": [
       "<Figure size 800x250 with 2 Axes>"
      ]
     },
     "metadata": {},
     "output_type": "display_data"
    }
   ],
   "source": [
    "print(all_reduction_rate_dict)\n",
    "final_reduction_rate_dict_list = []\n",
    "for exp in range(N_EXPERIMENT):\n",
    "    dict = {}\n",
    "    for allocation_method in ALLOCATION_METHODS:\n",
    "        dict[allocation_method] = all_reduction_rate_dict[allocation_method][exp]\n",
    "    final_reduction_rate_dict_list.append(dict)\n",
    "\n",
    "final_variance_dict_list = []\n",
    "for exp in range(N_EXPERIMENT):\n",
    "    dict = {}\n",
    "    for allocation_method in ALLOCATION_METHODS:\n",
    "        dict[allocation_method] = all_variance_dict[allocation_method][exp]\n",
    "    final_variance_dict_list.append(dict)\n",
    "print(final_variance_dict_list)\n",
    "\n",
    "\n",
    "for exp in range(N_EXPERIMENT):\n",
    "    print(\"exp_num : \", exp)\n",
    "    plot_bars(\n",
    "        dicts=[\n",
    "            final_reduction_rate_dict_list[exp],\n",
    "            final_variance_dict_list[exp],\n",
    "        ],\n",
    "        titles=[\n",
    "            f\"{CLUSTERING_METHOD_NAME}\",\n",
    "            f\"{CLUSTERING_METHOD_NAME}\",\n",
    "        ],\n",
    "    )"
   ]
  },
  {
   "cell_type": "code",
   "execution_count": 14,
   "metadata": {},
   "outputs": [
    {
     "name": "stdout",
     "output_type": "stream",
     "text": [
      "選択された特徴量 [{'Post': [3, 0, 2, 11, 6]}]\n"
     ]
    }
   ],
   "source": [
    "print(\"選択された特徴量\", SELECTED_FEATURES_LIST)"
   ]
  },
  {
   "cell_type": "markdown",
   "metadata": {},
   "source": [
    "------------------------------\n",
    "--------------------------\n",
    "### テストデータで評価"
   ]
  },
  {
   "cell_type": "markdown",
   "metadata": {},
   "source": [
    "-------------\n",
    "### クラスタリング"
   ]
  },
  {
   "cell_type": "markdown",
   "metadata": {},
   "source": [
    "##### X-means"
   ]
  },
  {
   "cell_type": "code",
   "execution_count": 15,
   "metadata": {},
   "outputs": [],
   "source": [
    "def compute_bic(X, kmeans):\n",
    "    labels = kmeans.labels_\n",
    "    clusters = kmeans.cluster_centers_\n",
    "    n_clusters = len(clusters)\n",
    "    n = len(X)\n",
    "    m = X.shape[1]\n",
    "    variance = np.sum(\n",
    "        [\n",
    "            np.linalg.norm(X[labels == i] - clusters[i], axis=1).sum()\n",
    "            for i in range(n_clusters)\n",
    "        ]\n",
    "    )\n",
    "    bic = np.log(n) * n_clusters * m + n * np.log(variance / n)\n",
    "    return bic\n",
    "\n",
    "\n",
    "def xmeans(X, k_min=2, k_max=10):\n",
    "    kmeans = KMeans(n_clusters=k_min, random_state=RANDOM_STATE)\n",
    "    kmeans.fit(X)\n",
    "    best_bic = compute_bic(X, kmeans)\n",
    "    best_kmeans = kmeans\n",
    "    for k in range(k_min + 1, k_max + 1):\n",
    "        kmeans = KMeans(n_clusters=k, random_state=RANDOM_STATE)\n",
    "        kmeans.fit(X)\n",
    "        current_bic = compute_bic(X, kmeans)\n",
    "        if current_bic < best_bic:\n",
    "            best_bic = current_bic\n",
    "            best_kmeans = kmeans\n",
    "    return best_kmeans"
   ]
  },
  {
   "cell_type": "markdown",
   "metadata": {},
   "source": [
    "##### クラスタリング結果"
   ]
  },
  {
   "cell_type": "code",
   "execution_count": 16,
   "metadata": {},
   "outputs": [
    {
     "name": "stdout",
     "output_type": "stream",
     "text": [
      "[ Post ]\n",
      "各層のクラスタサイズ :  [23251  4788 13247  1553 20234   550  1922 23134  4496  5901]\n",
      "クラスタ数： 10\n",
      "\n"
     ]
    }
   ],
   "source": [
    "cluster_label_dict_test_list = []\n",
    "cluster_size_dict_test_list = []\n",
    "N_CLUSTER_DICT_test_list = []\n",
    "\n",
    "\n",
    "for exp in range(N_EXPERIMENT):\n",
    "    cluster_label_dict_test = {}\n",
    "    cluster_size_dict_test = {}\n",
    "    N_CLUSTER_DICT_test = {}\n",
    "    for allocation_method, features_list in SELECTED_FEATURES_LIST[exp].items():\n",
    "        if CLUSTERING_METHOD == \"kmeans\":\n",
    "            model = KMeans(n_clusters=N_CLUSTERS, random_state=RANDOM_STATE)\n",
    "        if CLUSTERING_METHOD == \"gmm\":\n",
    "            model = GaussianMixture(\n",
    "                n_components=N_CLUSTERS, random_state=RANDOM_STATE, init_params=\"kmeans\"\n",
    "            )\n",
    "        if CLUSTERING_METHOD == \"xmeans\":\n",
    "            model = xmeans(X_test_std, k_min=K_MIN, k_max=K_MAX)\n",
    "\n",
    "        labels = model.fit_predict(X_test_std[:, features_list])\n",
    "        cluster_size = np.bincount(labels)\n",
    "        n_clusters = len(np.unique(labels))\n",
    "\n",
    "        cluster_label_dict_test[allocation_method] = labels\n",
    "        cluster_size_dict_test[allocation_method] = cluster_size\n",
    "        N_CLUSTER_DICT_test[allocation_method] = n_clusters\n",
    "\n",
    "        print(\"[\", allocation_method, \"]\")\n",
    "        print(\"各層のクラスタサイズ : \", cluster_size_dict_test[allocation_method])\n",
    "        print(\"クラスタ数：\", N_CLUSTER_DICT_test[allocation_method])\n",
    "        print()\n",
    "\n",
    "    cluster_label_dict_test_list.append(cluster_label_dict_test)\n",
    "    cluster_size_dict_test_list.append(cluster_size_dict_test)\n",
    "    N_CLUSTER_DICT_test_list.append(N_CLUSTER_DICT_test)"
   ]
  },
  {
   "cell_type": "markdown",
   "metadata": {},
   "source": [
    "----------------------\n",
    "### 標本配分"
   ]
  },
  {
   "cell_type": "markdown",
   "metadata": {},
   "source": [
    "##### 基底クラス"
   ]
  },
  {
   "cell_type": "code",
   "execution_count": 17,
   "metadata": {},
   "outputs": [],
   "source": [
    "class BaseAllocation(metaclass=ABCMeta):  # 抽象基底クラス（ABC）\n",
    "    # 初期化クラス（n_samples(標本サイズ), H(クラスタ数)）\n",
    "    def __init__(\n",
    "        self, sample_size: int, H: int, random_state: int, allocation_method: str\n",
    "    ):\n",
    "        self.sample_size = sample_size\n",
    "        self.H = H\n",
    "        self.random_state = random_state\n",
    "        self.allocation_method = allocation_method\n",
    "\n",
    "    @abstractmethod\n",
    "    def solve(self, X: NDArray, y: NDArray) -> NDArray:\n",
    "        \"\"\"標本配分を解く\n",
    "\n",
    "        Args:\n",
    "            X (NDArray): データ (N x M)\n",
    "            y (NDArray): 目的変数 (N)\n",
    "\n",
    "        Raises:\n",
    "            NotImplementedError: _description_\n",
    "\n",
    "        Returns:\n",
    "            NDArray: 各クラスタの標本数 (H, )\n",
    "\n",
    "        Note:\n",
    "            M: 特徴量数\n",
    "            H: クラスタ数\n",
    "        \"\"\"\n",
    "        # 具象クラスがsolveメゾッドを実装しない場合はNotImpleamentedErrorが発生\n",
    "        raise NotImplementedError\n",
    "\n",
    "    def clustering(self, X: NDArray) -> tuple[NDArray, NDArray]:\n",
    "        cluster_label = cluster_label_dict_test[allocation_method]\n",
    "        cluster_size = cluster_size_dict_test[allocation_method]\n",
    "\n",
    "        # インスタンス変数として設定\n",
    "        self.cluster_label = cluster_label\n",
    "        self.N = cluster_size\n",
    "\n",
    "        return cluster_label, cluster_size"
   ]
  },
  {
   "cell_type": "markdown",
   "metadata": {},
   "source": [
    "##### Proportional"
   ]
  },
  {
   "cell_type": "code",
   "execution_count": 18,
   "metadata": {},
   "outputs": [],
   "source": [
    "class Proportional(BaseAllocation):\n",
    "    def solve(self, X: NDArray, y: NDArray) -> NDArray:\n",
    "        \"\"\"各クラスタ数に比例した標本数で分割する\"\"\"\n",
    "        n: NDArray = np.round(self.N / self.N.sum() * self.sample_size).astype(int)\n",
    "\n",
    "        if n.sum() > self.sample_size:\n",
    "            # nの合計がn_samplesより大きい場合は一番標本数が多いクラスタから削る\n",
    "            n[np.argmax(n)] -= n.sum() - self.sample_size\n",
    "\n",
    "        if n.sum() < self.sample_size:\n",
    "            # nの合計がn_samplesより小さい場合は一番標本数が多いクラスタにたす\n",
    "            n[np.argmax(n)] += -n.sum() + self.sample_size\n",
    "\n",
    "        return n"
   ]
  },
  {
   "cell_type": "markdown",
   "metadata": {},
   "source": [
    "##### Post"
   ]
  },
  {
   "cell_type": "code",
   "execution_count": 19,
   "metadata": {},
   "outputs": [],
   "source": [
    "class Post(BaseAllocation):\n",
    "    def solve(self, X: NDArray, y: NDArray) -> NDArray:\n",
    "        \"\"\"ランダムにn_samplesの標本を選択する\"\"\"\n",
    "        n = np.array([self.sample_size])\n",
    "\n",
    "        return n  # （例）n=[標本サイズ]"
   ]
  },
  {
   "cell_type": "markdown",
   "metadata": {},
   "source": [
    "##### Optimal"
   ]
  },
  {
   "cell_type": "code",
   "execution_count": 20,
   "metadata": {},
   "outputs": [],
   "source": [
    "class Optimal(BaseAllocation):\n",
    "    def __init__(\n",
    "        self,\n",
    "        sample_size: int,\n",
    "        H: int,\n",
    "        m: NDArray,  # 標本サイズ下限\n",
    "        M: Optional[NDArray] = None,  # 標本サイズ上限 #Optional(Noneである可能性がある)\n",
    "        random_state: int = 0,\n",
    "        allocation_method: str = \"Post\",\n",
    "    ):\n",
    "        super().__init__(\n",
    "            sample_size, H, random_state, allocation_method\n",
    "        )  # 基底クラスBaseAllocation（スーパークラス）の初期化メゾッドを呼び出す\n",
    "        self.m = m  # 各クラスタの最小標本サイズ (H, )\n",
    "        self.M = M  # 各クラスタの最大標本サイズ (H, ), (指定しない場合はクラスタサイズ)\n",
    "\n",
    "    def solve(self, X: NDArray, y: NDArray) -> NDArray:\n",
    "        # S:クラスタ毎の目的変数のvarianceを要素とする配列 (H, )\n",
    "        S = np.array([np.var(y[self.cluster_label == h]) for h in range(self.H)])\n",
    "        d = (self.N**2) * S  # (H, )\n",
    "        n = self._simple_greedy(n=self.m.copy(), d=d)\n",
    "\n",
    "        # 制約チェック\n",
    "        self._check_constraints(n)\n",
    "\n",
    "        return n\n",
    "\n",
    "    def _simple_greedy(self, n: NDArray, d: NDArray) -> NDArray:\n",
    "        M = self.M.copy() if self.M is not None else self.N.copy()\n",
    "        I = np.arange(self.H)  # noqa #クラスタのインデックス\n",
    "        while (n.sum() != self.sample_size) and len(I) != 0:\n",
    "            delta = np.zeros(self.H)\n",
    "            delta[I] = (d / (n + 1) - d / n)[I]\n",
    "            h_star = np.argmin(delta[I])\n",
    "            h_star = I[h_star]\n",
    "\n",
    "            if n[h_star] + 1 <= M[h_star]:\n",
    "                n[h_star] = n[h_star] + 1\n",
    "            else:\n",
    "                # Iの要素h_starを削除\n",
    "                I_ = I.tolist()\n",
    "                I_ = [i for i in I_ if i != h_star]\n",
    "                I = np.array(I_)  # noqa\n",
    "\n",
    "        return n\n",
    "\n",
    "    def _check_constraints(self, n: NDArray):\n",
    "        assert (\n",
    "            n.sum() <= self.sample_size\n",
    "        ), f\"Total sample size is over than {self.sample_size}\"\n",
    "        assert np.all(n >= self.m), \"Minimum sample size constraint is not satisfied\"\n",
    "        if self.M is not None:\n",
    "            assert np.all(\n",
    "                n <= self.M\n",
    "            ), \"Maximum sample size constraint is not satisfied\""
   ]
  },
  {
   "cell_type": "markdown",
   "metadata": {},
   "source": [
    "##### ポリシー生成"
   ]
  },
  {
   "cell_type": "code",
   "execution_count": 21,
   "metadata": {},
   "outputs": [
    {
     "name": "stdout",
     "output_type": "stream",
     "text": [
      "policies [{'SFS-Kmeans-Var': [<__main__.Post object at 0x0000029ED0E81370>]}]\n"
     ]
    }
   ],
   "source": [
    "# 各ポリシーの生成を行う関数\n",
    "def create_policies(\n",
    "    allocation_methods: list,\n",
    "    sample_size: int,\n",
    "    H_dict: dict,\n",
    "    random_state: int,\n",
    "    m_value: int,\n",
    "):  # -> dict[list[str] : list[BaseAllocation]]:\n",
    "    policies_dict = {}\n",
    "    policies: list[BaseAllocation] = []\n",
    "    if \"Proportional\" in allocation_methods:\n",
    "        policies.append(\n",
    "            Proportional(\n",
    "                sample_size=sample_size,\n",
    "                H=H_dict[\"Proportional\"],\n",
    "                random_state=random_state,\n",
    "                allocation_method=\"Proportional\",\n",
    "            )\n",
    "        )\n",
    "    if \"Post\" in allocation_methods:\n",
    "        policies.append(\n",
    "            Post(\n",
    "                sample_size=sample_size,\n",
    "                H=H_dict[\"Post\"],\n",
    "                random_state=random_state,\n",
    "                allocation_method=\"Post\",\n",
    "            )\n",
    "        )\n",
    "    if \"Optimal\" in allocation_methods:\n",
    "        policies.append(\n",
    "            Optimal(\n",
    "                sample_size=sample_size,\n",
    "                H=H_dict[\"Optimal\"],\n",
    "                random_state=random_state,\n",
    "                m=np.full(H_dict[\"Optimal\"], m_value),\n",
    "                M=None,\n",
    "                allocation_method=\"Optimal\",\n",
    "            )\n",
    "        )\n",
    "    policies_dict[CLUSTERING_METHOD_NAME] = policies\n",
    "\n",
    "    return policies_dict\n",
    "\n",
    "\n",
    "policies_dict_list = []\n",
    "for exp in range(N_EXPERIMENT):\n",
    "    policies_dict = create_policies(\n",
    "        allocation_methods=ALLOCATION_METHODS,\n",
    "        sample_size=SAMPLE_SIZE,\n",
    "        H_dict=N_CLUSTER_DICT_test_list[exp],\n",
    "        random_state=RANDOM_STATE,\n",
    "        m_value=m_VALUE,\n",
    "    )\n",
    "    policies_dict_list.append(policies_dict)\n",
    "\n",
    "print(\"policies\", policies_dict_list)"
   ]
  },
  {
   "cell_type": "markdown",
   "metadata": {},
   "source": [
    "##### 標本配分の計算"
   ]
  },
  {
   "cell_type": "code",
   "execution_count": 22,
   "metadata": {},
   "outputs": [],
   "source": [
    "allocations_dict_list = []\n",
    "for exp in range(N_EXPERIMENT):\n",
    "    allocations_dict = {}\n",
    "    for name, policies in policies_dict_list[exp].items():\n",
    "        # それぞれの戦略で各クラスタの標本数を求解\n",
    "        allocations: list[dict] = []  # 各戦略の実行結果が辞書形式で追加される\n",
    "        for policy in policies:\n",
    "            # policyを用いてXをクラスタリング\n",
    "            cluster_label, _ = policy.clustering(X_test_std)\n",
    "            n = policy.solve(X_test_std, y_test)\n",
    "            allocations.append(\n",
    "                {\n",
    "                    \"policy\": policy.__class__.__name__,\n",
    "                    \"n\": n,\n",
    "                    \"cluster_label\": cluster_label,\n",
    "                }\n",
    "            )\n",
    "        allocations_dict[name] = allocations\n",
    "    allocations_dict_list.append(allocations_dict)"
   ]
  },
  {
   "cell_type": "markdown",
   "metadata": {},
   "source": [
    "------------\n",
    "### 標本抽出と誤差分散削減率の計算"
   ]
  },
  {
   "cell_type": "markdown",
   "metadata": {},
   "source": [
    "##### 母平均を推定する関数"
   ]
  },
  {
   "cell_type": "code",
   "execution_count": 23,
   "metadata": {},
   "outputs": [],
   "source": [
    "def estimate_y_mean(n: NDArray, cluster_label: NDArray, y: NDArray) -> NDArray:\n",
    "    \"\"\"実際にサンプリングを行って目的変数の平均を推定\n",
    "\n",
    "    Args:\n",
    "        n (NDArray): 各クラスタの標本数 (H, )\n",
    "        cluster_label (NDArray): クラスタラベル (N, )\n",
    "        y (NDArray): 目的変数 (N, )\n",
    "\n",
    "    Returns:\n",
    "        NDArray: 推定された目的変数の平均\n",
    "\n",
    "    Note:\n",
    "        N: データ数\n",
    "        H: クラスタ数\n",
    "    \"\"\"\n",
    "    # cluster_labelからユニークなクラスタラベルを取得し、母集団の各クラスタのサイズNを取得\n",
    "    N = np.unique(cluster_label, return_counts=True)[1]  # クラスタサイズ (H, )\n",
    "    weights = N / N.sum()\n",
    "    y_hat = 0\n",
    "    for h in range(n.shape[0]):  # n.shape[0]:層の数\n",
    "        if n[h] != 0:\n",
    "            y_cluster = y[cluster_label == h]\n",
    "            if n[h] <= len(y_cluster):\n",
    "                sample: NDArray = np.random.choice(y_cluster, n[h], replace=False)\n",
    "                y_sample_mean = sample.mean()  # サンプリングした標本の平均\n",
    "                y_hat += y_sample_mean * weights[h]\n",
    "\n",
    "    return y_hat\n",
    "\n",
    "\n",
    "def estimate_y_mean_post(n: NDArray, cluster_label: NDArray, y: NDArray) -> NDArray:\n",
    "    N = np.unique(cluster_label, return_counts=True)[1]\n",
    "    weights = N / N.sum()\n",
    "    y_hat = 0\n",
    "    indices = np.arange(N.sum())\n",
    "    y_array = np.array(y.tolist())\n",
    "    n_indices = np.random.choice(indices, n[0], replace=False)\n",
    "    n_label = np.array([cluster_label[i] for i in n_indices])\n",
    "    n_new_labels = np.unique(n_label)\n",
    "    for h in n_new_labels:\n",
    "        index = np.where(n_label == h)[0]\n",
    "        sample = y_array[n_indices[index]]\n",
    "        y_sample_mean = sample.mean()  # サンプリングした標本の平均\n",
    "        y_hat += y_sample_mean * weights[h]\n",
    "    return y_hat"
   ]
  },
  {
   "cell_type": "markdown",
   "metadata": {},
   "source": [
    "##### 誤差分散削減率の計算をする関数"
   ]
  },
  {
   "cell_type": "code",
   "execution_count": 24,
   "metadata": {},
   "outputs": [],
   "source": [
    "def cauculate_reduction_rate(\n",
    "    X: pd.DataFrame,\n",
    "    y: pd.DataFrame,\n",
    "    policies_dict: dict,\n",
    "    random_std: float,\n",
    "    exp_num: str,\n",
    ") -> dict:\n",
    "    reduction_rate_dict = {}\n",
    "    error_variance_dict = {}\n",
    "\n",
    "    # 各戦略の標本数に基づいて目的変数の平均を推定\n",
    "    y_hats_dict = {}\n",
    "    for name, allocations in allocations_dict_list[exp_num].items():\n",
    "        y_hats = []\n",
    "        for i in range(N_TRIALS):\n",
    "            for allocation in allocations:\n",
    "                if allocation[\"policy\"] == \"Post\":\n",
    "                    y_hat = estimate_y_mean_post(\n",
    "                        allocation[\"n\"], allocation[\"cluster_label\"], y\n",
    "                    )\n",
    "                else:\n",
    "                    y_hat = estimate_y_mean(\n",
    "                        allocation[\"n\"], allocation[\"cluster_label\"], y\n",
    "                    )\n",
    "                y_hats.append(\n",
    "                    {\n",
    "                        \"policy\": allocation[\"policy\"],\n",
    "                        \"y_hat\": y_hat,\n",
    "                        \"random_state\": i,\n",
    "                    }\n",
    "                )\n",
    "        y_hats_dict[name] = y_hats\n",
    "\n",
    "    for name, y_hats in y_hats_dict.items():\n",
    "        y_hat_df = pd.DataFrame(y_hats)\n",
    "        if CRITERION == \"EVRR\":\n",
    "            y_hat_df[\"error\"] = (\n",
    "                y_hat_df[\"y_hat\"] - y.mean()\n",
    "            )  # 真の平均からの誤差をerrorカラムに追加\n",
    "            # random_allocation以外の誤差分散\n",
    "            non_random_allocation_std = y_hat_df.groupby(\"policy\")[\"error\"].var()\n",
    "            # 削減率\n",
    "            reduction_rate = (1 - non_random_allocation_std / random_std) * 100\n",
    "        if CRITERION == \"Var\" or \"VRR\":\n",
    "            non_random_allocation_std = y_hat_df.groupby(\"policy\")[\"y_hat\"].var()\n",
    "            reduction_rate = (1 - non_random_allocation_std / random_std) * 100\n",
    "\n",
    "        reduction_rate = reduction_rate.reindex(\n",
    "            [policy.__class__.__name__ for policy in policies]\n",
    "        )\n",
    "\n",
    "        error_variance = pd.concat(\n",
    "            [\n",
    "                pd.Series(random_std, index=[\"Random\"]),\n",
    "                non_random_allocation_std,\n",
    "            ]\n",
    "        )\n",
    "        reduction_rate_dict[name] = reduction_rate\n",
    "        error_variance_dict[name] = error_variance\n",
    "    return reduction_rate_dict, error_variance_dict"
   ]
  },
  {
   "cell_type": "markdown",
   "metadata": {},
   "source": [
    "##### ランダムの誤差分散を計算"
   ]
  },
  {
   "cell_type": "code",
   "execution_count": 25,
   "metadata": {},
   "outputs": [
    {
     "name": "stdout",
     "output_type": "stream",
     "text": [
      "[2.2116781196399994e-05]\n"
     ]
    }
   ],
   "source": [
    "RANDOM_STD_LIST = []\n",
    "for exp in range(N_EXPERIMENT):\n",
    "    np.random.seed(exp)\n",
    "    y_hats = []\n",
    "    for random_state in range(N_TRIALS):\n",
    "        sample = np.random.choice(y_test, SAMPLE_SIZE, replace=False)\n",
    "        y_hat_random = sample.mean()\n",
    "        y_hats.append(y_hat_random)\n",
    "    if CRITERION == \"EVRR\":\n",
    "        errors = np.array(y_hats) - y_test.mean()\n",
    "        random_std = errors.var()\n",
    "    if CRITERION == \"Var\" or \"VRR\":\n",
    "        random_std = np.array(y_hats).var()\n",
    "    RANDOM_STD_LIST.append(random_std)\n",
    "print(RANDOM_STD_LIST)"
   ]
  },
  {
   "cell_type": "markdown",
   "metadata": {},
   "source": [
    "##### 層化抽出の誤差分散を計算"
   ]
  },
  {
   "cell_type": "code",
   "execution_count": 26,
   "metadata": {},
   "outputs": [
    {
     "name": "stdout",
     "output_type": "stream",
     "text": [
      "[{'SFS-Kmeans-Var': policy\n",
      "Post    10.719662\n",
      "Name: y_hat, dtype: float64}]\n"
     ]
    }
   ],
   "source": [
    "all_reduction_rate = []\n",
    "all_variance = []\n",
    "for exp in range(N_EXPERIMENT):\n",
    "    np.random.seed(exp)\n",
    "    reduction_rate_dict, variance_dict = cauculate_reduction_rate(\n",
    "        X_test_std, y_test, policies_dict_list[exp], RANDOM_STD_LIST[exp], exp_num=exp\n",
    "    )\n",
    "    all_reduction_rate.append(reduction_rate_dict)\n",
    "    all_variance.append(variance_dict)\n",
    "\n",
    "print(all_reduction_rate)"
   ]
  },
  {
   "cell_type": "code",
   "execution_count": 27,
   "metadata": {},
   "outputs": [
    {
     "name": "stdout",
     "output_type": "stream",
     "text": [
      "[{'Post': 10.71966202645166}]\n"
     ]
    }
   ],
   "source": [
    "results_reduction_rate_list = []\n",
    "results_variance_list = []\n",
    "for exp in range(N_EXPERIMENT):\n",
    "    results_reduction_rate = {}\n",
    "    results_variance = {}\n",
    "\n",
    "    for name, policy in all_reduction_rate[exp].items():\n",
    "        for allocation_method in ALLOCATION_METHODS:\n",
    "            results_reduction_rate[allocation_method] = policy[allocation_method]\n",
    "\n",
    "    results_variance[\"Random\"] = RANDOM_STD_LIST[exp]\n",
    "    for name, policy in all_variance[exp].items():\n",
    "        for allocation_method in ALLOCATION_METHODS:\n",
    "            results_variance[allocation_method] = policy[allocation_method]\n",
    "\n",
    "    results_reduction_rate_list.append(results_reduction_rate)\n",
    "    results_variance_list.append(results_variance)\n",
    "\n",
    "print(results_reduction_rate_list)"
   ]
  },
  {
   "cell_type": "code",
   "execution_count": 28,
   "metadata": {},
   "outputs": [
    {
     "name": "stdout",
     "output_type": "stream",
     "text": [
      "exp_num :  0\n"
     ]
    },
    {
     "data": {
      "image/png": "[encoded data removed]",
      "text/plain": [
       "<Figure size 800x250 with 2 Axes>"
      ]
     },
     "metadata": {},
     "output_type": "display_data"
    }
   ],
   "source": [
    "for exp in range(N_EXPERIMENT):\n",
    "    print(\"exp_num : \", exp)\n",
    "    plot_bars(\n",
    "        dicts=[\n",
    "            results_reduction_rate_list[exp],\n",
    "            results_variance_list[exp],\n",
    "        ],\n",
    "        titles=[\n",
    "            f\"{CLUSTERING_METHOD_NAME}\",\n",
    "            f\"{CLUSTERING_METHOD_NAME}\",\n",
    "        ],\n",
    "        Var_eva=\"yes\",\n",
    "    )"
   ]
  },
  {
   "cell_type": "code",
   "execution_count": null,
   "metadata": {},
   "outputs": [],
   "source": []
  }
 ],
 "metadata": {
  "kernelspec": {
   "display_name": ".venv",
   "language": "python",
   "name": "python3"
  },
  "language_info": {
   "codemirror_mode": {
    "name": "ipython",
    "version": 3
   },
   "file_extension": ".py",
   "mimetype": "text/x-python",
   "name": "python",
   "nbconvert_exporter": "python",
   "pygments_lexer": "ipython3",
   "version": "3.12.4"
  }
 },
 "nbformat": 4,
 "nbformat_minor": 2
}
