{
 "cells": [
  {
   "cell_type": "markdown",
   "metadata": {},
   "source": [
    "----------------\n",
    "# １．ライブラリのインポート"
   ]
  },
  {
   "cell_type": "code",
   "execution_count": 1,
   "metadata": {},
   "outputs": [],
   "source": [
    "# 基本的なライブラリ\n",
    "import numpy as np\n",
    "import pandas as pd\n",
    "from numpy.typing import NDArray\n",
    "from scipy import stats\n",
    "\n",
    "# Scikit-learn関連\n",
    "from sklearn.base import BaseEstimator, TransformerMixin\n",
    "from sklearn.mixture import GaussianMixture\n",
    "from sklearn.preprocessing import StandardScaler\n",
    "from sklearn.cluster import KMeans\n",
    "from sklearn.utils.validation import check_X_y\n",
    "from sklearn.model_selection import train_test_split\n",
    "\n",
    "# 抽象基底クラス (ABC)\n",
    "from abc import ABCMeta, abstractmethod\n",
    "\n",
    "# タイピングのサポート\n",
    "from typing import Optional\n",
    "\n",
    "# 可視化の設定\n",
    "import matplotlib.pyplot as plt\n",
    "import japanize_matplotlib\n",
    "import itertools\n",
    "\n",
    "plt.style.use(\"ggplot\")\n",
    "\n",
    "# 計算時間\n",
    "import time"
   ]
  },
  {
   "cell_type": "markdown",
   "metadata": {},
   "source": [
    "--------\n",
    "# ２．実験設定"
   ]
  },
  {
   "cell_type": "markdown",
   "metadata": {},
   "source": [
    "## 2.1 実験設定"
   ]
  },
  {
   "cell_type": "code",
   "execution_count": null,
   "metadata": {},
   "outputs": [],
   "source": [
    "### 実験データの設定 ###\n",
    "TARGET = \"GMV\"  # \"GMV\" or \"BCR\"（目的変数）\n",
    "DATA = \"part\"  # \"all\" or \"part\"（データすべてを使うか一部を使うか）\n",
    "DATA_SIZE = 200000  # 訓練データとテストデータあわせたデータサイズ（母集団サイズ）\n",
    "TEST_SIZE = 0.5  # テストデータの比率\n",
    "THRESHOLD = 2  # 外れ値除外の閾値\n",
    "\n",
    "\n",
    "### 実験設定 ###\n",
    "SAMPLE_SIZE = 100  # 標本サイズ\n",
    "N_TRIALS = 10000  # 試行回数（標本平均を求める回数）\n",
    "m_VALUE = 2  # 最適標本配分における各クラスタの最小標本数\n",
    "RANDOM_STATE = 0  # 乱数シード\n",
    "SEED = 0\n",
    "\n",
    "\n",
    "### 実験方法 ###\n",
    "# クラスタリング\n",
    "CLUSTERING_METHOD = \"kmeans\"  # \"gmm\" or \"kmeans\" or \"xmeans\"\n",
    "N_CLUSTERS = 10  # クラスタ数\n",
    "K_MIN = 2\n",
    "K_MAX = 10\n",
    "\n",
    "# 特徴量選択\n",
    "ALLOCATION_METHODS = [\n",
    "    \"Proportional\",\n",
    "    \"Post\",\n",
    "    \"Optimal\",\n",
    "]  # 各手法の時間をはかるときは１つにする\n",
    "SELECT_MAXIMUM_FEATURES = \"yes\"  # \"yes\" or \"no\"（特徴量数が MAXIMUM_FEATURES_TO_SELECT になるまで選ぶかいなか）\n",
    "MAXIMUM_FEATURES_TO_SELECT = 5  # 選択される最大の特徴量(特徴量選択ありの場合)\n",
    "\n",
    "\n",
    "### 可視化 ###\n",
    "TITLE_SIZE = 20\n",
    "LABEL_SIZE = 15\n",
    "TICK_SIZE = 12.5"
   ]
  },
  {
   "cell_type": "markdown",
   "metadata": {},
   "source": [
    "## 2.2 手法の名前"
   ]
  },
  {
   "cell_type": "code",
   "execution_count": 3,
   "metadata": {},
   "outputs": [],
   "source": [
    "if CLUSTERING_METHOD == \"kmeans\":\n",
    "    METHOD_NAME = \"SFS-Kmeans-Var\"\n",
    "if CLUSTERING_METHOD == \"xmeans\":\n",
    "    METHOD_NAME == \"SFS-Xmeans-Var\"\n",
    "if CLUSTERING_METHOD == \"gmm\":\n",
    "    METHOD_NAME == \"SFS-GMM-Var\""
   ]
  },
  {
   "cell_type": "markdown",
   "metadata": {},
   "source": [
    "-----------\n",
    "# ３．データの前処理"
   ]
  },
  {
   "cell_type": "markdown",
   "metadata": {},
   "source": [
    "## 3.1 データ読み込み"
   ]
  },
  {
   "cell_type": "code",
   "execution_count": 4,
   "metadata": {},
   "outputs": [
    {
     "name": "stdout",
     "output_type": "stream",
     "text": [
      "[0, 1, 2, 3, 4, 5, 6, 7, 8, 9, 10, 11, 12, 13, 14, 15, 16]\n"
     ]
    }
   ],
   "source": [
    "# df1(all the data)\n",
    "df1 = pd.read_csv(\n",
    "    R\"C:\\Users\\HaruMomozu\\Documents\\aug_first_cpn_data_for_ab_test_sensibility_tsukuba.csv\"\n",
    ")\n",
    "\n",
    "features_list = [\n",
    "    \"hist_4_day_buy_num\",\n",
    "    \"hist_4_day_gmv\",\n",
    "    \"his_4_day_is_buy\",\n",
    "    \"hist_30_day_buy_days\",\n",
    "    \"hist_30_day_buy_num\",\n",
    "    \"hist_30_day_gmv\",\n",
    "    \"hist_30_day_buy_recency\",\n",
    "    \"hist_30_day_pay_days\",\n",
    "    \"hist_30_day_atpu\",\n",
    "    \"hist_30_day_gpv\",\n",
    "    \"hist_30_day_pay_recency\",\n",
    "    \"hist_30_day_list_days\",\n",
    "    \"hist_30_day_list_num\",\n",
    "    \"hist_30_day_list_recency\",\n",
    "    \"hist_30_day_like_count\",\n",
    "    \"hist_30_day_like_count_not_deleted\",\n",
    "    \"hist_30_day_like_recency\",\n",
    "]\n",
    "\n",
    "# df2(subset of the data)\n",
    "df2 = df1.iloc[:DATA_SIZE]\n",
    "\n",
    "if DATA == \"all\":\n",
    "    df = df1\n",
    "if DATA == \"part\":\n",
    "    df = df2\n",
    "\n",
    "ALL_FEATURES_INDEX = [i for i in range(len(features_list))]\n",
    "print(ALL_FEATURES_INDEX)"
   ]
  },
  {
   "cell_type": "markdown",
   "metadata": {},
   "source": [
    "## 3.2 \"GMV\" から新しい変数 \"BCR\" 作成"
   ]
  },
  {
   "cell_type": "code",
   "execution_count": 5,
   "metadata": {},
   "outputs": [],
   "source": [
    "df = df.copy()\n",
    "df[\"BCR\"] = np.where(df[\"GMV\"] > 0, 1, 0)"
   ]
  },
  {
   "cell_type": "markdown",
   "metadata": {},
   "source": [
    "## 3.3 外れ値除去"
   ]
  },
  {
   "cell_type": "code",
   "execution_count": 6,
   "metadata": {},
   "outputs": [],
   "source": [
    "def remove_outliers_zscore(\n",
    "    data: pd.DataFrame, metric: str, threshold: float\n",
    ") -> pd.DataFrame:\n",
    "    z_scores = np.abs(stats.zscore(data[metric]))\n",
    "    data = data[(z_scores < threshold)]\n",
    "    return data"
   ]
  },
  {
   "cell_type": "code",
   "execution_count": 7,
   "metadata": {},
   "outputs": [
    {
     "name": "stdout",
     "output_type": "stream",
     "text": [
      "外れ値除外前のデータ数（訓練+テスト）: 2000\n",
      "外れ値除外後のデータ数（訓練+テスト）: 1979\n"
     ]
    }
   ],
   "source": [
    "df = remove_outliers_zscore(data=df, metric=TARGET, threshold=THRESHOLD)\n",
    "df = df.reset_index(drop=True)  # 行を詰める\n",
    "\n",
    "print(\"外れ値除外前のデータ数（訓練+テスト）:\", DATA_SIZE)\n",
    "print(\"外れ値除外後のデータ数（訓練+テスト）:\", len(df))"
   ]
  },
  {
   "cell_type": "markdown",
   "metadata": {},
   "source": [
    "## 3.4 訓練データとテストデータに分割"
   ]
  },
  {
   "cell_type": "code",
   "execution_count": 8,
   "metadata": {},
   "outputs": [
    {
     "name": "stdout",
     "output_type": "stream",
     "text": [
      "訓練データのデータ数: 989\n",
      "テストデータのデータ数: 990\n"
     ]
    }
   ],
   "source": [
    "X_all = df[features_list].to_numpy()\n",
    "y_all = df[TARGET].to_numpy()\n",
    "X_train, X_test, y_train, y_test = train_test_split(\n",
    "    X_all, y_all, test_size=TEST_SIZE, random_state=RANDOM_STATE\n",
    ")\n",
    "\n",
    "print(\"訓練データのデータ数:\", len(X_train))\n",
    "print(\"テストデータのデータ数:\", len(X_test))"
   ]
  },
  {
   "cell_type": "markdown",
   "metadata": {},
   "source": [
    "## 3.5 標準化"
   ]
  },
  {
   "cell_type": "code",
   "execution_count": 9,
   "metadata": {},
   "outputs": [],
   "source": [
    "sc = StandardScaler()\n",
    "# 訓練データに基づいてfit\n",
    "sc.fit(X_train)\n",
    "X_train_std = sc.transform(X_train)\n",
    "X_test_std = sc.transform(X_test)"
   ]
  },
  {
   "cell_type": "markdown",
   "metadata": {},
   "source": [
    "-------------\n",
    "# ４．特徴量選択"
   ]
  },
  {
   "cell_type": "code",
   "execution_count": 10,
   "metadata": {},
   "outputs": [],
   "source": [
    "TIME_DICT = {}\n",
    "SELECTED_FEATURES_DICT = {}"
   ]
  },
  {
   "cell_type": "markdown",
   "metadata": {},
   "source": [
    "### Allocation_in_Wrapper Class で特徴量選択"
   ]
  },
  {
   "cell_type": "code",
   "execution_count": 11,
   "metadata": {},
   "outputs": [],
   "source": [
    "class Allocation_in_Wrapper(BaseEstimator, TransformerMixin):\n",
    "    def __init__(\n",
    "        self,\n",
    "        maximum_features_to_select: int,\n",
    "        n_clusters: int,\n",
    "        clustering_method: str = \"kmeans\",\n",
    "        random_state: int = 0,\n",
    "        select_maximum_features: str = \"yes\",\n",
    "        k_min: int = 2,\n",
    "        k_max: int = 10,\n",
    "        allocation_method: str = \"Proportional\",\n",
    "        sample_size: int = 10,\n",
    "        n_trials: int = 100,\n",
    "        m_value=2,\n",
    "        M: Optional[NDArray] = None,\n",
    "    ):\n",
    "        self.maximum_features_to_select = maximum_features_to_select\n",
    "        self.n_clusters = n_clusters\n",
    "        self.clustering_method = clustering_method\n",
    "        self.random_state = random_state\n",
    "        self.select_maximum_features = select_maximum_features\n",
    "        self.k_min = k_min\n",
    "        self.k_max = k_max\n",
    "        self.allocation_method = allocation_method\n",
    "        self.sample_size = sample_size\n",
    "        self.n_trials = n_trials\n",
    "        self.m_value = m_value\n",
    "        self.M = M\n",
    "\n",
    "    def fss(self, X: pd.DataFrame, y: pd.DataFrame) -> \"Allocation_in_Wrapper\":\n",
    "        X, y = check_X_y(X, y)\n",
    "        n_all_features = X.shape[1]  # 総特徴量数\n",
    "\n",
    "        features_score_dict = {}\n",
    "\n",
    "        # 選ばれた特徴量と残っている特徴量の初期化\n",
    "        current_features = []\n",
    "        remaining_features = list(range(n_all_features))\n",
    "\n",
    "        if self.select_maximum_features == \"no\":\n",
    "            best_score = -np.inf\n",
    "\n",
    "        while len(current_features) < self.maximum_features_to_select:\n",
    "            best_feature = None  # 選ぶ特徴量の初期化\n",
    "\n",
    "            if self.select_maximum_features == \"yes\":\n",
    "                best_score = -np.inf\n",
    "\n",
    "            for feature in remaining_features:\n",
    "                temp_features = current_features + [\n",
    "                    feature\n",
    "                ]  # 特徴量をひとつ加え、score計算\n",
    "                score, n_clusters = self.crit(X[:, temp_features], y)\n",
    "\n",
    "                if score > best_score:\n",
    "                    best_score = score\n",
    "                    best_feature = feature\n",
    "                    best_N_cluster_size = self.N_cluster_size\n",
    "                    best_n_clusters = n_clusters\n",
    "                    best_n_cluster_size = self.n_cluster_size\n",
    "\n",
    "            if best_feature is not None:\n",
    "                current_features.append(best_feature)\n",
    "                remaining_features.remove(best_feature)\n",
    "                num_of_features = len(current_features)\n",
    "                print(\n",
    "                    \"num_of_features:\",\n",
    "                    num_of_features,\n",
    "                    \"current_features:\",\n",
    "                    current_features,\n",
    "                    \", score:\",\n",
    "                    best_score,\n",
    "                    \"best_n_clusters:\",\n",
    "                    best_n_clusters,\n",
    "                    \"best_N_cluster_size:\",\n",
    "                    best_N_cluster_size,\n",
    "                    \"best_n_cluster_size:\",\n",
    "                    best_n_cluster_size,\n",
    "                )\n",
    "\n",
    "                features_score_dict[str(num_of_features)] = best_score  # 確認用\n",
    "            else:\n",
    "                break\n",
    "\n",
    "        self.selected_features_index = current_features\n",
    "        self.features_score_dict = features_score_dict\n",
    "\n",
    "        return self\n",
    "\n",
    "    def crit(self, X: pd.DataFrame, y: pd.DataFrame) -> float:\n",
    "        # クラスタリング手法がGMMの場合\n",
    "        if self.clustering_method == \"gmm\":\n",
    "            model = GaussianMixture(\n",
    "                n_components=self.n_clusters,\n",
    "                random_state=self.random_state,\n",
    "                init_params=\"kmeans\",\n",
    "            )\n",
    "        # クラスタリング手法がKMEANSの場合\n",
    "        if self.clustering_method == \"kmeans\":\n",
    "            model = KMeans(\n",
    "                n_clusters=self.n_clusters,\n",
    "                random_state=self.random_state,\n",
    "            )\n",
    "        if self.clustering_method == \"xmeans\":\n",
    "            model = self.xmeans(X)\n",
    "\n",
    "        model.fit(X)\n",
    "        self.N_cluster_label = model.predict(X)\n",
    "        self.N_cluster_size = np.bincount(self.N_cluster_label)\n",
    "        n_clusters = len(np.unique(self.N_cluster_label))\n",
    "\n",
    "        var = self.cauculate_var(X, y)\n",
    "        score = -var\n",
    "\n",
    "        return score, n_clusters\n",
    "\n",
    "    def compute_bic(self, X: pd.DataFrame, kmeans: KMeans) -> float:\n",
    "        # クラスタリング結果の取得\n",
    "        labels = kmeans.labels_\n",
    "        clusters = kmeans.cluster_centers_\n",
    "        n_clusters = len(clusters)\n",
    "        n = len(X)\n",
    "        m = X.shape[1]\n",
    "        # クラスター内の分散の合計\n",
    "        variance = np.sum(\n",
    "            [\n",
    "                np.linalg.norm(X[labels == i] - clusters[i], axis=1).sum()\n",
    "                for i in range(n_clusters)\n",
    "            ]\n",
    "        )\n",
    "        # BIC の計算\n",
    "        bic = np.log(n) * n_clusters * m + n * np.log(variance / n)\n",
    "        return bic\n",
    "\n",
    "    def xmeans(self, X: pd.DataFrame) -> KMeans:\n",
    "        kmeans = KMeans(\n",
    "            n_clusters=self.k_min, random_state=self.random_state\n",
    "        )  # 初期クラスター数で KMeans を実行\n",
    "        kmeans.fit(X)\n",
    "        best_bic = self.compute_bic(X, kmeans)\n",
    "        best_kmeans = kmeans\n",
    "        for k in range(self.k_min + 1, self.k_max + 1):\n",
    "            kmeans = KMeans(n_clusters=k, random_state=self.random_state)\n",
    "            kmeans.fit(X)\n",
    "            # BIC を計算\n",
    "            current_bic = self.compute_bic(X, kmeans)\n",
    "            # BIC が改善される場合、クラスタ数を更新\n",
    "            if current_bic < best_bic:\n",
    "                best_bic = current_bic\n",
    "                best_kmeans = kmeans\n",
    "        # 最適なクラスタリング結果を返す\n",
    "        return best_kmeans\n",
    "\n",
    "    def cauculate_var(self, X: pd.DataFrame, y: pd.DataFrame) -> float:\n",
    "        # 各戦略の標本数に基づいて目的変数の平均を推定\n",
    "        y_hats = []\n",
    "        for random_state in range(self.n_trials):\n",
    "            if self.allocation_method == \"Post\":\n",
    "                y_hat = self.estimate_y_mean_post(X, y)\n",
    "            elif (\n",
    "                self.allocation_method == \"Proportional\"\n",
    "                or self.allocation_method == \"Optimal\"\n",
    "            ):\n",
    "                y_hat = self.estimate_y_mean_other(X, y)\n",
    "            y_hats.append(y_hat)\n",
    "\n",
    "        y_hats = np.array(y_hats)\n",
    "        var = y_hats.var()\n",
    "\n",
    "        return var\n",
    "\n",
    "    def estimate_y_mean_post(self, X: pd.DataFrame, y: pd.DataFrame) -> float:\n",
    "        n_cluster_size = np.array([self.sample_size])\n",
    "        weights = self.N_cluster_size / self.N_cluster_size.sum()\n",
    "        y_hat = 0\n",
    "\n",
    "        all_indices = np.arange(len(y))\n",
    "        sample_indices = np.random.choice(all_indices, n_cluster_size[0], replace=False)\n",
    "        sample_labels = np.array([self.N_cluster_label[i] for i in sample_indices])\n",
    "\n",
    "        self.n_cluster_size = np.bincount(sample_labels)\n",
    "\n",
    "        for h in np.unique(sample_labels):\n",
    "            index = np.where(sample_labels == h)[0]\n",
    "            sample = y[sample_indices[index]]\n",
    "            y_sample_mean = sample.mean()  # サンプリングした標本の平均\n",
    "            y_hat += y_sample_mean * weights[h]\n",
    "        return y_hat\n",
    "\n",
    "    def estimate_y_mean_other(self, X: pd.DataFrame, y: pd.DataFrame) -> float:\n",
    "        if self.allocation_method == \"Proportional\":\n",
    "            self.n_cluster_size = self.proportional(X, y)\n",
    "        if self.allocation_method == \"Optimal\":\n",
    "            self.n_cluster_size = self.optimal(X, y)\n",
    "\n",
    "        weights = self.N_cluster_size / self.N_cluster_size.sum()\n",
    "        y_hat = 0\n",
    "        for h in range(self.n_cluster_size.shape[0]):\n",
    "            if 0 < self.n_cluster_size[h] <= len(y[self.N_cluster_label == h]):\n",
    "                sample: NDArray = np.random.choice(\n",
    "                    y[self.N_cluster_label == h], self.n_cluster_size[h], replace=False\n",
    "                )\n",
    "                y_sample_mean = sample.mean()  # サンプリングした標本の平均\n",
    "                y_hat += y_sample_mean * weights[h]\n",
    "        return y_hat\n",
    "\n",
    "    def proportional(self, X: pd.DataFrame, y: pd.DataFrame) -> NDArray:\n",
    "        n_cluster_size: NDArray = np.round(\n",
    "            self.N_cluster_size / self.N_cluster_size.sum() * self.sample_size\n",
    "        ).astype(int)\n",
    "\n",
    "        if n_cluster_size.sum() > self.sample_size:\n",
    "            # nの合計がn_samplesより大きい場合は一番標本数が多いクラスタから削る\n",
    "            n_cluster_size[np.argmax(n_cluster_size)] -= (\n",
    "                n_cluster_size.sum() - self.sample_size\n",
    "            )\n",
    "        if n_cluster_size.sum() < self.sample_size:\n",
    "            # nの合計がn_samplesより小さい場合は一番標本数が多いクラスタにたす\n",
    "            n_cluster_size[np.argmax(n_cluster_size)] += (\n",
    "                -n_cluster_size.sum() + self.sample_size\n",
    "            )\n",
    "        return n_cluster_size\n",
    "\n",
    "    def optimal(self, X: pd.DataFrame, y: pd.DataFrame) -> NDArray:  # たぶんあってる\n",
    "        n_cluster = len(np.unique(self.N_cluster_label))\n",
    "        self.m = np.full(n_cluster, self.m_value)\n",
    "\n",
    "        S = np.array([np.var(y[self.N_cluster_label == h]) for h in range(n_cluster)])\n",
    "        d = (self.N_cluster_size**2) * S\n",
    "\n",
    "        n_cluster_size = self.m.copy()  # 初期値\n",
    "\n",
    "        M = self.M.copy() if self.M is not None else self.N_cluster_size.copy()\n",
    "        I = np.arange(n_cluster)  # noqa #クラスタのインデックス\n",
    "\n",
    "        while (n_cluster_size.sum() != self.sample_size) and len(I) != 0:\n",
    "            delta = np.zeros(n_cluster)\n",
    "            delta[I] = (d / (n_cluster_size + 1) - d / n_cluster_size)[I]\n",
    "            h_star = np.argmin(delta[I])\n",
    "            h_star = I[h_star]\n",
    "\n",
    "            if n_cluster_size[h_star] + 1 <= M[h_star]:\n",
    "                n_cluster_size[h_star] = n_cluster_size[h_star] + 1\n",
    "            else:\n",
    "                # Iの要素h_starを削除\n",
    "                I_ = I.tolist()\n",
    "                I_ = [i for i in I_ if i != h_star]\n",
    "                I = np.array(I_)  # noqa\n",
    "\n",
    "        # 制約チェック\n",
    "        assert (\n",
    "            n_cluster_size.sum() <= self.sample_size\n",
    "        ), f\"Total sample size is over than {self.sample_size}\"\n",
    "        assert np.all(\n",
    "            n_cluster_size >= self.m\n",
    "        ), \"Minimum sample size constraint is not satisfied\"\n",
    "        if self.M is not None:\n",
    "            assert np.all(\n",
    "                n_cluster_size <= self.M\n",
    "            ), \"Maximum sample size constraint is not satisfied\"\n",
    "\n",
    "        return n_cluster_size\n",
    "\n",
    "    def get_selected_features_index(self):\n",
    "        return self.selected_features_index  # 選択された特徴量のインデックス\n",
    "\n",
    "    def get_features_score_dict(self):\n",
    "        return self.features_score_dict"
   ]
  },
  {
   "cell_type": "code",
   "execution_count": 12,
   "metadata": {},
   "outputs": [],
   "source": [
    "def process_allocation_in_wrapper(\n",
    "    instance: \"Allocation_in_Wrapper\", X: NDArray, y: NDArray\n",
    ") -> tuple[list, dict[int, float]]:\n",
    "    instance.fss(X, y)\n",
    "    selected_features_index = instance.get_selected_features_index()\n",
    "    features_score_dict = instance.get_features_score_dict()\n",
    "    selected_features_index = np.array(selected_features_index)\n",
    "\n",
    "    return selected_features_index, features_score_dict"
   ]
  },
  {
   "cell_type": "markdown",
   "metadata": {},
   "source": [
    "### インスタンスのリスト作成"
   ]
  },
  {
   "cell_type": "code",
   "execution_count": 13,
   "metadata": {},
   "outputs": [],
   "source": [
    "instances = []\n",
    "for allocation_method in ALLOCATION_METHODS:\n",
    "    instances.append(\n",
    "        (\n",
    "            allocation_method,\n",
    "            Allocation_in_Wrapper(\n",
    "                maximum_features_to_select=MAXIMUM_FEATURES_TO_SELECT,\n",
    "                n_clusters=N_CLUSTERS,\n",
    "                clustering_method=CLUSTERING_METHOD,\n",
    "                random_state=RANDOM_STATE,\n",
    "                select_maximum_features=SELECT_MAXIMUM_FEATURES,\n",
    "                k_min=K_MIN,\n",
    "                k_max=K_MAX,\n",
    "                allocation_method=allocation_method,\n",
    "                sample_size=SAMPLE_SIZE,\n",
    "                n_trials=N_TRIALS,\n",
    "                m_value=m_VALUE,\n",
    "            ),\n",
    "        )\n",
    "    )"
   ]
  },
  {
   "cell_type": "markdown",
   "metadata": {},
   "source": [
    "### Allocaiton in Wrapper の実施"
   ]
  },
  {
   "cell_type": "code",
   "execution_count": 14,
   "metadata": {},
   "outputs": [
    {
     "name": "stdout",
     "output_type": "stream",
     "text": [
      "[ Proportional ]\n"
     ]
    },
    {
     "name": "stderr",
     "output_type": "stream",
     "text": [
      "c:\\Users\\HaruMomozu\\Desktop\\momozu\\ABtesting\\.venv\\Lib\\site-packages\\sklearn\\base.py:1473: ConvergenceWarning: Number of distinct clusters (2) found smaller than n_clusters (10). Possibly due to duplicate points in X.\n",
      "  return fit_method(estimator, *args, **kwargs)\n"
     ]
    },
    {
     "name": "stdout",
     "output_type": "stream",
     "text": [
      "num_of_features: 1 current_features: [5] , score: -105310.8110965875 best_n_clusters: 10 best_N_cluster_size: [645   1   1   4  98  17   1 210   1  11] best_n_cluster_size: [66  0  0  0 10  2  0 21  0  1]\n",
      "num_of_features: 2 current_features: [5, 15] , score: -74025.85897740014 best_n_clusters: 10 best_N_cluster_size: [690   1  17   1  94   1  18   6 131  30] best_n_cluster_size: [69  0  2  0 10  0  2  1 13  3]\n",
      "num_of_features: 3 current_features: [5, 15, 12] , score: -111855.60142001891 best_n_clusters: 10 best_N_cluster_size: [692  18  18   2 159   1  51   1   1  46] best_n_cluster_size: [70  2  2  0 16  0  5  0  0  5]\n",
      "num_of_features: 4 current_features: [5, 15, 12, 13] , score: -82254.38692766007 best_n_clusters: 10 best_N_cluster_size: [143  20  31 522 229   1   4   2   1  36] best_n_cluster_size: [14  2  3 54 23  0  0  0  0  4]\n",
      "num_of_features: 5 current_features: [5, 15, 12, 13, 2] , score: -114753.25568125001 best_n_clusters: 10 best_N_cluster_size: [159  41 258   9 287 202   2   1  29   1] best_n_cluster_size: [16  4 26  1 30 20  0  0  3  0]\n",
      "[ Post ]\n"
     ]
    },
    {
     "name": "stderr",
     "output_type": "stream",
     "text": [
      "c:\\Users\\HaruMomozu\\Desktop\\momozu\\ABtesting\\.venv\\Lib\\site-packages\\sklearn\\base.py:1473: ConvergenceWarning: Number of distinct clusters (2) found smaller than n_clusters (10). Possibly due to duplicate points in X.\n",
      "  return fit_method(estimator, *args, **kwargs)\n"
     ]
    },
    {
     "name": "stdout",
     "output_type": "stream",
     "text": [
      "num_of_features: 1 current_features: [2] , score: -65777.37157595262 best_n_clusters: 2 best_N_cluster_size: [465 524] best_n_cluster_size: [46 54]\n",
      "num_of_features: 2 current_features: [2, 11] , score: -92692.94018455214 best_n_clusters: 10 best_N_cluster_size: [ 81 107  27 321  17  18  51 318  45   4] best_n_cluster_size: [ 7  7  4 30  0  2  8 35  7]\n",
      "num_of_features: 3 current_features: [2, 11, 5] , score: -84319.96435401471 best_n_clusters: 10 best_N_cluster_size: [114  84   1 372  46  28   3   1  23 317] best_n_cluster_size: [20  7  0 37  2  3  0  0  3 28]\n",
      "num_of_features: 4 current_features: [2, 11, 5, 16] , score: -74831.07617490472 best_n_clusters: 10 best_N_cluster_size: [107 381  42  42   3  71  26 294   1  22] best_n_cluster_size: [11 41  3  3  0  4  3 31  0  4]\n",
      "num_of_features: 5 current_features: [2, 11, 5, 16, 14] , score: -82419.43637485275 best_n_clusters: 10 best_N_cluster_size: [262 176  67  52   2 249  37 129   1  14] best_n_cluster_size: [24 20  4  8  0 26  5 13]\n",
      "[ Optimal ]\n"
     ]
    },
    {
     "name": "stderr",
     "output_type": "stream",
     "text": [
      "c:\\Users\\HaruMomozu\\Desktop\\momozu\\ABtesting\\.venv\\Lib\\site-packages\\sklearn\\base.py:1473: ConvergenceWarning: Number of distinct clusters (2) found smaller than n_clusters (10). Possibly due to duplicate points in X.\n",
      "  return fit_method(estimator, *args, **kwargs)\n"
     ]
    },
    {
     "name": "stdout",
     "output_type": "stream",
     "text": [
      "num_of_features: 1 current_features: [5] , score: -116323.58492991669 best_n_clusters: 10 best_N_cluster_size: [645   1   1   4  98  17   1 210   1  11] best_n_cluster_size: [45  2  2  2 15  5  2 22  2  3]\n",
      "num_of_features: 2 current_features: [5, 6] , score: -46263.71204702258 best_n_clusters: 10 best_N_cluster_size: [204 275   2   1  15 162  47   4  68 211] best_n_cluster_size: [20 22  2  2  4 19  5  2 13 11]\n",
      "num_of_features: 3 current_features: [5, 6, 15] , score: -51515.32592791768 best_n_clusters: 10 best_N_cluster_size: [216 429   1  24  17 216   8   1   1  76] best_n_cluster_size: [20 45  2  2  4 11  2  2  2 10]\n",
      "num_of_features: 4 current_features: [5, 6, 15, 4] , score: -69123.75465571461 best_n_clusters: 10 best_N_cluster_size: [215 225   1  31 379  19   1  14   1 103] best_n_cluster_size: [19 25  2  3 26  3  2  4  2 14]\n",
      "num_of_features: 5 current_features: [5, 6, 15, 4, 14] , score: -117703.15799211967 best_n_clusters: 10 best_N_cluster_size: [218  59 321  14  61   2  20 211   1  82] best_n_cluster_size: [19  7 28  3 10  2  2 16  2 11]\n"
     ]
    }
   ],
   "source": [
    "features_score_dict_dict = {}\n",
    "\n",
    "# 各インスタンスに対して処理を実行\n",
    "for allocation_method, instance in instances:\n",
    "    print(\"[\", allocation_method, \"]\")\n",
    "    start_time = time.time()\n",
    "    selected_features_index, features_score_dict = process_allocation_in_wrapper(\n",
    "        instance, X_train_std, y_train\n",
    "    )\n",
    "    end_time = time.time()\n",
    "\n",
    "    SELECTED_FEATURES_DICT[allocation_method] = selected_features_index\n",
    "    TIME_DICT[allocation_method] = end_time - start_time\n",
    "\n",
    "    features_score_dict_dict[allocation_method] = features_score_dict"
   ]
  },
  {
   "cell_type": "code",
   "execution_count": 15,
   "metadata": {},
   "outputs": [
    {
     "name": "stdout",
     "output_type": "stream",
     "text": [
      "{'Proportional': {'1': -105310.8110965875, '2': -74025.85897740014, '3': -111855.60142001891, '4': -82254.38692766007, '5': -114753.25568125001}, 'Post': {'1': -65777.37157595262, '2': -92692.94018455214, '3': -84319.96435401471, '4': -74831.07617490472, '5': -82419.43637485275}, 'Optimal': {'1': -116323.58492991669, '2': -46263.71204702258, '3': -51515.32592791768, '4': -69123.75465571461, '5': -117703.15799211967}}\n"
     ]
    }
   ],
   "source": [
    "print(features_score_dict_dict)"
   ]
  },
  {
   "cell_type": "markdown",
   "metadata": {},
   "source": [
    "## 4.4 特徴量選択の結果"
   ]
  },
  {
   "cell_type": "markdown",
   "metadata": {},
   "source": [
    "### スコア（-分散）の推移"
   ]
  },
  {
   "cell_type": "code",
   "execution_count": 16,
   "metadata": {},
   "outputs": [
    {
     "data": {
      "image/png": "[encoded data removed]",
      "text/plain": [
       "<Figure size 500x300 with 1 Axes>"
      ]
     },
     "metadata": {},
     "output_type": "display_data"
    },
    {
     "data": {
      "image/png": "[encoded data removed]",
      "text/plain": [
       "<Figure size 500x300 with 1 Axes>"
      ]
     },
     "metadata": {},
     "output_type": "display_data"
    },
    {
     "data": {
      "image/png": "[encoded data removed]",
      "text/plain": [
       "<Figure size 500x300 with 1 Axes>"
      ]
     },
     "metadata": {},
     "output_type": "display_data"
    }
   ],
   "source": [
    "for allocation_method, instance in instances:\n",
    "    # 棒グラフを作成\n",
    "    plt.figure(figsize=(5, 3))\n",
    "    plt.bar(\n",
    "        features_score_dict_dict[allocation_method].keys(),\n",
    "        features_score_dict_dict[allocation_method].values(),\n",
    "    )\n",
    "    plt.title(f\"{allocation_method}\", fontsize=TITLE_SIZE)\n",
    "    plt.xlabel(\"Number of features\", fontsize=LABEL_SIZE)\n",
    "    plt.ylabel(\"Evaluation value\", fontsize=LABEL_SIZE)\n",
    "    # plt.ylim(,)\n",
    "    plt.tick_params(axis=\"both\", labelsize=TICK_SIZE)\n",
    "    plt.show()"
   ]
  },
  {
   "cell_type": "markdown",
   "metadata": {},
   "source": [
    "### 分散削減率の推移"
   ]
  },
  {
   "cell_type": "code",
   "execution_count": 17,
   "metadata": {},
   "outputs": [],
   "source": [
    "def cauculate_var_random(y: NDArray, seed: int, n_trials: int, sample_size) -> float:\n",
    "    np.random.seed(seed)\n",
    "    y_hats = []\n",
    "    for i in range(n_trials):\n",
    "        sample = np.random.choice(y, sample_size, replace=False)\n",
    "        y_hat_random = sample.mean()\n",
    "        y_hats.append(y_hat_random)\n",
    "    var_random = np.array(y_hats).var()\n",
    "\n",
    "    return var_random"
   ]
  },
  {
   "cell_type": "code",
   "execution_count": 18,
   "metadata": {},
   "outputs": [],
   "source": [
    "VAR_RANDOM_TRAIN = cauculate_var_random(\n",
    "    y=y_train, seed=SEED, n_trials=N_TRIALS, sample_size=SAMPLE_SIZE\n",
    ")"
   ]
  },
  {
   "cell_type": "code",
   "execution_count": 19,
   "metadata": {},
   "outputs": [],
   "source": [
    "features_reduction_rate_dict_dict = {}\n",
    "for allocation_method, score_dict in features_score_dict_dict.items():\n",
    "    features_reduction_rate_dict_dict[allocation_method] = {}\n",
    "    for n_features, score in score_dict.items():\n",
    "        reduction_rate = (1 - (-score / VAR_RANDOM_TRAIN)) * 100\n",
    "        features_reduction_rate_dict_dict[allocation_method][n_features] = (\n",
    "            reduction_rate\n",
    "        )"
   ]
  },
  {
   "cell_type": "code",
   "execution_count": 20,
   "metadata": {},
   "outputs": [
    {
     "data": {
      "image/png": "[encoded data removed]",
      "text/plain": [
       "<Figure size 500x300 with 1 Axes>"
      ]
     },
     "metadata": {},
     "output_type": "display_data"
    },
    {
     "data": {
      "image/png": "[encoded data removed]",
      "text/plain": [
       "<Figure size 500x300 with 1 Axes>"
      ]
     },
     "metadata": {},
     "output_type": "display_data"
    },
    {
     "data": {
      "image/png": "[encoded data removed]",
      "text/plain": [
       "<Figure size 500x300 with 1 Axes>"
      ]
     },
     "metadata": {},
     "output_type": "display_data"
    }
   ],
   "source": [
    "for allocation_method, instance in instances:\n",
    "    # 棒グラフを作成\n",
    "    plt.figure(figsize=(5, 3))\n",
    "    plt.bar(\n",
    "        features_reduction_rate_dict_dict[allocation_method].keys(),\n",
    "        features_reduction_rate_dict_dict[allocation_method].values(),\n",
    "    )\n",
    "    plt.title(f\"{allocation_method}\", fontsize=TITLE_SIZE)\n",
    "    plt.xlabel(\"Number of features\", fontsize=LABEL_SIZE)\n",
    "    plt.ylabel(\"Var reduction rate\", fontsize=LABEL_SIZE)\n",
    "    plt.ylim(0, 40)\n",
    "    plt.tick_params(axis=\"both\", labelsize=TICK_SIZE)\n",
    "    plt.show()"
   ]
  },
  {
   "cell_type": "markdown",
   "metadata": {},
   "source": [
    "### 特徴量選択の結果"
   ]
  },
  {
   "cell_type": "code",
   "execution_count": 21,
   "metadata": {},
   "outputs": [
    {
     "name": "stdout",
     "output_type": "stream",
     "text": [
      "【Proportional】\n",
      "選択された特徴量： [ 5 15 12 13  2]\n",
      "特徴量選択にかかった時間：2.335 s\n",
      "\n",
      "【Post】\n",
      "選択された特徴量： [ 2 11  5 16 14]\n",
      "特徴量選択にかかった時間：0.769 s\n",
      "\n",
      "【Optimal】\n",
      "選択された特徴量： [ 5  6 15  4 14]\n",
      "特徴量選択にかかった時間：1.733 s\n",
      "\n"
     ]
    }
   ],
   "source": [
    "for allocation_method in ALLOCATION_METHODS:\n",
    "    print(f\"【{allocation_method}】\")\n",
    "    print(\"選択された特徴量：\", SELECTED_FEATURES_DICT[allocation_method])\n",
    "    print(f\"特徴量選択にかかった時間：{round(TIME_DICT[allocation_method], 3)} s\")\n",
    "    print()"
   ]
  },
  {
   "cell_type": "markdown",
   "metadata": {},
   "source": [
    "# ５．クラスタリングと標本配分"
   ]
  },
  {
   "cell_type": "markdown",
   "metadata": {},
   "source": [
    "## 5.1 クラスタリング"
   ]
  },
  {
   "cell_type": "markdown",
   "metadata": {},
   "source": [
    "### 準備"
   ]
  },
  {
   "cell_type": "code",
   "execution_count": 22,
   "metadata": {},
   "outputs": [],
   "source": [
    "def compute_bic(X: NDArray, kmeans: KMeans) -> float:\n",
    "    labels = kmeans.labels_\n",
    "    clusters = kmeans.cluster_centers_\n",
    "    n_clusters = len(clusters)\n",
    "    n = len(X)\n",
    "    m = X.shape[1]\n",
    "    variance = np.sum(\n",
    "        [\n",
    "            np.linalg.norm(X[labels == i] - clusters[i], axis=1).sum()\n",
    "            for i in range(n_clusters)\n",
    "        ]\n",
    "    )\n",
    "    bic = np.log(n) * n_clusters * m + n * np.log(variance / n)\n",
    "    return bic\n",
    "\n",
    "\n",
    "def xmeans(X: NDArray, k_min: int, k_max: int) -> KMeans:\n",
    "    kmeans = KMeans(n_clusters=k_min, random_state=RANDOM_STATE)\n",
    "    kmeans.fit(X)\n",
    "    best_bic = compute_bic(X, kmeans)\n",
    "    best_kmeans = kmeans\n",
    "    for k in range(k_min + 1, k_max + 1):\n",
    "        kmeans = KMeans(n_clusters=k, random_state=RANDOM_STATE)\n",
    "        kmeans.fit(X)\n",
    "        current_bic = compute_bic(X, kmeans)\n",
    "        if current_bic < best_bic:\n",
    "            best_bic = current_bic\n",
    "            best_kmeans = kmeans\n",
    "    return best_kmeans"
   ]
  },
  {
   "cell_type": "code",
   "execution_count": 23,
   "metadata": {},
   "outputs": [],
   "source": [
    "def clustering(\n",
    "    X: NDArray,\n",
    "    allocation_methods: list,\n",
    "    clustering_method: str,\n",
    "    n_clusters: int,\n",
    "    random_state: int,\n",
    "    k_min: int,\n",
    "    k_max: int,\n",
    "    selected_features_dict: dict,\n",
    ") -> tuple[dict, dict, dict]:\n",
    "    cluster_label_dict = {}\n",
    "    cluster_size_dict = {}\n",
    "    n_clusters_dict = {}\n",
    "\n",
    "    for allocation_method in allocation_methods:\n",
    "        if clustering_method == \"kmeans\":\n",
    "            model = KMeans(n_clusters=n_clusters, random_state=random_state)\n",
    "        if clustering_method == \"gmm\":\n",
    "            model = GaussianMixture(\n",
    "                n_components=n_clusters, random_state=random_state, init_params=\"kmeans\"\n",
    "            )\n",
    "        if clustering_method == \"xmeans\":\n",
    "            model = xmeans(X, k_min=k_min, k_max=k_max)\n",
    "\n",
    "        labels = model.fit_predict(X[:, selected_features_dict[allocation_method]])\n",
    "        cluster_size = np.bincount(labels)\n",
    "        n_clusters = len(np.unique(labels))\n",
    "\n",
    "        cluster_label_dict[allocation_method] = labels\n",
    "        cluster_size_dict[allocation_method] = cluster_size\n",
    "        n_clusters_dict[allocation_method] = n_clusters\n",
    "\n",
    "    return cluster_label_dict, cluster_size_dict, n_clusters_dict"
   ]
  },
  {
   "cell_type": "markdown",
   "metadata": {},
   "source": [
    "### クラスタリングの実施"
   ]
  },
  {
   "cell_type": "code",
   "execution_count": 24,
   "metadata": {},
   "outputs": [],
   "source": [
    "CLUSTER_LABEL_DICT_TRAIN, CLUSTER_SIZE_DICT_TRAIN, N_CLUSTERS_DICT_TRAIN = clustering(\n",
    "    X=X_train_std,\n",
    "    allocation_methods=ALLOCATION_METHODS,\n",
    "    clustering_method=CLUSTERING_METHOD,\n",
    "    n_clusters=N_CLUSTERS,\n",
    "    random_state=RANDOM_STATE,\n",
    "    k_min=K_MIN,\n",
    "    k_max=K_MAX,\n",
    "    selected_features_dict=SELECTED_FEATURES_DICT,\n",
    ")\n",
    "\n",
    "CLUSTER_LABEL_DICT_TEST, CLUSTER_SIZE_DICT_TEST, N_CLUSTERS_DICT_TEST = clustering(\n",
    "    X=X_test_std,\n",
    "    allocation_methods=ALLOCATION_METHODS,\n",
    "    clustering_method=CLUSTERING_METHOD,\n",
    "    n_clusters=N_CLUSTERS,\n",
    "    random_state=RANDOM_STATE,\n",
    "    k_min=K_MIN,\n",
    "    k_max=K_MAX,\n",
    "    selected_features_dict=SELECTED_FEATURES_DICT,\n",
    ")"
   ]
  },
  {
   "cell_type": "markdown",
   "metadata": {},
   "source": [
    "### クラスタリング結果"
   ]
  },
  {
   "cell_type": "code",
   "execution_count": 25,
   "metadata": {},
   "outputs": [
    {
     "name": "stdout",
     "output_type": "stream",
     "text": [
      "【Proportional】\n",
      "訓練データでの各層のクラスタサイズ：[159  41 258   9 287 202   2   1  29   1]\n",
      "テストデータでの各層のクラスタサイズ：[178 195 216 272  27  35   5   2  13  47]\n",
      "【Post】\n",
      "訓練データでの各層のクラスタサイズ：[262 176  67  52   2 249  37 129   1  14]\n",
      "テストデータでの各層のクラスタサイズ：[271 152  60  44  52   2 228 120  25  36]\n",
      "【Optimal】\n",
      "訓練データでの各層のクラスタサイズ：[218  59 321  14  61   2  20 211   1  82]\n",
      "テストデータでの各層のクラスタサイズ：[150 104 397  55  13 188   2  60   6  15]\n"
     ]
    }
   ],
   "source": [
    "for allocation_method in ALLOCATION_METHODS:\n",
    "    print(f\"【{allocation_method}】\")\n",
    "    print(\n",
    "        f\"訓練データでの各層のクラスタサイズ：{CLUSTER_SIZE_DICT_TRAIN[allocation_method]}\"\n",
    "    )\n",
    "    print(\n",
    "        f\"テストデータでの各層のクラスタサイズ：{CLUSTER_SIZE_DICT_TEST[allocation_method]}\"\n",
    "    )"
   ]
  },
  {
   "cell_type": "markdown",
   "metadata": {},
   "source": [
    "## 5.2 標本配分"
   ]
  },
  {
   "cell_type": "markdown",
   "metadata": {},
   "source": [
    "### 基底クラス"
   ]
  },
  {
   "cell_type": "code",
   "execution_count": 26,
   "metadata": {},
   "outputs": [],
   "source": [
    "class BaseAllocation(metaclass=ABCMeta):  # 抽象基底クラス（ABC）\n",
    "    # 初期化クラス（n_samples(標本サイズ), H(クラスタ数)）\n",
    "    def __init__(\n",
    "        self,\n",
    "        sample_size: int,\n",
    "        random_state: int,\n",
    "        allocation_method: str,\n",
    "        cluster_label_dict: dict,\n",
    "        cluster_size_dict: dict,\n",
    "        n_clusters_dict: dict,\n",
    "    ):\n",
    "        self.sample_size = sample_size\n",
    "        self.random_state = random_state\n",
    "        self.allocation_method = allocation_method\n",
    "\n",
    "        self.cluster_label = cluster_label_dict[self.allocation_method]\n",
    "        self.N = cluster_size_dict[self.allocation_method]\n",
    "        self.H = n_clusters_dict[self.allocation_method]\n",
    "\n",
    "    @abstractmethod\n",
    "    def solve(self, X: NDArray, y: NDArray) -> NDArray:\n",
    "        \"\"\"標本配分を解く\n",
    "\n",
    "        Args:\n",
    "            X (NDArray): データ (N x M)\n",
    "            y (NDArray): 目的変数 (N)\n",
    "\n",
    "        Raises:\n",
    "            NotImplementedError: _description_\n",
    "\n",
    "        Returns:\n",
    "            NDArray: 各クラスタの標本数 (H, )\n",
    "\n",
    "        Note:\n",
    "            M: 特徴量数\n",
    "            H: クラスタ数\n",
    "        \"\"\"\n",
    "        # 具象クラスがsolveメゾッドを実装しない場合はNotImpleamentedErrorが発生\n",
    "        raise NotImplementedError"
   ]
  },
  {
   "cell_type": "markdown",
   "metadata": {},
   "source": [
    "### ① 比例配分（Proportional）"
   ]
  },
  {
   "cell_type": "code",
   "execution_count": 27,
   "metadata": {},
   "outputs": [],
   "source": [
    "class Proportional(BaseAllocation):\n",
    "    def solve(self, X: NDArray, y: NDArray) -> NDArray:\n",
    "        \"\"\"各クラスタ数に比例した標本数で分割する\"\"\"\n",
    "        n: NDArray = np.round(self.N / self.N.sum() * self.sample_size).astype(int)\n",
    "\n",
    "        if n.sum() > self.sample_size:\n",
    "            # nの合計がn_samplesより大きい場合は一番標本数が多いクラスタから削る\n",
    "            n[np.argmax(n)] -= n.sum() - self.sample_size\n",
    "\n",
    "        if n.sum() < self.sample_size:\n",
    "            # nの合計がn_samplesより小さい場合は一番標本数が多いクラスタにたす\n",
    "            n[np.argmax(n)] += -n.sum() + self.sample_size\n",
    "\n",
    "        return n"
   ]
  },
  {
   "cell_type": "markdown",
   "metadata": {},
   "source": [
    "### ② 事後層化（Post）"
   ]
  },
  {
   "cell_type": "code",
   "execution_count": 28,
   "metadata": {},
   "outputs": [],
   "source": [
    "class Post(BaseAllocation):\n",
    "    def solve(self, X: NDArray, y: NDArray) -> NDArray:\n",
    "        \"\"\"ランダムにn_samplesの標本を選択する\"\"\"\n",
    "        n = np.array([self.sample_size])\n",
    "\n",
    "        return n  # （例）n=[標本サイズ]"
   ]
  },
  {
   "cell_type": "markdown",
   "metadata": {},
   "source": [
    "### ③ 最適標本配分（Optimal）"
   ]
  },
  {
   "cell_type": "code",
   "execution_count": 29,
   "metadata": {},
   "outputs": [],
   "source": [
    "class Optimal(BaseAllocation):\n",
    "    def __init__(\n",
    "        self,\n",
    "        sample_size: int,\n",
    "        random_state: int,\n",
    "        allocation_method: str,\n",
    "        cluster_label_dict: dict,\n",
    "        cluster_size_dict: dict,\n",
    "        n_clusters_dict: dict,\n",
    "        m: NDArray,  # 標本サイズ下限\n",
    "        M: Optional[NDArray] = None,  # 標本サイズ上限 #Optional(Noneである可能性がある)\n",
    "    ):\n",
    "        super().__init__(\n",
    "            sample_size,\n",
    "            random_state,\n",
    "            allocation_method,\n",
    "            cluster_label_dict,\n",
    "            cluster_size_dict,\n",
    "            n_clusters_dict,\n",
    "        )  # 基底クラスBaseAllocation（スーパークラス）の初期化メゾッドを呼び出す\n",
    "        self.m = m  # 各クラスタの最小標本サイズ (H, )\n",
    "        self.M = M  # 各クラスタの最大標本サイズ (H, ), (指定しない場合はクラスタサイズ)\n",
    "\n",
    "    def solve(self, X: NDArray, y: NDArray) -> NDArray:\n",
    "        # S:クラスタ毎の目的変数のvarianceを要素とする配列 (H, )\n",
    "        S = np.array([np.var(y[self.cluster_label == h]) for h in range(self.H)])\n",
    "        d = (self.N**2) * S  # (H, )\n",
    "        n = self._simple_greedy(n=self.m.copy(), d=d)\n",
    "\n",
    "        # 制約チェック\n",
    "        self._check_constraints(n)\n",
    "\n",
    "        return n\n",
    "\n",
    "    def _simple_greedy(self, n: NDArray, d: NDArray) -> NDArray:\n",
    "        M = self.M.copy() if self.M is not None else self.N.copy()\n",
    "        I = np.arange(self.H)  # noqa #クラスタのインデックス\n",
    "        while (n.sum() != self.sample_size) and len(I) != 0:\n",
    "            delta = np.zeros(self.H)\n",
    "            delta[I] = (d / (n + 1) - d / n)[I]\n",
    "            h_star = np.argmin(delta[I])\n",
    "            h_star = I[h_star]\n",
    "\n",
    "            if n[h_star] + 1 <= M[h_star]:\n",
    "                n[h_star] = n[h_star] + 1\n",
    "            else:\n",
    "                # Iの要素h_starを削除\n",
    "                I_ = I.tolist()\n",
    "                I_ = [i for i in I_ if i != h_star]\n",
    "                I = np.array(I_)  # noqa\n",
    "\n",
    "        return n\n",
    "\n",
    "    def _check_constraints(self, n: NDArray):\n",
    "        assert (\n",
    "            n.sum() <= self.sample_size\n",
    "        ), f\"Total sample size is over than {self.sample_size}\"\n",
    "        assert np.all(n >= self.m), \"Minimum sample size constraint is not satisfied\"\n",
    "        if self.M is not None:\n",
    "            assert np.all(\n",
    "                n <= self.M\n",
    "            ), \"Maximum sample size constraint is not satisfied\""
   ]
  },
  {
   "cell_type": "markdown",
   "metadata": {},
   "source": [
    "### ポリシーの生成"
   ]
  },
  {
   "cell_type": "code",
   "execution_count": 30,
   "metadata": {},
   "outputs": [],
   "source": [
    "def create_policies(\n",
    "    sample_size: int,\n",
    "    random_state: int,\n",
    "    m_value: int,\n",
    "    cluster_label_dict: dict,\n",
    "    cluster_size_dict: dict,\n",
    "    n_clusters_dict: dict,\n",
    "    allocation_methods: list,\n",
    ") -> list[BaseAllocation]:\n",
    "    policies: list[BaseAllocation] = []\n",
    "    if \"Proportional\" in allocation_methods:\n",
    "        policies.append(\n",
    "            Proportional(\n",
    "                sample_size=sample_size,\n",
    "                random_state=random_state,\n",
    "                allocation_method=\"Proportional\",\n",
    "                cluster_label_dict=cluster_label_dict,\n",
    "                cluster_size_dict=cluster_size_dict,\n",
    "                n_clusters_dict=n_clusters_dict,\n",
    "            )\n",
    "        )\n",
    "    if \"Post\" in allocation_methods:\n",
    "        policies.append(\n",
    "            Post(\n",
    "                sample_size=sample_size,\n",
    "                random_state=random_state,\n",
    "                allocation_method=\"Post\",\n",
    "                cluster_label_dict=cluster_label_dict,\n",
    "                cluster_size_dict=cluster_size_dict,\n",
    "                n_clusters_dict=n_clusters_dict,\n",
    "            )\n",
    "        )\n",
    "    if \"Optimal\" in allocation_methods:\n",
    "        policies.append(\n",
    "            Optimal(\n",
    "                sample_size=sample_size,\n",
    "                random_state=random_state,\n",
    "                allocation_method=\"Optimal\",\n",
    "                cluster_label_dict=cluster_label_dict,\n",
    "                cluster_size_dict=cluster_size_dict,\n",
    "                n_clusters_dict=n_clusters_dict,\n",
    "                m=np.full(n_clusters_dict[\"Optimal\"], m_value),\n",
    "                M=None,\n",
    "            )\n",
    "        )\n",
    "\n",
    "    return policies"
   ]
  },
  {
   "cell_type": "code",
   "execution_count": 31,
   "metadata": {},
   "outputs": [],
   "source": [
    "policies_train = create_policies(\n",
    "    sample_size=SAMPLE_SIZE,\n",
    "    random_state=RANDOM_STATE,\n",
    "    m_value=m_VALUE,\n",
    "    cluster_label_dict=CLUSTER_LABEL_DICT_TRAIN,\n",
    "    cluster_size_dict=CLUSTER_SIZE_DICT_TRAIN,\n",
    "    n_clusters_dict=N_CLUSTERS_DICT_TRAIN,\n",
    "    allocation_methods=ALLOCATION_METHODS,\n",
    ")\n",
    "\n",
    "policies_test = create_policies(\n",
    "    sample_size=SAMPLE_SIZE,\n",
    "    random_state=RANDOM_STATE,\n",
    "    m_value=m_VALUE,\n",
    "    cluster_label_dict=CLUSTER_LABEL_DICT_TEST,\n",
    "    cluster_size_dict=CLUSTER_SIZE_DICT_TEST,\n",
    "    n_clusters_dict=N_CLUSTERS_DICT_TEST,\n",
    "    allocation_methods=ALLOCATION_METHODS,\n",
    ")"
   ]
  },
  {
   "cell_type": "markdown",
   "metadata": {},
   "source": [
    "### 標本配分の実施"
   ]
  },
  {
   "cell_type": "code",
   "execution_count": 32,
   "metadata": {},
   "outputs": [],
   "source": [
    "def cauculate_allocation_dict(\n",
    "    X: NDArray, y: NDArray, policies: list\n",
    ") -> dict[str, NDArray]:\n",
    "    allocation_dict = {}\n",
    "    for policy in policies:\n",
    "        n = policy.solve(X, y)\n",
    "        allocation_dict[policy.__class__.__name__] = n\n",
    "\n",
    "    return allocation_dict"
   ]
  },
  {
   "cell_type": "code",
   "execution_count": 33,
   "metadata": {},
   "outputs": [],
   "source": [
    "ALLOCATION_DICT_TRAIN = cauculate_allocation_dict(\n",
    "    X=X_train_std, y=y_train, policies=policies_train\n",
    ")\n",
    "ALLOCATION_DICT_TEST = cauculate_allocation_dict(\n",
    "    X=X_test_std, y=y_test, policies=policies_test\n",
    ")"
   ]
  },
  {
   "cell_type": "markdown",
   "metadata": {},
   "source": [
    "### 標本配分の結果"
   ]
  },
  {
   "cell_type": "code",
   "execution_count": 34,
   "metadata": {},
   "outputs": [
    {
     "name": "stdout",
     "output_type": "stream",
     "text": [
      "【SFS-Kmeans-Var】\n",
      "訓練データでの標本配分 (Proportional) : [16  4 26  1 30 20  0  0  3  0]\n",
      "テストデータでの標本配分 (Proportional) : [18 20 22 26  3  4  1  0  1  5]\n",
      "訓練データでの標本配分 (Post) : [100]\n",
      "テストデータでの標本配分 (Post) : [100]\n",
      "訓練データでの標本配分 (Optimal) : [19  7 28  3 10  2  2 16  2 11]\n",
      "テストデータでの標本配分 (Optimal) : [ 6 14 24 12  2 23  2 10  2  5]\n"
     ]
    }
   ],
   "source": [
    "print(f\"【{METHOD_NAME}】\")\n",
    "for allocation_method in ALLOCATION_METHODS:\n",
    "    print(\n",
    "        f\"訓練データでの標本配分 ({allocation_method}) : {ALLOCATION_DICT_TRAIN[allocation_method]}\"\n",
    "    )\n",
    "    print(\n",
    "        f\"テストデータでの標本配分 ({allocation_method}) : {ALLOCATION_DICT_TEST[allocation_method]}\"\n",
    "    )"
   ]
  },
  {
   "cell_type": "markdown",
   "metadata": {},
   "source": [
    "---------------------\n",
    "# ６．評価"
   ]
  },
  {
   "cell_type": "markdown",
   "metadata": {},
   "source": [
    "## 6.1 標本平均の分散を計算（単純無作為抽出）"
   ]
  },
  {
   "cell_type": "code",
   "execution_count": 35,
   "metadata": {},
   "outputs": [
    {
     "name": "stdout",
     "output_type": "stream",
     "text": [
      "訓練データでの標本平均の分散 (Random) : 406188.81372499996\n",
      "テストデータでの標本平均の分散 (Random) : 129710.286424\n"
     ]
    }
   ],
   "source": [
    "VAR_RANDOM_TEST = cauculate_var_random(\n",
    "    y=y_test, seed=SEED, n_trials=N_TRIALS, sample_size=SAMPLE_SIZE\n",
    ")\n",
    "\n",
    "print(f\"訓練データでの標本平均の分散 (Random) : {VAR_RANDOM_TRAIN}\")\n",
    "print(f\"テストデータでの標本平均の分散 (Random) : {VAR_RANDOM_TEST}\")"
   ]
  },
  {
   "cell_type": "markdown",
   "metadata": {},
   "source": [
    "## 6.2 標本平均の分散を計算（層化抽出）"
   ]
  },
  {
   "cell_type": "markdown",
   "metadata": {},
   "source": [
    "### 標本平均を計算する関数"
   ]
  },
  {
   "cell_type": "code",
   "execution_count": 36,
   "metadata": {},
   "outputs": [],
   "source": [
    "def estimate_y_mean(n: NDArray, cluster_label: NDArray, y: NDArray) -> float:\n",
    "    \"\"\"実際にサンプリングを行って目的変数の平均を推定\n",
    "\n",
    "    Args:\n",
    "        n (NDArray): 各クラスタの標本数 (H, )\n",
    "        cluster_label (NDArray): クラスタラベル (N, )\n",
    "        y (NDArray): 目的変数 (N, )\n",
    "\n",
    "    Returns:\n",
    "        NDArray: 推定された目的変数の平均\n",
    "\n",
    "    Note:\n",
    "        N: データ数\n",
    "        H: クラスタ数\n",
    "    \"\"\"\n",
    "    N = np.unique(cluster_label, return_counts=True)[1]  # クラスタサイズ (H, )\n",
    "    weights = N / N.sum()\n",
    "    y_hat = 0\n",
    "    for h in range(n.shape[0]):  # n.shape[0]:層の数\n",
    "        if (\n",
    "            0 < n[h] <= len(y[cluster_label == h])\n",
    "        ):  # 最適標本配分で母集団の層hのデータ数が1で, 標本サイズ2の場合は抽出しない\n",
    "            sample: NDArray = np.random.choice(\n",
    "                y[cluster_label == h], n[h], replace=False\n",
    "            )\n",
    "            y_sample_mean = sample.mean()  # サンプリングした標本の平均\n",
    "            y_hat += y_sample_mean * weights[h]\n",
    "    return y_hat\n",
    "\n",
    "\n",
    "def estimate_y_mean_post(n: NDArray, cluster_label: NDArray, y: NDArray) -> float:\n",
    "    N = np.unique(cluster_label, return_counts=True)[1]\n",
    "    weights = N / N.sum()\n",
    "    y_hat = 0\n",
    "\n",
    "    all_indices = np.arange(len(y))  # 全データのインデックス\n",
    "    sample_indices = np.random.choice(all_indices, n[0], replace=False)\n",
    "    sample_labels = np.array([cluster_label[i] for i in sample_indices])\n",
    "\n",
    "    for h in np.unique(sample_labels):\n",
    "        index = np.where(sample_labels == h)[0]\n",
    "        sample = y[sample_indices[index]]\n",
    "        y_sample_mean = sample.mean()\n",
    "        y_hat += y_sample_mean * weights[h]\n",
    "    return y_hat\n"
   ]
  },
  {
   "cell_type": "markdown",
   "metadata": {},
   "source": [
    "### 分散を計算する関数"
   ]
  },
  {
   "cell_type": "code",
   "execution_count": 37,
   "metadata": {},
   "outputs": [],
   "source": [
    "def cauculate_var_stratified_dict(\n",
    "    y: NDArray,\n",
    "    seed: int,\n",
    "    n_trials: int,\n",
    "    allocation_dict: dict,\n",
    "    cluster_label_dict: dict,\n",
    ") -> dict[str, float]:\n",
    "    np.random.seed(seed)\n",
    "    var_stratified_dict = {}\n",
    "\n",
    "    for allocation_method, allocation in allocation_dict.items():\n",
    "        y_hats = []\n",
    "        for i in range(n_trials):\n",
    "            if allocation_method == \"Post\":\n",
    "                y_hat = estimate_y_mean_post(\n",
    "                    allocation, cluster_label_dict[allocation_method], y\n",
    "                )\n",
    "            else:\n",
    "                y_hat = estimate_y_mean(\n",
    "                    allocation, cluster_label_dict[allocation_method], y\n",
    "                )\n",
    "            y_hats.append(y_hat)\n",
    "        y_hats = np.array(y_hats)\n",
    "        var = y_hats.var()\n",
    "        var_stratified_dict[allocation_method] = var\n",
    "\n",
    "    return var_stratified_dict"
   ]
  },
  {
   "cell_type": "markdown",
   "metadata": {},
   "source": [
    "### 分散を計算"
   ]
  },
  {
   "cell_type": "code",
   "execution_count": 38,
   "metadata": {},
   "outputs": [],
   "source": [
    "VAR_STRATIFIED_DICT_TRAIN = cauculate_var_stratified_dict(\n",
    "    y=y_train,\n",
    "    seed=SEED,\n",
    "    n_trials=N_TRIALS,\n",
    "    allocation_dict=ALLOCATION_DICT_TRAIN,\n",
    "    cluster_label_dict=CLUSTER_LABEL_DICT_TRAIN,\n",
    ")\n",
    "VAR_STRATIFIED_DICT_TEST = cauculate_var_stratified_dict(\n",
    "    y=y_test,\n",
    "    seed=SEED,\n",
    "    n_trials=N_TRIALS,\n",
    "    allocation_dict=ALLOCATION_DICT_TEST,\n",
    "    cluster_label_dict=CLUSTER_LABEL_DICT_TEST,\n",
    ")"
   ]
  },
  {
   "cell_type": "code",
   "execution_count": 39,
   "metadata": {},
   "outputs": [
    {
     "name": "stdout",
     "output_type": "stream",
     "text": [
      "訓練データでの標本分散の平均\n",
      "{'Proportional': 158081.21379548882, 'Post': 198115.52397450496, 'Optimal': 185241.8288041572}\n",
      "テストデータでの標本分散の平均\n",
      "{'Proportional': 98656.71465715388, 'Post': 163131.69390210565, 'Optimal': 65872.21041268355}\n"
     ]
    }
   ],
   "source": [
    "print(\"訓練データでの標本分散の平均\")\n",
    "print(VAR_STRATIFIED_DICT_TRAIN)\n",
    "print(\"テストデータでの標本分散の平均\")\n",
    "print(VAR_STRATIFIED_DICT_TEST)"
   ]
  },
  {
   "cell_type": "markdown",
   "metadata": {},
   "source": [
    "## 6.3 分散削減率の計算"
   ]
  },
  {
   "cell_type": "code",
   "execution_count": 40,
   "metadata": {},
   "outputs": [],
   "source": [
    "def cauculate_reduction_rate_dict(\n",
    "    var_stratified_dict: dict, var_random: float\n",
    ") -> dict[str, float]:\n",
    "    reduction_rate_dict = {}\n",
    "    for allocation_method, var in var_stratified_dict.items():\n",
    "        reduction_rate = (1 - var / var_random) * 100\n",
    "        reduction_rate_dict[allocation_method] = reduction_rate\n",
    "\n",
    "    return reduction_rate_dict"
   ]
  },
  {
   "cell_type": "code",
   "execution_count": 41,
   "metadata": {},
   "outputs": [],
   "source": [
    "REDUCTION_RATE_DICT_TRAIN = cauculate_reduction_rate_dict(\n",
    "    VAR_STRATIFIED_DICT_TRAIN, VAR_RANDOM_TRAIN\n",
    ")\n",
    "\n",
    "REDUCTION_RATE_DICT_TEST = cauculate_reduction_rate_dict(\n",
    "    VAR_STRATIFIED_DICT_TEST, VAR_RANDOM_TEST\n",
    ")"
   ]
  },
  {
   "cell_type": "code",
   "execution_count": 42,
   "metadata": {},
   "outputs": [
    {
     "name": "stdout",
     "output_type": "stream",
     "text": [
      "【SFS-Kmeans-Var】\n",
      "訓練データでの標本分散の平均の削減率\n",
      "{'Proportional': 61.08183966323756, 'Post': 51.22575578641263, 'Optimal': 54.39514271568036}\n",
      "テストデータでの標本分散の平均の削減率\n",
      "{'Proportional': 23.940716363340286, 'Post': -25.766196652173722, 'Optimal': 49.21589318108593}\n"
     ]
    }
   ],
   "source": [
    "print(f\"【{METHOD_NAME}】\")\n",
    "print(\"訓練データでの標本分散の平均の削減率\")\n",
    "print(REDUCTION_RATE_DICT_TRAIN)\n",
    "print(\"テストデータでの標本分散の平均の削減率\")\n",
    "print(REDUCTION_RATE_DICT_TEST)"
   ]
  },
  {
   "cell_type": "markdown",
   "metadata": {},
   "source": [
    "## 6.4 結果のプロット"
   ]
  },
  {
   "cell_type": "markdown",
   "metadata": {},
   "source": [
    "### プロットするための関数"
   ]
  },
  {
   "cell_type": "code",
   "execution_count": 43,
   "metadata": {},
   "outputs": [],
   "source": [
    "def plot_bars(\n",
    "    dicts, var_random, target, method_name, title_size, label_size, tick_size\n",
    ") -> plt.Figure:\n",
    "    fig, axs = plt.subplots(1, 2, figsize=(8, 2.5))\n",
    "    ylabels = [\"Var reduction rate\", \"Var\"]\n",
    "    if target == \"GMV\":\n",
    "        ylims = [(0, 40), (0, 400000)]\n",
    "    if target == \"BCR\":\n",
    "        ylims = [(-100, 100), (0, 0.1)]\n",
    "\n",
    "    for i, ax in enumerate(axs):\n",
    "        data = list(dicts[i].values())\n",
    "        labels = list(dicts[i].keys())\n",
    "        bars = ax.bar(labels, data)\n",
    "        if i == 0:\n",
    "            for bar in bars:\n",
    "                yval = bar.get_height()  # 各バーの高さ（値）\n",
    "                ax.text(\n",
    "                    bar.get_x() + bar.get_width() / 2,\n",
    "                    yval,\n",
    "                    round(yval, 2),\n",
    "                    ha=\"center\",\n",
    "                    va=\"bottom\",\n",
    "                    fontsize=label_size,\n",
    "                )  # 値をバーの上に表示\n",
    "        if i == 1:\n",
    "            ax.bar(\"Random\", var_random, color=\"blue\")\n",
    "        ax.set_title(method_name, fontsize=title_size)\n",
    "        ax.set_ylabel(ylabels[i], fontsize=label_size)\n",
    "        ax.tick_params(axis=\"both\", which=\"major\", labelsize=tick_size)\n",
    "        ax.set_ylim(ylims[i])\n",
    "    plt.tight_layout()\n",
    "    plt.show()"
   ]
  },
  {
   "cell_type": "markdown",
   "metadata": {},
   "source": [
    "### 訓練データの結果"
   ]
  },
  {
   "cell_type": "code",
   "execution_count": 44,
   "metadata": {},
   "outputs": [
    {
     "data": {
      "image/png": "[encoded data removed]",
      "text/plain": [
       "<Figure size 800x250 with 2 Axes>"
      ]
     },
     "metadata": {},
     "output_type": "display_data"
    }
   ],
   "source": [
    "plot_bars(\n",
    "    dicts=[\n",
    "        REDUCTION_RATE_DICT_TRAIN,\n",
    "        VAR_STRATIFIED_DICT_TRAIN,\n",
    "    ],\n",
    "    var_random=VAR_RANDOM_TRAIN,\n",
    "    target=TARGET,\n",
    "    method_name=METHOD_NAME,\n",
    "    title_size=TITLE_SIZE,\n",
    "    label_size=LABEL_SIZE,\n",
    "    tick_size=TICK_SIZE,\n",
    ")"
   ]
  },
  {
   "cell_type": "markdown",
   "metadata": {},
   "source": [
    "### テストデータの結果"
   ]
  },
  {
   "cell_type": "code",
   "execution_count": 45,
   "metadata": {},
   "outputs": [
    {
     "data": {
      "image/png": "[encoded data removed]",
      "text/plain": [
       "<Figure size 800x250 with 2 Axes>"
      ]
     },
     "metadata": {},
     "output_type": "display_data"
    }
   ],
   "source": [
    "plot_bars(\n",
    "    dicts=[\n",
    "        REDUCTION_RATE_DICT_TEST,\n",
    "        VAR_STRATIFIED_DICT_TEST,\n",
    "    ],\n",
    "    var_random=VAR_RANDOM_TEST,\n",
    "    target=TARGET,\n",
    "    method_name=METHOD_NAME,\n",
    "    title_size=TITLE_SIZE,\n",
    "    label_size=LABEL_SIZE,\n",
    "    tick_size=TICK_SIZE,\n",
    ")"
   ]
  },
  {
   "cell_type": "code",
   "execution_count": null,
   "metadata": {},
   "outputs": [],
   "source": []
  }
 ],
 "metadata": {
  "kernelspec": {
   "display_name": ".venv",
   "language": "python",
   "name": "python3"
  },
  "language_info": {
   "codemirror_mode": {
    "name": "ipython",
    "version": 3
   },
   "file_extension": ".py",
   "mimetype": "text/x-python",
   "name": "python",
   "nbconvert_exporter": "python",
   "pygments_lexer": "ipython3",
   "version": "3.12.4"
  }
 },
 "nbformat": 4,
 "nbformat_minor": 2
}
