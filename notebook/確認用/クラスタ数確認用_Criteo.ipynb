{
 "cells": [
  {
   "cell_type": "markdown",
   "metadata": {},
   "source": [
    "-------------\n",
    "### ライブラリのインポート＆その他の設定（Importing Libraries & Other Settings）"
   ]
  },
  {
   "cell_type": "code",
   "execution_count": 1,
   "metadata": {},
   "outputs": [],
   "source": [
    "# 基本的なライブラリ\n",
    "import numpy as np\n",
    "import pandas as pd\n",
    "from numpy.typing import NDArray\n",
    "from scipy import stats\n",
    "\n",
    "# Scikit-learn関連\n",
    "from sklearn.base import BaseEstimator, TransformerMixin\n",
    "from sklearn.mixture import GaussianMixture\n",
    "from sklearn.preprocessing import StandardScaler\n",
    "from sklearn.cluster import KMeans\n",
    "from sklearn.utils.validation import check_X_y\n",
    "from sklearn.metrics import silhouette_score\n",
    "from sklearn.metrics import silhouette_samples\n",
    "from sklearn.linear_model import Lasso\n",
    "from sklearn.model_selection import train_test_split\n",
    "\n",
    "# 抽象基底クラス (ABC)\n",
    "from abc import ABCMeta, abstractmethod\n",
    "\n",
    "# タイピングのサポート\n",
    "from typing import Optional\n",
    "\n",
    "# シード設定\n",
    "# from lightning.pytorch import seed_everything\n",
    "# seed_everything(8)\n",
    "\n",
    "# 可視化の設定\n",
    "import matplotlib.pyplot as plt\n",
    "from matplotlib import cm\n",
    "import japanize_matplotlib\n",
    "import itertools\n",
    "\n",
    "plt.style.use(\"ggplot\")"
   ]
  },
  {
   "cell_type": "markdown",
   "metadata": {},
   "source": [
    "--------\n",
    "### 実験設定"
   ]
  },
  {
   "cell_type": "code",
   "execution_count": 2,
   "metadata": {},
   "outputs": [],
   "source": [
    "TARGET = \"visit\"  #'conversion', 'visit'\n",
    "TRAIN_SIZE = 100000\n",
    "TEST_SIZE = 100000\n",
    "\n",
    "RANDOM_STATE = 0  # 乱数シード\n",
    "N_CLUSTERS = 10\n",
    "K_MIN = 2\n",
    "K_MAX = 10"
   ]
  },
  {
   "cell_type": "markdown",
   "metadata": {},
   "source": [
    "-----------\n",
    "### データの前処理（Data Preprocessing）"
   ]
  },
  {
   "cell_type": "code",
   "execution_count": 4,
   "metadata": {},
   "outputs": [
    {
     "name": "stderr",
     "output_type": "stream",
     "text": [
      "C:\\Users\\HaruMomozu\\AppData\\Local\\Temp\\ipykernel_1996\\1855434516.py:1: DtypeWarning: Columns (0,1,2,3,4,5,6,7,8,9,10,11,12,13,14,15) have mixed types. Specify dtype option on import or set low_memory=False.\n",
      "  df_all = pd.read_csv(\n"
     ]
    },
    {
     "name": "stdout",
     "output_type": "stream",
     "text": [
      "列名: ['f0', 'f1', 'f2', 'f3', 'f4', 'f5', 'f6', 'f7', 'f8', 'f9', 'f10', 'f11', 'treatment', 'conversion', 'visit', 'exposure']\n",
      "(11849888, 16)\n",
      "(11273895, 16)\n",
      "(575993, 16)\n",
      "(100000, 16)\n",
      "(100000, 16)\n"
     ]
    }
   ],
   "source": [
    "df_all = pd.read_csv(\n",
    "    R\"C:\\Users\\HaruMomozu\\Documents\\criteo-uplift-v2.1.csv.gz\", sep=\",\", header=None\n",
    ")\n",
    "\n",
    "df_all.columns = df_all.iloc[0]  # 0行目を列名にする\n",
    "df_all = df_all[1:].reset_index(drop=True)\n",
    "\n",
    "column_names = df_all.columns.tolist()\n",
    "print(\"列名:\", column_names)\n",
    "\n",
    "df_treatment = df_all[df_all[\"treatment\"] == 1]\n",
    "df_treatment_0 = df_treatment[df_treatment[TARGET] == 0]\n",
    "df_treatment_1 = df_treatment[df_treatment[TARGET] == 1]\n",
    "print(df_treatment.shape)\n",
    "print(df_treatment_0.shape)\n",
    "print(df_treatment_1.shape)\n",
    "\n",
    "features_list = [\n",
    "    \"f0\",\n",
    "    \"f1\",\n",
    "    \"f2\",\n",
    "    \"f3\",\n",
    "    \"f4\",\n",
    "    \"f5\",\n",
    "    \"f6\",\n",
    "    \"f7\",\n",
    "    \"f8\",\n",
    "    \"f9\",\n",
    "    \"f10\",\n",
    "    \"f11\",\n",
    "]\n",
    "ALL_FEATURES_INDEX = [i for i in range(len(features_list))]\n",
    "\n",
    "df_train_0 = df_treatment_0.iloc[: int(TRAIN_SIZE / 2)]\n",
    "df_train_1 = df_treatment_1.iloc[: int(TRAIN_SIZE / 2)]\n",
    "df_test_0 = df_treatment_0.iloc[\n",
    "    int(TRAIN_SIZE / 2) : int(TRAIN_SIZE / 2 + TEST_SIZE / 2)\n",
    "]\n",
    "df_test_1 = df_treatment_1.iloc[\n",
    "    int(TRAIN_SIZE / 2) : int(TRAIN_SIZE / 2 + TEST_SIZE / 2)\n",
    "]\n",
    "\n",
    "df_train = pd.concat([df_train_0, df_train_1])\n",
    "df_test = pd.concat([df_test_0, df_test_1])\n",
    "print(df_train.shape)\n",
    "print(df_test.shape)\n"
   ]
  },
  {
   "cell_type": "code",
   "execution_count": 5,
   "metadata": {},
   "outputs": [],
   "source": [
    "X_train = df_train[features_list].to_numpy()\n",
    "y_train = df_train[TARGET].to_numpy()\n",
    "\n",
    "X_test = df_test[features_list].to_numpy()\n",
    "y_test = df_test[TARGET].to_numpy()"
   ]
  },
  {
   "cell_type": "code",
   "execution_count": 6,
   "metadata": {},
   "outputs": [],
   "source": [
    "sc = StandardScaler()\n",
    "# 訓練データに基づいてfit\n",
    "sc.fit(X_train)\n",
    "X_train_std = sc.transform(X_train)\n",
    "X_test_std = sc.transform(X_test)"
   ]
  },
  {
   "cell_type": "markdown",
   "metadata": {},
   "source": [
    "-------------\n",
    "### Kmeansのクラスタ数確認"
   ]
  },
  {
   "cell_type": "code",
   "execution_count": 7,
   "metadata": {},
   "outputs": [
    {
     "name": "stdout",
     "output_type": "stream",
     "text": [
      "[ 7169  5432  2221 38228 16118  3838  4132  7732  6522  8608]\n"
     ]
    }
   ],
   "source": [
    "kmeans = KMeans(n_clusters=N_CLUSTERS, random_state=RANDOM_STATE)\n",
    "labels = kmeans.fit_predict(X_test_std)\n",
    "cluster_size = np.bincount(labels)\n",
    "\n",
    "print(cluster_size)"
   ]
  },
  {
   "cell_type": "markdown",
   "metadata": {},
   "source": [
    "-------------\n",
    "### Xmeans で確認"
   ]
  },
  {
   "cell_type": "markdown",
   "metadata": {},
   "source": [
    "##### Xmeans"
   ]
  },
  {
   "cell_type": "code",
   "execution_count": 9,
   "metadata": {},
   "outputs": [],
   "source": [
    "def compute_bic(X, kmeans):\n",
    "    labels = kmeans.labels_\n",
    "    clusters = kmeans.cluster_centers_\n",
    "    n_clusters = len(clusters)\n",
    "    n = len(X)\n",
    "    m = X.shape[1]\n",
    "    variance = np.sum(\n",
    "        [\n",
    "            np.linalg.norm(X[labels == i] - clusters[i], axis=1).sum()\n",
    "            for i in range(n_clusters)\n",
    "        ]\n",
    "    )\n",
    "    bic = np.log(n) * n_clusters * m + n * np.log(variance / n)\n",
    "    return bic\n",
    "\n",
    "\n",
    "def xmeans(X, k_min=2, k_max=10):\n",
    "    kmeans = KMeans(n_clusters=k_min, random_state=RANDOM_STATE)\n",
    "    kmeans.fit(X)\n",
    "    best_bic = compute_bic(X, kmeans)\n",
    "    best_k = k_min\n",
    "    score_dict = {}\n",
    "    score_dict[k_min] = best_bic\n",
    "    for k in range(k_min + 1, k_max + 1):\n",
    "        kmeans = KMeans(n_clusters=k, random_state=RANDOM_STATE)\n",
    "        kmeans.fit(X)\n",
    "        current_bic = compute_bic(X, kmeans)\n",
    "        score_dict[k] = current_bic\n",
    "        if current_bic < best_bic:\n",
    "            best_bic = current_bic\n",
    "            best_k = k\n",
    "    return best_k, score_dict"
   ]
  },
  {
   "cell_type": "markdown",
   "metadata": {},
   "source": [
    "##### クラスタリング結果"
   ]
  },
  {
   "cell_type": "code",
   "execution_count": 10,
   "metadata": {},
   "outputs": [
    {
     "name": "stdout",
     "output_type": "stream",
     "text": [
      "n_clusters chosen in Xmeans: 10\n"
     ]
    },
    {
     "data": {
      "image/png": "[encoded data removed]",
      "text/plain": [
       "<Figure size 640x480 with 1 Axes>"
      ]
     },
     "metadata": {},
     "output_type": "display_data"
    }
   ],
   "source": [
    "best_k, score_dict = xmeans(X_train_std, k_min=K_MIN, k_max=K_MAX)\n",
    "print(\"n_clusters chosen in Xmeans:\", best_k)\n",
    "\n",
    "x = []\n",
    "for k in score_dict.keys():\n",
    "    x.append(str(k))\n",
    "y = [score for score in score_dict.values()]\n",
    "bars = plt.bar(x, y)\n",
    "plt.ylabel(\"BIC\", fontsize=30)\n",
    "plt.xlabel(\"Number of clusters\", fontsize=30)\n",
    "plt.tick_params(axis=\"both\", which=\"major\", labelsize=25)\n",
    "plt.tight_layout()\n",
    "plt.show()"
   ]
  },
  {
   "cell_type": "markdown",
   "metadata": {},
   "source": [
    "-----------------------------\n",
    "### シルエット係数で確認"
   ]
  },
  {
   "cell_type": "code",
   "execution_count": 8,
   "metadata": {},
   "outputs": [],
   "source": [
    "def silhouette(X, k_min=2, k_max=10):\n",
    "    kmeans = KMeans(n_clusters=k_min, random_state=RANDOM_STATE)\n",
    "    kmeans.fit(X)\n",
    "    labels = kmeans.predict(X)\n",
    "    best_score = silhouette_score(X, labels)\n",
    "    score_dict = {}\n",
    "    score_dict[k_min] = best_score\n",
    "    best_k = k_min\n",
    "    for k in range(k_min + 1, k_max + 1):\n",
    "        kmeans = KMeans(n_clusters=k, random_state=RANDOM_STATE)\n",
    "        kmeans.fit(X)\n",
    "        labels = kmeans.predict(X)\n",
    "        current_score = silhouette_score(X, labels)\n",
    "        score_dict[k] = current_score\n",
    "        if current_score > best_score:\n",
    "            best_score = current_score\n",
    "            best_k = k\n",
    "    return best_k, score_dict"
   ]
  },
  {
   "cell_type": "markdown",
   "metadata": {},
   "source": [
    "##### 結果"
   ]
  },
  {
   "cell_type": "code",
   "execution_count": null,
   "metadata": {},
   "outputs": [],
   "source": [
    "best_k, score_dict = silhouette(X_train_std, k_min=K_MIN, k_max=K_MAX)\n",
    "print(\"n_clusters chosen in Xmeans:\", best_k)\n",
    "\n",
    "x = []\n",
    "for k in score_dict.keys():\n",
    "    x.append(str(k))\n",
    "y = [score for score in score_dict.values()]\n",
    "bars = plt.bar(x, y)\n",
    "plt.ylabel(\"Silhouette score\", fontsize=30)\n",
    "plt.xlabel(\"Number of clusters\", fontsize=30)\n",
    "plt.tick_params(axis=\"both\", which=\"major\", labelsize=25)\n",
    "plt.tight_layout()\n",
    "plt.show()"
   ]
  },
  {
   "cell_type": "code",
   "execution_count": 13,
   "metadata": {},
   "outputs": [
    {
     "name": "stdout",
     "output_type": "stream",
     "text": [
      "{2: 0.5248087074627189, 3: 0.5103192480055939, 4: 0.5398580593509058, 5: 0.5478263979203715, 6: 0.5710550597808189, 7: 0.5756617998793672, 8: 0.5800034096882729, 9: 0.4495667235699464, 10: 0.45004305841160547}\n"
     ]
    }
   ],
   "source": [
    "print(score_dict)"
   ]
  },
  {
   "cell_type": "markdown",
   "metadata": {},
   "source": [
    "### シルエット図"
   ]
  },
  {
   "cell_type": "code",
   "execution_count": 14,
   "metadata": {},
   "outputs": [],
   "source": [
    "def plot_silhouette_diagram(n_clusters: int, X):\n",
    "    kmeans = KMeans(n_clusters=n_clusters, random_state=RANDOM_STATE)\n",
    "    labels = kmeans.fit_predict(X)\n",
    "    cluster_labels = np.unique(labels)\n",
    "    n_clusters = cluster_labels.shape[0]\n",
    "\n",
    "    silhouette_vals = silhouette_samples(X, labels, metric=\"euclidean\")\n",
    "    y_ax_lower, y_ax_upper = 0, 0\n",
    "    yticks = []\n",
    "\n",
    "    for i, c in enumerate(cluster_labels):\n",
    "        c_silhouette_vals = silhouette_vals[labels == c]\n",
    "        c_silhouette_vals.sort()\n",
    "        y_ax_upper += len(c_silhouette_vals)\n",
    "        color = cm.jet(float(i) / n_clusters)\n",
    "        plt.barh(\n",
    "            range(y_ax_lower, y_ax_upper),\n",
    "            c_silhouette_vals,\n",
    "            height=1.0,\n",
    "            edgecolor=\"none\",\n",
    "            color=color,\n",
    "        )\n",
    "        yticks.append((y_ax_lower + y_ax_upper) / 2.0)\n",
    "        y_ax_lower += len(c_silhouette_vals)\n",
    "\n",
    "    silhouette_avg = np.mean(silhouette_vals)\n",
    "    plt.axvline(silhouette_avg, color=\"red\", linestyle=\"--\")\n",
    "    plt.yticks(yticks, cluster_labels + 1)\n",
    "    plt.ylabel(\"Cluster\", fontsize=30)\n",
    "    plt.xlabel(\"Silhouette coefficient\", fontsize=30)\n",
    "    plt.tick_params(axis=\"both\", which=\"major\", labelsize=25)\n",
    "    plt.xlim(-0.6, 0.6)\n",
    "    plt.tight_layout()\n",
    "    plt.show()"
   ]
  },
  {
   "cell_type": "code",
   "execution_count": 15,
   "metadata": {},
   "outputs": [],
   "source": [
    "# for n_clusters in range(K_MIN, K_MAX + 1):\n",
    "#     plot_silhouette_diagram(n_clusters=n_clusters, X=X_train_std)"
   ]
  },
  {
   "cell_type": "markdown",
   "metadata": {},
   "source": [
    "-----\n",
    "## エルボー図"
   ]
  },
  {
   "cell_type": "code",
   "execution_count": 16,
   "metadata": {},
   "outputs": [
    {
     "data": {
      "image/png": "[encoded data removed]",
      "text/plain": [
       "<Figure size 640x480 with 1 Axes>"
      ]
     },
     "metadata": {},
     "output_type": "display_data"
    }
   ],
   "source": [
    "distortions = []\n",
    "for i in range(K_MIN - 1, K_MAX + 1):\n",
    "    kmeans = KMeans(n_clusters=i, random_state=RANDOM_STATE)\n",
    "    kmeans.fit(X_train_std)\n",
    "    distortions.append(kmeans.inertia_)\n",
    "\n",
    "plt.plot(range(K_MIN - 1, K_MAX + 1), distortions, marker=\"o\")\n",
    "plt.xlabel(\"Number of clusters\", fontsize=30)\n",
    "plt.ylabel(\"Distortion\", fontsize=30)\n",
    "plt.xticks(range(K_MIN - 1, K_MAX + 1))\n",
    "plt.tick_params(axis=\"both\", labelsize=25)\n",
    "plt.tight_layout()\n",
    "plt.show()"
   ]
  },
  {
   "cell_type": "code",
   "execution_count": null,
   "metadata": {},
   "outputs": [],
   "source": []
  }
 ],
 "metadata": {
  "kernelspec": {
   "display_name": ".venv",
   "language": "python",
   "name": "python3"
  },
  "language_info": {
   "codemirror_mode": {
    "name": "ipython",
    "version": 3
   },
   "file_extension": ".py",
   "mimetype": "text/x-python",
   "name": "python",
   "nbconvert_exporter": "python",
   "pygments_lexer": "ipython3",
   "version": "3.12.4"
  }
 },
 "nbformat": 4,
 "nbformat_minor": 2
}
