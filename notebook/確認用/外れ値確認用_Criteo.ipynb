{
 "cells": [
  {
   "cell_type": "markdown",
   "metadata": {},
   "source": [
    "-------------\n",
    "### ライブラリのインポート"
   ]
  },
  {
   "cell_type": "code",
   "execution_count": 1,
   "metadata": {},
   "outputs": [],
   "source": [
    "# 基本的なライブラリ\n",
    "import numpy as np\n",
    "import pandas as pd\n",
    "from numpy.typing import NDArray\n",
    "from scipy import stats\n",
    "\n",
    "# Scikit-learn関連\n",
    "from sklearn.base import BaseEstimator, TransformerMixin\n",
    "from sklearn.mixture import GaussianMixture\n",
    "from sklearn.preprocessing import StandardScaler\n",
    "from sklearn.cluster import KMeans\n",
    "from sklearn.utils.validation import check_X_y\n",
    "from sklearn.model_selection import train_test_split\n",
    "\n",
    "# 抽象基底クラス (ABC)\n",
    "from abc import ABCMeta, abstractmethod\n",
    "\n",
    "# タイピングのサポート\n",
    "from typing import Optional\n",
    "\n",
    "# 可視化の設定\n",
    "import matplotlib.pyplot as plt\n",
    "import japanize_matplotlib\n",
    "import itertools\n",
    "\n",
    "plt.style.use(\"ggplot\")"
   ]
  },
  {
   "cell_type": "markdown",
   "metadata": {},
   "source": [
    "--------\n",
    "### 実験設定"
   ]
  },
  {
   "cell_type": "code",
   "execution_count": 2,
   "metadata": {},
   "outputs": [],
   "source": [
    "TARGET = \"visit\"  #'conversion', 'visit'\n",
    "TRAIN_SIZE = 100000\n",
    "TEST_SIZE = 100000\n",
    "THRESHOLD_LIST = [2]  # 外れ値除外の閾値\n",
    "\n",
    "RANDOM_STATE = 0  # 乱数シード"
   ]
  },
  {
   "cell_type": "markdown",
   "metadata": {},
   "source": [
    "-----------\n",
    "### データの前処理"
   ]
  },
  {
   "cell_type": "code",
   "execution_count": 3,
   "metadata": {},
   "outputs": [
    {
     "name": "stderr",
     "output_type": "stream",
     "text": [
      "C:\\Users\\HaruMomozu\\AppData\\Local\\Temp\\ipykernel_19864\\2649985821.py:1: DtypeWarning: Columns (0,1,2,3,4,5,6,7,8,9,10,11,12,13,14,15) have mixed types. Specify dtype option on import or set low_memory=False.\n",
      "  df_all = pd.read_csv(\n"
     ]
    },
    {
     "name": "stdout",
     "output_type": "stream",
     "text": [
      "列名: ['f0', 'f1', 'f2', 'f3', 'f4', 'f5', 'f6', 'f7', 'f8', 'f9', 'f10', 'f11', 'treatment', 'conversion', 'visit', 'exposure']\n",
      "(11849888, 16)\n",
      "(11273895, 16)\n",
      "(575993, 16)\n",
      "(100000, 16)\n",
      "(100000, 16)\n"
     ]
    }
   ],
   "source": [
    "df_all = pd.read_csv(\n",
    "    R\"C:\\Users\\HaruMomozu\\Documents\\criteo-uplift-v2.1.csv.gz\", sep=\",\", header=None\n",
    ")\n",
    "\n",
    "df_all.columns = df_all.iloc[0]  # 0行目を列名にする\n",
    "df_all = df_all[1:].reset_index(drop=True)\n",
    "\n",
    "column_names = df_all.columns.tolist()\n",
    "print(\"列名:\", column_names)\n",
    "\n",
    "df_treatment = df_all[df_all[\"treatment\"] == 1]\n",
    "df_treatment_0 = df_treatment[df_treatment[TARGET] == 0]\n",
    "df_treatment_1 = df_treatment[df_treatment[TARGET] == 1]\n",
    "print(df_treatment.shape)\n",
    "print(df_treatment_0.shape)\n",
    "print(df_treatment_1.shape)\n",
    "\n",
    "features_list = [\n",
    "    \"f0\",\n",
    "    \"f1\",\n",
    "    \"f2\",\n",
    "    \"f3\",\n",
    "    \"f4\",\n",
    "    \"f5\",\n",
    "    \"f6\",\n",
    "    \"f7\",\n",
    "    \"f8\",\n",
    "    \"f9\",\n",
    "    \"f10\",\n",
    "    \"f11\",\n",
    "]\n",
    "ALL_FEATURES_INDEX = [i for i in range(len(features_list))]\n",
    "\n",
    "df_train_0 = df_treatment_0.iloc[: int(TRAIN_SIZE / 2)]\n",
    "df_train_1 = df_treatment_1.iloc[: int(TRAIN_SIZE / 2)]\n",
    "df_test_0 = df_treatment_0.iloc[\n",
    "    int(TRAIN_SIZE / 2) : int(TRAIN_SIZE / 2 + TEST_SIZE / 2)\n",
    "]\n",
    "df_test_1 = df_treatment_1.iloc[\n",
    "    int(TRAIN_SIZE / 2) : int(TRAIN_SIZE / 2 + TEST_SIZE / 2)\n",
    "]\n",
    "\n",
    "df_train = pd.concat([df_train_0, df_train_1])\n",
    "df_test = pd.concat([df_test_0, df_test_1])\n",
    "print(df_train.shape)\n",
    "print(df_test.shape)"
   ]
  },
  {
   "cell_type": "markdown",
   "metadata": {},
   "source": [
    "-------------\n",
    "### 外れ値を除外しない場合"
   ]
  },
  {
   "cell_type": "code",
   "execution_count": 4,
   "metadata": {},
   "outputs": [],
   "source": [
    "df = df_train"
   ]
  },
  {
   "cell_type": "code",
   "execution_count": 5,
   "metadata": {},
   "outputs": [
    {
     "name": "stdout",
     "output_type": "stream",
     "text": [
      "全データ数： 100000\n",
      "0のデータ数： 50000\n",
      "1のデータ数： 50000\n",
      "分散： 0.25\n"
     ]
    },
    {
     "data": {
      "image/png": "[encoded data removed]",
      "text/plain": [
       "<Figure size 400x500 with 1 Axes>"
      ]
     },
     "metadata": {},
     "output_type": "display_data"
    }
   ],
   "source": [
    "y = df[TARGET]\n",
    "print(\"全データ数：\", len(df))\n",
    "print(\"0のデータ数：\", len(y[y == 0]))\n",
    "print(\"1のデータ数：\", len(y[y == 1]))\n",
    "print(\"分散：\", np.var(y))\n",
    "# 値が0と1のデータ数を計算\n",
    "counts = y.value_counts()\n",
    "labels = counts.index  # [0, 1]\n",
    "values = counts.values  # [count_0, count_1]\n",
    "\n",
    "# プロット\n",
    "fig, ax = plt.subplots(figsize=(4, 5))\n",
    "bars = ax.bar(labels, values, color=[\"#1f77b4\", \"#ff7f0e\"], alpha=0.7)\n",
    "\n",
    "# 各バーの上に数値を表示\n",
    "for bar, value in zip(bars, values):\n",
    "    ax.text(\n",
    "        bar.get_x() + bar.get_width() / 2,  # バーの中央\n",
    "        bar.get_height(),  # バーの高さ\n",
    "        f\"{value}\",  # 表示する数値\n",
    "        ha=\"center\",\n",
    "        va=\"bottom\",\n",
    "        fontsize=20,\n",
    "    )\n",
    "\n",
    "# ラベルとタイトルを設定\n",
    "ax.set_title(f\"目的変数 {TARGET} の分布\", fontsize=5)\n",
    "ax.set_xlabel(\"Value\", fontsize=20)\n",
    "ax.set_ylabel(\"Count\", fontsize=20)\n",
    "ax.set_xticks([0, 1])  # 横軸の位置を0と1に設定\n",
    "ax.set_xticklabels([\"0\", \"1\"], fontsize=20)  # ラベルを明示的に指定\n",
    "ax.tick_params(axis=\"both\", labelsize=20)\n",
    "\n",
    "plt.tight_layout()\n",
    "plt.show()"
   ]
  },
  {
   "cell_type": "markdown",
   "metadata": {},
   "source": [
    "-------------\n",
    "### 外れ値除外"
   ]
  },
  {
   "cell_type": "code",
   "execution_count": 6,
   "metadata": {},
   "outputs": [],
   "source": [
    "def remove_outliers_zscore(\n",
    "    data: pd.DataFrame, metric: str, threshold: float\n",
    ") -> pd.DataFrame:\n",
    "    z_scores = np.abs(stats.zscore(data[metric]))\n",
    "    data = data[(z_scores < threshold)]\n",
    "    return data"
   ]
  },
  {
   "cell_type": "code",
   "execution_count": 7,
   "metadata": {},
   "outputs": [
    {
     "ename": "TypeError",
     "evalue": "loop of ufunc does not support argument 0 of type float which has no callable sqrt method",
     "output_type": "error",
     "traceback": [
      "\u001b[1;31m---------------------------------------------------------------------------\u001b[0m",
      "\u001b[1;31mAttributeError\u001b[0m                            Traceback (most recent call last)",
      "\u001b[1;31mAttributeError\u001b[0m: 'float' object has no attribute 'sqrt'",
      "\nThe above exception was the direct cause of the following exception:\n",
      "\u001b[1;31mTypeError\u001b[0m                                 Traceback (most recent call last)",
      "Cell \u001b[1;32mIn[7], line 2\u001b[0m\n\u001b[0;32m      1\u001b[0m \u001b[38;5;28;01mfor\u001b[39;00m i \u001b[38;5;129;01min\u001b[39;00m \u001b[38;5;28mrange\u001b[39m(\u001b[38;5;28mlen\u001b[39m(THRESHOLD_LIST)):\n\u001b[1;32m----> 2\u001b[0m     df_outliers_removed \u001b[38;5;241m=\u001b[39m \u001b[43mremove_outliers_zscore\u001b[49m\u001b[43m(\u001b[49m\n\u001b[0;32m      3\u001b[0m \u001b[43m        \u001b[49m\u001b[43mdata\u001b[49m\u001b[38;5;241;43m=\u001b[39;49m\u001b[43mdf\u001b[49m\u001b[43m,\u001b[49m\u001b[43m \u001b[49m\u001b[43mmetric\u001b[49m\u001b[38;5;241;43m=\u001b[39;49m\u001b[43mTARGET\u001b[49m\u001b[43m,\u001b[49m\u001b[43m \u001b[49m\u001b[43mthreshold\u001b[49m\u001b[38;5;241;43m=\u001b[39;49m\u001b[43mTHRESHOLD_LIST\u001b[49m\u001b[43m[\u001b[49m\u001b[43mi\u001b[49m\u001b[43m]\u001b[49m\n\u001b[0;32m      4\u001b[0m \u001b[43m    \u001b[49m\u001b[43m)\u001b[49m\n\u001b[0;32m      5\u001b[0m     df_outliers_removed \u001b[38;5;241m=\u001b[39m df_outliers_removed\u001b[38;5;241m.\u001b[39mreset_index(drop\u001b[38;5;241m=\u001b[39m\u001b[38;5;28;01mTrue\u001b[39;00m)  \u001b[38;5;66;03m# 行を詰める\u001b[39;00m\n\u001b[0;32m      6\u001b[0m     y \u001b[38;5;241m=\u001b[39m df_outliers_removed[TARGET]\n",
      "Cell \u001b[1;32mIn[6], line 4\u001b[0m, in \u001b[0;36mremove_outliers_zscore\u001b[1;34m(data, metric, threshold)\u001b[0m\n\u001b[0;32m      1\u001b[0m \u001b[38;5;28;01mdef\u001b[39;00m \u001b[38;5;21mremove_outliers_zscore\u001b[39m(\n\u001b[0;32m      2\u001b[0m     data: pd\u001b[38;5;241m.\u001b[39mDataFrame, metric: \u001b[38;5;28mstr\u001b[39m, threshold: \u001b[38;5;28mfloat\u001b[39m\n\u001b[0;32m      3\u001b[0m ) \u001b[38;5;241m-\u001b[39m\u001b[38;5;241m>\u001b[39m pd\u001b[38;5;241m.\u001b[39mDataFrame:\n\u001b[1;32m----> 4\u001b[0m     z_scores \u001b[38;5;241m=\u001b[39m np\u001b[38;5;241m.\u001b[39mabs(\u001b[43mstats\u001b[49m\u001b[38;5;241;43m.\u001b[39;49m\u001b[43mzscore\u001b[49m\u001b[43m(\u001b[49m\u001b[43mdata\u001b[49m\u001b[43m[\u001b[49m\u001b[43mmetric\u001b[49m\u001b[43m]\u001b[49m\u001b[43m)\u001b[49m)\n\u001b[0;32m      5\u001b[0m     data \u001b[38;5;241m=\u001b[39m data[(z_scores \u001b[38;5;241m<\u001b[39m threshold)]\n\u001b[0;32m      6\u001b[0m     \u001b[38;5;28;01mreturn\u001b[39;00m data\n",
      "File \u001b[1;32mc:\\Users\\HaruMomozu\\Desktop\\momozu\\ABtesting\\.venv\\Lib\\site-packages\\scipy\\stats\\_stats_py.py:2991\u001b[0m, in \u001b[0;36mzscore\u001b[1;34m(a, axis, ddof, nan_policy)\u001b[0m\n\u001b[0;32m   2909\u001b[0m \u001b[38;5;28;01mdef\u001b[39;00m \u001b[38;5;21mzscore\u001b[39m(a, axis\u001b[38;5;241m=\u001b[39m\u001b[38;5;241m0\u001b[39m, ddof\u001b[38;5;241m=\u001b[39m\u001b[38;5;241m0\u001b[39m, nan_policy\u001b[38;5;241m=\u001b[39m\u001b[38;5;124m'\u001b[39m\u001b[38;5;124mpropagate\u001b[39m\u001b[38;5;124m'\u001b[39m):\n\u001b[0;32m   2910\u001b[0m \u001b[38;5;250m    \u001b[39m\u001b[38;5;124;03m\"\"\"\u001b[39;00m\n\u001b[0;32m   2911\u001b[0m \u001b[38;5;124;03m    Compute the z score.\u001b[39;00m\n\u001b[0;32m   2912\u001b[0m \n\u001b[1;32m   (...)\u001b[0m\n\u001b[0;32m   2989\u001b[0m \u001b[38;5;124;03m           [-0.91611681, -0.89090508,  1.4983032 ,  0.88731639, -0.5785977 ]])\u001b[39;00m\n\u001b[0;32m   2990\u001b[0m \u001b[38;5;124;03m    \"\"\"\u001b[39;00m\n\u001b[1;32m-> 2991\u001b[0m     \u001b[38;5;28;01mreturn\u001b[39;00m \u001b[43mzmap\u001b[49m\u001b[43m(\u001b[49m\u001b[43ma\u001b[49m\u001b[43m,\u001b[49m\u001b[43m \u001b[49m\u001b[43ma\u001b[49m\u001b[43m,\u001b[49m\u001b[43m \u001b[49m\u001b[43maxis\u001b[49m\u001b[38;5;241;43m=\u001b[39;49m\u001b[43maxis\u001b[49m\u001b[43m,\u001b[49m\u001b[43m \u001b[49m\u001b[43mddof\u001b[49m\u001b[38;5;241;43m=\u001b[39;49m\u001b[43mddof\u001b[49m\u001b[43m,\u001b[49m\u001b[43m \u001b[49m\u001b[43mnan_policy\u001b[49m\u001b[38;5;241;43m=\u001b[39;49m\u001b[43mnan_policy\u001b[49m\u001b[43m)\u001b[49m\n",
      "File \u001b[1;32mc:\\Users\\HaruMomozu\\Desktop\\momozu\\ABtesting\\.venv\\Lib\\site-packages\\scipy\\stats\\_stats_py.py:3156\u001b[0m, in \u001b[0;36mzmap\u001b[1;34m(scores, compare, axis, ddof, nan_policy)\u001b[0m\n\u001b[0;32m   3154\u001b[0m \u001b[38;5;28;01melse\u001b[39;00m:\n\u001b[0;32m   3155\u001b[0m     mn \u001b[38;5;241m=\u001b[39m a\u001b[38;5;241m.\u001b[39mmean(axis\u001b[38;5;241m=\u001b[39maxis, keepdims\u001b[38;5;241m=\u001b[39m\u001b[38;5;28;01mTrue\u001b[39;00m)\n\u001b[1;32m-> 3156\u001b[0m     std \u001b[38;5;241m=\u001b[39m \u001b[43ma\u001b[49m\u001b[38;5;241;43m.\u001b[39;49m\u001b[43mstd\u001b[49m\u001b[43m(\u001b[49m\u001b[43maxis\u001b[49m\u001b[38;5;241;43m=\u001b[39;49m\u001b[43maxis\u001b[49m\u001b[43m,\u001b[49m\u001b[43m \u001b[49m\u001b[43mddof\u001b[49m\u001b[38;5;241;43m=\u001b[39;49m\u001b[43mddof\u001b[49m\u001b[43m,\u001b[49m\u001b[43m \u001b[49m\u001b[43mkeepdims\u001b[49m\u001b[38;5;241;43m=\u001b[39;49m\u001b[38;5;28;43;01mTrue\u001b[39;49;00m\u001b[43m)\u001b[49m\n\u001b[0;32m   3157\u001b[0m     \u001b[38;5;66;03m# The intent is to check whether all elements of `a` along `axis` are\u001b[39;00m\n\u001b[0;32m   3158\u001b[0m     \u001b[38;5;66;03m# identical. Due to finite precision arithmetic, comparing elements\u001b[39;00m\n\u001b[0;32m   3159\u001b[0m     \u001b[38;5;66;03m# against `mn` doesn't work. Previously, this compared elements to\u001b[39;00m\n\u001b[0;32m   3160\u001b[0m     \u001b[38;5;66;03m# `_first`, but that extracts the element at index 0 regardless of\u001b[39;00m\n\u001b[0;32m   3161\u001b[0m     \u001b[38;5;66;03m# whether it is masked. As a simple fix, compare against `min`.\u001b[39;00m\n\u001b[0;32m   3162\u001b[0m     a0 \u001b[38;5;241m=\u001b[39m a\u001b[38;5;241m.\u001b[39mmin(axis\u001b[38;5;241m=\u001b[39maxis, keepdims\u001b[38;5;241m=\u001b[39m\u001b[38;5;28;01mTrue\u001b[39;00m)\n",
      "File \u001b[1;32mc:\\Users\\HaruMomozu\\Desktop\\momozu\\ABtesting\\.venv\\Lib\\site-packages\\numpy\\core\\_methods.py:210\u001b[0m, in \u001b[0;36m_std\u001b[1;34m(a, axis, dtype, out, ddof, keepdims, where)\u001b[0m\n\u001b[0;32m    206\u001b[0m ret \u001b[38;5;241m=\u001b[39m _var(a, axis\u001b[38;5;241m=\u001b[39maxis, dtype\u001b[38;5;241m=\u001b[39mdtype, out\u001b[38;5;241m=\u001b[39mout, ddof\u001b[38;5;241m=\u001b[39mddof,\n\u001b[0;32m    207\u001b[0m            keepdims\u001b[38;5;241m=\u001b[39mkeepdims, where\u001b[38;5;241m=\u001b[39mwhere)\n\u001b[0;32m    209\u001b[0m \u001b[38;5;28;01mif\u001b[39;00m \u001b[38;5;28misinstance\u001b[39m(ret, mu\u001b[38;5;241m.\u001b[39mndarray):\n\u001b[1;32m--> 210\u001b[0m     ret \u001b[38;5;241m=\u001b[39m \u001b[43mum\u001b[49m\u001b[38;5;241;43m.\u001b[39;49m\u001b[43msqrt\u001b[49m\u001b[43m(\u001b[49m\u001b[43mret\u001b[49m\u001b[43m,\u001b[49m\u001b[43m \u001b[49m\u001b[43mout\u001b[49m\u001b[38;5;241;43m=\u001b[39;49m\u001b[43mret\u001b[49m\u001b[43m)\u001b[49m\n\u001b[0;32m    211\u001b[0m \u001b[38;5;28;01melif\u001b[39;00m \u001b[38;5;28mhasattr\u001b[39m(ret, \u001b[38;5;124m'\u001b[39m\u001b[38;5;124mdtype\u001b[39m\u001b[38;5;124m'\u001b[39m):\n\u001b[0;32m    212\u001b[0m     ret \u001b[38;5;241m=\u001b[39m ret\u001b[38;5;241m.\u001b[39mdtype\u001b[38;5;241m.\u001b[39mtype(um\u001b[38;5;241m.\u001b[39msqrt(ret))\n",
      "\u001b[1;31mTypeError\u001b[0m: loop of ufunc does not support argument 0 of type float which has no callable sqrt method"
     ]
    }
   ],
   "source": [
    "for i in range(len(THRESHOLD_LIST)):\n",
    "    df_outliers_removed = remove_outliers_zscore(\n",
    "        data=df, metric=TARGET, threshold=THRESHOLD_LIST[i]\n",
    "    )\n",
    "    df_outliers_removed = df_outliers_removed.reset_index(drop=True)  # 行を詰める\n",
    "    y = df_outliers_removed[TARGET]\n",
    "    print(f\"閾値：{THRESHOLD_LIST[i]}\")\n",
    "    print(\"外れ値除外前のデータ数（訓練+テスト）:\", len(df_train))\n",
    "    print(\"外れ値除外後のデータ数（訓練+テスト）:\", len(df_outliers_removed))\n",
    "    print(\"除外されたデータ数：\", len(df_train) - len(df_outliers_removed))\n",
    "\n",
    "    counts = y.value_counts()\n",
    "    labels = counts.index  # [0, 1]\n",
    "    values = counts.values  # [count_0, count_1]\n",
    "\n",
    "    # プロット\n",
    "    fig, ax = plt.subplots(figsize=(4, 5))\n",
    "    bars = ax.bar(labels, values, color=[\"#1f77b4\", \"#ff7f0e\"], alpha=0.7)\n",
    "\n",
    "    # 各バーの上に数値を表示\n",
    "    for bar, value in zip(bars, values):\n",
    "        ax.text(\n",
    "            bar.get_x() + bar.get_width() / 2,  # バーの中央\n",
    "            bar.get_height(),  # バーの高さ\n",
    "            f\"{value}\",  # 表示する数値\n",
    "            ha=\"center\",\n",
    "            va=\"bottom\",\n",
    "            fontsize=20,\n",
    "        )\n",
    "\n",
    "    # ラベルとタイトルを設定\n",
    "    ax.set_title(f\"目的変数 {TARGET} の分布\", fontsize=5)\n",
    "    ax.set_xlabel(\"Value\", fontsize=20)\n",
    "    ax.set_ylabel(\"Count\", fontsize=20)\n",
    "    ax.set_xticks([0, 1])  # 横軸の位置を0と1に設定\n",
    "    ax.set_xticklabels([\"0\", \"1\"], fontsize=20)  # ラベルを明示的に指定\n",
    "    ax.tick_params(axis=\"both\", labelsize=20)\n",
    "\n",
    "    plt.tight_layout()\n",
    "    plt.show()"
   ]
  },
  {
   "cell_type": "code",
   "execution_count": null,
   "metadata": {},
   "outputs": [],
   "source": []
  }
 ],
 "metadata": {
  "kernelspec": {
   "display_name": ".venv",
   "language": "python",
   "name": "python3"
  },
  "language_info": {
   "codemirror_mode": {
    "name": "ipython",
    "version": 3
   },
   "file_extension": ".py",
   "mimetype": "text/x-python",
   "name": "python",
   "nbconvert_exporter": "python",
   "pygments_lexer": "ipython3",
   "version": "3.12.4"
  }
 },
 "nbformat": 4,
 "nbformat_minor": 2
}
