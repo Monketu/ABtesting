{
 "cells": [
  {
   "cell_type": "markdown",
   "metadata": {},
   "source": [
    "-------------\n",
    "### ライブラリのインポート"
   ]
  },
  {
   "cell_type": "code",
   "execution_count": 1,
   "metadata": {},
   "outputs": [],
   "source": [
    "# 基本的なライブラリ\n",
    "import numpy as np\n",
    "import pandas as pd\n",
    "from numpy.typing import NDArray\n",
    "from scipy import stats\n",
    "\n",
    "# Scikit-learn関連\n",
    "from sklearn.base import BaseEstimator, TransformerMixin\n",
    "from sklearn.mixture import GaussianMixture\n",
    "from sklearn.preprocessing import StandardScaler\n",
    "from sklearn.cluster import KMeans\n",
    "from sklearn.utils.validation import check_X_y\n",
    "from sklearn.model_selection import train_test_split\n",
    "\n",
    "# 抽象基底クラス (ABC)\n",
    "from abc import ABCMeta, abstractmethod\n",
    "\n",
    "# タイピングのサポート\n",
    "from typing import Optional\n",
    "\n",
    "# 可視化の設定\n",
    "import matplotlib.pyplot as plt\n",
    "import japanize_matplotlib\n",
    "import itertools\n",
    "\n",
    "plt.style.use(\"ggplot\")"
   ]
  },
  {
   "cell_type": "markdown",
   "metadata": {},
   "source": [
    "--------\n",
    "### 実験設定"
   ]
  },
  {
   "cell_type": "code",
   "execution_count": 2,
   "metadata": {},
   "outputs": [],
   "source": [
    "TARGET = \"visit\"  #'conversion', 'visit'\n",
    "TRAIN_SIZE = 100000\n",
    "TEST_SIZE = 100000\n",
    "THRESHOLD_LIST = [2]  # 外れ値除外の閾値\n",
    "\n",
    "RANDOM_STATE = 0  # 乱数シード"
   ]
  },
  {
   "cell_type": "markdown",
   "metadata": {},
   "source": [
    "-----------\n",
    "### データの前処理"
   ]
  },
  {
   "cell_type": "code",
   "execution_count": 3,
   "metadata": {},
   "outputs": [
    {
     "name": "stderr",
     "output_type": "stream",
     "text": [
      "C:\\Users\\HaruMomozu\\AppData\\Local\\Temp\\ipykernel_26440\\3732050434.py:1: DtypeWarning: Columns (0,1,2,3,4,5,6,7,8,9,10,11,12,13,14,15) have mixed types. Specify dtype option on import or set low_memory=False.\n",
      "  df_all = pd.read_csv(\n"
     ]
    },
    {
     "name": "stdout",
     "output_type": "stream",
     "text": [
      "列名: ['f0', 'f1', 'f2', 'f3', 'f4', 'f5', 'f6', 'f7', 'f8', 'f9', 'f10', 'f11', 'treatment', 'conversion', 'visit', 'exposure']\n",
      "0                f0         f1        f2        f3         f4        f5  \\\n",
      "5571799   12.974809  10.059654  8.761255  2.293959  10.280525  4.115453   \n",
      "5571800   16.177822  10.059654  8.214383  3.359763  10.280525  4.115453   \n",
      "5571801   12.616365  10.059654  8.497501  4.679882  10.280525  4.115453   \n",
      "5571802   26.683908  10.059654  8.214383  4.679882  10.280525  4.115453   \n",
      "5571803   24.359765  10.059654  8.214383  4.679882  10.280525  4.115453   \n",
      "...             ...        ...       ...       ...        ...       ...   \n",
      "13168501  12.616365  10.059654  9.050352  4.679882  10.280525  4.115453   \n",
      "13168502  12.616365  10.059654  9.037968  4.679882  10.280525  4.115453   \n",
      "13168503  12.616365  10.059654  8.815655  4.679882  10.280525  4.115453   \n",
      "13168504  15.950327  10.059654  8.412691 -1.025575  10.280525  4.115453   \n",
      "13168505  12.616365  10.059654  8.866528  4.679882  10.280525  4.115453   \n",
      "\n",
      "0                f6        f7        f8         f9       f10       f11  \\\n",
      "5571799   -5.116672  4.833815  3.955396  13.190056  5.300375 -0.168679   \n",
      "5571800   -2.411115  4.833815  3.971858  13.190056  5.300375 -0.168679   \n",
      "5571801    0.294443  4.833815  3.955396  16.226044  5.300375 -0.168679   \n",
      "5571802   -11.68107  4.833815  3.971858  13.190056  5.300375 -0.168679   \n",
      "5571803  -11.944313  4.833815  3.971858  13.190056  5.300375 -0.168679   \n",
      "...             ...       ...       ...        ...       ...       ...   \n",
      "13168501   0.294443  4.833815  3.943716  13.190056  5.300375 -0.168679   \n",
      "13168502   0.294443  4.833815  3.955396  13.190056  5.300375 -0.168679   \n",
      "13168503   0.294443  4.833815  3.943716  13.190056  5.300375 -0.168679   \n",
      "13168504 -11.398781  4.833815  3.788939  25.240993  5.300375 -0.168679   \n",
      "13168505   0.294443  4.833815  3.906514  13.190056  5.300375 -0.168679   \n",
      "\n",
      "0        treatment conversion visit exposure  \n",
      "5571799          0          0     0        0  \n",
      "5571800          0          0     0        0  \n",
      "5571801          0          0     0        0  \n",
      "5571802          0          0     0        0  \n",
      "5571803          0          0     0        0  \n",
      "...            ...        ...   ...      ...  \n",
      "13168501         0          0     0        0  \n",
      "13168502         0          0     0        0  \n",
      "13168503         0          0     0        0  \n",
      "13168504         0          0     0        0  \n",
      "13168505         0          0     0        0  \n",
      "\n",
      "[2096937 rows x 16 columns]\n",
      "0                f0         f1        f2        f3         f4        f5  \\\n",
      "32767     24.895486  10.059654  8.214383  4.679882  10.280525  4.115453   \n",
      "32768     26.477021  10.059654  8.214383  4.679882  10.280525  4.115453   \n",
      "32769     23.716202  10.059654  8.214383  4.679882  10.280525  4.115453   \n",
      "32770     23.571239  10.059654  8.214383  4.679882  10.280525  4.115453   \n",
      "32771     23.818417  10.059654  8.214383  4.679882  10.280525  4.115453   \n",
      "...             ...        ...       ...       ...        ...       ...   \n",
      "13979587  26.297764  10.059654   9.00625  4.679882  10.280525  4.115453   \n",
      "13979588  12.642207  10.679513  8.214383 -1.700105  10.280525  3.013064   \n",
      "13979589  12.976557  10.059654  8.381868  0.842442  11.029584  4.115453   \n",
      "13979590  24.805064  10.059654  8.214383  4.679882  10.280525  4.115453   \n",
      "13979591  12.616365  10.059654  8.214383  4.679882  10.280525  3.013064   \n",
      "\n",
      "0               f6        f7        f8         f9       f10       f11  \\\n",
      "32767    -9.238756  4.833815  3.971858  13.190056  5.300375 -0.168679   \n",
      "32768    -7.570316  4.833815  3.971858  13.190056  5.300375 -0.168679   \n",
      "32769    -5.116672  4.833815  3.971858  13.190056  5.300375 -0.168679   \n",
      "32770    -2.411115  4.833815  3.971858  13.190056  5.300375 -0.168679   \n",
      "32771    -1.288207  4.833815  3.971858  13.190056  5.300375 -0.168679   \n",
      "...            ...       ...       ...        ...       ...       ...   \n",
      "13979587 -3.282109  4.833815  3.839578  13.190056  5.300375 -0.168679   \n",
      "13979588 -13.95515  6.269026  3.971858  13.190056  5.300375 -0.168679   \n",
      "13979589 -8.281971  4.833815  3.779212  23.570168  6.169187 -0.168679   \n",
      "13979590 -1.288207  4.833815  3.971858  13.190056  5.300375 -0.168679   \n",
      "13979591  0.294443  9.332563  3.971858  13.190056  5.300375 -0.168679   \n",
      "\n",
      "0        treatment conversion visit exposure  \n",
      "32767            1          0     0        0  \n",
      "32768            1          0     0        0  \n",
      "32769            1          0     0        0  \n",
      "32770            1          0     0        0  \n",
      "32771            1          0     0        0  \n",
      "...            ...        ...   ...      ...  \n",
      "13979587         1          0     0        0  \n",
      "13979588         1          0     0        1  \n",
      "13979589         1          0     1        0  \n",
      "13979590         1          0     0        0  \n",
      "13979591         1          0     0        0  \n",
      "\n",
      "[11849888 rows x 16 columns]\n"
     ]
    }
   ],
   "source": [
    "df_all = pd.read_csv(\n",
    "    R\"C:\\Users\\HaruMomozu\\Documents\\criteo-uplift-v2.1.csv.gz\", sep=\",\", header=None\n",
    ")\n",
    "\n",
    "df_all.columns = df_all.iloc[0]  # 0行目を列名にする\n",
    "df_all = df_all[1:].reset_index(drop=True)\n",
    "\n",
    "column_names = df_all.columns.tolist()\n",
    "print(\"列名:\", column_names)\n",
    "\n",
    "df_control = df_all[df_all[\"treatment\"] == 0]\n",
    "df_treatment = df_all[df_all[\"treatment\"] == 1]\n",
    "df_other = df_all[(df_all[\"treatment\"] != 0) & (df_all[\"treatment\"] != 1)]\n",
    "print(df_control)\n",
    "print(df_treatment)\n",
    "\n",
    "features_list = [\n",
    "    \"f0\",\n",
    "    \"f1\",\n",
    "    \"f2\",\n",
    "    \"f3\",\n",
    "    \"f4\",\n",
    "    \"f5\",\n",
    "    \"f6\",\n",
    "    \"f7\",\n",
    "    \"f8\",\n",
    "    \"f9\",\n",
    "    \"f10\",\n",
    "    \"f11\",\n",
    "]\n",
    "ALL_FEATURES_INDEX = [i for i in range(len(features_list))]\n",
    "\n",
    "df_train = df_control.iloc[:TRAIN_SIZE]\n",
    "df_test = df_control.iloc[100000 : TEST_SIZE + 100000]"
   ]
  },
  {
   "cell_type": "code",
   "execution_count": 16,
   "metadata": {},
   "outputs": [
    {
     "name": "stdout",
     "output_type": "stream",
     "text": [
      "13979592\n",
      "2096937\n",
      "11849888\n",
      "32767\n",
      "[0 1]\n"
     ]
    }
   ],
   "source": [
    "print(len(df_all))\n",
    "print(len(df_control))\n",
    "print(len(df_treatment))\n",
    "print(len(df_other))\n",
    "unique_values = df_treatment[\"exposure\"].unique()\n",
    "print(unique_values)\n"
   ]
  },
  {
   "cell_type": "markdown",
   "metadata": {},
   "source": [
    "欠損値除去"
   ]
  },
  {
   "cell_type": "code",
   "execution_count": 5,
   "metadata": {},
   "outputs": [],
   "source": [
    "def remove_nan(data: pd.DataFrame) -> tuple[pd.DataFrame, pd.DataFrame]:\n",
    "    # 各列に対して、pd.to_numericを使用して数値に変換（エラーがあればNaNにする）\n",
    "    df_numeric = data.apply(lambda col: pd.to_numeric(col, errors=\"coerce\"))\n",
    "\n",
    "    # 数値に変換できなかった行を抽出（NaNを含む行）\n",
    "    df_excluded = data[df_numeric.isna().any(axis=1)]\n",
    "\n",
    "    # NaNを含む行を削除\n",
    "    df_clean = df_numeric.dropna()\n",
    "\n",
    "    return df_excluded, df_clean"
   ]
  },
  {
   "cell_type": "code",
   "execution_count": 6,
   "metadata": {},
   "outputs": [
    {
     "name": "stdout",
     "output_type": "stream",
     "text": [
      "Empty DataFrame\n",
      "Columns: [f0, f1, f2, f3, f4, f5, f6, f7, f8, f9, f10, f11, treatment, conversion, visit, exposure]\n",
      "Index: []\n",
      "0               f0         f1        f2        f3         f4        f5  \\\n",
      "5571799  12.974809  10.059654  8.761255  2.293959  10.280525  4.115453   \n",
      "5571800  16.177822  10.059654  8.214383  3.359763  10.280525  4.115453   \n",
      "5571801  12.616365  10.059654  8.497501  4.679882  10.280525  4.115453   \n",
      "5571802  26.683908  10.059654  8.214383  4.679882  10.280525  4.115453   \n",
      "5571803  24.359765  10.059654  8.214383  4.679882  10.280525  4.115453   \n",
      "...            ...        ...       ...       ...        ...       ...   \n",
      "5671794  22.723913  10.059654  8.214383  4.679882  10.280525  4.115453   \n",
      "5671795  23.767681  10.059654  8.214383  4.679882  10.280525  4.115453   \n",
      "5671796  26.109300  10.059654  8.214383  4.679882  10.280525  4.115453   \n",
      "5671797  22.483665  10.059654  8.214383  4.679882  10.280525  4.115453   \n",
      "5671798  12.616365  10.059654  8.787649  4.679882  10.280525  4.115453   \n",
      "\n",
      "0               f6        f7        f8         f9       f10       f11  \\\n",
      "5571799  -5.116672  4.833815  3.955396  13.190056  5.300375 -0.168679   \n",
      "5571800  -2.411115  4.833815  3.971858  13.190056  5.300375 -0.168679   \n",
      "5571801   0.294443  4.833815  3.955396  16.226044  5.300375 -0.168679   \n",
      "5571802 -11.681070  4.833815  3.971858  13.190056  5.300375 -0.168679   \n",
      "5571803 -11.944313  4.833815  3.971858  13.190056  5.300375 -0.168679   \n",
      "...            ...       ...       ...        ...       ...       ...   \n",
      "5671794  -1.288207  4.833815  3.971858  13.190056  5.300375 -0.168679   \n",
      "5671795  -3.282109  4.833815  3.971858  13.190056  5.300375 -0.168679   \n",
      "5671796  -8.058865  4.833815  3.971858  13.190056  5.300375 -0.168679   \n",
      "5671797  -9.564219  4.833815  3.971858  13.190056  5.300375 -0.168679   \n",
      "5671798   0.294443  4.833815  3.943716  13.190056  5.300375 -0.168679   \n",
      "\n",
      "0        treatment  conversion  visit  exposure  \n",
      "5571799          0           0      0         0  \n",
      "5571800          0           0      0         0  \n",
      "5571801          0           0      0         0  \n",
      "5571802          0           0      0         0  \n",
      "5571803          0           0      0         0  \n",
      "...            ...         ...    ...       ...  \n",
      "5671794          0           0      0         0  \n",
      "5671795          0           0      0         0  \n",
      "5671796          0           0      0         0  \n",
      "5671797          0           0      0         0  \n",
      "5671798          0           0      0         0  \n",
      "\n",
      "[100000 rows x 16 columns]\n",
      "\n",
      "Empty DataFrame\n",
      "Columns: [f0, f1, f2, f3, f4, f5, f6, f7, f8, f9, f10, f11, treatment, conversion, visit, exposure]\n",
      "Index: []\n",
      "0               f0         f1        f2        f3         f4        f5  \\\n",
      "5671799  19.751193  10.059654  8.293412  3.907662  10.280525  4.115453   \n",
      "5671800  17.574697  10.059654  8.214383  1.614662  10.280525  4.115453   \n",
      "5671801  25.719056  10.059654  8.214383  4.679882  10.280525  4.115453   \n",
      "5671802  14.210652  10.059654  9.032158  1.614662  10.280525  2.230907   \n",
      "5671803  12.616365  10.059654  8.785365  4.679882  10.280525  4.115453   \n",
      "...            ...        ...       ...       ...        ...       ...   \n",
      "5771794  26.146871  10.059654  8.214383  4.679882  10.280525  4.115453   \n",
      "5771795  23.948001  10.059654  8.214383  4.679882  10.280525  4.115453   \n",
      "5771796  24.209411  10.059654  8.214383  4.679882  10.280525  4.115453   \n",
      "5771797  24.371831  10.059654  8.214383  4.679882  10.280525  4.115453   \n",
      "5771798  16.191885  10.059654  8.428191  1.433141  10.280525  4.115453   \n",
      "\n",
      "0               f6        f7        f8         f9       f10       f11  \\\n",
      "5671799  -5.987667  4.833815  3.943716  18.380112  5.300375 -0.168679   \n",
      "5671800  -5.987667  4.833815  3.971858  13.190056  5.300375 -0.168679   \n",
      "5671801  -3.993764  4.833815  3.971858  13.190056  5.300375 -0.168679   \n",
      "5671802 -10.403862  9.951319  3.920995  13.190056  5.300375 -0.168679   \n",
      "5671803   0.294443  4.833815  3.955396  13.190056  5.300375 -0.168679   \n",
      "...            ...       ...       ...        ...       ...       ...   \n",
      "5771794  -3.282109  4.833815  3.971858  13.190056  5.300375 -0.168679   \n",
      "5771795  -4.595460  4.833815  3.971858  13.190056  5.300375 -0.168679   \n",
      "5771796 -12.422866  4.833815  3.971858  13.190056  5.300375 -0.168679   \n",
      "5771797  -1.288207  4.833815  3.971858  13.190056  5.300375 -0.168679   \n",
      "5771798  -6.359690  4.833815  3.927254  21.416100  5.300375 -0.168679   \n",
      "\n",
      "0        treatment  conversion  visit  exposure  \n",
      "5671799          0           0      0         0  \n",
      "5671800          0           0      0         0  \n",
      "5671801          0           0      0         0  \n",
      "5671802          0           0      0         0  \n",
      "5671803          0           0      0         0  \n",
      "...            ...         ...    ...       ...  \n",
      "5771794          0           0      0         0  \n",
      "5771795          0           0      0         0  \n",
      "5771796          0           0      0         0  \n",
      "5771797          0           0      0         0  \n",
      "5771798          0           0      0         0  \n",
      "\n",
      "[100000 rows x 16 columns]\n"
     ]
    }
   ],
   "source": [
    "df_train_ex, df_train_clean = remove_nan(df_train)\n",
    "df_test_ex, df_test_clean = remove_nan(df_test)\n",
    "print(df_train_ex)\n",
    "print(df_train_clean)\n",
    "print()\n",
    "print(df_test_ex)\n",
    "print(df_test_clean)"
   ]
  },
  {
   "cell_type": "markdown",
   "metadata": {},
   "source": [
    "-------------\n",
    "### 外れ値を除外しない場合"
   ]
  },
  {
   "cell_type": "code",
   "execution_count": 7,
   "metadata": {},
   "outputs": [],
   "source": [
    "df = df_train_clean"
   ]
  },
  {
   "cell_type": "code",
   "execution_count": 8,
   "metadata": {},
   "outputs": [
    {
     "name": "stdout",
     "output_type": "stream",
     "text": [
      "全データ数： 100000\n",
      "0のデータ数： 97750\n",
      "1のデータ数： 2250\n",
      "分散： 0.02199375000000001\n"
     ]
    },
    {
     "data": {
      "image/png": "[encoded data removed]",
      "text/plain": [
       "<Figure size 400x500 with 1 Axes>"
      ]
     },
     "metadata": {},
     "output_type": "display_data"
    }
   ],
   "source": [
    "y = df[TARGET]\n",
    "print(\"全データ数：\", len(df))\n",
    "print(\"0のデータ数：\", len(y[y == 0]))\n",
    "print(\"1のデータ数：\", len(y[y == 1]))\n",
    "print(\"分散：\", np.var(y))\n",
    "# 値が0と1のデータ数を計算\n",
    "counts = y.value_counts()\n",
    "labels = counts.index  # [0, 1]\n",
    "values = counts.values  # [count_0, count_1]\n",
    "\n",
    "# プロット\n",
    "fig, ax = plt.subplots(figsize=(4, 5))\n",
    "bars = ax.bar(labels, values, color=[\"#1f77b4\", \"#ff7f0e\"], alpha=0.7)\n",
    "\n",
    "# 各バーの上に数値を表示\n",
    "for bar, value in zip(bars, values):\n",
    "    ax.text(\n",
    "        bar.get_x() + bar.get_width() / 2,  # バーの中央\n",
    "        bar.get_height(),  # バーの高さ\n",
    "        f\"{value}\",  # 表示する数値\n",
    "        ha=\"center\",\n",
    "        va=\"bottom\",\n",
    "        fontsize=20,\n",
    "    )\n",
    "\n",
    "# ラベルとタイトルを設定\n",
    "ax.set_title(f\"目的変数 {TARGET} の分布\", fontsize=5)\n",
    "ax.set_xlabel(\"Value\", fontsize=20)\n",
    "ax.set_ylabel(\"Count\", fontsize=20)\n",
    "ax.set_xticks([0, 1])  # 横軸の位置を0と1に設定\n",
    "ax.set_xticklabels([\"0\", \"1\"], fontsize=20)  # ラベルを明示的に指定\n",
    "ax.tick_params(axis=\"both\", labelsize=20)\n",
    "\n",
    "plt.tight_layout()\n",
    "plt.show()"
   ]
  },
  {
   "cell_type": "markdown",
   "metadata": {},
   "source": [
    "-------------\n",
    "### 外れ値除外"
   ]
  },
  {
   "cell_type": "code",
   "execution_count": 9,
   "metadata": {},
   "outputs": [],
   "source": [
    "def remove_outliers_zscore(\n",
    "    data: pd.DataFrame, metric: str, threshold: float\n",
    ") -> pd.DataFrame:\n",
    "    z_scores = np.abs(stats.zscore(data[metric]))\n",
    "    data = data[(z_scores < threshold)]\n",
    "    return data"
   ]
  },
  {
   "cell_type": "code",
   "execution_count": 10,
   "metadata": {},
   "outputs": [
    {
     "name": "stdout",
     "output_type": "stream",
     "text": [
      "閾値：2\n",
      "外れ値除外前のデータ数（訓練+テスト）: 100000\n",
      "外れ値除外後のデータ数（訓練+テスト）: 97750\n",
      "除外されたデータ数： 2250\n"
     ]
    },
    {
     "data": {
      "image/png": "[encoded data removed]",
      "text/plain": [
       "<Figure size 400x500 with 1 Axes>"
      ]
     },
     "metadata": {},
     "output_type": "display_data"
    }
   ],
   "source": [
    "for i in range(len(THRESHOLD_LIST)):\n",
    "    df_outliers_removed = remove_outliers_zscore(\n",
    "        data=df, metric=TARGET, threshold=THRESHOLD_LIST[i]\n",
    "    )\n",
    "    df_outliers_removed = df_outliers_removed.reset_index(drop=True)  # 行を詰める\n",
    "    y = df_outliers_removed[TARGET]\n",
    "    print(f\"閾値：{THRESHOLD_LIST[i]}\")\n",
    "    print(\"外れ値除外前のデータ数（訓練+テスト）:\", len(df_train))\n",
    "    print(\"外れ値除外後のデータ数（訓練+テスト）:\", len(df_outliers_removed))\n",
    "    print(\"除外されたデータ数：\", len(df_train) - len(df_outliers_removed))\n",
    "\n",
    "    counts = y.value_counts()\n",
    "    labels = counts.index  # [0, 1]\n",
    "    values = counts.values  # [count_0, count_1]\n",
    "\n",
    "    # プロット\n",
    "    fig, ax = plt.subplots(figsize=(4, 5))\n",
    "    bars = ax.bar(labels, values, color=[\"#1f77b4\", \"#ff7f0e\"], alpha=0.7)\n",
    "\n",
    "    # 各バーの上に数値を表示\n",
    "    for bar, value in zip(bars, values):\n",
    "        ax.text(\n",
    "            bar.get_x() + bar.get_width() / 2,  # バーの中央\n",
    "            bar.get_height(),  # バーの高さ\n",
    "            f\"{value}\",  # 表示する数値\n",
    "            ha=\"center\",\n",
    "            va=\"bottom\",\n",
    "            fontsize=20,\n",
    "        )\n",
    "\n",
    "    # ラベルとタイトルを設定\n",
    "    ax.set_title(f\"目的変数 {TARGET} の分布\", fontsize=5)\n",
    "    ax.set_xlabel(\"Value\", fontsize=20)\n",
    "    ax.set_ylabel(\"Count\", fontsize=20)\n",
    "    ax.set_xticks([0, 1])  # 横軸の位置を0と1に設定\n",
    "    ax.set_xticklabels([\"0\", \"1\"], fontsize=20)  # ラベルを明示的に指定\n",
    "    ax.tick_params(axis=\"both\", labelsize=20)\n",
    "\n",
    "    plt.tight_layout()\n",
    "    plt.show()"
   ]
  },
  {
   "cell_type": "code",
   "execution_count": null,
   "metadata": {},
   "outputs": [],
   "source": []
  }
 ],
 "metadata": {
  "kernelspec": {
   "display_name": ".venv",
   "language": "python",
   "name": "python3"
  },
  "language_info": {
   "codemirror_mode": {
    "name": "ipython",
    "version": 3
   },
   "file_extension": ".py",
   "mimetype": "text/x-python",
   "name": "python",
   "nbconvert_exporter": "python",
   "pygments_lexer": "ipython3",
   "version": "3.12.4"
  }
 },
 "nbformat": 4,
 "nbformat_minor": 2
}
