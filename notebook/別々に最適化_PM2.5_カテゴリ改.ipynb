{
 "cells": [
  {
   "cell_type": "markdown",
   "metadata": {},
   "source": [
    "-------------\n",
    "# １．ライブラリのインポート"
   ]
  },
  {
   "cell_type": "code",
   "execution_count": 1,
   "metadata": {},
   "outputs": [],
   "source": [
    "# 基本的なライブラリ\n",
    "import numpy as np\n",
    "import pandas as pd\n",
    "from numpy.typing import NDArray\n",
    "from scipy import stats\n",
    "\n",
    "# Scikit-learn関連\n",
    "from sklearn.base import BaseEstimator, TransformerMixin\n",
    "from sklearn.mixture import GaussianMixture\n",
    "from sklearn.preprocessing import StandardScaler\n",
    "from sklearn.cluster import KMeans\n",
    "from sklearn.utils.validation import check_X_y\n",
    "from sklearn.linear_model import Lasso\n",
    "\n",
    "# 抽象基底クラス (ABC)\n",
    "from abc import ABCMeta, abstractmethod\n",
    "\n",
    "# タイピングのサポート\n",
    "from typing import Optional\n",
    "\n",
    "# 可視化の設定\n",
    "import matplotlib.pyplot as plt\n",
    "import japanize_matplotlib\n",
    "import itertools\n",
    "\n",
    "plt.style.use(\"ggplot\")\n",
    "\n",
    "import time"
   ]
  },
  {
   "cell_type": "markdown",
   "metadata": {},
   "source": [
    "--------\n",
    "# ２．実験設定"
   ]
  },
  {
   "cell_type": "markdown",
   "metadata": {},
   "source": [
    "## 2.1 実験設定"
   ]
  },
  {
   "cell_type": "code",
   "execution_count": 2,
   "metadata": {},
   "outputs": [],
   "source": [
    "### 実験データの設定 ###\n",
    "TARGET = \"PM_US Post\"\n",
    "THRESHOLD = 2  # 外れ値除外のための閾値\n",
    "\n",
    "### 実験設定 ###\n",
    "SAMPLE_SIZE = 1000  # 標本サイズ\n",
    "N_TRIALS = 10000  # 試行回数（標本抽出を行う回数）\n",
    "m_VALUE = 2  # 最適標本配分における各クラスタの最小標本数\n",
    "RANDOM_STATE = 0  # 乱数シード\n",
    "\n",
    "### 実験方法 ###\n",
    "# クラスタリング\n",
    "CLUSTERING_METHOD_LIST = [\"kmeans\"]  # [\"gmm\", \"kmeans\", \"xmeans\"]\n",
    "N_CLUSTERS = 5  # クラスタ数（Kmeans と GMM）\n",
    "K_MIN = 2  # 最小クラスタ数（Xmeans)\n",
    "K_MAX = 10  # 最大クラスタ数(Xmeans)\n",
    "\n",
    "# 特徴量選択\n",
    "CRITERION_LIST = [\n",
    "    \"none\",\n",
    "    \"lasso\",  # \"lasso\" を選択した場合はalphaも調節する\n",
    "    \"T\",\n",
    "    \"F\",\n",
    "    # \"checking\" #checking は使えない\n",
    "]\n",
    "LASSO_ALPHA = 5.5  # 選ばれる特徴量の数を確認して調節\n",
    "SELECT_MAXIMUM_FEATURES = \"yes\"  # \"yes\" or \"no\"（特徴量数が MAXIMUM_FEATURES_TO_SELECT になるまで選ぶかいなか）\n",
    "MAXIMUM_FEATURES_TO_SELECT = 5  # 選択される最大の特徴量(特徴量選択ありの場合)\n",
    "FEATURES_LIST_CHECKING = [0]  # 特徴量を指定するとき（特徴量選択基準：\"checking\"の場合)\n",
    "\n",
    "# 標本配分\n",
    "ALLOCATION_LIST = [\n",
    "    \"Proportional\",\n",
    "    \"Post\",\n",
    "    \"Optimal\",\n",
    "]\n",
    "\n",
    "\n",
    "### 可視化 ###\n",
    "TITLE_SIZE = 20\n",
    "LABEL_SIZE = 15\n",
    "TICK_SIZE = 12.5\n",
    "\n",
    "### シード ###\n",
    "np.random.seed(42)"
   ]
  },
  {
   "cell_type": "markdown",
   "metadata": {},
   "source": [
    "## 2.2 各手法の名前"
   ]
  },
  {
   "cell_type": "code",
   "execution_count": 3,
   "metadata": {},
   "outputs": [
    {
     "name": "stdout",
     "output_type": "stream",
     "text": [
      "METHODS_NAME_DICT {('none', 'kmeans'): 'Kmeans', ('lasso', 'kmeans'): 'Lasso-Kmeans', ('T', 'kmeans'): 'SFS-Kmeans-T', ('F', 'kmeans'): 'SFS-Kmeans-F'}\n"
     ]
    }
   ],
   "source": [
    "stratification_methods = list(itertools.product(CRITERION_LIST, CLUSTERING_METHOD_LIST))\n",
    "METHODS_NAME_DICT = {}\n",
    "for method in stratification_methods:\n",
    "    if method == (\"none\", \"kmeans\"):\n",
    "        METHODS_NAME_DICT[method] = \"Kmeans\"\n",
    "    if method == (\"none\", \"xmeans\"):\n",
    "        METHODS_NAME_DICT[method] = \"Xmeans\"\n",
    "    if method == (\"none\", \"gmm\"):\n",
    "        METHODS_NAME_DICT[method] = \"GMM\"\n",
    "\n",
    "    if method == (\"F\", \"kmeans\"):\n",
    "        METHODS_NAME_DICT[method] = \"SFS-Kmeans-F\"\n",
    "    if method == (\"F\", \"xmeans\"):\n",
    "        METHODS_NAME_DICT[method] = \"SFS-Xmeans-F\"\n",
    "    if method == (\"F\", \"gmm\"):\n",
    "        METHODS_NAME_DICT[method] = \"SFS-GMM-Loglikelyhood\"\n",
    "\n",
    "    if method == (\"lasso\", \"kmeans\"):\n",
    "        METHODS_NAME_DICT[method] = \"Lasso-Kmeans\"\n",
    "    if method == (\"lasso\", \"xmeans\"):\n",
    "        METHODS_NAME_DICT[method] = \"Lasso-Xmeans\"\n",
    "    if method == (\"lasso\", \"gmm\"):\n",
    "        METHODS_NAME_DICT[method] = \"Lasso-GMM\"\n",
    "\n",
    "    if method == (\"T\", \"kmeans\"):\n",
    "        METHODS_NAME_DICT[method] = \"SFS-Kmeans-T\"\n",
    "    if method == (\"T\", \"xmeans\"):\n",
    "        METHODS_NAME_DICT[method] = \"SFS-Xmeans-T\"\n",
    "\n",
    "print(\"METHODS_NAME_DICT\", METHODS_NAME_DICT)"
   ]
  },
  {
   "cell_type": "markdown",
   "metadata": {},
   "source": [
    "-----------\n",
    "# ３．データの前処理"
   ]
  },
  {
   "cell_type": "markdown",
   "metadata": {},
   "source": [
    "## 3.1 データ読み込み"
   ]
  },
  {
   "cell_type": "code",
   "execution_count": 4,
   "metadata": {},
   "outputs": [],
   "source": [
    "df_Beijing = pd.read_csv(\n",
    "    R\"C:\\Users\\HaruMomozu\\Documents\\中国気象データ\\BeijingPM20100101_20151231.csv\"\n",
    ")\n",
    "df_Chengdu = pd.read_csv(\n",
    "    R\"C:\\Users\\HaruMomozu\\Documents\\中国気象データ\\ChengduPM20100101_20151231.csv\"\n",
    ")\n",
    "df_Guangzhou = pd.read_csv(\n",
    "    R\"C:\\Users\\HaruMomozu\\Documents\\中国気象データ\\GuangzhouPM20100101_20151231.csv\"\n",
    ")\n",
    "df_Shanghai = pd.read_csv(\n",
    "    R\"C:\\Users\\HaruMomozu\\Documents\\中国気象データ\\ShanghaiPM20100101_20151231.csv\"\n",
    ")\n",
    "df_Shenyang = pd.read_csv(\n",
    "    R\"C:\\Users\\HaruMomozu\\Documents\\中国気象データ\\ShenyangPM20100101_20151231.csv\"\n",
    ")"
   ]
  },
  {
   "cell_type": "code",
   "execution_count": 5,
   "metadata": {},
   "outputs": [],
   "source": [
    "# df_Beijing = pd.read_csv(\n",
    "#     R\"C:\\Users\\tsuki\\Documents\\研究室\\研究\\ABテスト実装\\オンラインデータ\\中国気象データ\\BeijingPM20100101_20151231.csv\"\n",
    "# )\n",
    "# df_Chengdu = pd.read_csv(\n",
    "#     R\"C:\\Users\\tsuki\\Documents\\研究室\\研究\\ABテスト実装\\オンラインデータ\\中国気象データ\\ChengduPM20100101_20151231.csv\"\n",
    "# )\n",
    "# df_Guangzhou = pd.read_csv(\n",
    "#     R\"C:\\Users\\tsuki\\Documents\\研究室\\研究\\ABテスト実装\\オンラインデータ\\中国気象データ\\GuangzhouPM20100101_20151231.csv\"\n",
    "# )\n",
    "# df_Shanghai = pd.read_csv(\n",
    "#     R\"C:\\Users\\tsuki\\Documents\\研究室\\研究\\ABテスト実装\\オンラインデータ\\中国気象データ\\ShanghaiPM20100101_20151231.csv\"\n",
    "# )\n",
    "# df_Shenyang = pd.read_csv(\n",
    "#     R\"C:\\Users\\tsuki\\Documents\\研究室\\研究\\ABテスト実装\\オンラインデータ\\中国気象データ\\ShenyangPM20100101_20151231.csv\"\n",
    "# )\n"
   ]
  },
  {
   "cell_type": "code",
   "execution_count": 6,
   "metadata": {},
   "outputs": [],
   "source": [
    "df_Beijing[\"city\"] = \"Beijing\"\n",
    "df_Chengdu[\"city\"] = \"Chengdu\"\n",
    "df_Guangzhou[\"city\"] = \"Guangzhou\"\n",
    "df_Shanghai[\"city\"] = \"Shanghai\"\n",
    "df_Shenyang[\"city\"] = \"Shenyang\""
   ]
  },
  {
   "cell_type": "code",
   "execution_count": 7,
   "metadata": {},
   "outputs": [],
   "source": [
    "df_all = pd.concat(\n",
    "    [df_Beijing, df_Chengdu, df_Guangzhou, df_Shanghai, df_Shenyang],\n",
    "    axis=0,\n",
    "    ignore_index=True,\n",
    ")"
   ]
  },
  {
   "cell_type": "code",
   "execution_count": 8,
   "metadata": {},
   "outputs": [],
   "source": [
    "features_list_con = [\n",
    "    \"DEWP\",\n",
    "    \"TEMP\",\n",
    "    \"HUMI\",\n",
    "    \"PRES\",\n",
    "    \"Iws\",\n",
    "    \"precipitation\",\n",
    "    \"Iprec\",\n",
    "]\n",
    "features_list_cat = [\"city\", \"season\", \"cbwd\"]\n",
    "features_list = features_list_con + features_list_cat"
   ]
  },
  {
   "cell_type": "code",
   "execution_count": 9,
   "metadata": {},
   "outputs": [
    {
     "name": "stdout",
     "output_type": "stream",
     "text": [
      "           No  year  month  day  hour  PM_Dongsi  PM_Dongsihuan  \\\n",
      "0           1  2010      1    1     0        NaN            NaN   \n",
      "1           2  2010      1    1     1        NaN            NaN   \n",
      "2           3  2010      1    1     2        NaN            NaN   \n",
      "3           4  2010      1    1     3        NaN            NaN   \n",
      "4           5  2010      1    1     4        NaN            NaN   \n",
      "...       ...   ...    ...  ...   ...        ...            ...   \n",
      "262915  52580  2015     12   31    19        NaN            NaN   \n",
      "262916  52581  2015     12   31    20        NaN            NaN   \n",
      "262917  52582  2015     12   31    21        NaN            NaN   \n",
      "262918  52583  2015     12   31    22        NaN            NaN   \n",
      "262919  52584  2015     12   31    23        NaN            NaN   \n",
      "\n",
      "        PM_Nongzhanguan  PM_US Post  DEWP  ...  city_Shenyang  season_1.0  \\\n",
      "0                   NaN         NaN -21.0  ...          False       False   \n",
      "1                   NaN         NaN -21.0  ...          False       False   \n",
      "2                   NaN         NaN -21.0  ...          False       False   \n",
      "3                   NaN         NaN -21.0  ...          False       False   \n",
      "4                   NaN         NaN -20.0  ...          False       False   \n",
      "...                 ...         ...   ...  ...            ...         ...   \n",
      "262915              NaN       166.0 -10.0  ...           True       False   \n",
      "262916              NaN       259.0 -10.0  ...           True       False   \n",
      "262917              NaN       368.0 -10.0  ...           True       False   \n",
      "262918              NaN       319.0 -10.0  ...           True       False   \n",
      "262919              NaN       275.0  -9.0  ...           True       False   \n",
      "\n",
      "        season_2.0  season_3.0  season_4.0  cbwd_NE  cbwd_NW  cbwd_SE  \\\n",
      "0            False       False        True    False     True    False   \n",
      "1            False       False        True    False     True    False   \n",
      "2            False       False        True    False     True    False   \n",
      "3            False       False        True    False     True    False   \n",
      "4            False       False        True    False     True    False   \n",
      "...            ...         ...         ...      ...      ...      ...   \n",
      "262915       False       False        True    False    False     True   \n",
      "262916       False       False        True    False    False     True   \n",
      "262917       False       False        True    False    False     True   \n",
      "262918       False       False        True    False    False     True   \n",
      "262919       False       False        True    False    False     True   \n",
      "\n",
      "        cbwd_SW  cbwd_cv  \n",
      "0         False    False  \n",
      "1         False    False  \n",
      "2         False    False  \n",
      "3         False    False  \n",
      "4         False    False  \n",
      "...         ...      ...  \n",
      "262915    False    False  \n",
      "262916    False    False  \n",
      "262917    False    False  \n",
      "262918    False    False  \n",
      "262919    False    False  \n",
      "\n",
      "[262920 rows x 38 columns]\n"
     ]
    }
   ],
   "source": [
    "df_all_encoded = pd.get_dummies(df_all, columns=features_list_cat)\n",
    "print(df_all_encoded)"
   ]
  },
  {
   "cell_type": "code",
   "execution_count": 10,
   "metadata": {},
   "outputs": [
    {
     "name": "stdout",
     "output_type": "stream",
     "text": [
      "columns_list: ['DEWP', 'TEMP', 'HUMI', 'PRES', 'Iws', 'precipitation', 'Iprec', 'city_Beijing', 'city_Chengdu', 'city_Guangzhou', 'city_Shanghai', 'city_Shenyang', 'season_1.0', 'season_2.0', 'season_3.0', 'season_4.0', 'cbwd_NE', 'cbwd_NW', 'cbwd_SE', 'cbwd_SW', 'cbwd_cv']\n",
      "columns_list_index: [0, 1, 2, 3, 4, 5, 6, 7, 8, 9, 10, 11, 12, 13, 14, 15, 16, 17, 18, 19, 20]\n",
      "all_columns: ['PM_US Post', 'DEWP', 'TEMP', 'HUMI', 'PRES', 'Iws', 'precipitation', 'Iprec', 'city_Beijing', 'city_Chengdu', 'city_Guangzhou', 'city_Shanghai', 'city_Shenyang', 'season_1.0', 'season_2.0', 'season_3.0', 'season_4.0', 'cbwd_NE', 'cbwd_NW', 'cbwd_SE', 'cbwd_SW', 'cbwd_cv']\n"
     ]
    }
   ],
   "source": [
    "cat_columns_list = []\n",
    "for f in features_list_cat:\n",
    "    col_list = [col for col in df_all_encoded.columns if col.startswith(f)]\n",
    "    cat_columns_list = cat_columns_list + col_list\n",
    "\n",
    "columns_list = features_list_con + cat_columns_list\n",
    "columns_list_index = [i for i in range(len(columns_list))]\n",
    "all_columns = [TARGET] + features_list_con + cat_columns_list\n",
    "\n",
    "print(\"columns_list:\", columns_list)\n",
    "print(\"columns_list_index:\", columns_list_index)\n",
    "print(\"all_columns:\", all_columns)"
   ]
  },
  {
   "cell_type": "code",
   "execution_count": 11,
   "metadata": {},
   "outputs": [
    {
     "name": "stdout",
     "output_type": "stream",
     "text": [
      "        PM_US Post  DEWP  TEMP   HUMI    PRES     Iws  precipitation  Iprec  \\\n",
      "35064         53.0 -20.0   7.0  12.00  1014.0  143.48            0.0    0.0   \n",
      "35065         65.0 -20.0   7.0  12.00  1013.0  147.50            0.0    0.0   \n",
      "35066         70.0 -20.0   6.0  13.00  1013.0  151.52            0.0    0.0   \n",
      "35067         79.0 -20.0   6.0  13.00  1013.0  153.31            0.0    0.0   \n",
      "35068         92.0 -18.0   3.0  19.00  1012.0    0.89            0.0    0.0   \n",
      "...            ...   ...   ...    ...     ...     ...            ...    ...   \n",
      "254155        38.0 -20.0 -10.0  43.68  1026.0   51.00            0.0    0.0   \n",
      "254156        36.0 -21.0 -10.0  40.04  1026.0   55.00            0.0    0.0   \n",
      "254157        31.0 -21.0 -11.0  43.36  1027.0   59.00            0.0    0.0   \n",
      "254158        30.0 -21.0 -11.0  43.36  1027.0   64.00            0.0    0.0   \n",
      "254159        26.0 -21.0 -12.0  46.98  1027.0   68.00            0.0    0.0   \n",
      "\n",
      "        city_Beijing  city_Chengdu  ...  city_Shenyang  season_1.0  \\\n",
      "35064           True         False  ...          False       False   \n",
      "35065           True         False  ...          False       False   \n",
      "35066           True         False  ...          False       False   \n",
      "35067           True         False  ...          False       False   \n",
      "35068           True         False  ...          False       False   \n",
      "...              ...           ...  ...            ...         ...   \n",
      "254155         False         False  ...           True       False   \n",
      "254156         False         False  ...           True       False   \n",
      "254157         False         False  ...           True       False   \n",
      "254158         False         False  ...           True       False   \n",
      "254159         False         False  ...           True       False   \n",
      "\n",
      "        season_2.0  season_3.0  season_4.0  cbwd_NE  cbwd_NW  cbwd_SE  \\\n",
      "35064        False       False        True    False     True    False   \n",
      "35065        False       False        True    False     True    False   \n",
      "35066        False       False        True    False     True    False   \n",
      "35067        False       False        True    False     True    False   \n",
      "35068        False       False        True    False    False    False   \n",
      "...            ...         ...         ...      ...      ...      ...   \n",
      "254155       False       False        True    False     True    False   \n",
      "254156       False       False        True    False     True    False   \n",
      "254157       False       False        True    False     True    False   \n",
      "254158       False       False        True    False     True    False   \n",
      "254159       False       False        True    False     True    False   \n",
      "\n",
      "        cbwd_SW  cbwd_cv  \n",
      "35064     False    False  \n",
      "35065     False    False  \n",
      "35066     False    False  \n",
      "35067     False    False  \n",
      "35068     False     True  \n",
      "...         ...      ...  \n",
      "254155    False    False  \n",
      "254156    False    False  \n",
      "254157    False    False  \n",
      "254158    False    False  \n",
      "254159    False    False  \n",
      "\n",
      "[43800 rows x 22 columns]\n",
      "        PM_US Post  DEWP  TEMP   HUMI    PRES    Iws  precipitation  Iprec  \\\n",
      "43824         22.0 -21.0  -6.0  29.00  1034.0   0.89            0.0    0.0   \n",
      "43825          9.0 -22.0  -4.0  23.00  1034.0   4.92            0.0    0.0   \n",
      "43826          9.0 -21.0  -5.0  27.00  1034.0   8.94            0.0    0.0   \n",
      "43827         13.0 -21.0  -6.0  29.00  1035.0  12.96            0.0    0.0   \n",
      "43828         10.0 -21.0  -5.0  27.00  1034.0  16.98            0.0    0.0   \n",
      "...            ...   ...   ...    ...     ...    ...            ...    ...   \n",
      "262915       166.0 -10.0  -9.0  92.42  1031.0   2.00            0.0    0.0   \n",
      "262916       259.0 -10.0  -7.0  79.10  1030.0   5.00            0.0    0.0   \n",
      "262917       368.0 -10.0  -7.0  79.10  1030.0   8.00            0.0    0.0   \n",
      "262918       319.0 -10.0  -7.0  79.10  1028.0  11.00            NaN    NaN   \n",
      "262919       275.0  -9.0  -6.0  79.26  1028.0  12.00            0.0    0.0   \n",
      "\n",
      "        city_Beijing  city_Chengdu  ...  city_Shenyang  season_1.0  \\\n",
      "43824           True         False  ...          False       False   \n",
      "43825           True         False  ...          False       False   \n",
      "43826           True         False  ...          False       False   \n",
      "43827           True         False  ...          False       False   \n",
      "43828           True         False  ...          False       False   \n",
      "...              ...           ...  ...            ...         ...   \n",
      "262915         False         False  ...           True       False   \n",
      "262916         False         False  ...           True       False   \n",
      "262917         False         False  ...           True       False   \n",
      "262918         False         False  ...           True       False   \n",
      "262919         False         False  ...           True       False   \n",
      "\n",
      "        season_2.0  season_3.0  season_4.0  cbwd_NE  cbwd_NW  cbwd_SE  \\\n",
      "43824        False       False        True    False    False     True   \n",
      "43825        False       False        True    False     True    False   \n",
      "43826        False       False        True    False     True    False   \n",
      "43827        False       False        True    False     True    False   \n",
      "43828        False       False        True    False     True    False   \n",
      "...            ...         ...         ...      ...      ...      ...   \n",
      "262915       False       False        True    False    False     True   \n",
      "262916       False       False        True    False    False     True   \n",
      "262917       False       False        True    False    False     True   \n",
      "262918       False       False        True    False    False     True   \n",
      "262919       False       False        True    False    False     True   \n",
      "\n",
      "        cbwd_SW  cbwd_cv  \n",
      "43824     False    False  \n",
      "43825     False    False  \n",
      "43826     False    False  \n",
      "43827     False    False  \n",
      "43828     False    False  \n",
      "...         ...      ...  \n",
      "262915    False    False  \n",
      "262916    False    False  \n",
      "262917    False    False  \n",
      "262918    False    False  \n",
      "262919    False    False  \n",
      "\n",
      "[43800 rows x 22 columns]\n"
     ]
    }
   ],
   "source": [
    "df_2014 = df_all_encoded[df_all[\"year\"] == 2014][all_columns]\n",
    "df_2015 = df_all_encoded[df_all[\"year\"] == 2015][all_columns]\n",
    "print(df_2014)\n",
    "print(df_2015)"
   ]
  },
  {
   "cell_type": "markdown",
   "metadata": {},
   "source": [
    "## 3.2 欠損値除去"
   ]
  },
  {
   "cell_type": "code",
   "execution_count": 12,
   "metadata": {},
   "outputs": [],
   "source": [
    "def remove_nan(data: pd.DataFrame) -> tuple[pd.DataFrame, pd.DataFrame]:\n",
    "    # 各列に対して、pd.to_numericを使用して数値に変換（エラーがあればNaNにする）\n",
    "    df_numeric = data.apply(lambda col: pd.to_numeric(col, errors=\"coerce\"))\n",
    "\n",
    "    # 数値に変換できなかった行を抽出（NaNを含む行）\n",
    "    df_excluded = data[df_numeric.isna().any(axis=1)]\n",
    "\n",
    "    # NaNを含む行を削除\n",
    "    df_clean = df_numeric.dropna()\n",
    "\n",
    "    return df_excluded, df_clean"
   ]
  },
  {
   "cell_type": "code",
   "execution_count": 13,
   "metadata": {},
   "outputs": [
    {
     "name": "stdout",
     "output_type": "stream",
     "text": [
      "全データ数（訓練）： 43800\n",
      "全データ数（テスト）： 43800\n",
      "欠損値除去後のデータ数（訓練）： 40334\n",
      "欠損値除去後のデータ数（テスト）： 39098\n"
     ]
    }
   ],
   "source": [
    "_, df_2014_clean = remove_nan(df_2014)\n",
    "_, df_2015_clean = remove_nan(df_2015)\n",
    "\n",
    "print(\"全データ数（訓練）：\", len(df_2014))\n",
    "print(\"全データ数（テスト）：\", len(df_2015))\n",
    "print(\"欠損値除去後のデータ数（訓練）：\", len(df_2014_clean))\n",
    "print(\"欠損値除去後のデータ数（テスト）：\", len(df_2015_clean))"
   ]
  },
  {
   "cell_type": "markdown",
   "metadata": {},
   "source": [
    "## 3.3 外れ値除去"
   ]
  },
  {
   "cell_type": "code",
   "execution_count": 14,
   "metadata": {},
   "outputs": [],
   "source": [
    "def remove_outliers_zscore(\n",
    "    data: pd.DataFrame, metric: str, threshold: float\n",
    ") -> pd.DataFrame:\n",
    "    z_scores = np.abs(stats.zscore(data[metric]))\n",
    "    data = data[(z_scores < threshold)]\n",
    "    return data"
   ]
  },
  {
   "cell_type": "code",
   "execution_count": 15,
   "metadata": {},
   "outputs": [
    {
     "name": "stdout",
     "output_type": "stream",
     "text": [
      "欠損値と外れ値除外後のデータ数（訓練）: 38559\n",
      "欠損値と外れ値除外後のデータ数（テスト）: 37237\n"
     ]
    }
   ],
   "source": [
    "df_train = remove_outliers_zscore(\n",
    "    data=df_2014_clean, metric=TARGET, threshold=THRESHOLD\n",
    ")\n",
    "df_train = df_train.reset_index(drop=True)  # 行を詰める\n",
    "df_test = remove_outliers_zscore(data=df_2015_clean, metric=TARGET, threshold=THRESHOLD)\n",
    "df_test = df_test.reset_index(drop=True)  # 行を詰める\n",
    "\n",
    "print(\"欠損値と外れ値除外後のデータ数（訓練）:\", len(df_train))\n",
    "print(\"欠損値と外れ値除外後のデータ数（テスト）:\", len(df_test))"
   ]
  },
  {
   "cell_type": "markdown",
   "metadata": {},
   "source": [
    "## 3.4 X, yに分割"
   ]
  },
  {
   "cell_type": "code",
   "execution_count": 16,
   "metadata": {},
   "outputs": [],
   "source": [
    "X_train = df_train[columns_list].to_numpy()\n",
    "y_train = df_train[TARGET].to_numpy()\n",
    "\n",
    "X_test = df_test[columns_list].to_numpy()\n",
    "y_test = df_test[TARGET].to_numpy()"
   ]
  },
  {
   "cell_type": "markdown",
   "metadata": {},
   "source": [
    "## 3.5 標準化"
   ]
  },
  {
   "cell_type": "code",
   "execution_count": 17,
   "metadata": {},
   "outputs": [],
   "source": [
    "sc = StandardScaler()\n",
    "# 訓練データに基づいてfit\n",
    "sc.fit(X_train)\n",
    "X_train_std = sc.transform(X_train)\n",
    "X_test_std = sc.transform(X_test)"
   ]
  },
  {
   "cell_type": "markdown",
   "metadata": {},
   "source": [
    "-------------\n",
    "# 4. 特徴量選択"
   ]
  },
  {
   "cell_type": "code",
   "execution_count": 18,
   "metadata": {},
   "outputs": [],
   "source": [
    "TIME_DICT = {}\n",
    "SELECTED_FEATURES_DICT = {}"
   ]
  },
  {
   "cell_type": "markdown",
   "metadata": {},
   "source": [
    "## 4.1 特徴量選択なしの場合"
   ]
  },
  {
   "cell_type": "code",
   "execution_count": 19,
   "metadata": {},
   "outputs": [],
   "source": [
    "for method, name in METHODS_NAME_DICT.items():\n",
    "    if method[0] == \"none\":\n",
    "        SELECTED_FEATURES_DICT[name] = np.array(columns_list_index)\n",
    "        TIME_DICT[name] = 0"
   ]
  },
  {
   "cell_type": "markdown",
   "metadata": {},
   "source": [
    "## 4.2 Lasso で特徴量選択する場合"
   ]
  },
  {
   "cell_type": "code",
   "execution_count": 20,
   "metadata": {},
   "outputs": [],
   "source": [
    "def lasso(X: NDArray, y: NDArray, alpha: float) -> list:\n",
    "    lasso = Lasso(alpha=alpha)\n",
    "    lasso.fit(X, y)\n",
    "    features_list = np.where(lasso.coef_ != 0)[0]\n",
    "    return features_list"
   ]
  },
  {
   "cell_type": "code",
   "execution_count": 21,
   "metadata": {},
   "outputs": [
    {
     "name": "stdout",
     "output_type": "stream",
     "text": [
      "[ 1  4  8  9 20]\n"
     ]
    }
   ],
   "source": [
    "if \"lasso\" in CRITERION_LIST:\n",
    "    start_time = time.time()\n",
    "    selected_features_index = lasso(X_train_std, y_train, alpha=LASSO_ALPHA)\n",
    "    end_time = time.time()\n",
    "\n",
    "    for method, name in METHODS_NAME_DICT.items():\n",
    "        if method[0] == \"lasso\":\n",
    "            SELECTED_FEATURES_DICT[name] = selected_features_index\n",
    "            TIME_DICT[name] = end_time - start_time\n",
    "\n",
    "    print(selected_features_index)"
   ]
  },
  {
   "cell_type": "markdown",
   "metadata": {},
   "source": [
    "## 4.3 Wrapper法 で特徴量選択する場合"
   ]
  },
  {
   "cell_type": "markdown",
   "metadata": {},
   "source": [
    "### 準備"
   ]
  },
  {
   "cell_type": "code",
   "execution_count": 22,
   "metadata": {},
   "outputs": [],
   "source": [
    "class Wrapper(BaseEstimator, TransformerMixin):\n",
    "    def __init__(\n",
    "        self,\n",
    "        maximum_features_to_select: int,\n",
    "        n_clusters: int,\n",
    "        criterion: str,\n",
    "        clustering_method: str,\n",
    "        random_state: int = 0,\n",
    "        select_maximum_features: str = \"yes\",\n",
    "        k_min: int = 2,\n",
    "        k_max: int = 10,\n",
    "    ):\n",
    "        self.maximum_features_to_select = maximum_features_to_select\n",
    "        self.n_clusters = n_clusters\n",
    "        self.criterion = criterion\n",
    "        self.clustering_method = clustering_method\n",
    "        self.random_state = random_state\n",
    "        self.select_maximum_features = select_maximum_features\n",
    "        self.k_min = k_min\n",
    "        self.k_max = k_max\n",
    "\n",
    "    def fss(self, X: NDArray, y: NDArray) -> \"Wrapper\":\n",
    "        X, y = check_X_y(X, y)\n",
    "        n_all_features = X.shape[1]  # 総特徴量数\n",
    "\n",
    "        ##### 初期化 #####\n",
    "        features_score_dict = {}  # スコアの推移の確認用\n",
    "        current_features = []  # 選択された特徴量\n",
    "        remaining_features = list(range(n_all_features))  # 選択されていない特徴量\n",
    "\n",
    "        if self.select_maximum_features == \"no\":\n",
    "            best_score = -np.inf  # 初期スコア（特徴量を最大数選ぶとは限らないとき）\n",
    "\n",
    "        ##### 特徴量選択とクラスタリング #####\n",
    "        while len(current_features) < self.maximum_features_to_select:\n",
    "            best_feature = None\n",
    "            if self.select_maximum_features == \"yes\":\n",
    "                best_score = -np.inf  # 初期スコア（特徴量を最大数選ぶとき）\n",
    "\n",
    "            for feature in remaining_features:\n",
    "                temp_features = current_features + [\n",
    "                    feature\n",
    "                ]  # スコアを調べたい特徴量サブセット\n",
    "\n",
    "                score, labels = self.crit(X[:, temp_features], y)\n",
    "                if score > best_score:\n",
    "                    best_score = score\n",
    "                    best_feature = feature\n",
    "                    best_labels = np.array(labels)\n",
    "                    best_cluster_size = np.bincount(best_labels)\n",
    "                    best_n_clusters = len(np.unique(best_labels))\n",
    "\n",
    "            # 選択された特徴量をcurrent_featuresに追加し、remaining_features から除外\n",
    "            if best_feature is not None:\n",
    "                current_features.append(best_feature)\n",
    "                remaining_features.remove(best_feature)\n",
    "                num_of_features = len(current_features)\n",
    "                print(\n",
    "                    \"num_of_features:\",\n",
    "                    num_of_features,\n",
    "                    \"current_features:\",\n",
    "                    current_features,\n",
    "                    \", score:\",\n",
    "                    best_score,\n",
    "                    \"best_n_clusters:\",\n",
    "                    best_n_clusters,\n",
    "                    \"best_cluster_size\",\n",
    "                    best_cluster_size,\n",
    "                )\n",
    "                features_score_dict[str(num_of_features)] = best_score  # スコア確認用\n",
    "\n",
    "            else:\n",
    "                break\n",
    "\n",
    "        ##### 最終的な特徴量とクラスタリング結果 #####\n",
    "        self.selected_features_index = current_features\n",
    "        self.features_score_dict = features_score_dict\n",
    "\n",
    "        return self\n",
    "\n",
    "    def crit(self, X: NDArray, y: NDArray) -> tuple[float, list, int]:\n",
    "        # クラスタリング手法がGMMの場合\n",
    "        if self.clustering_method == \"gmm\":\n",
    "            model = GaussianMixture(\n",
    "                n_components=self.n_clusters,\n",
    "                random_state=self.random_state,\n",
    "                init_params=\"kmeans\",\n",
    "            )\n",
    "        if self.clustering_method == \"kmeans\":\n",
    "            model = KMeans(\n",
    "                n_clusters=self.n_clusters,\n",
    "                random_state=self.random_state,\n",
    "            )\n",
    "        if self.clustering_method == \"xmeans\":\n",
    "            model = self.xmeans(X)\n",
    "\n",
    "        model.fit(X)\n",
    "        labels = model.predict(X)\n",
    "\n",
    "        if self.criterion == \"F\":\n",
    "            score = model.score(X)\n",
    "        elif self.criterion == \"T\" and (\n",
    "            self.clustering_method == \"kmeans\" or self.clustering_method == \"xmeans\"\n",
    "        ):\n",
    "            tss = 0\n",
    "            for k in np.unique(labels):\n",
    "                y_k = y[labels == k]\n",
    "                mean_y_k = np.mean(y_k)\n",
    "                tss += np.sum((y_k - mean_y_k) ** 2)\n",
    "            score = -tss\n",
    "\n",
    "        return score, labels\n",
    "\n",
    "    def compute_bic(self, X: NDArray, kmeans: KMeans) -> float:\n",
    "        # クラスタリング結果の取得\n",
    "        labels = kmeans.labels_\n",
    "        clusters = kmeans.cluster_centers_\n",
    "        n_clusters = len(clusters)\n",
    "        n = len(X)\n",
    "        m = X.shape[1]\n",
    "        # クラスター内の分散の合計\n",
    "        variance = np.sum(\n",
    "            [\n",
    "                np.linalg.norm(X[labels == i] - clusters[i], axis=1).sum()\n",
    "                for i in range(n_clusters)\n",
    "            ]\n",
    "        )\n",
    "        # BIC の計算\n",
    "        bic = np.log(n) * n_clusters * m + n * np.log(variance / n)\n",
    "        return bic\n",
    "\n",
    "    def xmeans(self, X: NDArray) -> KMeans:\n",
    "        kmeans = KMeans(\n",
    "            n_clusters=self.k_min, random_state=self.random_state\n",
    "        )  # 初期クラスター数で KMeans を実行\n",
    "        kmeans.fit(X)\n",
    "        best_bic = self.compute_bic(X, kmeans)\n",
    "        best_kmeans = kmeans\n",
    "        for k in range(self.k_min + 1, self.k_max + 1):\n",
    "            kmeans = KMeans(n_clusters=k, random_state=self.random_state)\n",
    "            kmeans.fit(X)\n",
    "            # BIC を計算\n",
    "            current_bic = self.compute_bic(X, kmeans)\n",
    "            # BIC が改善される場合、クラスタ数を更新\n",
    "            if current_bic < best_bic:\n",
    "                best_bic = current_bic\n",
    "                best_kmeans = kmeans\n",
    "        # 最適なクラスタリング結果を返す\n",
    "        return best_kmeans\n",
    "\n",
    "    def get_selected_features_index(self) -> list:\n",
    "        return self.selected_features_index  # 最終的に選択された特徴量のインデックス\n",
    "\n",
    "    def get_features_score_dict(self) -> dict:\n",
    "        return self.features_score_dict  # スコアの推移（確認用）"
   ]
  },
  {
   "cell_type": "code",
   "execution_count": 23,
   "metadata": {},
   "outputs": [],
   "source": [
    "def process_wrapper(\n",
    "    instance: \"Wrapper\", X: NDArray, y: NDArray\n",
    ") -> tuple[list, dict[int, float]]:\n",
    "    instance.fss(X, y)\n",
    "    selected_features = np.array(instance.get_selected_features_index())\n",
    "    features_score_dict = instance.get_features_score_dict()\n",
    "\n",
    "    return selected_features, features_score_dict"
   ]
  },
  {
   "cell_type": "markdown",
   "metadata": {},
   "source": [
    "### インスタンスのリスト作成"
   ]
  },
  {
   "cell_type": "code",
   "execution_count": 24,
   "metadata": {},
   "outputs": [
    {
     "name": "stdout",
     "output_type": "stream",
     "text": [
      "[('SFS-Kmeans-T', Wrapper(clustering_method='kmeans', criterion='T', maximum_features_to_select=5,\n",
      "        n_clusters=5)), ('SFS-Kmeans-F', Wrapper(clustering_method='kmeans', criterion='F', maximum_features_to_select=5,\n",
      "        n_clusters=5))]\n"
     ]
    }
   ],
   "source": [
    "instances = []\n",
    "for method, name in METHODS_NAME_DICT.items():\n",
    "    if method[0] == \"F\" or method[0] == \"T\":\n",
    "        instances.append(\n",
    "            (\n",
    "                name,\n",
    "                Wrapper(\n",
    "                    maximum_features_to_select=MAXIMUM_FEATURES_TO_SELECT,\n",
    "                    n_clusters=N_CLUSTERS,\n",
    "                    criterion=method[0],\n",
    "                    clustering_method=method[1],\n",
    "                    random_state=RANDOM_STATE,\n",
    "                    select_maximum_features=SELECT_MAXIMUM_FEATURES,\n",
    "                    k_min=K_MIN,\n",
    "                    k_max=K_MAX,\n",
    "                ),\n",
    "            )\n",
    "        )\n",
    "print(instances)"
   ]
  },
  {
   "cell_type": "markdown",
   "metadata": {},
   "source": [
    "### Wrapper 法実施"
   ]
  },
  {
   "cell_type": "code",
   "execution_count": 25,
   "metadata": {},
   "outputs": [
    {
     "name": "stdout",
     "output_type": "stream",
     "text": [
      "[ SFS-Kmeans-T ]\n"
     ]
    },
    {
     "name": "stderr",
     "output_type": "stream",
     "text": [
      "c:\\Users\\HaruMomozu\\Desktop\\momozu\\ABtesting\\.venv\\Lib\\site-packages\\sklearn\\base.py:1473: ConvergenceWarning: Number of distinct clusters (2) found smaller than n_clusters (5). Possibly due to duplicate points in X.\n",
      "  return fit_method(estimator, *args, **kwargs)\n",
      "c:\\Users\\HaruMomozu\\Desktop\\momozu\\ABtesting\\.venv\\Lib\\site-packages\\sklearn\\base.py:1473: ConvergenceWarning: Number of distinct clusters (2) found smaller than n_clusters (5). Possibly due to duplicate points in X.\n",
      "  return fit_method(estimator, *args, **kwargs)\n",
      "c:\\Users\\HaruMomozu\\Desktop\\momozu\\ABtesting\\.venv\\Lib\\site-packages\\sklearn\\base.py:1473: ConvergenceWarning: Number of distinct clusters (2) found smaller than n_clusters (5). Possibly due to duplicate points in X.\n",
      "  return fit_method(estimator, *args, **kwargs)\n",
      "c:\\Users\\HaruMomozu\\Desktop\\momozu\\ABtesting\\.venv\\Lib\\site-packages\\sklearn\\base.py:1473: ConvergenceWarning: Number of distinct clusters (2) found smaller than n_clusters (5). Possibly due to duplicate points in X.\n",
      "  return fit_method(estimator, *args, **kwargs)\n",
      "c:\\Users\\HaruMomozu\\Desktop\\momozu\\ABtesting\\.venv\\Lib\\site-packages\\sklearn\\base.py:1473: ConvergenceWarning: Number of distinct clusters (2) found smaller than n_clusters (5). Possibly due to duplicate points in X.\n",
      "  return fit_method(estimator, *args, **kwargs)\n",
      "c:\\Users\\HaruMomozu\\Desktop\\momozu\\ABtesting\\.venv\\Lib\\site-packages\\sklearn\\base.py:1473: ConvergenceWarning: Number of distinct clusters (2) found smaller than n_clusters (5). Possibly due to duplicate points in X.\n",
      "  return fit_method(estimator, *args, **kwargs)\n",
      "c:\\Users\\HaruMomozu\\Desktop\\momozu\\ABtesting\\.venv\\Lib\\site-packages\\sklearn\\base.py:1473: ConvergenceWarning: Number of distinct clusters (2) found smaller than n_clusters (5). Possibly due to duplicate points in X.\n",
      "  return fit_method(estimator, *args, **kwargs)\n",
      "c:\\Users\\HaruMomozu\\Desktop\\momozu\\ABtesting\\.venv\\Lib\\site-packages\\sklearn\\base.py:1473: ConvergenceWarning: Number of distinct clusters (2) found smaller than n_clusters (5). Possibly due to duplicate points in X.\n",
      "  return fit_method(estimator, *args, **kwargs)\n",
      "c:\\Users\\HaruMomozu\\Desktop\\momozu\\ABtesting\\.venv\\Lib\\site-packages\\sklearn\\base.py:1473: ConvergenceWarning: Number of distinct clusters (2) found smaller than n_clusters (5). Possibly due to duplicate points in X.\n",
      "  return fit_method(estimator, *args, **kwargs)\n",
      "c:\\Users\\HaruMomozu\\Desktop\\momozu\\ABtesting\\.venv\\Lib\\site-packages\\sklearn\\base.py:1473: ConvergenceWarning: Number of distinct clusters (2) found smaller than n_clusters (5). Possibly due to duplicate points in X.\n",
      "  return fit_method(estimator, *args, **kwargs)\n",
      "c:\\Users\\HaruMomozu\\Desktop\\momozu\\ABtesting\\.venv\\Lib\\site-packages\\sklearn\\base.py:1473: ConvergenceWarning: Number of distinct clusters (2) found smaller than n_clusters (5). Possibly due to duplicate points in X.\n",
      "  return fit_method(estimator, *args, **kwargs)\n",
      "c:\\Users\\HaruMomozu\\Desktop\\momozu\\ABtesting\\.venv\\Lib\\site-packages\\sklearn\\base.py:1473: ConvergenceWarning: Number of distinct clusters (2) found smaller than n_clusters (5). Possibly due to duplicate points in X.\n",
      "  return fit_method(estimator, *args, **kwargs)\n",
      "c:\\Users\\HaruMomozu\\Desktop\\momozu\\ABtesting\\.venv\\Lib\\site-packages\\sklearn\\base.py:1473: ConvergenceWarning: Number of distinct clusters (2) found smaller than n_clusters (5). Possibly due to duplicate points in X.\n",
      "  return fit_method(estimator, *args, **kwargs)\n",
      "c:\\Users\\HaruMomozu\\Desktop\\momozu\\ABtesting\\.venv\\Lib\\site-packages\\sklearn\\base.py:1473: ConvergenceWarning: Number of distinct clusters (2) found smaller than n_clusters (5). Possibly due to duplicate points in X.\n",
      "  return fit_method(estimator, *args, **kwargs)\n"
     ]
    },
    {
     "name": "stdout",
     "output_type": "stream",
     "text": [
      "num_of_features: 1 current_features: [1] , score: -66951136.69228441 best_n_clusters: 5 best_cluster_size [ 4702  8690 11196  3152 10819]\n",
      "num_of_features: 2 current_features: [1, 4] , score: -65050979.83579421 best_n_clusters: 5 best_cluster_size [16054 13535  2476  5816   678]\n",
      "num_of_features: 3 current_features: [1, 4, 20] , score: -64302819.727824435 best_n_clusters: 5 best_cluster_size [13856  1656 11535  6384  5128]\n",
      "num_of_features: 4 current_features: [1, 4, 20, 7] , score: -64126792.0205141 best_n_clusters: 5 best_cluster_size [16211  8745  6401  5664  1538]\n",
      "num_of_features: 5 current_features: [1, 4, 20, 7, 12] , score: -64243677.45367063 best_n_clusters: 5 best_cluster_size [14306  8204  8255  1395  6399]\n",
      "[ SFS-Kmeans-F ]\n"
     ]
    },
    {
     "name": "stderr",
     "output_type": "stream",
     "text": [
      "c:\\Users\\HaruMomozu\\Desktop\\momozu\\ABtesting\\.venv\\Lib\\site-packages\\sklearn\\base.py:1473: ConvergenceWarning: Number of distinct clusters (2) found smaller than n_clusters (5). Possibly due to duplicate points in X.\n",
      "  return fit_method(estimator, *args, **kwargs)\n",
      "c:\\Users\\HaruMomozu\\Desktop\\momozu\\ABtesting\\.venv\\Lib\\site-packages\\sklearn\\base.py:1473: ConvergenceWarning: Number of distinct clusters (2) found smaller than n_clusters (5). Possibly due to duplicate points in X.\n",
      "  return fit_method(estimator, *args, **kwargs)\n",
      "c:\\Users\\HaruMomozu\\Desktop\\momozu\\ABtesting\\.venv\\Lib\\site-packages\\sklearn\\base.py:1473: ConvergenceWarning: Number of distinct clusters (2) found smaller than n_clusters (5). Possibly due to duplicate points in X.\n",
      "  return fit_method(estimator, *args, **kwargs)\n",
      "c:\\Users\\HaruMomozu\\Desktop\\momozu\\ABtesting\\.venv\\Lib\\site-packages\\sklearn\\base.py:1473: ConvergenceWarning: Number of distinct clusters (2) found smaller than n_clusters (5). Possibly due to duplicate points in X.\n",
      "  return fit_method(estimator, *args, **kwargs)\n",
      "c:\\Users\\HaruMomozu\\Desktop\\momozu\\ABtesting\\.venv\\Lib\\site-packages\\sklearn\\base.py:1473: ConvergenceWarning: Number of distinct clusters (2) found smaller than n_clusters (5). Possibly due to duplicate points in X.\n",
      "  return fit_method(estimator, *args, **kwargs)\n",
      "c:\\Users\\HaruMomozu\\Desktop\\momozu\\ABtesting\\.venv\\Lib\\site-packages\\sklearn\\base.py:1473: ConvergenceWarning: Number of distinct clusters (2) found smaller than n_clusters (5). Possibly due to duplicate points in X.\n",
      "  return fit_method(estimator, *args, **kwargs)\n",
      "c:\\Users\\HaruMomozu\\Desktop\\momozu\\ABtesting\\.venv\\Lib\\site-packages\\sklearn\\base.py:1473: ConvergenceWarning: Number of distinct clusters (2) found smaller than n_clusters (5). Possibly due to duplicate points in X.\n",
      "  return fit_method(estimator, *args, **kwargs)\n",
      "c:\\Users\\HaruMomozu\\Desktop\\momozu\\ABtesting\\.venv\\Lib\\site-packages\\sklearn\\base.py:1473: ConvergenceWarning: Number of distinct clusters (2) found smaller than n_clusters (5). Possibly due to duplicate points in X.\n",
      "  return fit_method(estimator, *args, **kwargs)\n",
      "c:\\Users\\HaruMomozu\\Desktop\\momozu\\ABtesting\\.venv\\Lib\\site-packages\\sklearn\\base.py:1473: ConvergenceWarning: Number of distinct clusters (2) found smaller than n_clusters (5). Possibly due to duplicate points in X.\n",
      "  return fit_method(estimator, *args, **kwargs)\n",
      "c:\\Users\\HaruMomozu\\Desktop\\momozu\\ABtesting\\.venv\\Lib\\site-packages\\sklearn\\base.py:1473: ConvergenceWarning: Number of distinct clusters (2) found smaller than n_clusters (5). Possibly due to duplicate points in X.\n",
      "  return fit_method(estimator, *args, **kwargs)\n",
      "c:\\Users\\HaruMomozu\\Desktop\\momozu\\ABtesting\\.venv\\Lib\\site-packages\\sklearn\\base.py:1473: ConvergenceWarning: Number of distinct clusters (2) found smaller than n_clusters (5). Possibly due to duplicate points in X.\n",
      "  return fit_method(estimator, *args, **kwargs)\n",
      "c:\\Users\\HaruMomozu\\Desktop\\momozu\\ABtesting\\.venv\\Lib\\site-packages\\sklearn\\base.py:1473: ConvergenceWarning: Number of distinct clusters (2) found smaller than n_clusters (5). Possibly due to duplicate points in X.\n",
      "  return fit_method(estimator, *args, **kwargs)\n",
      "c:\\Users\\HaruMomozu\\Desktop\\momozu\\ABtesting\\.venv\\Lib\\site-packages\\sklearn\\base.py:1473: ConvergenceWarning: Number of distinct clusters (2) found smaller than n_clusters (5). Possibly due to duplicate points in X.\n",
      "  return fit_method(estimator, *args, **kwargs)\n",
      "c:\\Users\\HaruMomozu\\Desktop\\momozu\\ABtesting\\.venv\\Lib\\site-packages\\sklearn\\base.py:1473: ConvergenceWarning: Number of distinct clusters (2) found smaller than n_clusters (5). Possibly due to duplicate points in X.\n",
      "  return fit_method(estimator, *args, **kwargs)\n"
     ]
    },
    {
     "name": "stdout",
     "output_type": "stream",
     "text": [
      "num_of_features: 1 current_features: [19] , score: -2.1484744497347337e-24 best_n_clusters: 2 best_cluster_size [ 5378 33181]\n"
     ]
    },
    {
     "name": "stderr",
     "output_type": "stream",
     "text": [
      "c:\\Users\\HaruMomozu\\Desktop\\momozu\\ABtesting\\.venv\\Lib\\site-packages\\sklearn\\base.py:1473: ConvergenceWarning: Number of distinct clusters (3) found smaller than n_clusters (5). Possibly due to duplicate points in X.\n",
      "  return fit_method(estimator, *args, **kwargs)\n",
      "c:\\Users\\HaruMomozu\\Desktop\\momozu\\ABtesting\\.venv\\Lib\\site-packages\\sklearn\\base.py:1473: ConvergenceWarning: Number of distinct clusters (4) found smaller than n_clusters (5). Possibly due to duplicate points in X.\n",
      "  return fit_method(estimator, *args, **kwargs)\n",
      "c:\\Users\\HaruMomozu\\Desktop\\momozu\\ABtesting\\.venv\\Lib\\site-packages\\sklearn\\base.py:1473: ConvergenceWarning: Number of distinct clusters (4) found smaller than n_clusters (5). Possibly due to duplicate points in X.\n",
      "  return fit_method(estimator, *args, **kwargs)\n",
      "c:\\Users\\HaruMomozu\\Desktop\\momozu\\ABtesting\\.venv\\Lib\\site-packages\\sklearn\\base.py:1473: ConvergenceWarning: Number of distinct clusters (4) found smaller than n_clusters (5). Possibly due to duplicate points in X.\n",
      "  return fit_method(estimator, *args, **kwargs)\n",
      "c:\\Users\\HaruMomozu\\Desktop\\momozu\\ABtesting\\.venv\\Lib\\site-packages\\sklearn\\base.py:1473: ConvergenceWarning: Number of distinct clusters (4) found smaller than n_clusters (5). Possibly due to duplicate points in X.\n",
      "  return fit_method(estimator, *args, **kwargs)\n",
      "c:\\Users\\HaruMomozu\\Desktop\\momozu\\ABtesting\\.venv\\Lib\\site-packages\\sklearn\\base.py:1473: ConvergenceWarning: Number of distinct clusters (4) found smaller than n_clusters (5). Possibly due to duplicate points in X.\n",
      "  return fit_method(estimator, *args, **kwargs)\n",
      "c:\\Users\\HaruMomozu\\Desktop\\momozu\\ABtesting\\.venv\\Lib\\site-packages\\sklearn\\base.py:1473: ConvergenceWarning: Number of distinct clusters (4) found smaller than n_clusters (5). Possibly due to duplicate points in X.\n",
      "  return fit_method(estimator, *args, **kwargs)\n",
      "c:\\Users\\HaruMomozu\\Desktop\\momozu\\ABtesting\\.venv\\Lib\\site-packages\\sklearn\\base.py:1473: ConvergenceWarning: Number of distinct clusters (4) found smaller than n_clusters (5). Possibly due to duplicate points in X.\n",
      "  return fit_method(estimator, *args, **kwargs)\n",
      "c:\\Users\\HaruMomozu\\Desktop\\momozu\\ABtesting\\.venv\\Lib\\site-packages\\sklearn\\base.py:1473: ConvergenceWarning: Number of distinct clusters (4) found smaller than n_clusters (5). Possibly due to duplicate points in X.\n",
      "  return fit_method(estimator, *args, **kwargs)\n",
      "c:\\Users\\HaruMomozu\\Desktop\\momozu\\ABtesting\\.venv\\Lib\\site-packages\\sklearn\\base.py:1473: ConvergenceWarning: Number of distinct clusters (3) found smaller than n_clusters (5). Possibly due to duplicate points in X.\n",
      "  return fit_method(estimator, *args, **kwargs)\n",
      "c:\\Users\\HaruMomozu\\Desktop\\momozu\\ABtesting\\.venv\\Lib\\site-packages\\sklearn\\base.py:1473: ConvergenceWarning: Number of distinct clusters (3) found smaller than n_clusters (5). Possibly due to duplicate points in X.\n",
      "  return fit_method(estimator, *args, **kwargs)\n",
      "c:\\Users\\HaruMomozu\\Desktop\\momozu\\ABtesting\\.venv\\Lib\\site-packages\\sklearn\\base.py:1473: ConvergenceWarning: Number of distinct clusters (3) found smaller than n_clusters (5). Possibly due to duplicate points in X.\n",
      "  return fit_method(estimator, *args, **kwargs)\n",
      "c:\\Users\\HaruMomozu\\Desktop\\momozu\\ABtesting\\.venv\\Lib\\site-packages\\sklearn\\base.py:1473: ConvergenceWarning: Number of distinct clusters (3) found smaller than n_clusters (5). Possibly due to duplicate points in X.\n",
      "  return fit_method(estimator, *args, **kwargs)\n"
     ]
    },
    {
     "name": "stdout",
     "output_type": "stream",
     "text": [
      "num_of_features: 2 current_features: [19, 16] , score: -5.08883604768623e-24 best_n_clusters: 3 best_cluster_size [ 5378 24375  8806]\n"
     ]
    },
    {
     "name": "stderr",
     "output_type": "stream",
     "text": [
      "c:\\Users\\HaruMomozu\\Desktop\\momozu\\ABtesting\\.venv\\Lib\\site-packages\\sklearn\\base.py:1473: ConvergenceWarning: Number of distinct clusters (4) found smaller than n_clusters (5). Possibly due to duplicate points in X.\n",
      "  return fit_method(estimator, *args, **kwargs)\n",
      "c:\\Users\\HaruMomozu\\Desktop\\momozu\\ABtesting\\.venv\\Lib\\site-packages\\sklearn\\base.py:1473: ConvergenceWarning: Number of distinct clusters (4) found smaller than n_clusters (5). Possibly due to duplicate points in X.\n",
      "  return fit_method(estimator, *args, **kwargs)\n",
      "c:\\Users\\HaruMomozu\\Desktop\\momozu\\ABtesting\\.venv\\Lib\\site-packages\\sklearn\\base.py:1473: ConvergenceWarning: Number of distinct clusters (4) found smaller than n_clusters (5). Possibly due to duplicate points in X.\n",
      "  return fit_method(estimator, *args, **kwargs)\n"
     ]
    },
    {
     "name": "stdout",
     "output_type": "stream",
     "text": [
      "num_of_features: 3 current_features: [19, 16, 17] , score: -6.677926144959345e-24 best_n_clusters: 4 best_cluster_size [ 5378 14911  9464  8806]\n",
      "num_of_features: 4 current_features: [19, 16, 17, 18] , score: -1.341702860103e-23 best_n_clusters: 5 best_cluster_size [5378 9464 8806 8510 6401]\n",
      "num_of_features: 5 current_features: [19, 16, 17, 18, 20] , score: -3.580103585149303e-23 best_n_clusters: 5 best_cluster_size [5378 9464 8806 8510 6401]\n"
     ]
    }
   ],
   "source": [
    "features_score_dict_dict = {}  # スコア推移確認用\n",
    "\n",
    "# 各インスタンスに対して処理を実行\n",
    "for method_name, instance in instances:\n",
    "    print(\"[\", method_name, \"]\")\n",
    "    start_time = time.time()\n",
    "    selected_features_index, features_score_dict = process_wrapper(\n",
    "        instance, X_train_std, y_train\n",
    "    )\n",
    "    end_time = time.time()\n",
    "\n",
    "    SELECTED_FEATURES_DICT[method_name] = selected_features_index\n",
    "    TIME_DICT[method_name] = end_time - start_time\n",
    "\n",
    "    features_score_dict_dict[method_name] = features_score_dict  # スコア推移確認用"
   ]
  },
  {
   "cell_type": "markdown",
   "metadata": {},
   "source": [
    "## 4.4 特徴量選択の結果"
   ]
  },
  {
   "cell_type": "markdown",
   "metadata": {},
   "source": [
    "### Wrapper 法のスコア推移"
   ]
  },
  {
   "cell_type": "code",
   "execution_count": 26,
   "metadata": {},
   "outputs": [
    {
     "data": {
      "image/png": "[encoded data removed]",
      "text/plain": [
       "<Figure size 500x300 with 1 Axes>"
      ]
     },
     "metadata": {},
     "output_type": "display_data"
    },
    {
     "data": {
      "image/png": "[encoded data removed]",
      "text/plain": [
       "<Figure size 500x300 with 1 Axes>"
      ]
     },
     "metadata": {},
     "output_type": "display_data"
    }
   ],
   "source": [
    "for method_name, instance in instances:\n",
    "    # 棒グラフを作成\n",
    "    plt.figure(figsize=(5, 3))\n",
    "    plt.bar(\n",
    "        features_score_dict_dict[method_name].keys(),\n",
    "        features_score_dict_dict[method_name].values(),\n",
    "    )\n",
    "    plt.title(f\"{method_name}\", fontsize=TITLE_SIZE)\n",
    "    plt.xlabel(\"Number of features\", fontsize=LABEL_SIZE)\n",
    "    plt.ylabel(\"Evaluation value\", fontsize=LABEL_SIZE)\n",
    "    # plt.ylim(,)\n",
    "    plt.tick_params(axis=\"both\", labelsize=TICK_SIZE)\n",
    "    plt.show()"
   ]
  },
  {
   "cell_type": "markdown",
   "metadata": {},
   "source": [
    "### 特徴量選択の結果"
   ]
  },
  {
   "cell_type": "code",
   "execution_count": 27,
   "metadata": {},
   "outputs": [
    {
     "name": "stdout",
     "output_type": "stream",
     "text": [
      "【Kmeans】\n",
      "選択された特徴量： [ 0  1  2  3  4  5  6  7  8  9 10 11 12 13 14 15 16 17 18 19 20]\n",
      "特徴量選択にかかった時間：0 s\n",
      "\n",
      "【Lasso-Kmeans】\n",
      "選択された特徴量： [ 1  4  8  9 20]\n",
      "特徴量選択にかかった時間：3.135 s\n",
      "\n",
      "【SFS-Kmeans-T】\n",
      "選択された特徴量： [ 1  4 20  7 12]\n",
      "特徴量選択にかかった時間：4.271 s\n",
      "\n",
      "【SFS-Kmeans-F】\n",
      "選択された特徴量： [19 16 17 18 20]\n",
      "特徴量選択にかかった時間：4.08 s\n",
      "\n"
     ]
    }
   ],
   "source": [
    "for _, method_name in METHODS_NAME_DICT.items():\n",
    "    print(f\"【{method_name}】\")\n",
    "    print(\"選択された特徴量：\", SELECTED_FEATURES_DICT[method_name])\n",
    "    print(f\"特徴量選択にかかった時間：{round(TIME_DICT[method_name], 3)} s\")\n",
    "    print()"
   ]
  },
  {
   "cell_type": "markdown",
   "metadata": {},
   "source": [
    "-----------\n",
    "# 5. クラスタリングと標本配分"
   ]
  },
  {
   "cell_type": "markdown",
   "metadata": {},
   "source": [
    "## 5.1 クラスタリング"
   ]
  },
  {
   "cell_type": "markdown",
   "metadata": {},
   "source": [
    "### 準備"
   ]
  },
  {
   "cell_type": "code",
   "execution_count": 28,
   "metadata": {},
   "outputs": [],
   "source": [
    "def compute_bic(X: NDArray, kmeans: KMeans) -> float:\n",
    "    labels = kmeans.labels_\n",
    "    clusters = kmeans.cluster_centers_\n",
    "    n_clusters = len(clusters)\n",
    "    n = len(X)\n",
    "    m = X.shape[1]\n",
    "    variance = np.sum(\n",
    "        [\n",
    "            np.linalg.norm(X[labels == i] - clusters[i], axis=1).sum()\n",
    "            for i in range(n_clusters)\n",
    "        ]\n",
    "    )\n",
    "    bic = np.log(n) * n_clusters * m + n * np.log(variance / n)\n",
    "    return bic\n",
    "\n",
    "\n",
    "def xmeans(X: NDArray, k_min: int, k_max: int) -> KMeans:\n",
    "    kmeans = KMeans(n_clusters=k_min, random_state=RANDOM_STATE)\n",
    "    kmeans.fit(X)\n",
    "    best_bic = compute_bic(X, kmeans)\n",
    "    best_kmeans = kmeans\n",
    "    for k in range(k_min + 1, k_max + 1):\n",
    "        kmeans = KMeans(n_clusters=k, random_state=RANDOM_STATE)\n",
    "        kmeans.fit(X)\n",
    "        current_bic = compute_bic(X, kmeans)\n",
    "        if current_bic < best_bic:\n",
    "            best_bic = current_bic\n",
    "            best_kmeans = kmeans\n",
    "    return best_kmeans"
   ]
  },
  {
   "cell_type": "code",
   "execution_count": 29,
   "metadata": {},
   "outputs": [],
   "source": [
    "def clustering(\n",
    "    X_train: NDArray,\n",
    "    X_test: NDArray,\n",
    "    methods_name_dict: dict,\n",
    "    n_clusters: int,\n",
    "    random_state: int,\n",
    "    k_min: int,\n",
    "    k_max: int,\n",
    "    selected_features_dict: dict,\n",
    ") -> tuple[dict, dict, dict, dict]:\n",
    "    cluster_label_dict_train = {}\n",
    "    cluster_size_dict_train = {}\n",
    "    cluster_label_dict_test = {}\n",
    "    cluster_size_dict_test = {}\n",
    "\n",
    "    for method, name in methods_name_dict.items():\n",
    "        if method[1] == \"kmeans\":\n",
    "            model = KMeans(n_clusters=n_clusters, random_state=random_state)\n",
    "        if method[1] == \"gmm\":\n",
    "            model = GaussianMixture(\n",
    "                n_components=n_clusters, random_state=random_state, init_params=\"kmeans\"\n",
    "            )\n",
    "        if method[1] == \"xmeans\":\n",
    "            model = xmeans(X_train, k_min=k_min, k_max=k_max)\n",
    "\n",
    "        cluster_label_train = model.fit_predict(\n",
    "            X_train[:, selected_features_dict[name]]\n",
    "        )\n",
    "        cluster_size_train = np.bincount(cluster_label_train)\n",
    "        cluster_label_test = model.predict(X_test[:, selected_features_dict[name]])\n",
    "        cluster_size_test = np.bincount(cluster_label_test, minlength=n_clusters)\n",
    "\n",
    "        cluster_label_dict_train[name] = cluster_label_train\n",
    "        cluster_size_dict_train[name] = cluster_size_train\n",
    "        cluster_label_dict_test[name] = cluster_label_test\n",
    "        cluster_size_dict_test[name] = cluster_size_test\n",
    "\n",
    "    return (\n",
    "        cluster_label_dict_train,\n",
    "        cluster_size_dict_train,\n",
    "        cluster_label_dict_test,\n",
    "        cluster_size_dict_test,\n",
    "    )"
   ]
  },
  {
   "cell_type": "markdown",
   "metadata": {},
   "source": [
    "### クラスタリングの実施"
   ]
  },
  {
   "cell_type": "code",
   "execution_count": 30,
   "metadata": {},
   "outputs": [],
   "source": [
    "# 訓練データ\n",
    "(\n",
    "    CLUSTER_LABEL_DICT_TRAIN,\n",
    "    CLUSTER_SIZE_DICT_TRAIN,\n",
    "    CLUSTER_LABEL_DICT_TEST,\n",
    "    CLUSTER_SIZE_DICT_TEST,\n",
    ") = clustering(\n",
    "    X_train=X_train_std,\n",
    "    X_test=X_test_std,\n",
    "    methods_name_dict=METHODS_NAME_DICT,\n",
    "    n_clusters=N_CLUSTERS,\n",
    "    random_state=RANDOM_STATE,\n",
    "    k_min=K_MIN,\n",
    "    k_max=K_MAX,\n",
    "    selected_features_dict=SELECTED_FEATURES_DICT,\n",
    ")"
   ]
  },
  {
   "cell_type": "code",
   "execution_count": 31,
   "metadata": {},
   "outputs": [],
   "source": [
    "def cauculate_dict_for_allocation(\n",
    "    cluster_size_dict_train: dict[str, NDArray],\n",
    "    cluster_size_dict_test: dict[str, NDArray],\n",
    "    min_n_h: int,\n",
    ") -> tuple[dict[str, list[int]], dict[str, list[int]], dict[str, list[int]]]:\n",
    "    cluster_size_dict_for_allocation_train = {}\n",
    "    cluster_size_dict_for_allocation_test = {}\n",
    "    unique_label_dict_for_allocation = {}\n",
    "\n",
    "    for method_name, cluster_size in cluster_size_dict_train.items():\n",
    "        cluster_size_train = []\n",
    "        cluster_size_test = []\n",
    "        labels = []\n",
    "        for i in range(len(cluster_size)):\n",
    "            if (\n",
    "                cluster_size_dict_train[method_name][i] >= min_n_h\n",
    "                and cluster_size_dict_test[method_name][i] >= min_n_h\n",
    "            ):\n",
    "                cluster_size_train.append(cluster_size_dict_train[method_name][i])\n",
    "                cluster_size_test.append(cluster_size_dict_test[method_name][i])\n",
    "                labels.append(i)\n",
    "        cluster_size_dict_for_allocation_train[method_name] = cluster_size_train\n",
    "        cluster_size_dict_for_allocation_test[method_name] = cluster_size_test\n",
    "        unique_label_dict_for_allocation[method_name] = labels\n",
    "\n",
    "    return (\n",
    "        cluster_size_dict_for_allocation_train,\n",
    "        cluster_size_dict_for_allocation_test,\n",
    "        unique_label_dict_for_allocation,\n",
    "    )"
   ]
  },
  {
   "cell_type": "code",
   "execution_count": 32,
   "metadata": {},
   "outputs": [],
   "source": [
    "(\n",
    "    CLUSTER_SIZE_DICT_FOR_ALLOCATION_TRAIN,\n",
    "    CLUSTER_SIZE_DICT_FOR_ALLOCATION_TEST,\n",
    "    UNIQUE_LABEL_DICT_FOR_ALLOCATION,\n",
    ") = cauculate_dict_for_allocation(\n",
    "    cluster_size_dict_train=CLUSTER_SIZE_DICT_TRAIN,\n",
    "    cluster_size_dict_test=CLUSTER_SIZE_DICT_TEST,\n",
    "    min_n_h=1,\n",
    ")\n",
    "\n",
    "(\n",
    "    CLUSTER_SIZE_DICT_FOR_OPTIMAL_TRAIN,\n",
    "    CLUSTER_SIZE_DICT_FOR_OPTIMAL_TEST,\n",
    "    UNIQUE_LABEL_DICT_FOR_OPTIMAL,\n",
    ") = cauculate_dict_for_allocation(\n",
    "    cluster_size_dict_train=CLUSTER_SIZE_DICT_TRAIN,\n",
    "    cluster_size_dict_test=CLUSTER_SIZE_DICT_TEST,\n",
    "    min_n_h=2,\n",
    ")"
   ]
  },
  {
   "cell_type": "markdown",
   "metadata": {},
   "source": [
    "### クラスタリング結果"
   ]
  },
  {
   "cell_type": "code",
   "execution_count": 33,
   "metadata": {},
   "outputs": [
    {
     "name": "stdout",
     "output_type": "stream",
     "text": [
      "【訓練データ】\n",
      "Kmeans:[ 5899  6184  6609  8163 11704]\n",
      "（クラスタサイズが１以上の層：[5899, 6184, 6609, 8163, 11704]\n",
      "（クラスタサイズが２以上の層（最適標本配分）：[5899, 6184, 6609, 8163, 11704]\n",
      "Lasso-Kmeans:[ 8042 18609  3948  6248  1712]\n",
      "（クラスタサイズが１以上の層：[8042, 18609, 3948, 6248, 1712]\n",
      "（クラスタサイズが２以上の層（最適標本配分）：[8042, 18609, 3948, 6248, 1712]\n",
      "SFS-Kmeans-T:[14306  8204  8255  1395  6399]\n",
      "（クラスタサイズが１以上の層：[14306, 8204, 8255, 1395, 6399]\n",
      "（クラスタサイズが２以上の層（最適標本配分）：[14306, 8204, 8255, 1395, 6399]\n",
      "SFS-Kmeans-F:[5378 9464 8806 8510 6401]\n",
      "（クラスタサイズが１以上の層：[5378, 9464, 8806, 8510, 6401]\n",
      "（クラスタサイズが２以上の層（最適標本配分）：[5378, 9464, 8806, 8510, 6401]\n",
      "\n",
      "【テストデータ】\n",
      "Kmeans:[ 6302  5456  6688  8671 10120]\n",
      "（クラスタサイズが１以上の層：[6302, 5456, 6688, 8671, 10120]\n",
      "（クラスタサイズが２以上の層（最適標本配分）：[6302, 5456, 6688, 8671, 10120]\n",
      "Lasso-Kmeans:[ 8475 16908  4219  5913  1722]\n",
      "（クラスタサイズが１以上の層：[8475, 16908, 4219, 5913, 1722]\n",
      "（クラスタサイズが２以上の層（最適標本配分）：[8475, 16908, 4219, 5913, 1722]\n",
      "SFS-Kmeans-T:[14977  8249  6482  1425  6104]\n",
      "（クラスタサイズが１以上の層：[14977, 8249, 6482, 1425, 6104]\n",
      "（クラスタサイズが２以上の層（最適標本配分）：[14977, 8249, 6482, 1425, 6104]\n",
      "SFS-Kmeans-F:[5625 9608 7942 7954 6108]\n",
      "（クラスタサイズが１以上の層：[5625, 9608, 7942, 7954, 6108]\n",
      "（クラスタサイズが２以上の層（最適標本配分）：[5625, 9608, 7942, 7954, 6108]\n",
      "クラスタラベル（比例配分、事後層化）\n",
      "{'Kmeans': [0, 1, 2, 3, 4], 'Lasso-Kmeans': [0, 1, 2, 3, 4], 'SFS-Kmeans-T': [0, 1, 2, 3, 4], 'SFS-Kmeans-F': [0, 1, 2, 3, 4]}\n",
      "クラスタラベル（最適標本配分）\n",
      "{'Kmeans': [0, 1, 2, 3, 4], 'Lasso-Kmeans': [0, 1, 2, 3, 4], 'SFS-Kmeans-T': [0, 1, 2, 3, 4], 'SFS-Kmeans-F': [0, 1, 2, 3, 4]}\n"
     ]
    }
   ],
   "source": [
    "print(\"【訓練データ】\")\n",
    "for _, method_name in METHODS_NAME_DICT.items():\n",
    "    print(f\"{method_name}:{CLUSTER_SIZE_DICT_TRAIN[method_name]}\")\n",
    "    print(\n",
    "        f\"（クラスタサイズが１以上の層：{CLUSTER_SIZE_DICT_FOR_ALLOCATION_TRAIN[method_name]}\"\n",
    "    )\n",
    "    print(\n",
    "        f\"（クラスタサイズが２以上の層（最適標本配分）：{CLUSTER_SIZE_DICT_FOR_OPTIMAL_TRAIN[method_name]}\"\n",
    "    )\n",
    "print()\n",
    "\n",
    "print(\"【テストデータ】\")\n",
    "for _, method_name in METHODS_NAME_DICT.items():\n",
    "    print(f\"{method_name}:{CLUSTER_SIZE_DICT_TEST[method_name]}\")\n",
    "    print(\n",
    "        f\"（クラスタサイズが１以上の層：{CLUSTER_SIZE_DICT_FOR_ALLOCATION_TEST[method_name]}\"\n",
    "    )\n",
    "    print(\n",
    "        f\"（クラスタサイズが２以上の層（最適標本配分）：{CLUSTER_SIZE_DICT_FOR_OPTIMAL_TEST[method_name]}\"\n",
    "    )\n",
    "\n",
    "print(\"クラスタラベル（比例配分、事後層化）\")\n",
    "print(UNIQUE_LABEL_DICT_FOR_ALLOCATION)\n",
    "print(\"クラスタラベル（最適標本配分）\")\n",
    "print(UNIQUE_LABEL_DICT_FOR_OPTIMAL)"
   ]
  },
  {
   "cell_type": "markdown",
   "metadata": {},
   "source": [
    "## 5.2 標本配分"
   ]
  },
  {
   "cell_type": "markdown",
   "metadata": {},
   "source": [
    "### 基底クラス"
   ]
  },
  {
   "cell_type": "code",
   "execution_count": 34,
   "metadata": {},
   "outputs": [],
   "source": [
    "class BaseAllocation(metaclass=ABCMeta):  # 抽象基底クラス（ABC）\n",
    "    # 初期化クラス（n_samples(標本サイズ), H(クラスタ数)）\n",
    "    def __init__(\n",
    "        self,\n",
    "        sample_size: int,\n",
    "        random_state: int,\n",
    "        method_name: str,\n",
    "        cluster_size_dict_for_allocation: dict,\n",
    "    ):\n",
    "        self.sample_size = sample_size\n",
    "        self.random_state = random_state\n",
    "        self.method_name = method_name\n",
    "        self.N = np.array(cluster_size_dict_for_allocation[self.method_name])\n",
    "\n",
    "    @abstractmethod\n",
    "    def solve(self, X: NDArray, y: NDArray) -> NDArray:\n",
    "        \"\"\"標本配分を解く\n",
    "\n",
    "        Args:\n",
    "            X (NDArray): データ (N x M)\n",
    "            y (NDArray): 目的変数 (N)\n",
    "\n",
    "        Raises:\n",
    "            NotImplementedError: _description_\n",
    "\n",
    "        Returns:\n",
    "            NDArray: 各クラスタの標本数 (H, )\n",
    "\n",
    "        Note:\n",
    "            M: 特徴量数\n",
    "            H: クラスタ数\n",
    "        \"\"\"\n",
    "        raise NotImplementedError"
   ]
  },
  {
   "cell_type": "markdown",
   "metadata": {},
   "source": [
    "### ① 比例配分（Proportional）"
   ]
  },
  {
   "cell_type": "code",
   "execution_count": 35,
   "metadata": {},
   "outputs": [],
   "source": [
    "class Proportional(BaseAllocation):\n",
    "    def solve(self, X: NDArray, y: NDArray) -> NDArray:\n",
    "        \"\"\"各クラスタ数に比例した標本数で分割する\"\"\"\n",
    "        n: NDArray = np.round(self.N / self.N.sum() * self.sample_size).astype(int)\n",
    "\n",
    "        if n.sum() > self.sample_size:\n",
    "            # nの合計がn_samplesより大きい場合は一番標本数が多いクラスタから削る\n",
    "            n[np.argmax(n)] -= n.sum() - self.sample_size\n",
    "\n",
    "        if n.sum() < self.sample_size:\n",
    "            # nの合計がn_samplesより小さい場合は一番標本数が多いクラスタに足す\n",
    "            n[np.argmax(n)] += -n.sum() + self.sample_size\n",
    "\n",
    "        return n"
   ]
  },
  {
   "cell_type": "markdown",
   "metadata": {},
   "source": [
    "### ② 事後層化（Post）"
   ]
  },
  {
   "cell_type": "code",
   "execution_count": 36,
   "metadata": {},
   "outputs": [],
   "source": [
    "class Post(BaseAllocation):\n",
    "    def solve(self, X: NDArray, y: NDArray) -> NDArray:\n",
    "        \"\"\"ランダムにn_samplesの標本を選択する\"\"\"\n",
    "        n = np.array([self.sample_size])\n",
    "\n",
    "        return n"
   ]
  },
  {
   "cell_type": "markdown",
   "metadata": {},
   "source": [
    "### ③ 最適標本配分（Optimal）"
   ]
  },
  {
   "cell_type": "code",
   "execution_count": 37,
   "metadata": {},
   "outputs": [],
   "source": [
    "class Optimal(BaseAllocation):\n",
    "    def __init__(\n",
    "        self,\n",
    "        sample_size: int,\n",
    "        random_state: int,\n",
    "        method_name: str,\n",
    "        cluster_size_dict_for_allocation: dict,\n",
    "        cluster_label_dict: dict,\n",
    "        cluster_size_dict_for_optimal: dict,\n",
    "        unique_label_dict_for_optimal: dict,\n",
    "        m_value: int,  # 標本サイズ下限\n",
    "        M: Optional[NDArray] = None,  # 標本サイズ上限 #Optional(Noneである可能性がある)\n",
    "    ):\n",
    "        super().__init__(\n",
    "            sample_size, random_state, method_name, cluster_size_dict_for_allocation\n",
    "        )  # 基底クラスBaseAllocation（スーパークラス）の初期化メゾッドを呼び出す\n",
    "        self.cluster_label = cluster_label_dict[self.method_name]\n",
    "        self.N_for_optimal = np.array(cluster_size_dict_for_optimal[self.method_name])\n",
    "        self.labels = unique_label_dict_for_optimal[self.method_name]\n",
    "        self.m_value = m_value  # 各クラスタの最小標本サイズの配列\n",
    "        self.M = M  # 各クラスタの最大標本サイズの配列 (指定しない場合はクラスタサイズ)\n",
    "\n",
    "    def solve(self, X: NDArray, y: NDArray) -> NDArray:\n",
    "        # S:クラスタ毎の目的変数のvarianceを要素とする配列 (H, )\n",
    "        S = np.array([np.var(y[self.cluster_label == h]) for h in self.labels])\n",
    "        d = (self.N_for_optimal**2) * S  # (H, )\n",
    "\n",
    "        self.m = np.full(len(self.labels), self.m_value)\n",
    "        n = self._simple_greedy(n=self.m.copy(), d=d)\n",
    "\n",
    "        # 制約チェック\n",
    "        self._check_constraints(n)\n",
    "\n",
    "        return n\n",
    "\n",
    "    def _simple_greedy(self, n: NDArray, d: NDArray) -> NDArray:\n",
    "        M = self.M.copy() if self.M is not None else self.N_for_optimal.copy()\n",
    "        I = np.arange(len(self.labels))  # noqa #クラスタのインデックス配列\n",
    "        while (n.sum() != self.sample_size) and len(I) != 0:\n",
    "            delta = np.zeros(len(self.labels))\n",
    "            delta[I] = (d / (n + 1) - d / n)[I]\n",
    "            h_star = np.argmin(delta[I])\n",
    "            h_star = I[h_star]\n",
    "\n",
    "            if n[h_star] + 1 <= M[h_star]:\n",
    "                n[h_star] = n[h_star] + 1\n",
    "            else:\n",
    "                # Iの要素h_starを削除\n",
    "                I_ = I.tolist()\n",
    "                I_ = [i for i in I_ if i != h_star]\n",
    "                I = np.array(I_)  # noqa\n",
    "\n",
    "        return n\n",
    "\n",
    "    def _check_constraints(self, n: NDArray):\n",
    "        assert (\n",
    "            n.sum() <= self.sample_size\n",
    "        ), f\"Total sample size is over than {self.sample_size}\"\n",
    "        assert np.all(\n",
    "            n >= self.m_value\n",
    "        ), \"Minimum sample size constraint is not satisfied\"\n",
    "        if self.M is not None:\n",
    "            assert np.all(\n",
    "                n <= self.M\n",
    "            ), \"Maximum sample size constraint is not satisfied\""
   ]
  },
  {
   "cell_type": "markdown",
   "metadata": {},
   "source": [
    "### ポリシーの作成"
   ]
  },
  {
   "cell_type": "code",
   "execution_count": 38,
   "metadata": {},
   "outputs": [],
   "source": [
    "def create_policies(\n",
    "    sample_size: int,\n",
    "    random_state: int,\n",
    "    methods_name_dict: dict,\n",
    "    cluster_size_dict_for_allocation: dict,\n",
    "    cluster_label_dict: dict,\n",
    "    cluster_size_dict_for_optimal: dict,\n",
    "    unique_label_dict_for_optimal: dict,\n",
    "    allocation_list: list,\n",
    "    m_value: int,\n",
    ") -> dict[str, list[BaseAllocation]]:\n",
    "    policies_dict = {}\n",
    "\n",
    "    for _, method_name in methods_name_dict.items():\n",
    "        policies: list[BaseAllocation] = []\n",
    "        if \"Proportional\" in allocation_list:\n",
    "            policies.append(\n",
    "                Proportional(\n",
    "                    sample_size=sample_size,\n",
    "                    random_state=random_state,\n",
    "                    method_name=method_name,\n",
    "                    cluster_size_dict_for_allocation=cluster_size_dict_for_allocation,\n",
    "                )\n",
    "            )\n",
    "        if \"Post\" in allocation_list:\n",
    "            policies.append(\n",
    "                Post(\n",
    "                    sample_size=sample_size,\n",
    "                    random_state=random_state,\n",
    "                    method_name=method_name,\n",
    "                    cluster_size_dict_for_allocation=cluster_size_dict_for_allocation,\n",
    "                )\n",
    "            )\n",
    "        if \"Optimal\" in allocation_list:\n",
    "            policies.append(\n",
    "                Optimal(\n",
    "                    sample_size=sample_size,\n",
    "                    random_state=random_state,\n",
    "                    method_name=method_name,\n",
    "                    cluster_size_dict_for_allocation=cluster_size_dict_for_allocation,\n",
    "                    cluster_label_dict=cluster_label_dict,\n",
    "                    cluster_size_dict_for_optimal=cluster_size_dict_for_optimal,\n",
    "                    unique_label_dict_for_optimal=unique_label_dict_for_optimal,\n",
    "                    m_value=m_value,\n",
    "                    M=None,\n",
    "                )\n",
    "            )\n",
    "        policies_dict[method_name] = policies\n",
    "\n",
    "    return policies_dict"
   ]
  },
  {
   "cell_type": "code",
   "execution_count": 39,
   "metadata": {},
   "outputs": [],
   "source": [
    "policies_dict = create_policies(\n",
    "    sample_size=SAMPLE_SIZE,\n",
    "    random_state=RANDOM_STATE,\n",
    "    m_value=m_VALUE,\n",
    "    methods_name_dict=METHODS_NAME_DICT,\n",
    "    cluster_size_dict_for_allocation=CLUSTER_SIZE_DICT_FOR_ALLOCATION_TRAIN,\n",
    "    cluster_label_dict=CLUSTER_LABEL_DICT_TRAIN,\n",
    "    cluster_size_dict_for_optimal=CLUSTER_SIZE_DICT_FOR_OPTIMAL_TRAIN,\n",
    "    unique_label_dict_for_optimal=UNIQUE_LABEL_DICT_FOR_OPTIMAL,\n",
    "    allocation_list=ALLOCATION_LIST,\n",
    ")"
   ]
  },
  {
   "cell_type": "markdown",
   "metadata": {},
   "source": [
    "### 標本配分の実施"
   ]
  },
  {
   "cell_type": "code",
   "execution_count": 40,
   "metadata": {},
   "outputs": [],
   "source": [
    "def cauculate_allocation_dict_dict(\n",
    "    X: NDArray, y: NDArray, policies_dict: dict\n",
    ") -> dict[str, dict[str, NDArray]]:\n",
    "    allocation_dict_dict = {}\n",
    "    for name, policies in policies_dict.items():\n",
    "        allocation_dict = {}\n",
    "        for policy in policies:\n",
    "            n = policy.solve(X, y)\n",
    "            allocation_dict[policy.__class__.__name__] = n\n",
    "        allocation_dict_dict[name] = allocation_dict\n",
    "\n",
    "    return allocation_dict_dict"
   ]
  },
  {
   "cell_type": "code",
   "execution_count": 41,
   "metadata": {},
   "outputs": [],
   "source": [
    "ALLOCATION_DICT_DICT = cauculate_allocation_dict_dict(\n",
    "    X=X_train_std, y=y_train, policies_dict=policies_dict\n",
    ")"
   ]
  },
  {
   "cell_type": "markdown",
   "metadata": {},
   "source": [
    "### 標本配分の結果"
   ]
  },
  {
   "cell_type": "code",
   "execution_count": 42,
   "metadata": {},
   "outputs": [
    {
     "name": "stdout",
     "output_type": "stream",
     "text": [
      "【Kmeans】\n",
      "Proportional: [153 160 171 212 304]\n",
      "Post: [1000]\n",
      "Optimal: [115 191 178 193 323]\n",
      "\n",
      "【Lasso-Kmeans】\n",
      "Proportional: [209 483 102 162  44]\n",
      "Post: [1000]\n",
      "Optimal: [165 524 100 179  32]\n",
      "\n",
      "【SFS-Kmeans-T】\n",
      "Proportional: [371 213 214  36 166]\n",
      "Post: [1000]\n",
      "Optimal: [333 199 257  25 186]\n",
      "\n",
      "【SFS-Kmeans-F】\n",
      "Proportional: [139 246 228 221 166]\n",
      "Post: [1000]\n",
      "Optimal: [135 244 207 233 181]\n",
      "\n"
     ]
    }
   ],
   "source": [
    "for _, method_name in METHODS_NAME_DICT.items():\n",
    "    print(f\"【{method_name}】\")\n",
    "    for allocation_method in ALLOCATION_LIST:\n",
    "        print(\n",
    "            f\"{allocation_method}: {ALLOCATION_DICT_DICT[method_name][allocation_method]}\"\n",
    "        )\n",
    "    print()"
   ]
  },
  {
   "cell_type": "markdown",
   "metadata": {},
   "source": [
    "---------------\n",
    "# 6. 評価"
   ]
  },
  {
   "cell_type": "markdown",
   "metadata": {},
   "source": [
    "## 6.1 標本平均の分散を計算（単純無作為抽出）"
   ]
  },
  {
   "cell_type": "code",
   "execution_count": 43,
   "metadata": {},
   "outputs": [],
   "source": [
    "def cauculate_var_random(y: NDArray, n_trials: int, sample_size: int) -> float:\n",
    "    y_hats = []\n",
    "    for i in range(n_trials):\n",
    "        rng = np.random.RandomState(i)\n",
    "        sample = rng.choice(y, sample_size, replace=False)\n",
    "        y_hat_random = sample.mean()\n",
    "        y_hats.append(y_hat_random)\n",
    "    var_random = np.array(y_hats).var()\n",
    "\n",
    "    return var_random"
   ]
  },
  {
   "cell_type": "code",
   "execution_count": 44,
   "metadata": {},
   "outputs": [],
   "source": [
    "VAR_RANDOM_TRAIN = cauculate_var_random(\n",
    "    y=y_train, n_trials=N_TRIALS, sample_size=SAMPLE_SIZE\n",
    ")\n",
    "VAR_RANDOM_TEST = cauculate_var_random(\n",
    "    y=y_test, n_trials=N_TRIALS, sample_size=SAMPLE_SIZE\n",
    ")"
   ]
  },
  {
   "cell_type": "code",
   "execution_count": 45,
   "metadata": {},
   "outputs": [
    {
     "name": "stdout",
     "output_type": "stream",
     "text": [
      "訓練データでの標本平均の分散 (Random) : 1.7877391147297501\n",
      "テストデータでの標本平均の分散 (Random) : 1.43335418042879\n"
     ]
    }
   ],
   "source": [
    "print(f\"訓練データでの標本平均の分散 (Random) : {VAR_RANDOM_TRAIN}\")\n",
    "print(f\"テストデータでの標本平均の分散 (Random) : {VAR_RANDOM_TEST}\")"
   ]
  },
  {
   "cell_type": "markdown",
   "metadata": {},
   "source": [
    "## 6.2 標本平均の分散を計算（層化抽出）"
   ]
  },
  {
   "cell_type": "markdown",
   "metadata": {},
   "source": [
    "### 標本平均を計算する関数"
   ]
  },
  {
   "cell_type": "code",
   "execution_count": 46,
   "metadata": {},
   "outputs": [],
   "source": [
    "def estimate_y_mean_proportional(\n",
    "    n: NDArray,\n",
    "    cluster_label: NDArray,\n",
    "    cluster_size_for_allocation: list,\n",
    "    unique_label_for_allocation: list,\n",
    "    y: NDArray,\n",
    "    random_state: int,\n",
    ") -> float:\n",
    "    N = np.array(cluster_size_for_allocation)\n",
    "    weights = N / N.sum()\n",
    "    y_hat = 0\n",
    "    i = -1\n",
    "    for h in unique_label_for_allocation:\n",
    "        i += 1\n",
    "        if n[i] > 0:\n",
    "            rng = np.random.RandomState(random_state)\n",
    "            sample: NDArray = rng.choice(y[cluster_label == h], n[i], replace=False)\n",
    "            y_sample_mean = sample.mean()  # サンプリングした標本の平均\n",
    "            y_hat += y_sample_mean * weights[i]\n",
    "    return y_hat\n",
    "\n",
    "\n",
    "def estimate_y_mean_optimal(\n",
    "    n: NDArray,\n",
    "    cluster_label: NDArray,\n",
    "    cluster_size_for_optimal: list,\n",
    "    unique_label_for_optimal: list,\n",
    "    y: NDArray,\n",
    "    random_state: int,\n",
    ") -> float:\n",
    "    N = np.array(cluster_size_for_optimal)\n",
    "    weights = N / N.sum()\n",
    "    y_hat = 0\n",
    "    i = -1\n",
    "    for h in unique_label_for_optimal:\n",
    "        i += 1\n",
    "        rng = np.random.RandomState(random_state)\n",
    "        sample: NDArray = rng.choice(y[cluster_label == h], n[i], replace=False)\n",
    "        y_sample_mean = sample.mean()  # サンプリングした標本の平均\n",
    "        y_hat += y_sample_mean * weights[i]\n",
    "    return y_hat\n",
    "\n",
    "\n",
    "def estimate_y_mean_post(\n",
    "    n: NDArray,\n",
    "    cluster_label: NDArray,\n",
    "    cluster_size_for_allocation: list,\n",
    "    unique_label_for_allocation: list,\n",
    "    y: NDArray,\n",
    "    random_state: int,\n",
    ") -> float:\n",
    "    N = np.array(cluster_size_for_allocation)\n",
    "    weights = N / N.sum()\n",
    "    y_hat = 0\n",
    "\n",
    "    all_indices = np.arange(len(y))  # 全データのインデックス\n",
    "    rng = np.random.RandomState(random_state)\n",
    "    sample_indices = rng.choice(all_indices, n[0], replace=False)\n",
    "    sample_labels = np.array([cluster_label[i] for i in sample_indices])\n",
    "\n",
    "    for h in np.unique(sample_labels):\n",
    "        index = np.where(sample_labels == h)[0]\n",
    "        sample = y[sample_indices[index]]\n",
    "        y_sample_mean = sample.mean()\n",
    "        y_hat += y_sample_mean * weights[unique_label_for_allocation.index(h)]\n",
    "    return y_hat"
   ]
  },
  {
   "cell_type": "markdown",
   "metadata": {},
   "source": [
    "### 分散を計算する関数"
   ]
  },
  {
   "cell_type": "code",
   "execution_count": 47,
   "metadata": {},
   "outputs": [],
   "source": [
    "def cauculate_var_stratified_dict_dict(\n",
    "    y: NDArray,\n",
    "    n_trials: int,\n",
    "    allocation_dict_dict: dict[dict],\n",
    "    cluster_label_dict: dict,\n",
    "    cluster_size_dict_for_allocation: dict,\n",
    "    unique_label_dict_for_allocation: dict,\n",
    "    cluster_size_dict_for_optimal: dict,\n",
    "    unique_label_dict_for_optimal: dict,\n",
    ") -> dict[str, dict[str, float]]:\n",
    "    var_stratified_dict_dict = {}\n",
    "    for method_name, allocation_dict in allocation_dict_dict.items():\n",
    "        var_stratified_dict_dict[method_name] = {}\n",
    "        for allocation_method, allocation in allocation_dict.items():\n",
    "            y_hats = []\n",
    "            for i in range(n_trials):\n",
    "                if allocation_method == \"Post\":\n",
    "                    y_hat = estimate_y_mean_post(\n",
    "                        n=allocation,\n",
    "                        cluster_label=cluster_label_dict[method_name],\n",
    "                        cluster_size_for_allocation=cluster_size_dict_for_allocation[\n",
    "                            method_name\n",
    "                        ],\n",
    "                        unique_label_for_allocation=unique_label_dict_for_allocation[\n",
    "                            method_name\n",
    "                        ],\n",
    "                        y=y,\n",
    "                        random_state=i,\n",
    "                    )\n",
    "                elif allocation_method == \"Proportional\":\n",
    "                    y_hat = estimate_y_mean_proportional(\n",
    "                        n=allocation,\n",
    "                        cluster_label=cluster_label_dict[method_name],\n",
    "                        cluster_size_for_allocation=cluster_size_dict_for_allocation[\n",
    "                            method_name\n",
    "                        ],\n",
    "                        unique_label_for_allocation=unique_label_dict_for_allocation[\n",
    "                            method_name\n",
    "                        ],\n",
    "                        y=y,\n",
    "                        random_state=i,\n",
    "                    )\n",
    "                elif allocation_method == \"Optimal\":\n",
    "                    y_hat = estimate_y_mean_optimal(\n",
    "                        n=allocation,\n",
    "                        cluster_label=cluster_label_dict[method_name],\n",
    "                        cluster_size_for_optimal=cluster_size_dict_for_optimal[\n",
    "                            method_name\n",
    "                        ],\n",
    "                        unique_label_for_optimal=unique_label_dict_for_optimal[\n",
    "                            method_name\n",
    "                        ],\n",
    "                        y=y,\n",
    "                        random_state=i,\n",
    "                    )\n",
    "                y_hats.append(y_hat)\n",
    "            y_hats = np.array(y_hats)\n",
    "            var = y_hats.var()\n",
    "            var_stratified_dict_dict[method_name][allocation_method] = var\n",
    "\n",
    "    return var_stratified_dict_dict"
   ]
  },
  {
   "cell_type": "markdown",
   "metadata": {},
   "source": [
    "### 分散を計算"
   ]
  },
  {
   "cell_type": "code",
   "execution_count": 48,
   "metadata": {},
   "outputs": [],
   "source": [
    "VAR_STRATIFIED_DICT_DICT_TRAIN = cauculate_var_stratified_dict_dict(\n",
    "    y=y_train,\n",
    "    n_trials=N_TRIALS,\n",
    "    allocation_dict_dict=ALLOCATION_DICT_DICT,\n",
    "    cluster_label_dict=CLUSTER_LABEL_DICT_TRAIN,\n",
    "    cluster_size_dict_for_allocation=CLUSTER_SIZE_DICT_FOR_ALLOCATION_TRAIN,\n",
    "    unique_label_dict_for_allocation=UNIQUE_LABEL_DICT_FOR_ALLOCATION,\n",
    "    cluster_size_dict_for_optimal=CLUSTER_SIZE_DICT_FOR_OPTIMAL_TRAIN,\n",
    "    unique_label_dict_for_optimal=UNIQUE_LABEL_DICT_FOR_OPTIMAL,\n",
    ")\n",
    "VAR_STRATIFIED_DICT_DICT_TEST = cauculate_var_stratified_dict_dict(\n",
    "    y=y_test,\n",
    "    n_trials=N_TRIALS,\n",
    "    allocation_dict_dict=ALLOCATION_DICT_DICT,  #################### 訓練データの標本配分\n",
    "    cluster_label_dict=CLUSTER_LABEL_DICT_TEST,\n",
    "    cluster_size_dict_for_allocation=CLUSTER_SIZE_DICT_FOR_ALLOCATION_TEST,\n",
    "    unique_label_dict_for_allocation=UNIQUE_LABEL_DICT_FOR_ALLOCATION,\n",
    "    cluster_size_dict_for_optimal=CLUSTER_SIZE_DICT_FOR_OPTIMAL_TEST,\n",
    "    unique_label_dict_for_optimal=UNIQUE_LABEL_DICT_FOR_OPTIMAL,\n",
    ")"
   ]
  },
  {
   "cell_type": "code",
   "execution_count": 49,
   "metadata": {},
   "outputs": [
    {
     "name": "stdout",
     "output_type": "stream",
     "text": [
      "【Kmeans】\n",
      "訓練データでの標本平均の分散\n",
      "{'Proportional': 1.7080981576507874, 'Post': 1.693642012413438, 'Optimal': 1.6778717078477319}\n",
      "テストデータでの標本平均の分散\n",
      "{'Proportional': 1.27273208335277, 'Post': 1.286460493911749, 'Optimal': 1.2640105587956623}\n",
      "\n",
      "【Lasso-Kmeans】\n",
      "訓練データでの標本平均の分散\n",
      "{'Proportional': 1.6669218993242345, 'Post': 1.6660417526260194, 'Optimal': 1.6294575906260853}\n",
      "テストデータでの標本平均の分散\n",
      "{'Proportional': 1.2986705250852857, 'Post': 1.3067860755686274, 'Optimal': 1.2947695485489616}\n",
      "\n",
      "【SFS-Kmeans-T】\n",
      "訓練データでの標本平均の分散\n",
      "{'Proportional': 1.6137911258442768, 'Post': 1.649558560256556, 'Optimal': 1.5710429451821897}\n",
      "テストデータでの標本平均の分散\n",
      "{'Proportional': 1.247175377910752, 'Post': 1.2756312948814743, 'Optimal': 1.2679108772991883}\n",
      "\n",
      "【SFS-Kmeans-F】\n",
      "訓練データでの標本平均の分散\n",
      "{'Proportional': 1.684973565581634, 'Post': 1.696686458509661, 'Optimal': 1.6822460538771769}\n",
      "テストデータでの標本平均の分散\n",
      "{'Proportional': 1.3788743105133552, 'Post': 1.3579196889089957, 'Optimal': 1.3728358985473132}\n",
      "\n"
     ]
    }
   ],
   "source": [
    "for _, method_name in METHODS_NAME_DICT.items():\n",
    "    print(f\"【{method_name}】\")\n",
    "    print(\"訓練データでの標本平均の分散\")\n",
    "    print(VAR_STRATIFIED_DICT_DICT_TRAIN[method_name])\n",
    "    print(\"テストデータでの標本平均の分散\")\n",
    "    print(VAR_STRATIFIED_DICT_DICT_TEST[method_name])\n",
    "    print()"
   ]
  },
  {
   "cell_type": "markdown",
   "metadata": {},
   "source": [
    "## 6.3 分散削減率の計算"
   ]
  },
  {
   "cell_type": "code",
   "execution_count": 50,
   "metadata": {},
   "outputs": [],
   "source": [
    "def cauculate_reduction_rate_dict_dict(\n",
    "    var_stratified_dict_dict: dict, var_random: float\n",
    ") -> dict[str, dict[str, float]]:\n",
    "    reduction_rate_dict_dict = {}\n",
    "    for method_name, dict in var_stratified_dict_dict.items():\n",
    "        reduction_rate_dict_dict[method_name] = {}\n",
    "        for allocation_method, var in dict.items():\n",
    "            reduction_rate = (1 - var / var_random) * 100\n",
    "            reduction_rate_dict_dict[method_name][allocation_method] = reduction_rate\n",
    "\n",
    "    return reduction_rate_dict_dict"
   ]
  },
  {
   "cell_type": "code",
   "execution_count": 51,
   "metadata": {},
   "outputs": [],
   "source": [
    "REDUCTION_RATE_DICT_DICT_TRAIN = cauculate_reduction_rate_dict_dict(\n",
    "    VAR_STRATIFIED_DICT_DICT_TRAIN, VAR_RANDOM_TRAIN\n",
    ")\n",
    "\n",
    "REDUCTION_RATE_DICT_DICT_TEST = cauculate_reduction_rate_dict_dict(\n",
    "    VAR_STRATIFIED_DICT_DICT_TEST, VAR_RANDOM_TEST\n",
    ")"
   ]
  },
  {
   "cell_type": "code",
   "execution_count": 52,
   "metadata": {},
   "outputs": [
    {
     "name": "stdout",
     "output_type": "stream",
     "text": [
      "訓練データ\n",
      "Kmeans:{'Proportional': 4.4548422318880565, 'Post': 5.2634694593308495, 'Optimal': 6.145606256348357}\n",
      "Lasso-Kmeans:{'Proportional': 6.758101023245744, 'Post': 6.807333413529271, 'Optimal': 8.853726072195489}\n",
      "SFS-Kmeans-T:{'Proportional': 9.730054427531432, 'Post': 7.729346711423424, 'Optimal': 12.121241167804175}\n",
      "SFS-Kmeans-F:{'Proportional': 5.748352670778312, 'Post': 5.093173577166676, 'Optimal': 5.900920329111914}\n",
      "\n",
      "テストデータ\n",
      "Kmeans:{'Proportional': 11.206029833322118, 'Post': 10.248247678260336, 'Optimal': 11.814499440917547}\n",
      "Lasso-Kmeans:{'Proportional': 9.396397427969506, 'Post': 8.83020446644245, 'Optimal': 9.668554623280235}\n",
      "SFS-Kmeans-T:{'Proportional': 12.989029861575618, 'Post': 11.0037622034306, 'Optimal': 11.542388154204087}\n",
      "SFS-Kmeans-F:{'Proportional': 3.800865875253312, 'Post': 5.262794956737615, 'Optimal': 4.222144303745812}\n"
     ]
    }
   ],
   "source": [
    "print(\"訓練データ\")\n",
    "for _, method_name in METHODS_NAME_DICT.items():\n",
    "    print(f\"{method_name}:{REDUCTION_RATE_DICT_DICT_TRAIN[method_name]}\")\n",
    "\n",
    "print()\n",
    "\n",
    "print(\"テストデータ\")\n",
    "for _, method_name in METHODS_NAME_DICT.items():\n",
    "    print(f\"{method_name}:{REDUCTION_RATE_DICT_DICT_TEST[method_name]}\")"
   ]
  },
  {
   "cell_type": "markdown",
   "metadata": {},
   "source": [
    "## 6.4 結果のプロット"
   ]
  },
  {
   "cell_type": "markdown",
   "metadata": {},
   "source": [
    "### プロットするための関数"
   ]
  },
  {
   "cell_type": "code",
   "execution_count": 53,
   "metadata": {},
   "outputs": [],
   "source": [
    "def plot_bars(\n",
    "    dicts: list[dict[str, float]],\n",
    "    var_random: float,\n",
    "    target: str,\n",
    "    method_name: str,\n",
    "    title_size: float,\n",
    "    label_size: float,\n",
    "    tick_size: float,\n",
    ") -> plt.Figure:\n",
    "    fig, axs = plt.subplots(1, 2, figsize=(8, 2.5))\n",
    "    ylabels = [\"Var reduction rate\", \"Var\"]\n",
    "\n",
    "    for i, ax in enumerate(axs):\n",
    "        data = list(dicts[i].values())\n",
    "        labels = list(dicts[i].keys())\n",
    "        bars = ax.bar(labels, data)\n",
    "        if i == 0:\n",
    "            for bar in bars:\n",
    "                yval = bar.get_height()  # 各バーの高さ（値）\n",
    "                ax.text(\n",
    "                    bar.get_x() + bar.get_width() / 2,\n",
    "                    yval,\n",
    "                    round(yval, 2),\n",
    "                    ha=\"center\",\n",
    "                    va=\"bottom\",\n",
    "                    fontsize=label_size,\n",
    "                )  # 値をバーの上に表示\n",
    "        if i == 1:\n",
    "            ax.bar(\"Random\", var_random, color=\"blue\")\n",
    "        ax.set_title(method_name, fontsize=title_size)\n",
    "        ax.set_ylabel(ylabels[i], fontsize=label_size)\n",
    "        ax.tick_params(axis=\"both\", which=\"major\", labelsize=tick_size)\n",
    "        ax.set_ylim(0, 50)\n",
    "    plt.tight_layout()\n",
    "    plt.show()"
   ]
  },
  {
   "cell_type": "markdown",
   "metadata": {},
   "source": [
    "### 訓練データの結果"
   ]
  },
  {
   "cell_type": "code",
   "execution_count": 54,
   "metadata": {},
   "outputs": [
    {
     "data": {
      "image/png": "[encoded data removed]",
      "text/plain": [
       "<Figure size 800x250 with 2 Axes>"
      ]
     },
     "metadata": {},
     "output_type": "display_data"
    },
    {
     "data": {
      "image/png": "[encoded data removed]",
      "text/plain": [
       "<Figure size 800x250 with 2 Axes>"
      ]
     },
     "metadata": {},
     "output_type": "display_data"
    },
    {
     "data": {
      "image/png": "[encoded data removed]",
      "text/plain": [
       "<Figure size 800x250 with 2 Axes>"
      ]
     },
     "metadata": {},
     "output_type": "display_data"
    },
    {
     "data": {
      "image/png": "[encoded data removed]",
      "text/plain": [
       "<Figure size 800x250 with 2 Axes>"
      ]
     },
     "metadata": {},
     "output_type": "display_data"
    }
   ],
   "source": [
    "for _, method_name in METHODS_NAME_DICT.items():\n",
    "    plot_bars(\n",
    "        dicts=[\n",
    "            REDUCTION_RATE_DICT_DICT_TRAIN[method_name],\n",
    "            VAR_STRATIFIED_DICT_DICT_TRAIN[method_name],\n",
    "        ],\n",
    "        var_random=VAR_RANDOM_TRAIN,\n",
    "        target=TARGET,\n",
    "        method_name=method_name,\n",
    "        title_size=TITLE_SIZE,\n",
    "        label_size=LABEL_SIZE,\n",
    "        tick_size=TICK_SIZE,\n",
    "    )"
   ]
  },
  {
   "cell_type": "markdown",
   "metadata": {},
   "source": [
    "### テストデータの結果"
   ]
  },
  {
   "cell_type": "code",
   "execution_count": 55,
   "metadata": {},
   "outputs": [
    {
     "data": {
      "image/png": "[encoded data removed]",
      "text/plain": [
       "<Figure size 800x250 with 2 Axes>"
      ]
     },
     "metadata": {},
     "output_type": "display_data"
    },
    {
     "data": {
      "image/png": "[encoded data removed]",
      "text/plain": [
       "<Figure size 800x250 with 2 Axes>"
      ]
     },
     "metadata": {},
     "output_type": "display_data"
    },
    {
     "data": {
      "image/png": "[encoded data removed]",
      "text/plain": [
       "<Figure size 800x250 with 2 Axes>"
      ]
     },
     "metadata": {},
     "output_type": "display_data"
    },
    {
     "data": {
      "image/png": "[encoded data removed]",
      "text/plain": [
       "<Figure size 800x250 with 2 Axes>"
      ]
     },
     "metadata": {},
     "output_type": "display_data"
    }
   ],
   "source": [
    "for _, method_name in METHODS_NAME_DICT.items():\n",
    "    plot_bars(\n",
    "        dicts=[\n",
    "            REDUCTION_RATE_DICT_DICT_TEST[method_name],\n",
    "            VAR_STRATIFIED_DICT_DICT_TEST[method_name],\n",
    "        ],\n",
    "        var_random=VAR_RANDOM_TEST,\n",
    "        target=TARGET,\n",
    "        method_name=method_name,\n",
    "        title_size=TITLE_SIZE,\n",
    "        label_size=LABEL_SIZE,\n",
    "        tick_size=TICK_SIZE,\n",
    "    )"
   ]
  },
  {
   "cell_type": "markdown",
   "metadata": {},
   "source": [
    "### 確認用"
   ]
  },
  {
   "cell_type": "code",
   "execution_count": 56,
   "metadata": {},
   "outputs": [
    {
     "name": "stdout",
     "output_type": "stream",
     "text": [
      "全データ数（訓練）： 43800\n",
      "全データ数（テスト）： 43800\n",
      "欠損値除去後のデータ数（訓練）： 40334\n",
      "欠損値除去後のデータ数（テスト）： 39098\n",
      "欠損値と外れ値除外後のデータ数（訓練）: 38559\n",
      "欠損値と外れ値除外後のデータ数（テスト）: 37237\n"
     ]
    }
   ],
   "source": [
    "# データ\n",
    "print(\"全データ数（訓練）：\", len(df_2014))\n",
    "print(\"全データ数（テスト）：\", len(df_2015))\n",
    "print(\"欠損値除去後のデータ数（訓練）：\", len(df_2014_clean))\n",
    "print(\"欠損値除去後のデータ数（テスト）：\", len(df_2015_clean))\n",
    "print(\"欠損値と外れ値除外後のデータ数（訓練）:\", len(df_train))\n",
    "print(\"欠損値と外れ値除外後のデータ数（テスト）:\", len(df_test))"
   ]
  },
  {
   "cell_type": "code",
   "execution_count": 57,
   "metadata": {},
   "outputs": [
    {
     "name": "stdout",
     "output_type": "stream",
     "text": [
      "【Kmeans】\n",
      "選択された特徴量： [ 0  1  2  3  4  5  6  7  8  9 10 11 12 13 14 15 16 17 18 19 20]\n",
      "特徴量選択にかかった時間：0 s\n",
      "\n",
      "【Lasso-Kmeans】\n",
      "選択された特徴量： [ 1  4  8  9 20]\n",
      "特徴量選択にかかった時間：3.135 s\n",
      "\n",
      "【SFS-Kmeans-T】\n",
      "選択された特徴量： [ 1  4 20  7 12]\n",
      "特徴量選択にかかった時間：4.271 s\n",
      "\n",
      "【SFS-Kmeans-F】\n",
      "選択された特徴量： [19 16 17 18 20]\n",
      "特徴量選択にかかった時間：4.08 s\n",
      "\n"
     ]
    }
   ],
   "source": [
    "# 特徴量選択\n",
    "for _, method_name in METHODS_NAME_DICT.items():\n",
    "    print(f\"【{method_name}】\")\n",
    "    print(\"選択された特徴量：\", SELECTED_FEATURES_DICT[method_name])\n",
    "    print(f\"特徴量選択にかかった時間：{round(TIME_DICT[method_name], 3)} s\")\n",
    "    print()"
   ]
  },
  {
   "cell_type": "code",
   "execution_count": 58,
   "metadata": {},
   "outputs": [
    {
     "name": "stdout",
     "output_type": "stream",
     "text": [
      "【訓練データ】\n",
      "Kmeans:[ 5899  6184  6609  8163 11704]\n",
      "Lasso-Kmeans:[ 8042 18609  3948  6248  1712]\n",
      "SFS-Kmeans-T:[14306  8204  8255  1395  6399]\n",
      "SFS-Kmeans-F:[5378 9464 8806 8510 6401]\n",
      "\n",
      "【テストデータ】\n",
      "Kmeans:[ 6302  5456  6688  8671 10120]\n",
      "Lasso-Kmeans:[ 8475 16908  4219  5913  1722]\n",
      "SFS-Kmeans-T:[14977  8249  6482  1425  6104]\n",
      "SFS-Kmeans-F:[5625 9608 7942 7954 6108]\n"
     ]
    }
   ],
   "source": [
    "# クラスタサイズ\n",
    "print(\"【訓練データ】\")\n",
    "for _, method_name in METHODS_NAME_DICT.items():\n",
    "    print(f\"{method_name}:{CLUSTER_SIZE_DICT_TRAIN[method_name]}\")\n",
    "\n",
    "print()\n",
    "\n",
    "print(\"【テストデータ】\")\n",
    "for _, method_name in METHODS_NAME_DICT.items():\n",
    "    print(f\"{method_name}:{CLUSTER_SIZE_DICT_TEST[method_name]}\")"
   ]
  },
  {
   "cell_type": "code",
   "execution_count": 59,
   "metadata": {},
   "outputs": [
    {
     "name": "stdout",
     "output_type": "stream",
     "text": [
      "var_random_train = 1.7877391147297501\n",
      "var_random_test = 1.43335418042879\n"
     ]
    }
   ],
   "source": [
    "print(\"var_random_train =\", VAR_RANDOM_TRAIN)\n",
    "print(\"var_random_test =\", VAR_RANDOM_TEST)"
   ]
  },
  {
   "cell_type": "code",
   "execution_count": 60,
   "metadata": {},
   "outputs": [
    {
     "name": "stdout",
     "output_type": "stream",
     "text": [
      "var_sep_dict_train = {'Kmeans': {'Proportional': 1.7080981576507874, 'Post': 1.693642012413438, 'Optimal': 1.6778717078477319}, 'Lasso-Kmeans': {'Proportional': 1.6669218993242345, 'Post': 1.6660417526260194, 'Optimal': 1.6294575906260853}, 'SFS-Kmeans-T': {'Proportional': 1.6137911258442768, 'Post': 1.649558560256556, 'Optimal': 1.5710429451821897}, 'SFS-Kmeans-F': {'Proportional': 1.684973565581634, 'Post': 1.696686458509661, 'Optimal': 1.6822460538771769}}\n",
      "var_sep_dict_test = {'Kmeans': {'Proportional': 1.27273208335277, 'Post': 1.286460493911749, 'Optimal': 1.2640105587956623}, 'Lasso-Kmeans': {'Proportional': 1.2986705250852857, 'Post': 1.3067860755686274, 'Optimal': 1.2947695485489616}, 'SFS-Kmeans-T': {'Proportional': 1.247175377910752, 'Post': 1.2756312948814743, 'Optimal': 1.2679108772991883}, 'SFS-Kmeans-F': {'Proportional': 1.3788743105133552, 'Post': 1.3579196889089957, 'Optimal': 1.3728358985473132}}\n"
     ]
    }
   ],
   "source": [
    "print(\"var_sep_dict_train =\", VAR_STRATIFIED_DICT_DICT_TRAIN)\n",
    "print(\"var_sep_dict_test =\", VAR_STRATIFIED_DICT_DICT_TEST)"
   ]
  }
 ],
 "metadata": {
  "kernelspec": {
   "display_name": ".venv",
   "language": "python",
   "name": "python3"
  },
  "language_info": {
   "codemirror_mode": {
    "name": "ipython",
    "version": 3
   },
   "file_extension": ".py",
   "mimetype": "text/x-python",
   "name": "python",
   "nbconvert_exporter": "python",
   "pygments_lexer": "ipython3",
   "version": "3.12.4"
  }
 },
 "nbformat": 4,
 "nbformat_minor": 2
}
